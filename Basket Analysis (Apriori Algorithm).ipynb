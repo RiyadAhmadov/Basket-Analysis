{
 "cells": [
  {
   "cell_type": "markdown",
   "id": "28fc0b17",
   "metadata": {},
   "source": [
    "<div style=\"border-radius: 20px; padding: 6px; background-color: rgba(0, 63, 231, 0.8); font-size: 130%; text-align: left;\">\n",
    "<h2 align=\"left\"><center><font color=\"#ffffff\"> • Basket Analysis</font></center></h2>"
   ]
  },
  {
   "cell_type": "code",
   "execution_count": 1,
   "id": "3835f1c6",
   "metadata": {},
   "outputs": [],
   "source": [
    "# Let's import libraries\n",
    "\n",
    "# Data manipulation powerhouse.\n",
    "import pandas as pd\n",
    "\n",
    "# Transaction format transformer.\n",
    "from mlxtend.preprocessing import TransactionEncoder\n",
    "\n",
    "# Association rule mining.\n",
    "from mlxtend.frequent_patterns import apriori, association_rules\n",
    "\n",
    "# Plotting library.\n",
    "import matplotlib.pyplot as plt\n",
    "\n",
    "# Statistical visualization enhancement.\n",
    "import seaborn as sns\n",
    "\n",
    "# Network analysis and visualization.\n",
    "import networkx as nx\n",
    "\n",
    "# Interactive plots and graphs.\n",
    "import plotly.graph_objects as go\n",
    "\n",
    "# High-level interface for creating plots.\n",
    "import plotly.express as px\n",
    "\n",
    "# Basic 2D plotting.\n",
    "import matplotlib.pyplot as plt\n",
    "\n",
    "# 3D plotting functionality.\n",
    "from mpl_toolkits.mplot3d import Axes3D\n",
    "\n",
    "# Warning message control.\n",
    "import warnings as wg\n",
    "wg.filterwarnings('ignore')"
   ]
  },
  {
   "cell_type": "markdown",
   "id": "b5d1c8ab",
   "metadata": {},
   "source": [
    "<!DOCTYPE html>\n",
    "<html>\n",
    "<head>\n",
    "<style>\n",
    "    table {\n",
    "        width: 100%;\n",
    "        border-collapse: collapse;\n",
    "        margin-top: 20px;\n",
    "    }\n",
    "\n",
    "    th, td {\n",
    "        border: 1px solid #dddddd;\n",
    "        padding: 8px;\n",
    "        text-align: left;\n",
    "    }\n",
    "\n",
    "    th {\n",
    "        background-color: #f2f2f2;\n",
    "    }\n",
    "</style>\n",
    "</head>\n",
    "<body>\n",
    "\n",
    "<h2>• Content:</h2>\n",
    "<h3>Small Case for Apriori</h3>\n",
    "\n",
    "<p>Let's look at small example for understanding apriori algorithm.</p>\n",
    "    \n",
    "<h3>Dataset Description</h3>\n",
    "\n",
    "<p>Let's provide a brief description of the dataset you are working with.</p>\n",
    "\n",
    "<h3>Data Preprocessing</h3>\n",
    "\n",
    "<p>Let's describe the steps taken to preprocess the data before applying the Apriori algorithm.</p>\n",
    "\n",
    "<h3>Association Rules</h3>\n",
    "\n",
    "<p>Let's explain the association rules derived from the Apriori algorithm.</p>\n",
    "\n",
    "<h3>Visualization</h3>\n",
    "\n",
    "<p>Let's include any visualizations or graphs that help in understanding the association rules.</p>\n",
    "\n",
    "<!-- Example Table -->\n",
    "<table>\n",
    "    <tr>\n",
    "        <th>Section</th>\n",
    "        <th>Description</th>\n",
    "    </tr>\n",
    "    <tr>\n",
    "        <td>Small Case for Apriori</td>\n",
    "        <td>Let's look at small example for understanding apriori algorithm.</td>\n",
    "    </tr>\n",
    "    <tr>\n",
    "        <td>Dataset Description</td>\n",
    "        <td>Let's provide a brief description of the dataset you are working with.</td>\n",
    "    </tr>\n",
    "    <tr>\n",
    "        <td>Data Preprocessing</td>\n",
    "        <td>Let's describe the steps taken to preprocess the data before applying the Apriori algorithm.</td>\n",
    "    </tr>\n",
    "    <tr>\n",
    "        <td>Association Rules</td>\n",
    "        <td>Let's explain the association rules derived from the Apriori algorithm.</td>\n",
    "    </tr>\n",
    "    <tr>\n",
    "        <td>Visualization</td>\n",
    "        <td>Let's include any visualizations or graphs that help in understanding the association rules.</td>\n",
    "    </tr>\n",
    "</table>\n",
    "\n",
    "</body>\n",
    "</html>"
   ]
  },
  {
   "cell_type": "markdown",
   "id": "5cecbe60",
   "metadata": {},
   "source": [
    "<div style=\"border-radius: 20px; padding: 6px; background-color: rgba(196, 196, 4, 0.9); font-size: 130%; text-align: left;\">\n",
    "<h2 align=\"left\"><center><font color=\"#ffffff\"> ❔ Apriori Algorithm:</font></center></h2>"
   ]
  },
  {
   "cell_type": "markdown",
   "id": "8729a02b",
   "metadata": {},
   "source": [
    "<div style=\"border-radius: 20px; padding: 6px; background-color: rgba(75, 200, 61, 0.9); font-size: 130%; text-align: left;\">\n",
    "<h4 align=\"left\"><center><font color=\"#ffffff\"> ❕ The Apriori algorithm is a data mining technique that discovers associations among items in a dataset. It identifies frequent itemsets-sets of items that often appear together—by calculating support. The algorithm then generates association rules, revealing relationships between items. Confidence measures the reliability of these rules, guiding the identification of meaningful associations. Apriori is commonly used in market basket analysis and various domains to uncover valuable patterns in transactional data.</font></center></h4>"
   ]
  },
  {
   "cell_type": "code",
   "execution_count": 2,
   "id": "a6af6281",
   "metadata": {},
   "outputs": [],
   "source": [
    "# Let's look at transaction data\n",
    "transactions = [\n",
    "    ['bread', 'milk', 'beer'],\n",
    "    ['bread', 'diapers', 'eggs'],\n",
    "    ['milk', 'diapers', 'beer', 'coke'],\n",
    "    ['bread', 'milk', 'diapers', 'beer'],\n",
    "    ['bread', 'milk', 'diapers', 'coke']\n",
    "]"
   ]
  },
  {
   "cell_type": "markdown",
   "id": "bf460145",
   "metadata": {},
   "source": [
    "<div style=\"border-radius: 20px; padding: 6px; background-color: rgba(75, 200, 61, 0.9); font-size: 130%; text-align: left;\">\n",
    "<h4 align=\"left\"><center><font color=\"#ffffff\"> 🔰 In the Apriori algorithm, support measures how often a particular set of items appears together in a dataset. It is calculated as the ratio of transactions containing that set to the total number of transactions. Support helps identify frequently occurring itemsets, and the algorithm uses it to prune less significant patterns. Higher support values indicate greater prevalence in the dataset.</font></center></h4>"
   ]
  },
  {
   "cell_type": "code",
   "execution_count": 3,
   "id": "6ffead4d",
   "metadata": {},
   "outputs": [
    {
     "name": "stdout",
     "output_type": "stream",
     "text": [
      "Enter minimum support: 0.5\n",
      "Frequent Itemsets:\n",
      "   support          itemsets\n",
      "0      0.6            (beer)\n",
      "1      0.8           (bread)\n",
      "2      0.8         (diapers)\n",
      "3      0.8            (milk)\n",
      "4      0.6      (milk, beer)\n",
      "5      0.6  (diapers, bread)\n",
      "6      0.6     (milk, bread)\n",
      "7      0.6   (diapers, milk)\n",
      "\n",
      "Association Rules:\n",
      "  antecedents consequents  antecedent support  consequent support  support  \\\n",
      "0      (milk)      (beer)                 0.8                 0.6      0.6   \n",
      "1      (beer)      (milk)                 0.6                 0.8      0.6   \n",
      "2   (diapers)     (bread)                 0.8                 0.8      0.6   \n",
      "3     (bread)   (diapers)                 0.8                 0.8      0.6   \n",
      "4      (milk)     (bread)                 0.8                 0.8      0.6   \n",
      "5     (bread)      (milk)                 0.8                 0.8      0.6   \n",
      "6   (diapers)      (milk)                 0.8                 0.8      0.6   \n",
      "7      (milk)   (diapers)                 0.8                 0.8      0.6   \n",
      "\n",
      "   confidence    lift  leverage  conviction  zhangs_metric  \n",
      "0        0.75  1.2500      0.12         1.6           1.00  \n",
      "1        1.00  1.2500      0.12         inf           0.50  \n",
      "2        0.75  0.9375     -0.04         0.8          -0.25  \n",
      "3        0.75  0.9375     -0.04         0.8          -0.25  \n",
      "4        0.75  0.9375     -0.04         0.8          -0.25  \n",
      "5        0.75  0.9375     -0.04         0.8          -0.25  \n",
      "6        0.75  0.9375     -0.04         0.8          -0.25  \n",
      "7        0.75  0.9375     -0.04         0.8          -0.25  \n"
     ]
    }
   ],
   "source": [
    "# Let's convert transaction data to one-hot encoded format\n",
    "te = TransactionEncoder()\n",
    "te_ary = te.fit_transform(transactions)\n",
    "df = pd.DataFrame(te_ary, columns=te.columns_)\n",
    "\n",
    "# Let's do with input\n",
    "cond = True\n",
    "while cond:\n",
    "    min_sup = float(input('Enter minimum support: '))\n",
    "    if (min_sup < 1) & (min_sup > 0):\n",
    "        cond = False\n",
    "    else:\n",
    "        print('Please Enter (between 0 and 1)!') \n",
    "        \n",
    "    \n",
    "# Let's find frequent itemsets with minimum support of 0.3\n",
    "frequent_itemsets = apriori(df, min_support= float(min_sup), use_colnames=True)\n",
    "\n",
    "# Let's generate association rules\n",
    "rules = association_rules(frequent_itemsets, metric=\"confidence\", min_threshold=0.7)\n",
    "\n",
    "# Let's display frequent itemsets and association rules\n",
    "print(\"Frequent Itemsets:\")\n",
    "print(frequent_itemsets)\n",
    "\n",
    "print(\"\\nAssociation Rules:\")\n",
    "print(rules)"
   ]
  },
  {
   "cell_type": "markdown",
   "id": "f265b137",
   "metadata": {},
   "source": [
    "<div style=\"border-radius: 20px; padding: 6px; background-color: rgba(0, 63, 231, 0.8); font-size: 130%; text-align: left;\">\n",
    "<h2 align=\"left\"><center><font color=\"#ffffff\"> 1) Dataset Description:</font></center></h2>"
   ]
  },
  {
   "cell_type": "code",
   "execution_count": 4,
   "id": "7d106fb5",
   "metadata": {},
   "outputs": [],
   "source": [
    "# Let's load dataset\n",
    "df = pd.read_excel(r'C:\\Users\\HP\\OneDrive\\İş masası\\Assignment-1_Data.xlsx')"
   ]
  },
  {
   "cell_type": "code",
   "execution_count": 5,
   "id": "40a27f55",
   "metadata": {
    "scrolled": true
   },
   "outputs": [
    {
     "data": {
      "text/html": [
       "<div>\n",
       "<style scoped>\n",
       "    .dataframe tbody tr th:only-of-type {\n",
       "        vertical-align: middle;\n",
       "    }\n",
       "\n",
       "    .dataframe tbody tr th {\n",
       "        vertical-align: top;\n",
       "    }\n",
       "\n",
       "    .dataframe thead th {\n",
       "        text-align: right;\n",
       "    }\n",
       "</style>\n",
       "<table border=\"1\" class=\"dataframe\">\n",
       "  <thead>\n",
       "    <tr style=\"text-align: right;\">\n",
       "      <th></th>\n",
       "      <th>BillNo</th>\n",
       "      <th>Itemname</th>\n",
       "      <th>Quantity</th>\n",
       "      <th>Date</th>\n",
       "      <th>Price</th>\n",
       "      <th>CustomerID</th>\n",
       "      <th>Country</th>\n",
       "    </tr>\n",
       "  </thead>\n",
       "  <tbody>\n",
       "    <tr>\n",
       "      <th>0</th>\n",
       "      <td>536365</td>\n",
       "      <td>WHITE HANGING HEART T-LIGHT HOLDER</td>\n",
       "      <td>6</td>\n",
       "      <td>2010-12-01 08:26:00</td>\n",
       "      <td>2.55</td>\n",
       "      <td>17850.0</td>\n",
       "      <td>United Kingdom</td>\n",
       "    </tr>\n",
       "    <tr>\n",
       "      <th>1</th>\n",
       "      <td>536365</td>\n",
       "      <td>WHITE METAL LANTERN</td>\n",
       "      <td>6</td>\n",
       "      <td>2010-12-01 08:26:00</td>\n",
       "      <td>3.39</td>\n",
       "      <td>17850.0</td>\n",
       "      <td>United Kingdom</td>\n",
       "    </tr>\n",
       "    <tr>\n",
       "      <th>2</th>\n",
       "      <td>536365</td>\n",
       "      <td>CREAM CUPID HEARTS COAT HANGER</td>\n",
       "      <td>8</td>\n",
       "      <td>2010-12-01 08:26:00</td>\n",
       "      <td>2.75</td>\n",
       "      <td>17850.0</td>\n",
       "      <td>United Kingdom</td>\n",
       "    </tr>\n",
       "    <tr>\n",
       "      <th>3</th>\n",
       "      <td>536365</td>\n",
       "      <td>KNITTED UNION FLAG HOT WATER BOTTLE</td>\n",
       "      <td>6</td>\n",
       "      <td>2010-12-01 08:26:00</td>\n",
       "      <td>3.39</td>\n",
       "      <td>17850.0</td>\n",
       "      <td>United Kingdom</td>\n",
       "    </tr>\n",
       "    <tr>\n",
       "      <th>4</th>\n",
       "      <td>536365</td>\n",
       "      <td>RED WOOLLY HOTTIE WHITE HEART.</td>\n",
       "      <td>6</td>\n",
       "      <td>2010-12-01 08:26:00</td>\n",
       "      <td>3.39</td>\n",
       "      <td>17850.0</td>\n",
       "      <td>United Kingdom</td>\n",
       "    </tr>\n",
       "  </tbody>\n",
       "</table>\n",
       "</div>"
      ],
      "text/plain": [
       "   BillNo                             Itemname  Quantity                Date  \\\n",
       "0  536365   WHITE HANGING HEART T-LIGHT HOLDER         6 2010-12-01 08:26:00   \n",
       "1  536365                  WHITE METAL LANTERN         6 2010-12-01 08:26:00   \n",
       "2  536365       CREAM CUPID HEARTS COAT HANGER         8 2010-12-01 08:26:00   \n",
       "3  536365  KNITTED UNION FLAG HOT WATER BOTTLE         6 2010-12-01 08:26:00   \n",
       "4  536365       RED WOOLLY HOTTIE WHITE HEART.         6 2010-12-01 08:26:00   \n",
       "\n",
       "   Price  CustomerID         Country  \n",
       "0   2.55     17850.0  United Kingdom  \n",
       "1   3.39     17850.0  United Kingdom  \n",
       "2   2.75     17850.0  United Kingdom  \n",
       "3   3.39     17850.0  United Kingdom  \n",
       "4   3.39     17850.0  United Kingdom  "
      ]
     },
     "execution_count": 5,
     "metadata": {},
     "output_type": "execute_result"
    }
   ],
   "source": [
    "# Let's look at first 5 rows \n",
    "df.head()"
   ]
  },
  {
   "cell_type": "code",
   "execution_count": 6,
   "id": "c463324a",
   "metadata": {},
   "outputs": [
    {
     "name": "stdout",
     "output_type": "stream",
     "text": [
      "<class 'pandas.core.frame.DataFrame'>\n",
      "RangeIndex: 522064 entries, 0 to 522063\n",
      "Data columns (total 7 columns):\n",
      " #   Column      Non-Null Count   Dtype         \n",
      "---  ------      --------------   -----         \n",
      " 0   BillNo      522064 non-null  object        \n",
      " 1   Itemname    520609 non-null  object        \n",
      " 2   Quantity    522064 non-null  int64         \n",
      " 3   Date        522064 non-null  datetime64[ns]\n",
      " 4   Price       522064 non-null  float64       \n",
      " 5   CustomerID  388023 non-null  float64       \n",
      " 6   Country     522064 non-null  object        \n",
      "dtypes: datetime64[ns](1), float64(2), int64(1), object(3)\n",
      "memory usage: 27.9+ MB\n"
     ]
    }
   ],
   "source": [
    "# Info of dataset\n",
    "df.info()"
   ]
  },
  {
   "cell_type": "code",
   "execution_count": 7,
   "id": "07c3d708",
   "metadata": {},
   "outputs": [
    {
     "data": {
      "text/plain": [
       "(522064, 7)"
      ]
     },
     "execution_count": 7,
     "metadata": {},
     "output_type": "execute_result"
    }
   ],
   "source": [
    "# Shape of dataset\n",
    "df.shape"
   ]
  },
  {
   "cell_type": "code",
   "execution_count": 8,
   "id": "6bfea3ce",
   "metadata": {
    "scrolled": true
   },
   "outputs": [
    {
     "data": {
      "text/plain": [
       "BillNo             0\n",
       "Itemname        1455\n",
       "Quantity           0\n",
       "Date               0\n",
       "Price              0\n",
       "CustomerID    134041\n",
       "Country            0\n",
       "dtype: int64"
      ]
     },
     "execution_count": 8,
     "metadata": {},
     "output_type": "execute_result"
    }
   ],
   "source": [
    "# Let's check null value\n",
    "df.isnull().sum()"
   ]
  },
  {
   "cell_type": "markdown",
   "id": "49dc1960",
   "metadata": {},
   "source": [
    "<div style=\"border-radius: 20px; padding: 6px; background-color: rgba(0, 63, 231, 0.8); font-size: 130%; text-align: left;\">\n",
    "<h2 align=\"left\"><center><font color=\"#ffffff\">2) Data Preprocessing:</font></center></h2>"
   ]
  },
  {
   "cell_type": "code",
   "execution_count": 9,
   "id": "86b788f1",
   "metadata": {
    "scrolled": true
   },
   "outputs": [
    {
     "data": {
      "text/plain": [
       "BillNo             0\n",
       "Itemname        1455\n",
       "Quantity           0\n",
       "Date               0\n",
       "Price              0\n",
       "CustomerID    134041\n",
       "Country            0\n",
       "dtype: int64"
      ]
     },
     "execution_count": 9,
     "metadata": {},
     "output_type": "execute_result"
    }
   ],
   "source": [
    "# Let's check Missing Values\n",
    "df.isnull().sum()"
   ]
  },
  {
   "cell_type": "code",
   "execution_count": 10,
   "id": "c0e6f419",
   "metadata": {},
   "outputs": [],
   "source": [
    "# Let's Remove the missing value series, as they may lead to bad results in our analysis\n",
    "df.dropna(inplace = True) "
   ]
  },
  {
   "cell_type": "code",
   "execution_count": 62,
   "id": "f547df8f",
   "metadata": {},
   "outputs": [],
   "source": [
    "sampled_df = df.sample(frac=0.8)"
   ]
  },
  {
   "cell_type": "code",
   "execution_count": 63,
   "id": "81e102b9",
   "metadata": {},
   "outputs": [],
   "source": [
    "# Let's convert dataframe into transaction data\n",
    "transactions = sampled_df.groupby(['BillNo', 'Date'])['Itemname'].apply(lambda x: ', '.join(x)).reset_index()"
   ]
  },
  {
   "cell_type": "code",
   "execution_count": 64,
   "id": "930bbb1f",
   "metadata": {},
   "outputs": [],
   "source": [
    "# Let's drop unnecessary columns\n",
    "unnecessary_columns = ['BillNo', 'Date']\n",
    "transactions.drop(columns=unnecessary_columns, inplace=True)"
   ]
  },
  {
   "cell_type": "code",
   "execution_count": 65,
   "id": "4e6c03ea",
   "metadata": {
    "scrolled": false
   },
   "outputs": [
    {
     "data": {
      "text/plain": [
       "(17854, 1)"
      ]
     },
     "execution_count": 65,
     "metadata": {},
     "output_type": "execute_result"
    }
   ],
   "source": [
    "# Let's look at shape of transactions dataset\n",
    "transactions.shape"
   ]
  },
  {
   "cell_type": "code",
   "execution_count": 66,
   "id": "9340040a",
   "metadata": {},
   "outputs": [],
   "source": [
    "# Let's split the 'Itemname' column into individual items\n",
    "goods = transactions['Itemname'].str.split(', ', expand=True)"
   ]
  },
  {
   "cell_type": "code",
   "execution_count": 67,
   "id": "0a9f303a",
   "metadata": {},
   "outputs": [
    {
     "data": {
      "text/html": [
       "<div>\n",
       "<style scoped>\n",
       "    .dataframe tbody tr th:only-of-type {\n",
       "        vertical-align: middle;\n",
       "    }\n",
       "\n",
       "    .dataframe tbody tr th {\n",
       "        vertical-align: top;\n",
       "    }\n",
       "\n",
       "    .dataframe thead th {\n",
       "        text-align: right;\n",
       "    }\n",
       "</style>\n",
       "<table border=\"1\" class=\"dataframe\">\n",
       "  <thead>\n",
       "    <tr style=\"text-align: right;\">\n",
       "      <th></th>\n",
       "      <th>0</th>\n",
       "      <th>1</th>\n",
       "      <th>2</th>\n",
       "      <th>3</th>\n",
       "      <th>4</th>\n",
       "      <th>5</th>\n",
       "      <th>6</th>\n",
       "      <th>7</th>\n",
       "      <th>8</th>\n",
       "      <th>9</th>\n",
       "      <th>...</th>\n",
       "      <th>424</th>\n",
       "      <th>425</th>\n",
       "      <th>426</th>\n",
       "      <th>427</th>\n",
       "      <th>428</th>\n",
       "      <th>429</th>\n",
       "      <th>430</th>\n",
       "      <th>431</th>\n",
       "      <th>432</th>\n",
       "      <th>433</th>\n",
       "    </tr>\n",
       "  </thead>\n",
       "  <tbody>\n",
       "    <tr>\n",
       "      <th>0</th>\n",
       "      <td>RED WOOLLY HOTTIE WHITE HEART.</td>\n",
       "      <td>KNITTED UNION FLAG HOT WATER BOTTLE</td>\n",
       "      <td>WHITE HANGING HEART T-LIGHT HOLDER</td>\n",
       "      <td>CREAM CUPID HEARTS COAT HANGER</td>\n",
       "      <td>GLASS STAR FROSTED T-LIGHT HOLDER</td>\n",
       "      <td>None</td>\n",
       "      <td>None</td>\n",
       "      <td>None</td>\n",
       "      <td>None</td>\n",
       "      <td>None</td>\n",
       "      <td>...</td>\n",
       "      <td>None</td>\n",
       "      <td>None</td>\n",
       "      <td>None</td>\n",
       "      <td>None</td>\n",
       "      <td>None</td>\n",
       "      <td>None</td>\n",
       "      <td>None</td>\n",
       "      <td>None</td>\n",
       "      <td>None</td>\n",
       "      <td>None</td>\n",
       "    </tr>\n",
       "    <tr>\n",
       "      <th>1</th>\n",
       "      <td>HAND WARMER RED POLKA DOT</td>\n",
       "      <td>HAND WARMER UNION JACK</td>\n",
       "      <td>None</td>\n",
       "      <td>None</td>\n",
       "      <td>None</td>\n",
       "      <td>None</td>\n",
       "      <td>None</td>\n",
       "      <td>None</td>\n",
       "      <td>None</td>\n",
       "      <td>None</td>\n",
       "      <td>...</td>\n",
       "      <td>None</td>\n",
       "      <td>None</td>\n",
       "      <td>None</td>\n",
       "      <td>None</td>\n",
       "      <td>None</td>\n",
       "      <td>None</td>\n",
       "      <td>None</td>\n",
       "      <td>None</td>\n",
       "      <td>None</td>\n",
       "      <td>None</td>\n",
       "    </tr>\n",
       "    <tr>\n",
       "      <th>2</th>\n",
       "      <td>IVORY KNITTED MUG COSY</td>\n",
       "      <td>LOVE BUILDING BLOCK WORD</td>\n",
       "      <td>BOX OF VINTAGE ALPHABET BLOCKS</td>\n",
       "      <td>RECIPE BOX WITH METAL HEART</td>\n",
       "      <td>FELTCRAFT PRINCESS CHARLOTTE DOLL</td>\n",
       "      <td>BOX OF VINTAGE JIGSAW BLOCKS</td>\n",
       "      <td>ASSORTED COLOUR BIRD ORNAMENT</td>\n",
       "      <td>None</td>\n",
       "      <td>None</td>\n",
       "      <td>None</td>\n",
       "      <td>...</td>\n",
       "      <td>None</td>\n",
       "      <td>None</td>\n",
       "      <td>None</td>\n",
       "      <td>None</td>\n",
       "      <td>None</td>\n",
       "      <td>None</td>\n",
       "      <td>None</td>\n",
       "      <td>None</td>\n",
       "      <td>None</td>\n",
       "      <td>None</td>\n",
       "    </tr>\n",
       "    <tr>\n",
       "      <th>3</th>\n",
       "      <td>RED COAT RACK PARIS FASHION</td>\n",
       "      <td>YELLOW COAT RACK PARIS FASHION</td>\n",
       "      <td>BLUE COAT RACK PARIS FASHION</td>\n",
       "      <td>None</td>\n",
       "      <td>None</td>\n",
       "      <td>None</td>\n",
       "      <td>None</td>\n",
       "      <td>None</td>\n",
       "      <td>None</td>\n",
       "      <td>None</td>\n",
       "      <td>...</td>\n",
       "      <td>None</td>\n",
       "      <td>None</td>\n",
       "      <td>None</td>\n",
       "      <td>None</td>\n",
       "      <td>None</td>\n",
       "      <td>None</td>\n",
       "      <td>None</td>\n",
       "      <td>None</td>\n",
       "      <td>None</td>\n",
       "      <td>None</td>\n",
       "    </tr>\n",
       "    <tr>\n",
       "      <th>4</th>\n",
       "      <td>BATH BUILDING BLOCK WORD</td>\n",
       "      <td>None</td>\n",
       "      <td>None</td>\n",
       "      <td>None</td>\n",
       "      <td>None</td>\n",
       "      <td>None</td>\n",
       "      <td>None</td>\n",
       "      <td>None</td>\n",
       "      <td>None</td>\n",
       "      <td>None</td>\n",
       "      <td>...</td>\n",
       "      <td>None</td>\n",
       "      <td>None</td>\n",
       "      <td>None</td>\n",
       "      <td>None</td>\n",
       "      <td>None</td>\n",
       "      <td>None</td>\n",
       "      <td>None</td>\n",
       "      <td>None</td>\n",
       "      <td>None</td>\n",
       "      <td>None</td>\n",
       "    </tr>\n",
       "    <tr>\n",
       "      <th>...</th>\n",
       "      <td>...</td>\n",
       "      <td>...</td>\n",
       "      <td>...</td>\n",
       "      <td>...</td>\n",
       "      <td>...</td>\n",
       "      <td>...</td>\n",
       "      <td>...</td>\n",
       "      <td>...</td>\n",
       "      <td>...</td>\n",
       "      <td>...</td>\n",
       "      <td>...</td>\n",
       "      <td>...</td>\n",
       "      <td>...</td>\n",
       "      <td>...</td>\n",
       "      <td>...</td>\n",
       "      <td>...</td>\n",
       "      <td>...</td>\n",
       "      <td>...</td>\n",
       "      <td>...</td>\n",
       "      <td>...</td>\n",
       "      <td>...</td>\n",
       "    </tr>\n",
       "    <tr>\n",
       "      <th>17849</th>\n",
       "      <td>LUNCH BAG RED RETROSPOT</td>\n",
       "      <td>6 CHOCOLATE LOVE HEART T-LIGHTS</td>\n",
       "      <td>None</td>\n",
       "      <td>None</td>\n",
       "      <td>None</td>\n",
       "      <td>None</td>\n",
       "      <td>None</td>\n",
       "      <td>None</td>\n",
       "      <td>None</td>\n",
       "      <td>None</td>\n",
       "      <td>...</td>\n",
       "      <td>None</td>\n",
       "      <td>None</td>\n",
       "      <td>None</td>\n",
       "      <td>None</td>\n",
       "      <td>None</td>\n",
       "      <td>None</td>\n",
       "      <td>None</td>\n",
       "      <td>None</td>\n",
       "      <td>None</td>\n",
       "      <td>None</td>\n",
       "    </tr>\n",
       "    <tr>\n",
       "      <th>17850</th>\n",
       "      <td>RED FLOCK LOVE HEART PHOTO FRAME</td>\n",
       "      <td>6 CHOCOLATE LOVE HEART T-LIGHTS</td>\n",
       "      <td>None</td>\n",
       "      <td>None</td>\n",
       "      <td>None</td>\n",
       "      <td>None</td>\n",
       "      <td>None</td>\n",
       "      <td>None</td>\n",
       "      <td>None</td>\n",
       "      <td>None</td>\n",
       "      <td>...</td>\n",
       "      <td>None</td>\n",
       "      <td>None</td>\n",
       "      <td>None</td>\n",
       "      <td>None</td>\n",
       "      <td>None</td>\n",
       "      <td>None</td>\n",
       "      <td>None</td>\n",
       "      <td>None</td>\n",
       "      <td>None</td>\n",
       "      <td>None</td>\n",
       "    </tr>\n",
       "    <tr>\n",
       "      <th>17851</th>\n",
       "      <td>RABBIT NIGHT LIGHT</td>\n",
       "      <td>ALARM CLOCK BAKELIKE GREEN</td>\n",
       "      <td>SMALL MEDINA STAMPED METAL BOWL</td>\n",
       "      <td>ZINC WILLIE WINKIE  CANDLE STICK</td>\n",
       "      <td>BLACK TEA TOWEL CLASSIC DESIGN</td>\n",
       "      <td>ASSORTED BOTTLE TOP  MAGNETS</td>\n",
       "      <td>ALARM CLOCK BAKELIKE RED</td>\n",
       "      <td>VICTORIAN GLASS HANGING T-LIGHT</td>\n",
       "      <td>LARGE CHINESE STYLE SCISSOR</td>\n",
       "      <td>LOVE HOT WATER BOTTLE</td>\n",
       "      <td>...</td>\n",
       "      <td>None</td>\n",
       "      <td>None</td>\n",
       "      <td>None</td>\n",
       "      <td>None</td>\n",
       "      <td>None</td>\n",
       "      <td>None</td>\n",
       "      <td>None</td>\n",
       "      <td>None</td>\n",
       "      <td>None</td>\n",
       "      <td>None</td>\n",
       "    </tr>\n",
       "    <tr>\n",
       "      <th>17852</th>\n",
       "      <td>SET OF 3 HANGING OWLS OLLIE BEAK</td>\n",
       "      <td>LARGE CAKE STAND  HANGING STRAWBERY</td>\n",
       "      <td>None</td>\n",
       "      <td>None</td>\n",
       "      <td>None</td>\n",
       "      <td>None</td>\n",
       "      <td>None</td>\n",
       "      <td>None</td>\n",
       "      <td>None</td>\n",
       "      <td>None</td>\n",
       "      <td>...</td>\n",
       "      <td>None</td>\n",
       "      <td>None</td>\n",
       "      <td>None</td>\n",
       "      <td>None</td>\n",
       "      <td>None</td>\n",
       "      <td>None</td>\n",
       "      <td>None</td>\n",
       "      <td>None</td>\n",
       "      <td>None</td>\n",
       "      <td>None</td>\n",
       "    </tr>\n",
       "    <tr>\n",
       "      <th>17853</th>\n",
       "      <td>CHILDREN'S APRON DOLLY GIRL</td>\n",
       "      <td>ALARM CLOCK BAKELIKE PINK</td>\n",
       "      <td>CHILDRENS CUTLERY DOLLY GIRL</td>\n",
       "      <td>ALARM CLOCK BAKELIKE RED</td>\n",
       "      <td>CHILDRENS CUTLERY SPACEBOY</td>\n",
       "      <td>CHILDRENS APRON SPACEBOY DESIGN</td>\n",
       "      <td>ALARM CLOCK BAKELIKE GREEN</td>\n",
       "      <td>BAKING SET 9 PIECE RETROSPOT</td>\n",
       "      <td>PACK OF 20 SPACEBOY NAPKINS</td>\n",
       "      <td>ALARM CLOCK BAKELIKE IVORY</td>\n",
       "      <td>...</td>\n",
       "      <td>None</td>\n",
       "      <td>None</td>\n",
       "      <td>None</td>\n",
       "      <td>None</td>\n",
       "      <td>None</td>\n",
       "      <td>None</td>\n",
       "      <td>None</td>\n",
       "      <td>None</td>\n",
       "      <td>None</td>\n",
       "      <td>None</td>\n",
       "    </tr>\n",
       "  </tbody>\n",
       "</table>\n",
       "<p>17854 rows × 434 columns</p>\n",
       "</div>"
      ],
      "text/plain": [
       "                                    0                                    1    \\\n",
       "0        RED WOOLLY HOTTIE WHITE HEART.  KNITTED UNION FLAG HOT WATER BOTTLE   \n",
       "1             HAND WARMER RED POLKA DOT               HAND WARMER UNION JACK   \n",
       "2                IVORY KNITTED MUG COSY             LOVE BUILDING BLOCK WORD   \n",
       "3           RED COAT RACK PARIS FASHION       YELLOW COAT RACK PARIS FASHION   \n",
       "4              BATH BUILDING BLOCK WORD                                 None   \n",
       "...                                 ...                                  ...   \n",
       "17849           LUNCH BAG RED RETROSPOT      6 CHOCOLATE LOVE HEART T-LIGHTS   \n",
       "17850  RED FLOCK LOVE HEART PHOTO FRAME      6 CHOCOLATE LOVE HEART T-LIGHTS   \n",
       "17851                RABBIT NIGHT LIGHT           ALARM CLOCK BAKELIKE GREEN   \n",
       "17852  SET OF 3 HANGING OWLS OLLIE BEAK  LARGE CAKE STAND  HANGING STRAWBERY   \n",
       "17853       CHILDREN'S APRON DOLLY GIRL            ALARM CLOCK BAKELIKE PINK   \n",
       "\n",
       "                                      2                                 3    \\\n",
       "0      WHITE HANGING HEART T-LIGHT HOLDER    CREAM CUPID HEARTS COAT HANGER   \n",
       "1                                    None                              None   \n",
       "2          BOX OF VINTAGE ALPHABET BLOCKS       RECIPE BOX WITH METAL HEART   \n",
       "3            BLUE COAT RACK PARIS FASHION                              None   \n",
       "4                                    None                              None   \n",
       "...                                   ...                               ...   \n",
       "17849                                None                              None   \n",
       "17850                                None                              None   \n",
       "17851     SMALL MEDINA STAMPED METAL BOWL  ZINC WILLIE WINKIE  CANDLE STICK   \n",
       "17852                                None                              None   \n",
       "17853        CHILDRENS CUTLERY DOLLY GIRL          ALARM CLOCK BAKELIKE RED   \n",
       "\n",
       "                                     4                                5    \\\n",
       "0      GLASS STAR FROSTED T-LIGHT HOLDER                             None   \n",
       "1                                   None                             None   \n",
       "2      FELTCRAFT PRINCESS CHARLOTTE DOLL     BOX OF VINTAGE JIGSAW BLOCKS   \n",
       "3                                   None                             None   \n",
       "4                                   None                             None   \n",
       "...                                  ...                              ...   \n",
       "17849                               None                             None   \n",
       "17850                               None                             None   \n",
       "17851     BLACK TEA TOWEL CLASSIC DESIGN     ASSORTED BOTTLE TOP  MAGNETS   \n",
       "17852                               None                             None   \n",
       "17853         CHILDRENS CUTLERY SPACEBOY  CHILDRENS APRON SPACEBOY DESIGN   \n",
       "\n",
       "                                 6                                7    \\\n",
       "0                               None                             None   \n",
       "1                               None                             None   \n",
       "2      ASSORTED COLOUR BIRD ORNAMENT                             None   \n",
       "3                               None                             None   \n",
       "4                               None                             None   \n",
       "...                              ...                              ...   \n",
       "17849                           None                             None   \n",
       "17850                           None                             None   \n",
       "17851       ALARM CLOCK BAKELIKE RED  VICTORIAN GLASS HANGING T-LIGHT   \n",
       "17852                           None                             None   \n",
       "17853     ALARM CLOCK BAKELIKE GREEN     BAKING SET 9 PIECE RETROSPOT   \n",
       "\n",
       "                               8                           9    ...   424  \\\n",
       "0                             None                        None  ...  None   \n",
       "1                             None                        None  ...  None   \n",
       "2                             None                        None  ...  None   \n",
       "3                             None                        None  ...  None   \n",
       "4                             None                        None  ...  None   \n",
       "...                            ...                         ...  ...   ...   \n",
       "17849                         None                        None  ...  None   \n",
       "17850                         None                        None  ...  None   \n",
       "17851  LARGE CHINESE STYLE SCISSOR       LOVE HOT WATER BOTTLE  ...  None   \n",
       "17852                         None                        None  ...  None   \n",
       "17853  PACK OF 20 SPACEBOY NAPKINS  ALARM CLOCK BAKELIKE IVORY  ...  None   \n",
       "\n",
       "        425   426   427   428   429   430   431   432   433  \n",
       "0      None  None  None  None  None  None  None  None  None  \n",
       "1      None  None  None  None  None  None  None  None  None  \n",
       "2      None  None  None  None  None  None  None  None  None  \n",
       "3      None  None  None  None  None  None  None  None  None  \n",
       "4      None  None  None  None  None  None  None  None  None  \n",
       "...     ...   ...   ...   ...   ...   ...   ...   ...   ...  \n",
       "17849  None  None  None  None  None  None  None  None  None  \n",
       "17850  None  None  None  None  None  None  None  None  None  \n",
       "17851  None  None  None  None  None  None  None  None  None  \n",
       "17852  None  None  None  None  None  None  None  None  None  \n",
       "17853  None  None  None  None  None  None  None  None  None  \n",
       "\n",
       "[17854 rows x 434 columns]"
      ]
     },
     "execution_count": 67,
     "metadata": {},
     "output_type": "execute_result"
    }
   ],
   "source": [
    "goods"
   ]
  },
  {
   "cell_type": "markdown",
   "id": "d378a41b",
   "metadata": {},
   "source": [
    "<div style=\"border-radius: 20px; padding: 6px; background-color: rgba(0, 63, 231, 0.8); font-size: 130%; text-align: left;\">\n",
    "<h2 align=\"left\"><center><font color=\"#ffffff\"> 3) Association Rules:</font></center></h2>"
   ]
  },
  {
   "cell_type": "code",
   "execution_count": 68,
   "id": "bf8ec1d0",
   "metadata": {},
   "outputs": [],
   "source": [
    "# Let's convert items to boolean columns\n",
    "df_encoded = pd.get_dummies(goods, prefix='', prefix_sep='').groupby(level=0, axis=1).max()"
   ]
  },
  {
   "cell_type": "code",
   "execution_count": 70,
   "id": "d3b74571",
   "metadata": {},
   "outputs": [
    {
     "data": {
      "text/html": [
       "<div>\n",
       "<style scoped>\n",
       "    .dataframe tbody tr th:only-of-type {\n",
       "        vertical-align: middle;\n",
       "    }\n",
       "\n",
       "    .dataframe tbody tr th {\n",
       "        vertical-align: top;\n",
       "    }\n",
       "\n",
       "    .dataframe thead th {\n",
       "        text-align: right;\n",
       "    }\n",
       "</style>\n",
       "<table border=\"1\" class=\"dataframe\">\n",
       "  <thead>\n",
       "    <tr style=\"text-align: right;\">\n",
       "      <th></th>\n",
       "      <th>1 HANGER ,MAGIC GARDEN</th>\n",
       "      <th>10 COLOUR SPACEBOY PEN</th>\n",
       "      <th>12 COLOURED PARTY BALLOONS</th>\n",
       "      <th>12 DAISY PEGS IN WOOD BOX</th>\n",
       "      <th>12 EGG HOUSE PAINTED WOOD</th>\n",
       "      <th>12 HANGING EGGS HAND PAINTED</th>\n",
       "      <th>12 IVORY ROSE PEG PLACE SETTINGS</th>\n",
       "      <th>12 MESSAGE CARDS WITH ENVELOPES</th>\n",
       "      <th>12 PENCIL SMALL TUBE WOODLAND</th>\n",
       "      <th>12 PENCILS SMALL TUBE RED RETROSPOT</th>\n",
       "      <th>...</th>\n",
       "      <th>ZINC PLANT POT HOLDER</th>\n",
       "      <th>ZINC SWEETHEART SOAP DISH</th>\n",
       "      <th>ZINC SWEETHEART WIRE LETTER RACK</th>\n",
       "      <th>ZINC T-LIGHT HOLDER STAR LARGE</th>\n",
       "      <th>ZINC T-LIGHT HOLDER STARS LARGE</th>\n",
       "      <th>ZINC T-LIGHT HOLDER STARS SMALL</th>\n",
       "      <th>ZINC TOP  2 DOOR WOODEN SHELF</th>\n",
       "      <th>ZINC WILLIE WINKIE  CANDLE STICK</th>\n",
       "      <th>ZINC WIRE KITCHEN ORGANISER</th>\n",
       "      <th>ZINC WIRE SWEETHEART LETTER TRAY</th>\n",
       "    </tr>\n",
       "  </thead>\n",
       "  <tbody>\n",
       "    <tr>\n",
       "      <th>0</th>\n",
       "      <td>False</td>\n",
       "      <td>False</td>\n",
       "      <td>False</td>\n",
       "      <td>False</td>\n",
       "      <td>False</td>\n",
       "      <td>False</td>\n",
       "      <td>False</td>\n",
       "      <td>False</td>\n",
       "      <td>False</td>\n",
       "      <td>False</td>\n",
       "      <td>...</td>\n",
       "      <td>False</td>\n",
       "      <td>False</td>\n",
       "      <td>False</td>\n",
       "      <td>False</td>\n",
       "      <td>False</td>\n",
       "      <td>False</td>\n",
       "      <td>False</td>\n",
       "      <td>False</td>\n",
       "      <td>False</td>\n",
       "      <td>False</td>\n",
       "    </tr>\n",
       "    <tr>\n",
       "      <th>1</th>\n",
       "      <td>False</td>\n",
       "      <td>False</td>\n",
       "      <td>False</td>\n",
       "      <td>False</td>\n",
       "      <td>False</td>\n",
       "      <td>False</td>\n",
       "      <td>False</td>\n",
       "      <td>False</td>\n",
       "      <td>False</td>\n",
       "      <td>False</td>\n",
       "      <td>...</td>\n",
       "      <td>False</td>\n",
       "      <td>False</td>\n",
       "      <td>False</td>\n",
       "      <td>False</td>\n",
       "      <td>False</td>\n",
       "      <td>False</td>\n",
       "      <td>False</td>\n",
       "      <td>False</td>\n",
       "      <td>False</td>\n",
       "      <td>False</td>\n",
       "    </tr>\n",
       "    <tr>\n",
       "      <th>2</th>\n",
       "      <td>False</td>\n",
       "      <td>False</td>\n",
       "      <td>False</td>\n",
       "      <td>False</td>\n",
       "      <td>False</td>\n",
       "      <td>False</td>\n",
       "      <td>False</td>\n",
       "      <td>False</td>\n",
       "      <td>False</td>\n",
       "      <td>False</td>\n",
       "      <td>...</td>\n",
       "      <td>False</td>\n",
       "      <td>False</td>\n",
       "      <td>False</td>\n",
       "      <td>False</td>\n",
       "      <td>False</td>\n",
       "      <td>False</td>\n",
       "      <td>False</td>\n",
       "      <td>False</td>\n",
       "      <td>False</td>\n",
       "      <td>False</td>\n",
       "    </tr>\n",
       "    <tr>\n",
       "      <th>3</th>\n",
       "      <td>False</td>\n",
       "      <td>False</td>\n",
       "      <td>False</td>\n",
       "      <td>False</td>\n",
       "      <td>False</td>\n",
       "      <td>False</td>\n",
       "      <td>False</td>\n",
       "      <td>False</td>\n",
       "      <td>False</td>\n",
       "      <td>False</td>\n",
       "      <td>...</td>\n",
       "      <td>False</td>\n",
       "      <td>False</td>\n",
       "      <td>False</td>\n",
       "      <td>False</td>\n",
       "      <td>False</td>\n",
       "      <td>False</td>\n",
       "      <td>False</td>\n",
       "      <td>False</td>\n",
       "      <td>False</td>\n",
       "      <td>False</td>\n",
       "    </tr>\n",
       "    <tr>\n",
       "      <th>4</th>\n",
       "      <td>False</td>\n",
       "      <td>False</td>\n",
       "      <td>False</td>\n",
       "      <td>False</td>\n",
       "      <td>False</td>\n",
       "      <td>False</td>\n",
       "      <td>False</td>\n",
       "      <td>False</td>\n",
       "      <td>False</td>\n",
       "      <td>False</td>\n",
       "      <td>...</td>\n",
       "      <td>False</td>\n",
       "      <td>False</td>\n",
       "      <td>False</td>\n",
       "      <td>False</td>\n",
       "      <td>False</td>\n",
       "      <td>False</td>\n",
       "      <td>False</td>\n",
       "      <td>False</td>\n",
       "      <td>False</td>\n",
       "      <td>False</td>\n",
       "    </tr>\n",
       "  </tbody>\n",
       "</table>\n",
       "<p>5 rows × 3821 columns</p>\n",
       "</div>"
      ],
      "text/plain": [
       "   1 HANGER ,MAGIC GARDEN  10 COLOUR SPACEBOY PEN  12 COLOURED PARTY BALLOONS  \\\n",
       "0                   False                   False                       False   \n",
       "1                   False                   False                       False   \n",
       "2                   False                   False                       False   \n",
       "3                   False                   False                       False   \n",
       "4                   False                   False                       False   \n",
       "\n",
       "   12 DAISY PEGS IN WOOD BOX  12 EGG HOUSE PAINTED WOOD  \\\n",
       "0                      False                      False   \n",
       "1                      False                      False   \n",
       "2                      False                      False   \n",
       "3                      False                      False   \n",
       "4                      False                      False   \n",
       "\n",
       "   12 HANGING EGGS HAND PAINTED  12 IVORY ROSE PEG PLACE SETTINGS  \\\n",
       "0                         False                             False   \n",
       "1                         False                             False   \n",
       "2                         False                             False   \n",
       "3                         False                             False   \n",
       "4                         False                             False   \n",
       "\n",
       "   12 MESSAGE CARDS WITH ENVELOPES  12 PENCIL SMALL TUBE WOODLAND  \\\n",
       "0                            False                          False   \n",
       "1                            False                          False   \n",
       "2                            False                          False   \n",
       "3                            False                          False   \n",
       "4                            False                          False   \n",
       "\n",
       "   12 PENCILS SMALL TUBE RED RETROSPOT  ...  ZINC PLANT POT HOLDER  \\\n",
       "0                                False  ...                  False   \n",
       "1                                False  ...                  False   \n",
       "2                                False  ...                  False   \n",
       "3                                False  ...                  False   \n",
       "4                                False  ...                  False   \n",
       "\n",
       "   ZINC SWEETHEART SOAP DISH  ZINC SWEETHEART WIRE LETTER RACK  \\\n",
       "0                      False                             False   \n",
       "1                      False                             False   \n",
       "2                      False                             False   \n",
       "3                      False                             False   \n",
       "4                      False                             False   \n",
       "\n",
       "   ZINC T-LIGHT HOLDER STAR LARGE  ZINC T-LIGHT HOLDER STARS LARGE  \\\n",
       "0                           False                            False   \n",
       "1                           False                            False   \n",
       "2                           False                            False   \n",
       "3                           False                            False   \n",
       "4                           False                            False   \n",
       "\n",
       "   ZINC T-LIGHT HOLDER STARS SMALL  ZINC TOP  2 DOOR WOODEN SHELF  \\\n",
       "0                            False                          False   \n",
       "1                            False                          False   \n",
       "2                            False                          False   \n",
       "3                            False                          False   \n",
       "4                            False                          False   \n",
       "\n",
       "   ZINC WILLIE WINKIE  CANDLE STICK  ZINC WIRE KITCHEN ORGANISER  \\\n",
       "0                             False                        False   \n",
       "1                             False                        False   \n",
       "2                             False                        False   \n",
       "3                             False                        False   \n",
       "4                             False                        False   \n",
       "\n",
       "   ZINC WIRE SWEETHEART LETTER TRAY  \n",
       "0                             False  \n",
       "1                             False  \n",
       "2                             False  \n",
       "3                             False  \n",
       "4                             False  \n",
       "\n",
       "[5 rows x 3821 columns]"
      ]
     },
     "execution_count": 70,
     "metadata": {},
     "output_type": "execute_result"
    }
   ],
   "source": [
    "df_encoded.head()"
   ]
  },
  {
   "cell_type": "code",
   "execution_count": 71,
   "id": "41d285f5",
   "metadata": {},
   "outputs": [],
   "source": [
    "# Load transaction data into encoded_df DataFrame\n",
    "encoded_df = df_encoded"
   ]
  },
  {
   "cell_type": "code",
   "execution_count": 81,
   "id": "a2a1df24",
   "metadata": {},
   "outputs": [],
   "source": [
    "# Let's use Association Rule Mining\n",
    "frequent_itemsets1 = apriori(encoded_df, min_support=0.007, use_colnames=True)\n",
    "rules = association_rules(frequent_itemsets1, metric=\"confidence\", min_threshold=0.3)"
   ]
  },
  {
   "cell_type": "code",
   "execution_count": 82,
   "id": "a7ca5483",
   "metadata": {},
   "outputs": [
    {
     "data": {
      "text/html": [
       "<div>\n",
       "<style scoped>\n",
       "    .dataframe tbody tr th:only-of-type {\n",
       "        vertical-align: middle;\n",
       "    }\n",
       "\n",
       "    .dataframe tbody tr th {\n",
       "        vertical-align: top;\n",
       "    }\n",
       "\n",
       "    .dataframe thead th {\n",
       "        text-align: right;\n",
       "    }\n",
       "</style>\n",
       "<table border=\"1\" class=\"dataframe\">\n",
       "  <thead>\n",
       "    <tr style=\"text-align: right;\">\n",
       "      <th></th>\n",
       "      <th>antecedents</th>\n",
       "      <th>consequents</th>\n",
       "      <th>antecedent support</th>\n",
       "      <th>consequent support</th>\n",
       "      <th>support</th>\n",
       "      <th>confidence</th>\n",
       "      <th>lift</th>\n",
       "      <th>leverage</th>\n",
       "      <th>conviction</th>\n",
       "      <th>zhangs_metric</th>\n",
       "    </tr>\n",
       "  </thead>\n",
       "  <tbody>\n",
       "    <tr>\n",
       "      <th>0</th>\n",
       "      <td>(72 SWEETHEART FAIRY CAKE CASES)</td>\n",
       "      <td>(60 TEATIME FAIRY CAKE CASES)</td>\n",
       "      <td>0.021620</td>\n",
       "      <td>0.028117</td>\n",
       "      <td>0.007001</td>\n",
       "      <td>0.323834</td>\n",
       "      <td>11.517402</td>\n",
       "      <td>0.006393</td>\n",
       "      <td>1.437344</td>\n",
       "      <td>0.933354</td>\n",
       "    </tr>\n",
       "    <tr>\n",
       "      <th>1</th>\n",
       "      <td>(PACK OF 60 DINOSAUR CAKE CASES)</td>\n",
       "      <td>(60 TEATIME FAIRY CAKE CASES)</td>\n",
       "      <td>0.023132</td>\n",
       "      <td>0.028117</td>\n",
       "      <td>0.007785</td>\n",
       "      <td>0.336562</td>\n",
       "      <td>11.970066</td>\n",
       "      <td>0.007135</td>\n",
       "      <td>1.464919</td>\n",
       "      <td>0.938160</td>\n",
       "    </tr>\n",
       "    <tr>\n",
       "      <th>2</th>\n",
       "      <td>(60 TEATIME FAIRY CAKE CASES)</td>\n",
       "      <td>(PACK OF 60 PINK PAISLEY CAKE CASES)</td>\n",
       "      <td>0.028117</td>\n",
       "      <td>0.028677</td>\n",
       "      <td>0.010026</td>\n",
       "      <td>0.356574</td>\n",
       "      <td>12.434115</td>\n",
       "      <td>0.009219</td>\n",
       "      <td>1.509610</td>\n",
       "      <td>0.946180</td>\n",
       "    </tr>\n",
       "    <tr>\n",
       "      <th>3</th>\n",
       "      <td>(PACK OF 60 PINK PAISLEY CAKE CASES)</td>\n",
       "      <td>(60 TEATIME FAIRY CAKE CASES)</td>\n",
       "      <td>0.028677</td>\n",
       "      <td>0.028117</td>\n",
       "      <td>0.010026</td>\n",
       "      <td>0.349609</td>\n",
       "      <td>12.434115</td>\n",
       "      <td>0.009219</td>\n",
       "      <td>1.494307</td>\n",
       "      <td>0.946725</td>\n",
       "    </tr>\n",
       "    <tr>\n",
       "      <th>4</th>\n",
       "      <td>(60 TEATIME FAIRY CAKE CASES)</td>\n",
       "      <td>(PACK OF 72 RETROSPOT CAKE CASES)</td>\n",
       "      <td>0.028117</td>\n",
       "      <td>0.045760</td>\n",
       "      <td>0.011314</td>\n",
       "      <td>0.402390</td>\n",
       "      <td>8.793487</td>\n",
       "      <td>0.010027</td>\n",
       "      <td>1.596762</td>\n",
       "      <td>0.911920</td>\n",
       "    </tr>\n",
       "    <tr>\n",
       "      <th>...</th>\n",
       "      <td>...</td>\n",
       "      <td>...</td>\n",
       "      <td>...</td>\n",
       "      <td>...</td>\n",
       "      <td>...</td>\n",
       "      <td>...</td>\n",
       "      <td>...</td>\n",
       "      <td>...</td>\n",
       "      <td>...</td>\n",
       "      <td>...</td>\n",
       "    </tr>\n",
       "    <tr>\n",
       "      <th>317</th>\n",
       "      <td>(LUNCH BAG RED RETROSPOT, LUNCH BAG CARS BLUE)</td>\n",
       "      <td>(LUNCH BAG PINK POLKADOT)</td>\n",
       "      <td>0.016355</td>\n",
       "      <td>0.040103</td>\n",
       "      <td>0.007785</td>\n",
       "      <td>0.476027</td>\n",
       "      <td>11.870102</td>\n",
       "      <td>0.007129</td>\n",
       "      <td>1.831960</td>\n",
       "      <td>0.930981</td>\n",
       "    </tr>\n",
       "    <tr>\n",
       "      <th>318</th>\n",
       "      <td>(LUNCH BAG PINK POLKADOT, LUNCH BAG CARS BLUE)</td>\n",
       "      <td>(LUNCH BAG RED RETROSPOT)</td>\n",
       "      <td>0.015067</td>\n",
       "      <td>0.056962</td>\n",
       "      <td>0.007785</td>\n",
       "      <td>0.516729</td>\n",
       "      <td>9.071458</td>\n",
       "      <td>0.006927</td>\n",
       "      <td>1.951363</td>\n",
       "      <td>0.903375</td>\n",
       "    </tr>\n",
       "    <tr>\n",
       "      <th>319</th>\n",
       "      <td>(LUNCH BAG SUKI DESIGN, LUNCH BAG RED RETROSPOT)</td>\n",
       "      <td>(LUNCH BAG PINK POLKADOT)</td>\n",
       "      <td>0.016635</td>\n",
       "      <td>0.040103</td>\n",
       "      <td>0.007561</td>\n",
       "      <td>0.454545</td>\n",
       "      <td>11.334434</td>\n",
       "      <td>0.006894</td>\n",
       "      <td>1.759811</td>\n",
       "      <td>0.927197</td>\n",
       "    </tr>\n",
       "    <tr>\n",
       "      <th>320</th>\n",
       "      <td>(LUNCH BAG SUKI DESIGN, LUNCH BAG PINK POLKADOT)</td>\n",
       "      <td>(LUNCH BAG RED RETROSPOT)</td>\n",
       "      <td>0.012658</td>\n",
       "      <td>0.056962</td>\n",
       "      <td>0.007561</td>\n",
       "      <td>0.597345</td>\n",
       "      <td>10.486726</td>\n",
       "      <td>0.006840</td>\n",
       "      <td>2.342050</td>\n",
       "      <td>0.916239</td>\n",
       "    </tr>\n",
       "    <tr>\n",
       "      <th>321</th>\n",
       "      <td>(LUNCH BAG RED RETROSPOT, LUNCH BAG PINK POLKA...</td>\n",
       "      <td>(LUNCH BAG SUKI DESIGN)</td>\n",
       "      <td>0.018539</td>\n",
       "      <td>0.040551</td>\n",
       "      <td>0.007561</td>\n",
       "      <td>0.407855</td>\n",
       "      <td>10.057794</td>\n",
       "      <td>0.006810</td>\n",
       "      <td>1.620294</td>\n",
       "      <td>0.917586</td>\n",
       "    </tr>\n",
       "  </tbody>\n",
       "</table>\n",
       "<p>322 rows × 10 columns</p>\n",
       "</div>"
      ],
      "text/plain": [
       "                                           antecedents  \\\n",
       "0                     (72 SWEETHEART FAIRY CAKE CASES)   \n",
       "1                     (PACK OF 60 DINOSAUR CAKE CASES)   \n",
       "2                        (60 TEATIME FAIRY CAKE CASES)   \n",
       "3                 (PACK OF 60 PINK PAISLEY CAKE CASES)   \n",
       "4                        (60 TEATIME FAIRY CAKE CASES)   \n",
       "..                                                 ...   \n",
       "317     (LUNCH BAG RED RETROSPOT, LUNCH BAG CARS BLUE)   \n",
       "318     (LUNCH BAG PINK POLKADOT, LUNCH BAG CARS BLUE)   \n",
       "319   (LUNCH BAG SUKI DESIGN, LUNCH BAG RED RETROSPOT)   \n",
       "320   (LUNCH BAG SUKI DESIGN, LUNCH BAG PINK POLKADOT)   \n",
       "321  (LUNCH BAG RED RETROSPOT, LUNCH BAG PINK POLKA...   \n",
       "\n",
       "                              consequents  antecedent support  \\\n",
       "0           (60 TEATIME FAIRY CAKE CASES)            0.021620   \n",
       "1           (60 TEATIME FAIRY CAKE CASES)            0.023132   \n",
       "2    (PACK OF 60 PINK PAISLEY CAKE CASES)            0.028117   \n",
       "3           (60 TEATIME FAIRY CAKE CASES)            0.028677   \n",
       "4       (PACK OF 72 RETROSPOT CAKE CASES)            0.028117   \n",
       "..                                    ...                 ...   \n",
       "317             (LUNCH BAG PINK POLKADOT)            0.016355   \n",
       "318             (LUNCH BAG RED RETROSPOT)            0.015067   \n",
       "319             (LUNCH BAG PINK POLKADOT)            0.016635   \n",
       "320             (LUNCH BAG RED RETROSPOT)            0.012658   \n",
       "321               (LUNCH BAG SUKI DESIGN)            0.018539   \n",
       "\n",
       "     consequent support   support  confidence       lift  leverage  \\\n",
       "0              0.028117  0.007001    0.323834  11.517402  0.006393   \n",
       "1              0.028117  0.007785    0.336562  11.970066  0.007135   \n",
       "2              0.028677  0.010026    0.356574  12.434115  0.009219   \n",
       "3              0.028117  0.010026    0.349609  12.434115  0.009219   \n",
       "4              0.045760  0.011314    0.402390   8.793487  0.010027   \n",
       "..                  ...       ...         ...        ...       ...   \n",
       "317            0.040103  0.007785    0.476027  11.870102  0.007129   \n",
       "318            0.056962  0.007785    0.516729   9.071458  0.006927   \n",
       "319            0.040103  0.007561    0.454545  11.334434  0.006894   \n",
       "320            0.056962  0.007561    0.597345  10.486726  0.006840   \n",
       "321            0.040551  0.007561    0.407855  10.057794  0.006810   \n",
       "\n",
       "     conviction  zhangs_metric  \n",
       "0      1.437344       0.933354  \n",
       "1      1.464919       0.938160  \n",
       "2      1.509610       0.946180  \n",
       "3      1.494307       0.946725  \n",
       "4      1.596762       0.911920  \n",
       "..          ...            ...  \n",
       "317    1.831960       0.930981  \n",
       "318    1.951363       0.903375  \n",
       "319    1.759811       0.927197  \n",
       "320    2.342050       0.916239  \n",
       "321    1.620294       0.917586  \n",
       "\n",
       "[322 rows x 10 columns]"
      ]
     },
     "execution_count": 82,
     "metadata": {},
     "output_type": "execute_result"
    }
   ],
   "source": [
    "# Let's look at the rules\n",
    "rules"
   ]
  },
  {
   "cell_type": "code",
   "execution_count": 83,
   "id": "9274da49",
   "metadata": {
    "scrolled": false
   },
   "outputs": [
    {
     "data": {
      "text/plain": [
       "Index(['antecedents', 'consequents', 'antecedent support',\n",
       "       'consequent support', 'support', 'confidence', 'lift', 'leverage',\n",
       "       'conviction', 'zhangs_metric'],\n",
       "      dtype='object')"
      ]
     },
     "execution_count": 83,
     "metadata": {},
     "output_type": "execute_result"
    }
   ],
   "source": [
    "rules.columns"
   ]
  },
  {
   "cell_type": "markdown",
   "id": "172c1482",
   "metadata": {},
   "source": [
    "<div style=\"border-radius: 20px; padding: 6px; background-color: rgba(0, 63, 231, 0.8); font-size: 130%; text-align: left;\">\n",
    "<h2 align=\"left\"><center><font color=\"#ffffff\"> 4) Visualization:</font></center></h2>"
   ]
  },
  {
   "cell_type": "code",
   "execution_count": 85,
   "id": "130375ad",
   "metadata": {},
   "outputs": [
    {
     "data": {
      "image/png": "[encoded data removed]",
      "text/plain": [
       "<Figure size 1200x800 with 1 Axes>"
      ]
     },
     "metadata": {},
     "output_type": "display_data"
    }
   ],
   "source": [
    "# Let's establish plot scatterplot for Support vs. Confidence\n",
    "plt.figure(figsize=(12, 8))\n",
    "sns.scatterplot(x=\"support\", y=\"confidence\", size=\"lift\", data=rules, hue=\"lift\", palette=\"viridis\", sizes=(20, 200))\n",
    "plt.title('Market Basket Analysis - Support vs. Confidence (Size = Lift)')\n",
    "plt.xlabel('Support')\n",
    "plt.ylabel('Confidence')\n",
    "plt.legend(title='Lift', loc='upper right', bbox_to_anchor=(1.2, 1))\n",
    "plt.show()"
   ]
  },
  {
   "cell_type": "code",
   "execution_count": 88,
   "id": "8d42b6d3",
   "metadata": {},
   "outputs": [
    {
     "data": {
      "application/vnd.plotly.v1+json": {
       "config": {
        "plotlyServerURL": "https://plot.ly"
       },
       "data": [
        {
         "hoverinfo": "none",
         "line": {
          "color": "#888",
          "width": 0.5
         },
         "mode": "lines",
         "type": "scatter",
         "x": [
          0.05828074701094161,
          0.25509350981915935,
          null,
          0.05828074701094161,
          0.5024007360575465,
          null,
          0.25509350981915935,
          0.5425585021328445,
          null,
          0.25509350981915935,
          0.5024007360575465,
          null,
          0.29992121619335993,
          0.25509350981915935,
          null,
          0.29992121619335993,
          0.5425585021328445,
          null,
          0.29992121619335993,
          0.5024007360575465,
          null,
          0.5425585021328445,
          0.25509350981915935,
          null,
          0.5425585021328445,
          0.5024007360575465,
          null,
          0.4381036089646517,
          0.7787384618951348,
          null,
          0.4381036089646517,
          0.8851015703483772,
          null,
          0.7787384618951348,
          0.6076868045798135,
          null,
          0.7787384618951348,
          0.8851015703483772,
          null,
          0.8851015703483772,
          0.7787384618951348,
          null,
          0.8851015703483772,
          0.7484777253408404,
          null,
          0.8851015703483772,
          0.6076868045798135,
          null,
          0.7484777253408404,
          0.7787384618951348,
          null,
          0.7484777253408404,
          0.6076868045798135,
          null,
          0.7484777253408404,
          0.8851015703483772,
          null,
          0.609063460278658,
          0.7787384618951348,
          null,
          0.609063460278658,
          0.8851015703483772,
          null,
          0.6076868045798135,
          0.7787384618951348,
          null,
          0.6076868045798135,
          0.7484777253408404,
          null,
          0.6076868045798135,
          0.8851015703483772,
          null,
          0.4038676440249491,
          0.8390880809971183,
          null,
          0.13796025710528448,
          0.23081602568047851,
          null,
          0.13796025710528448,
          -0.19157146330618724,
          null,
          0.13796025710528448,
          0.42557637790337394,
          null,
          0.23081602568047851,
          0.13796025710528448,
          null,
          0.5671315193441596,
          0.8203307673421898,
          null,
          0.49256093627888464,
          0.2532144149941674,
          null,
          0.2532144149941674,
          0.49256093627888464,
          null,
          -0.7572690000263624,
          -0.8470682193321774,
          null,
          -0.8470682193321774,
          -0.7572690000263624,
          null,
          0.7755673652258905,
          0.9513627978227999,
          null,
          0.9513627978227999,
          0.7755673652258905,
          null,
          0.9542238405075586,
          0.8596560634528828,
          null,
          0.8596560634528828,
          0.9542238405075586,
          null,
          -0.1537433490613345,
          0.18769509387587746,
          null,
          -0.6083603080313897,
          -0.21634487915561015,
          null,
          -0.21634487915561015,
          0.048498974891632,
          null,
          -0.21634487915561015,
          0.13300777968971964,
          null,
          -0.21634487915561015,
          -0.8782928048349231,
          null,
          -0.21634487915561015,
          0.08285780099474409,
          null,
          -0.21634487915561015,
          0.22494994605645266,
          null,
          0.048498974891632,
          0.13300777968971964,
          null,
          0.048498974891632,
          -0.21634487915561015,
          null,
          0.048498974891632,
          0.08285780099474409,
          null,
          0.13300777968971964,
          0.048498974891632,
          null,
          0.13300777968971964,
          -0.21634487915561015,
          null,
          0.13300777968971964,
          0.08285780099474409,
          null,
          0.13300777968971964,
          0.22494994605645266,
          null,
          0.08285780099474409,
          0.048498974891632,
          null,
          0.08285780099474409,
          0.13300777968971964,
          null,
          0.08285780099474409,
          -0.21634487915561015,
          null,
          0.08285780099474409,
          0.22494994605645266,
          null,
          0.22494994605645266,
          0.13300777968971964,
          null,
          0.22494994605645266,
          -0.21634487915561015,
          null,
          0.22494994605645266,
          0.08285780099474409,
          null,
          0.8890282632538432,
          0.6900887042176458,
          null,
          0.6900887042176458,
          0.8890282632538432,
          null,
          -0.5093880378551224,
          -0.7105910411952702,
          null,
          -0.5093880378551224,
          -0.5618997800414155,
          null,
          -0.5093880378551224,
          -0.9423087058552119,
          null,
          -0.7105910411952702,
          -0.5093880378551224,
          null,
          -0.7105910411952702,
          -0.9999999999999999,
          null,
          -0.7105910411952702,
          -0.5618997800414155,
          null,
          -0.5618997800414155,
          -0.5093880378551224,
          null,
          -0.5618997800414155,
          -0.7105910411952702,
          null,
          -0.5618997800414155,
          -0.9999999999999999,
          null,
          -0.25077302836750975,
          -0.5093880378551224,
          null,
          -0.25077302836750975,
          -0.9423087058552119,
          null,
          -0.9423087058552119,
          -0.5093880378551224,
          null,
          -0.7002990598496092,
          -0.34744563492411307,
          null,
          -0.34744563492411307,
          -0.7002990598496092,
          null,
          -0.34744563492411307,
          0.02920226117301008,
          null,
          0.02920226117301008,
          -0.34744563492411307,
          null,
          0.149764849099267,
          0.18043032409757284,
          null,
          0.149764849099267,
          0.1133536142393194,
          null,
          0.18043032409757284,
          0.149764849099267,
          null,
          0.18043032409757284,
          0.1133536142393194,
          null,
          0.18043032409757284,
          0.12953141372426,
          null,
          0.1133536142393194,
          0.18043032409757284,
          null,
          0.1133536142393194,
          0.149764849099267,
          null,
          0.1133536142393194,
          0.12953141372426,
          null,
          -0.06381854648730469,
          -0.23777282755557758,
          null,
          -0.23777282755557758,
          -0.06381854648730469,
          null,
          -0.9269020225165261,
          -0.938325478846801,
          null,
          -0.938325478846801,
          -0.9269020225165261,
          null,
          -0.19157146330618724,
          0.13796025710528448,
          null,
          0.3014741798747419,
          0.30497242942118435,
          null,
          0.30497242942118435,
          0.3014741798747419,
          null,
          -0.5090279759411953,
          -0.28796928517033865,
          null,
          -0.5090279759411953,
          -0.7258329030580197,
          null,
          -0.5090279759411953,
          -0.3291125967662966,
          null,
          -0.5090279759411953,
          -0.5613889275338703,
          null,
          -0.28796928517033865,
          -0.5090279759411953,
          null,
          -0.28796928517033865,
          -0.7258329030580197,
          null,
          -0.28796928517033865,
          -0.3291125967662966,
          null,
          -0.28796928517033865,
          0.2544804157853406,
          null,
          -0.3291125967662966,
          -0.28796928517033865,
          null,
          -0.3291125967662966,
          -0.5090279759411953,
          null,
          -0.3291125967662966,
          -0.7258329030580197,
          null,
          -0.3291125967662966,
          0.15960463588683857,
          null,
          0.08000264311908935,
          -0.08853694771517483,
          null,
          0.08000264311908935,
          0.3104069011468328,
          null,
          0.08000264311908935,
          0.06841331676688103,
          null,
          0.08000264311908935,
          0.22820378201784505,
          null,
          -0.08853694771517483,
          0.08000264311908935,
          null,
          -0.08853694771517483,
          0.06841331676688103,
          null,
          0.06841331676688103,
          -0.08853694771517483,
          null,
          0.06841331676688103,
          0.08000264311908935,
          null,
          0.06841331676688103,
          0.3104069011468328,
          null,
          0.06841331676688103,
          0.22820378201784505,
          null,
          0.3104069011468328,
          0.08000264311908935,
          null,
          0.3104069011468328,
          0.06841331676688103,
          null,
          -0.4240397646472184,
          0.08000264311908935,
          null,
          0.22820378201784505,
          0.08000264311908935,
          null,
          0.22820378201784505,
          0.06841331676688103,
          null,
          -0.09838997532413037,
          -0.25179462441495876,
          null,
          -0.09838997532413037,
          0.18769509387587746,
          null,
          -0.25179462441495876,
          -0.09838997532413037,
          null,
          -0.6544052511640325,
          -0.44498970326752013,
          null,
          -0.44498970326752013,
          -0.6544052511640325,
          null,
          -0.7130440678510879,
          -0.9999999999999999,
          null,
          0.7450114380093061,
          0.30772755265533963,
          null,
          0.30772755265533963,
          0.7450114380093061,
          null,
          0.7252259163400991,
          0.5488825117280515,
          null,
          0.5488825117280515,
          0.7252259163400991,
          null,
          -0.6032731129562042,
          -0.9858164661814843,
          null,
          -0.6032731129562042,
          -0.8782928048349231,
          null,
          -0.6032731129562042,
          -0.8246318988412797,
          null,
          -0.9858164661814843,
          -0.8782928048349231,
          null,
          -0.8246318988412797,
          -0.8782928048349231,
          null,
          0.8309994464545128,
          0.640843976393595,
          null,
          0.640843976393595,
          0.8309994464545128,
          null,
          -0.33407692113554843,
          -0.516696390871352,
          null,
          -0.33407692113554843,
          -0.5077435808925668,
          null,
          -0.33407692113554843,
          -0.8782928048349231,
          null,
          -0.33407692113554843,
          -0.5924353172871726,
          null,
          -0.33407692113554843,
          0.40620811993365685,
          null,
          -0.516696390871352,
          -0.8782928048349231,
          null,
          -0.5077435808925668,
          -0.33407692113554843,
          null,
          -0.5077435808925668,
          -0.8782928048349231,
          null,
          -0.5077435808925668,
          -0.5924353172871726,
          null,
          -0.5924353172871726,
          -0.8782928048349231,
          null,
          0.40620811993365685,
          0.688245758523707,
          null,
          0.40620811993365685,
          0.6212955358849239,
          null,
          0.40620811993365685,
          0.6474021962510882,
          null,
          -0.33103445030643047,
          -0.5924353172871726,
          null,
          -0.33103445030643047,
          -0.7212448398203188,
          null,
          -0.7212448398203188,
          -0.33103445030643047,
          null,
          -0.0986861220713571,
          -0.8782928048349231,
          null,
          -0.7126664207062108,
          -0.9858164661814843,
          null,
          -0.7126664207062108,
          -0.8782928048349231,
          null,
          -0.7126664207062108,
          -0.7323328528763403,
          null,
          -0.7126664207062108,
          -0.5577051603805437,
          null,
          -0.6702414323732796,
          -0.9858164661814843,
          null,
          -0.6702414323732796,
          -0.8782928048349231,
          null,
          -0.8490658515952276,
          -0.9858164661814843,
          null,
          -0.8490658515952276,
          -0.8782928048349231,
          null,
          -0.3822297409077885,
          -0.9858164661814843,
          null,
          -0.3822297409077885,
          -0.8782928048349231,
          null,
          -0.3822297409077885,
          -0.8246318988412797,
          null,
          -0.7323328528763403,
          -0.7126664207062108,
          null,
          -0.7323328528763403,
          -0.8782928048349231,
          null,
          -0.7323328528763403,
          -0.5577051603805437,
          null,
          -0.5577051603805437,
          -0.8782928048349231,
          null,
          -0.9368552664708977,
          -0.8782928048349231,
          null,
          -0.37076886891927513,
          -0.8782928048349231,
          null,
          0.27123372572189014,
          -0.37076886891927513,
          null,
          0.27123372572189014,
          0.40620811993365685,
          null,
          0.27123372572189014,
          0.6212955358849239,
          null,
          0.27123372572189014,
          0.7822839592091256,
          null,
          0.42557637790337394,
          0.13796025710528448,
          null,
          -0.9321952887279654,
          -0.6915828924005368,
          null,
          -0.6915828924005368,
          -0.9321952887279654,
          null,
          0.6546451226351405,
          0.688245758523707,
          null,
          0.6546451226351405,
          0.40620811993365685,
          null,
          0.6546451226351405,
          0.5931975073956183,
          null,
          0.6546451226351405,
          0.6212955358849239,
          null,
          0.6546451226351405,
          0.7822839592091256,
          null,
          0.6546451226351405,
          0.6474021962510882,
          null,
          0.6546451226351405,
          0.7207185358384934,
          null,
          0.688245758523707,
          0.5931975073956183,
          null,
          0.688245758523707,
          0.770694689291741,
          null,
          0.688245758523707,
          0.6212955358849239,
          null,
          0.688245758523707,
          0.7822839592091256,
          null,
          0.688245758523707,
          0.6474021962510882,
          null,
          0.5931975073956183,
          0.688245758523707,
          null,
          0.5931975073956183,
          0.770694689291741,
          null,
          0.5931975073956183,
          0.6212955358849239,
          null,
          0.5931975073956183,
          0.7822839592091256,
          null,
          0.5931975073956183,
          0.6474021962510882,
          null,
          0.5931975073956183,
          0.6842145850835495,
          null,
          0.5275542684650046,
          0.688245758523707,
          null,
          0.5275542684650046,
          0.5931975073956183,
          null,
          0.5275542684650046,
          0.6212955358849239,
          null,
          0.5275542684650046,
          0.7822839592091256,
          null,
          0.5275542684650046,
          0.6474021962510882,
          null,
          0.5275542684650046,
          0.6842145850835495,
          null,
          0.770694689291741,
          0.688245758523707,
          null,
          0.770694689291741,
          0.5931975073956183,
          null,
          0.770694689291741,
          0.6212955358849239,
          null,
          0.770694689291741,
          0.7822839592091256,
          null,
          0.770694689291741,
          0.6474021962510882,
          null,
          0.6212955358849239,
          0.688245758523707,
          null,
          0.6212955358849239,
          0.770694689291741,
          null,
          0.7822839592091256,
          0.688245758523707,
          null,
          0.7822839592091256,
          0.5931975073956183,
          null,
          0.7822839592091256,
          0.6212955358849239,
          null,
          0.7822839592091256,
          0.6474021962510882,
          null,
          0.7822839592091256,
          0.6842145850835495,
          null,
          0.6474021962510882,
          0.688245758523707,
          null,
          0.6474021962510882,
          0.40620811993365685,
          null,
          0.6474021962510882,
          0.5931975073956183,
          null,
          0.6474021962510882,
          0.770694689291741,
          null,
          0.6474021962510882,
          0.6212955358849239,
          null,
          0.6474021962510882,
          0.7822839592091256,
          null,
          0.7207185358384934,
          0.688245758523707,
          null,
          0.7207185358384934,
          0.6546451226351405,
          null,
          0.7207185358384934,
          0.40620811993365685,
          null,
          0.7207185358384934,
          0.6212955358849239,
          null,
          0.7207185358384934,
          0.7822839592091256,
          null,
          0.7207185358384934,
          0.6474021962510882,
          null,
          0.6842145850835495,
          0.688245758523707,
          null,
          0.6842145850835495,
          0.5931975073956183,
          null,
          0.6842145850835495,
          0.6212955358849239,
          null,
          0.6842145850835495,
          0.7822839592091256,
          null,
          0.6842145850835495,
          0.6474021962510882,
          null,
          -0.07556658020950344,
          0.5024007360575465,
          null,
          -0.10209181120164579,
          0.5024007360575465,
          null,
          -0.927325356515432,
          -0.8616526551142109,
          null,
          -0.8616526551142109,
          -0.927325356515432,
          null,
          0.5536482527468838,
          0.9786671460381265,
          null,
          -0.8407171178277681,
          -0.6366074384182598,
          null,
          -0.6366074384182598,
          -0.8407171178277681,
          null,
          -0.5603912180361278,
          -0.5595488597359507,
          null,
          -0.5595488597359507,
          -0.5603912180361278,
          null,
          -0.10414400271237638,
          -0.07414042379412142,
          null,
          -0.10414400271237638,
          -0.07681908491492237,
          null,
          -0.07414042379412142,
          -0.10414400271237638,
          null,
          -0.07414042379412142,
          -0.2007216963738326,
          null,
          -0.07414042379412142,
          -0.07681908491492237,
          null,
          -0.2007216963738326,
          -0.07414042379412142,
          null,
          -0.2007216963738326,
          -0.10414400271237638,
          null,
          -0.2007216963738326,
          -0.07681908491492237,
          null,
          -0.07681908491492237,
          -0.07414042379412142,
          null,
          -0.07681908491492237,
          -0.10414400271237638,
          null,
          0.25913473855602165,
          0.03292794774070466,
          null,
          0.25913473855602165,
          0.09886261031761025,
          null,
          0.03292794774070466,
          0.25913473855602165,
          null,
          0.03292794774070466,
          0.09886261031761025,
          null,
          0.09886261031761025,
          0.03292794774070466,
          null,
          0.09886261031761025,
          0.25913473855602165,
          null,
          -0.9099596280171087,
          -0.5801264047127184,
          null,
          -0.9099596280171087,
          -0.920331126417761,
          null,
          0.2765787786957649,
          0.18769509387587746,
          null,
          0.2579638056781949,
          0.06807407932079897,
          null,
          0.06807407932079897,
          0.2579638056781949,
          null,
          -0.920331126417761,
          -0.9099596280171087,
          null,
          0.7523346059242099,
          0.9575086477357325,
          null,
          0.7523346059242099,
          0.21964886530360464,
          null,
          0.9575086477357325,
          0.7523346059242099,
          null,
          0.21964886530360464,
          0.7523346059242099,
          null,
          -0.39261687846055493,
          -0.08596209626974818,
          null,
          -0.08596209626974818,
          -0.39261687846055493,
          null,
          0.5736779028917136,
          0.3553388707207271,
          null,
          -0.17286223423528296,
          0.3553388707207271,
          null,
          -0.26368849215815865,
          -0.13382836727603067,
          null,
          -0.13382836727603067,
          -0.26368849215815865,
          null,
          -0.7251384237852597,
          -0.9346328064777577,
          null,
          -0.7251384237852597,
          -0.3486803571790646,
          null,
          -0.3486803571790646,
          -0.7251384237852597,
          null,
          -0.681202978624102,
          -0.4852631195943395,
          null,
          -0.4852631195943395,
          -0.681202978624102,
          null,
          0.487011247540278,
          0.6817593198625712,
          null,
          0.6817593198625712,
          0.487011247540278,
          null,
          0.40183241431121286,
          0.9382393338672352,
          null,
          -0.1785927200578629,
          -0.5453250876058776,
          null,
          -0.1785927200578629,
          -0.3798593588281751,
          null,
          -0.5453250876058776,
          -0.3798593588281751,
          null,
          -0.3798593588281751,
          -0.5453250876058776,
          null,
          -0.6097701320189913,
          -0.48318911416005283,
          null,
          -0.6097701320189913,
          -0.6652944096001652,
          null,
          -0.48318911416005283,
          -0.6097701320189913,
          null,
          -0.48318911416005283,
          -0.6652944096001652,
          null,
          -0.6652944096001652,
          -0.6097701320189913,
          null,
          -0.6652944096001652,
          -0.48318911416005283,
          null,
          0.8932669467361973,
          0.6076868045798135,
          null,
          0.8883533117564819,
          0.8851015703483772,
          null,
          0.6318707260210819,
          0.7787384618951348,
          null,
          0.15960463588683857,
          -0.3291125967662966,
          null,
          0.2544804157853406,
          -0.28796928517033865,
          null,
          -0.5613889275338703,
          -0.5090279759411953,
          null,
          -0.5613889275338703,
          -0.7258329030580197,
          null,
          -0.4328306476483714,
          -0.3291125967662966,
          null,
          -0.7107491278451,
          -0.28796928517033865,
          null,
          -0.0923947630271778,
          -0.9858164661814843,
          null,
          -0.19980646750727563,
          -0.8782928048349231,
          null,
          -0.618740059369674,
          -0.6702414323732796,
          null,
          0.2598804804717052,
          0.5931975073956183,
          null,
          0.2598804804717052,
          0.6212955358849239,
          null,
          0.8041802576078487,
          0.688245758523707,
          null,
          0.8041802576078487,
          0.6212955358849239,
          null,
          0.31465909428097494,
          0.770694689291741,
          null,
          0.31465909428097494,
          0.6212955358849239,
          null,
          0.5206933518492692,
          0.5931975073956183,
          null,
          0.5206933518492692,
          0.770694689291741,
          null,
          0.5206933518492692,
          0.7822839592091256,
          null,
          0.5206933518492692,
          0.6474021962510882,
          null,
          0.7256008525052757,
          0.688245758523707,
          null,
          0.7256008525052757,
          0.770694689291741,
          null,
          0.8608482404141753,
          0.688245758523707,
          null,
          0.8608482404141753,
          0.5931975073956183,
          null,
          0.8608482404141753,
          0.6474021962510882,
          null,
          0.2513078667612117,
          0.688245758523707,
          null,
          -0.05685068227334303,
          0.6212955358849239,
          null,
          0.8427080869473604,
          0.688245758523707,
          null,
          0.8427080869473604,
          0.770694689291741,
          null,
          0.05986527129384014,
          0.6212955358849239,
          null,
          0.7938331514773521,
          0.6212955358849239,
          null
         ],
         "y": [
          -0.5277705155356165,
          -0.33299644375132226,
          null,
          -0.5277705155356165,
          -0.8404331175155062,
          null,
          -0.33299644375132226,
          -0.6223076589958387,
          null,
          -0.33299644375132226,
          -0.8404331175155062,
          null,
          -0.2841197785186737,
          -0.33299644375132226,
          null,
          -0.2841197785186737,
          -0.6223076589958387,
          null,
          -0.2841197785186737,
          -0.8404331175155062,
          null,
          -0.6223076589958387,
          -0.33299644375132226,
          null,
          -0.6223076589958387,
          -0.8404331175155062,
          null,
          0.49348981673652836,
          0.48009503840635337,
          null,
          0.49348981673652836,
          0.38171140935624054,
          null,
          0.48009503840635337,
          0.23887712574846376,
          null,
          0.48009503840635337,
          0.38171140935624054,
          null,
          0.38171140935624054,
          0.48009503840635337,
          null,
          0.38171140935624054,
          0.24332577577317216,
          null,
          0.38171140935624054,
          0.23887712574846376,
          null,
          0.24332577577317216,
          0.48009503840635337,
          null,
          0.24332577577317216,
          0.23887712574846376,
          null,
          0.24332577577317216,
          0.38171140935624054,
          null,
          0.666671426409363,
          0.48009503840635337,
          null,
          0.666671426409363,
          0.38171140935624054,
          null,
          0.23887712574846376,
          0.48009503840635337,
          null,
          0.23887712574846376,
          0.24332577577317216,
          null,
          0.23887712574846376,
          0.38171140935624054,
          null,
          -0.06845269987045778,
          0.39261752285593965,
          null,
          0.7328299572172259,
          0.9049153721374176,
          null,
          0.7328299572172259,
          0.9575158787306072,
          null,
          0.7328299572172259,
          0.7399537674591591,
          null,
          0.9049153721374176,
          0.7328299572172259,
          null,
          0.1495777654545964,
          -0.4494278643728226,
          null,
          -0.6219208569221851,
          -0.7977324003571676,
          null,
          -0.7977324003571676,
          -0.6219208569221851,
          null,
          0.7296329852677393,
          0.6001206528698163,
          null,
          0.6001206528698163,
          0.7296329852677393,
          null,
          -0.41334063389966497,
          -0.062270810998843455,
          null,
          -0.062270810998843455,
          -0.41334063389966497,
          null,
          -0.19987219515093244,
          0.023937674698599597,
          null,
          0.023937674698599597,
          -0.19987219515093244,
          null,
          -0.8990282612979729,
          -0.9648216626508865,
          null,
          0.4189656747936064,
          0.4026369758053377,
          null,
          0.4026369758053377,
          0.6961092703479771,
          null,
          0.4026369758053377,
          0.5025883849463727,
          null,
          0.4026369758053377,
          -0.08208814640555606,
          null,
          0.4026369758053377,
          0.6280535792801673,
          null,
          0.4026369758053377,
          0.55224763074614,
          null,
          0.6961092703479771,
          0.5025883849463727,
          null,
          0.6961092703479771,
          0.4026369758053377,
          null,
          0.6961092703479771,
          0.6280535792801673,
          null,
          0.5025883849463727,
          0.6961092703479771,
          null,
          0.5025883849463727,
          0.4026369758053377,
          null,
          0.5025883849463727,
          0.6280535792801673,
          null,
          0.5025883849463727,
          0.55224763074614,
          null,
          0.6280535792801673,
          0.6961092703479771,
          null,
          0.6280535792801673,
          0.5025883849463727,
          null,
          0.6280535792801673,
          0.4026369758053377,
          null,
          0.6280535792801673,
          0.55224763074614,
          null,
          0.55224763074614,
          0.5025883849463727,
          null,
          0.55224763074614,
          0.4026369758053377,
          null,
          0.55224763074614,
          0.6280535792801673,
          null,
          0.1137355038616389,
          0.4677451283547376,
          null,
          0.4677451283547376,
          0.1137355038616389,
          null,
          0.15034253216996038,
          0.1248192164469541,
          null,
          0.15034253216996038,
          0.23166425328371618,
          null,
          0.15034253216996038,
          0.07749773777344071,
          null,
          0.1248192164469541,
          0.15034253216996038,
          null,
          0.1248192164469541,
          -0.049124027874374816,
          null,
          0.1248192164469541,
          0.23166425328371618,
          null,
          0.23166425328371618,
          0.15034253216996038,
          null,
          0.23166425328371618,
          0.1248192164469541,
          null,
          0.23166425328371618,
          -0.049124027874374816,
          null,
          -0.18818553745284286,
          0.15034253216996038,
          null,
          -0.18818553745284286,
          0.07749773777344071,
          null,
          0.07749773777344071,
          0.15034253216996038,
          null,
          0.6361305673106051,
          0.8429469578823404,
          null,
          0.8429469578823404,
          0.6361305673106051,
          null,
          0.8429469578823404,
          0.9586012870537391,
          null,
          0.9586012870537391,
          0.8429469578823404,
          null,
          -0.02708994543981453,
          -0.47484715657017423,
          null,
          -0.02708994543981453,
          -0.40650721881335405,
          null,
          -0.47484715657017423,
          -0.02708994543981453,
          null,
          -0.47484715657017423,
          -0.40650721881335405,
          null,
          -0.47484715657017423,
          -0.9292867993161404,
          null,
          -0.40650721881335405,
          -0.47484715657017423,
          null,
          -0.40650721881335405,
          -0.02708994543981453,
          null,
          -0.40650721881335405,
          -0.9292867993161404,
          null,
          0.8117683326061431,
          0.8292806528448281,
          null,
          0.8292806528448281,
          0.8117683326061431,
          null,
          0.13761125560646728,
          -0.2570840718303953,
          null,
          -0.2570840718303953,
          0.13761125560646728,
          null,
          0.9575158787306072,
          0.7328299572172259,
          null,
          0.5479602105324185,
          0.760065533552555,
          null,
          0.760065533552555,
          0.5479602105324185,
          null,
          -0.5464452646140897,
          -0.5904633430813048,
          null,
          -0.5464452646140897,
          -0.7575590322235083,
          null,
          -0.5464452646140897,
          -0.6477651098804271,
          null,
          -0.5464452646140897,
          -0.13873648595155114,
          null,
          -0.5904633430813048,
          -0.5464452646140897,
          null,
          -0.5904633430813048,
          -0.7575590322235083,
          null,
          -0.5904633430813048,
          -0.6477651098804271,
          null,
          -0.5904633430813048,
          -0.32103668705067356,
          null,
          -0.6477651098804271,
          -0.5904633430813048,
          null,
          -0.6477651098804271,
          -0.5464452646140897,
          null,
          -0.6477651098804271,
          -0.7575590322235083,
          null,
          -0.6477651098804271,
          -0.5112386021422889,
          null,
          -0.6741409295262046,
          -0.422595110887363,
          null,
          -0.6741409295262046,
          -0.7423173932293063,
          null,
          -0.6741409295262046,
          -0.7812848028469666,
          null,
          -0.6741409295262046,
          -0.9793523854663784,
          null,
          -0.422595110887363,
          -0.6741409295262046,
          null,
          -0.422595110887363,
          -0.7812848028469666,
          null,
          -0.7812848028469666,
          -0.422595110887363,
          null,
          -0.7812848028469666,
          -0.6741409295262046,
          null,
          -0.7812848028469666,
          -0.7423173932293063,
          null,
          -0.7812848028469666,
          -0.9793523854663784,
          null,
          -0.7423173932293063,
          -0.6741409295262046,
          null,
          -0.7423173932293063,
          -0.7812848028469666,
          null,
          -0.29155533535329914,
          -0.6741409295262046,
          null,
          -0.9793523854663784,
          -0.6741409295262046,
          null,
          -0.9793523854663784,
          -0.7812848028469666,
          null,
          -0.8636506684400306,
          -0.4905519271645113,
          null,
          -0.8636506684400306,
          -0.9648216626508865,
          null,
          -0.4905519271645113,
          -0.8636506684400306,
          null,
          -0.5935708384278816,
          -0.8115616695680715,
          null,
          -0.8115616695680715,
          -0.5935708384278816,
          null,
          0.4246036845759757,
          -0.049124027874374816,
          null,
          -0.029867207326015863,
          -0.12466739817660269,
          null,
          -0.12466739817660269,
          -0.029867207326015863,
          null,
          -0.1703191065876968,
          0.12924017294410647,
          null,
          0.12924017294410647,
          -0.1703191065876968,
          null,
          -0.06385540862984669,
          -0.21080286189513633,
          null,
          -0.06385540862984669,
          -0.08208814640555606,
          null,
          -0.06385540862984669,
          0.1376617718549599,
          null,
          -0.21080286189513633,
          -0.08208814640555606,
          null,
          0.1376617718549599,
          -0.08208814640555606,
          null,
          -0.42317632281877543,
          -0.6576219770350252,
          null,
          -0.6576219770350252,
          -0.42317632281877543,
          null,
          -0.060619163020321366,
          -0.40752706502066177,
          null,
          -0.060619163020321366,
          -0.17308221687140146,
          null,
          -0.060619163020321366,
          -0.08208814640555606,
          null,
          -0.060619163020321366,
          0.11226818685136193,
          null,
          -0.060619163020321366,
          0.042747100790004364,
          null,
          -0.40752706502066177,
          -0.08208814640555606,
          null,
          -0.17308221687140146,
          -0.060619163020321366,
          null,
          -0.17308221687140146,
          -0.08208814640555606,
          null,
          -0.17308221687140146,
          0.11226818685136193,
          null,
          0.11226818685136193,
          -0.08208814640555606,
          null,
          0.042747100790004364,
          -0.009602169246078422,
          null,
          0.042747100790004364,
          0.08924859293346395,
          null,
          0.042747100790004364,
          -0.037030177271430376,
          null,
          -0.16396731067516035,
          0.11226818685136193,
          null,
          -0.16396731067516035,
          -0.5165445876554078,
          null,
          -0.5165445876554078,
          -0.16396731067516035,
          null,
          0.13620520816656156,
          -0.08208814640555606,
          null,
          -0.3514651027674753,
          -0.21080286189513633,
          null,
          -0.3514651027674753,
          -0.08208814640555606,
          null,
          -0.3514651027674753,
          -0.3057936066254846,
          null,
          -0.3514651027674753,
          -0.3558654016298398,
          null,
          -0.332449977332606,
          -0.21080286189513633,
          null,
          -0.332449977332606,
          -0.08208814640555606,
          null,
          -0.4263758544221002,
          -0.21080286189513633,
          null,
          -0.4263758544221002,
          -0.08208814640555606,
          null,
          -0.11310779644139785,
          -0.21080286189513633,
          null,
          -0.11310779644139785,
          -0.08208814640555606,
          null,
          -0.11310779644139785,
          0.1376617718549599,
          null,
          -0.3057936066254846,
          -0.3514651027674753,
          null,
          -0.3057936066254846,
          -0.08208814640555606,
          null,
          -0.3057936066254846,
          -0.3558654016298398,
          null,
          -0.3558654016298398,
          -0.08208814640555606,
          null,
          -0.4424902514341417,
          -0.08208814640555606,
          null,
          0.15055191800624187,
          -0.08208814640555606,
          null,
          0.09400363645684173,
          0.15055191800624187,
          null,
          0.09400363645684173,
          0.042747100790004364,
          null,
          0.09400363645684173,
          0.08924859293346395,
          null,
          0.09400363645684173,
          -0.08827812978618589,
          null,
          0.7399537674591591,
          0.7328299572172259,
          null,
          0.2055753949412041,
          -0.04507385562986057,
          null,
          -0.04507385562986057,
          0.2055753949412041,
          null,
          0.040336469741919546,
          -0.009602169246078422,
          null,
          0.040336469741919546,
          0.042747100790004364,
          null,
          0.040336469741919546,
          -0.061689910622672,
          null,
          0.040336469741919546,
          0.08924859293346395,
          null,
          0.040336469741919546,
          -0.08827812978618589,
          null,
          0.040336469741919546,
          -0.037030177271430376,
          null,
          0.040336469741919546,
          0.08716694386295114,
          null,
          -0.009602169246078422,
          -0.061689910622672,
          null,
          -0.009602169246078422,
          -0.039836815772223276,
          null,
          -0.009602169246078422,
          0.08924859293346395,
          null,
          -0.009602169246078422,
          -0.08827812978618589,
          null,
          -0.009602169246078422,
          -0.037030177271430376,
          null,
          -0.061689910622672,
          -0.009602169246078422,
          null,
          -0.061689910622672,
          -0.039836815772223276,
          null,
          -0.061689910622672,
          0.08924859293346395,
          null,
          -0.061689910622672,
          -0.08827812978618589,
          null,
          -0.061689910622672,
          -0.037030177271430376,
          null,
          -0.061689910622672,
          -0.11197673777175877,
          null,
          -0.1259254308306423,
          -0.009602169246078422,
          null,
          -0.1259254308306423,
          -0.061689910622672,
          null,
          -0.1259254308306423,
          0.08924859293346395,
          null,
          -0.1259254308306423,
          -0.08827812978618589,
          null,
          -0.1259254308306423,
          -0.037030177271430376,
          null,
          -0.1259254308306423,
          -0.11197673777175877,
          null,
          -0.039836815772223276,
          -0.009602169246078422,
          null,
          -0.039836815772223276,
          -0.061689910622672,
          null,
          -0.039836815772223276,
          0.08924859293346395,
          null,
          -0.039836815772223276,
          -0.08827812978618589,
          null,
          -0.039836815772223276,
          -0.037030177271430376,
          null,
          0.08924859293346395,
          -0.009602169246078422,
          null,
          0.08924859293346395,
          -0.039836815772223276,
          null,
          -0.08827812978618589,
          -0.009602169246078422,
          null,
          -0.08827812978618589,
          -0.061689910622672,
          null,
          -0.08827812978618589,
          0.08924859293346395,
          null,
          -0.08827812978618589,
          -0.037030177271430376,
          null,
          -0.08827812978618589,
          -0.11197673777175877,
          null,
          -0.037030177271430376,
          -0.009602169246078422,
          null,
          -0.037030177271430376,
          0.042747100790004364,
          null,
          -0.037030177271430376,
          -0.061689910622672,
          null,
          -0.037030177271430376,
          -0.039836815772223276,
          null,
          -0.037030177271430376,
          0.08924859293346395,
          null,
          -0.037030177271430376,
          -0.08827812978618589,
          null,
          0.08716694386295114,
          -0.009602169246078422,
          null,
          0.08716694386295114,
          0.040336469741919546,
          null,
          0.08716694386295114,
          0.042747100790004364,
          null,
          0.08716694386295114,
          0.08924859293346395,
          null,
          0.08716694386295114,
          -0.08827812978618589,
          null,
          0.08716694386295114,
          -0.037030177271430376,
          null,
          -0.11197673777175877,
          -0.009602169246078422,
          null,
          -0.11197673777175877,
          -0.061689910622672,
          null,
          -0.11197673777175877,
          0.08924859293346395,
          null,
          -0.11197673777175877,
          -0.08827812978618589,
          null,
          -0.11197673777175877,
          -0.037030177271430376,
          null,
          -0.6838441523604274,
          -0.8404331175155062,
          null,
          -0.42308048375972107,
          -0.8404331175155062,
          null,
          0.386131731817043,
          0.2883577308886441,
          null,
          0.2883577308886441,
          0.386131731817043,
          null,
          0.2242569061095548,
          -0.13853303024483737,
          null,
          0.010319513832738318,
          0.2360192090274019,
          null,
          0.2360192090274019,
          0.010319513832738318,
          null,
          0.1069466563626957,
          0.4195960636652194,
          null,
          0.4195960636652194,
          0.1069466563626957,
          null,
          0.9307523781914127,
          0.4731297194816355,
          null,
          0.9307523781914127,
          0.711871033732516,
          null,
          0.4731297194816355,
          0.9307523781914127,
          null,
          0.4731297194816355,
          0.576797379290802,
          null,
          0.4731297194816355,
          0.711871033732516,
          null,
          0.576797379290802,
          0.4731297194816355,
          null,
          0.576797379290802,
          0.9307523781914127,
          null,
          0.576797379290802,
          0.711871033732516,
          null,
          0.711871033732516,
          0.4731297194816355,
          null,
          0.711871033732516,
          0.9307523781914127,
          null,
          0.6800905716290818,
          0.7671771830324793,
          null,
          0.6800905716290818,
          0.5504829063098599,
          null,
          0.7671771830324793,
          0.6800905716290818,
          null,
          0.7671771830324793,
          0.5504829063098599,
          null,
          0.5504829063098599,
          0.7671771830324793,
          null,
          0.5504829063098599,
          0.6800905716290818,
          null,
          -0.2539195079101912,
          -0.7269595259605378,
          null,
          -0.2539195079101912,
          0.2439725309265885,
          null,
          -0.7709662383271926,
          -0.9648216626508865,
          null,
          0.8307646501069001,
          0.3431857640949101,
          null,
          0.3431857640949101,
          0.8307646501069001,
          null,
          0.2439725309265885,
          -0.2539195079101912,
          null,
          0.25428245008871075,
          -0.21546668334580563,
          null,
          0.25428245008871075,
          0.3425810644184567,
          null,
          -0.21546668334580563,
          0.25428245008871075,
          null,
          0.3425810644184567,
          0.25428245008871075,
          null,
          0.9004838016138171,
          0.8725174765526934,
          null,
          0.8725174765526934,
          0.9004838016138171,
          null,
          -0.8253295605172888,
          -0.8288429568106913,
          null,
          -0.9174160858128968,
          -0.8288429568106913,
          null,
          -0.7397738284356132,
          -0.24925598075843988,
          null,
          -0.24925598075843988,
          -0.7397738284356132,
          null,
          0.6847778031846261,
          0.12183944306023198,
          null,
          0.6847778031846261,
          0.9330727430134895,
          null,
          0.9330727430134895,
          0.6847778031846261,
          null,
          -0.6377906252805399,
          -0.7781589309130519,
          null,
          -0.7781589309130519,
          -0.6377906252805399,
          null,
          -0.722904684585613,
          -0.8152010659842147,
          null,
          -0.8152010659842147,
          -0.722904684585613,
          null,
          0.14163163631525222,
          -0.0792372175188559,
          null,
          0.6586484431772545,
          0.7119365795103013,
          null,
          0.6586484431772545,
          0.44371215161922106,
          null,
          0.7119365795103013,
          0.44371215161922106,
          null,
          0.44371215161922106,
          0.7119365795103013,
          null,
          0.6252763393184425,
          0.7334522145268177,
          null,
          0.6252763393184425,
          0.6999930446891995,
          null,
          0.7334522145268177,
          0.6252763393184425,
          null,
          0.7334522145268177,
          0.6999930446891995,
          null,
          0.6999930446891995,
          0.6252763393184425,
          null,
          0.6999930446891995,
          0.7334522145268177,
          null,
          0.27722762083584207,
          0.23887712574846376,
          null,
          0.06505587694679228,
          0.38171140935624054,
          null,
          0.7222018300831153,
          0.48009503840635337,
          null,
          -0.5112386021422889,
          -0.6477651098804271,
          null,
          -0.32103668705067356,
          -0.5904633430813048,
          null,
          -0.13873648595155114,
          -0.5464452646140897,
          null,
          -0.13873648595155114,
          -0.7575590322235083,
          null,
          -0.17468485048565044,
          -0.6477651098804271,
          null,
          -0.4673521172198581,
          -0.5904633430813048,
          null,
          -0.028879307274662057,
          -0.21080286189513633,
          null,
          -0.3866926944624009,
          -0.08208814640555606,
          null,
          -0.01613820744184368,
          -0.332449977332606,
          null,
          -0.24265133246559387,
          -0.061689910622672,
          null,
          -0.24265133246559387,
          0.08924859293346395,
          null,
          -0.23161123155470395,
          -0.009602169246078422,
          null,
          -0.23161123155470395,
          0.08924859293346395,
          null,
          -0.20038064759836477,
          -0.039836815772223276,
          null,
          -0.20038064759836477,
          0.08924859293346395,
          null,
          -0.08861004711426212,
          -0.061689910622672,
          null,
          -0.08861004711426212,
          -0.039836815772223276,
          null,
          -0.08861004711426212,
          -0.08827812978618589,
          null,
          -0.08861004711426212,
          -0.037030177271430376,
          null,
          0.30141350065828565,
          -0.009602169246078422,
          null,
          0.30141350065828565,
          -0.039836815772223276,
          null,
          0.1123030386727096,
          -0.009602169246078422,
          null,
          0.1123030386727096,
          -0.061689910622672,
          null,
          0.1123030386727096,
          -0.037030177271430376,
          null,
          -0.4401218605848546,
          -0.009602169246078422,
          null,
          0.1135567104179234,
          0.08924859293346395,
          null,
          0.4014177913499914,
          -0.009602169246078422,
          null,
          0.4014177913499914,
          -0.039836815772223276,
          null,
          -0.14692255790792846,
          0.08924859293346395,
          null,
          0.569385221327776,
          0.08924859293346395,
          null
         ]
        },
        {
         "hoverinfo": "text",
         "marker": {
          "colorbar": {
           "thickness": 15,
           "title": {
            "side": "right",
            "text": "Node Connections"
           },
           "xanchor": "left"
          },
          "colorscale": [
           [
            0,
            "rgb(255,255,217)"
           ],
           [
            0.125,
            "rgb(237,248,177)"
           ],
           [
            0.25,
            "rgb(199,233,180)"
           ],
           [
            0.375,
            "rgb(127,205,187)"
           ],
           [
            0.5,
            "rgb(65,182,196)"
           ],
           [
            0.625,
            "rgb(29,145,192)"
           ],
           [
            0.75,
            "rgb(34,94,168)"
           ],
           [
            0.875,
            "rgb(37,52,148)"
           ],
           [
            1,
            "rgb(8,29,88)"
           ]
          ],
          "showscale": true,
          "size": 10
         },
         "mode": "markers",
         "text": [
          "('72 SWEETHEART FAIRY CAKE CASES',)",
          "('60 TEATIME FAIRY CAKE CASES',)",
          "('PACK OF 60 DINOSAUR CAKE CASES',)",
          "('PACK OF 60 PINK PAISLEY CAKE CASES',)",
          "('PACK OF 72 RETROSPOT CAKE CASES',)",
          "('ALARM CLOCK BAKELIKE CHOCOLATE',)",
          "('ALARM CLOCK BAKELIKE GREEN',)",
          "('ALARM CLOCK BAKELIKE RED',)",
          "('ALARM CLOCK BAKELIKE IVORY',)",
          "('ALARM CLOCK BAKELIKE ORANGE',)",
          "('ALARM CLOCK BAKELIKE PINK',)",
          "('PAINTED METAL PEARS ASSORTED',)",
          "('ASSORTED COLOUR BIRD ORNAMENT',)",
          "('KEY FOB ',)",
          "('BACK DOOR',)",
          "('BAKING SET SPACEBOY DESIGN',)",
          "('BAKING SET 9 PIECE RETROSPOT',)",
          "('TOILET METAL SIGN',)",
          "('BATHROOM METAL SIGN',)",
          "('PINK HAPPY BIRTHDAY BUNTING',)",
          "('BLUE HAPPY BIRTHDAY BUNTING',)",
          "('RED  HARMONICA IN BOX',)",
          "('BLUE HARMONICA IN BOX',)",
          "('RED STRIPE CERAMIC DRAWER KNOB',)",
          "('BLUE STRIPE CERAMIC DRAWER KNOB',)",
          "('CANDLEHOLDER PINK HANGING HEART',)",
          "('WHITE HANGING HEART T-LIGHT HOLDER',)",
          "('CHARLOTTE BAG APPLES DESIGN',)",
          "('RED RETROSPOT CHARLOTTE BAG',)",
          "('CHARLOTTE BAG PINK POLKADOT',)",
          "('CHARLOTTE BAG SUKI DESIGN',)",
          "('STRAWBERRY CHARLOTTE BAG',)",
          "('WOODLAND CHARLOTTE BAG',)",
          "('CHILDRENS CUTLERY DOLLY GIRL',)",
          "('CHILDRENS CUTLERY SPACEBOY',)",
          "('CHOCOLATE HOT WATER BOTTLE',)",
          "('HOT WATER BOTTLE I AM SO POORLY',)",
          "('HOT WATER BOTTLE TEA AND SYMPATHY',)",
          "('RETROSPOT HEART HOT WATER BOTTLE',)",
          "('SCOTTIE DOG HOT WATER BOTTLE',)",
          "('CHRISTMAS CRAFT TREE TOP ANGEL',)",
          "('CHRISTMAS CRAFT LITTLE FRIENDS',)",
          "('CHRISTMAS CRAFT WHITE FAIRY',)",
          "('GIN + TONIC DIET METAL SIGN',)",
          "('COOK WITH WINE METAL SIGN',)",
          "('HAND OVER THE CHOCOLATE   SIGN',)",
          "('PLEASE ONE PERSON METAL SIGN',)",
          "('SPACEBOY LUNCH BOX',)",
          "('DOLLY GIRL LUNCH BOX',)",
          "('FELTCRAFT PRINCESS LOLA DOLL',)",
          "('FELTCRAFT PRINCESS CHARLOTTE DOLL',)",
          "('FRONT  DOOR',)",
          "('GARDENERS KNEELING PAD KEEP CALM',)",
          "('GARDENERS KNEELING PAD CUP OF TEA',)",
          "('PINK REGENCY TEACUP AND SAUCER',)",
          "('GREEN REGENCY TEACUP AND SAUCER',)",
          "('REGENCY CAKESTAND 3 TIER',)",
          "('ROSES REGENCY TEACUP AND SAUCER',)",
          "('HAND WARMER OWL DESIGN',)",
          "('HAND WARMER BIRD DESIGN',)",
          "('HAND WARMER SCOTTY DOG DESIGN',)",
          "('HAND WARMER RED LOVE HEART',)",
          "('HAND WARMER RED RETROSPOT',)",
          "('HAND WARMER UNION JACK',)",
          "('HEART OF WICKER LARGE',)",
          "('HEART OF WICKER SMALL',)",
          "('LOVE BUILDING BLOCK WORD',)",
          "('HOME BUILDING BLOCK WORD',)",
          "('HOT WATER BOTTLE KEEP CALM',)",
          "('LOVE HOT WATER BOTTLE',)",
          "('IVORY DINER WALL CLOCK',)",
          "('RED DINER WALL CLOCK',)",
          "('RED KITCHEN SCALES',)",
          "('IVORY KITCHEN SCALES',)",
          "('JUMBO  BAG BAROQUE BLACK WHITE',)",
          "('JUMBO BAG PINK POLKADOT',)",
          "('JUMBO BAG RED RETROSPOT',)",
          "('JUMBO STORAGE BAG SUKI',)",
          "('JUMBO BAG VINTAGE CHRISTMAS',)",
          "(\"JUMBO BAG 50'S CHRISTMAS\",)",
          "('JUMBO BAG APPLES',)",
          "('JUMBO BAG ALPHABET',)",
          "('JUMBO BAG PEARS',)",
          "('JUMBO BAG VINTAGE LEAF',)",
          "('LUNCH BAG APPLE DESIGN',)",
          "('JUMBO BAG DOILEY PATTERNS',)",
          "('LUNCH BAG DOILEY PATTERN',)",
          "('JUMBO BAG OWLS',)",
          "('JUMBO BAG PINK VINTAGE PAISLEY',)",
          "('JUMBO BAG STRAWBERRY',)",
          "('JUMBO BAG WOODLAND ANIMALS',)",
          "('JUMBO STORAGE BAG SKULLS',)",
          "('JUMBO BAG SCANDINAVIAN BLUE PAISLEY',)",
          "('JUMBO SHOPPER VINTAGE RED PAISLEY',)",
          "('JUMBO BAG SPACEBOY DESIGN',)",
          "('JUMBO BAG VINTAGE DOILY',)",
          "('LUNCH BAG VINTAGE DOILY',)",
          "('SHED',)",
          "('SMALL WHITE HEART OF WICKER',)",
          "('LARGE WHITE HEART OF WICKER',)",
          "('LUNCH BAG ALPHABET DESIGN',)",
          "('LUNCH BAG  BLACK SKULL.',)",
          "('LUNCH BAG CARS BLUE',)",
          "('LUNCH BAG DOLLY GIRL DESIGN',)",
          "('LUNCH BAG PINK POLKADOT',)",
          "('LUNCH BAG RED RETROSPOT',)",
          "('LUNCH BAG SPACEBOY DESIGN',)",
          "('LUNCH BAG SUKI DESIGN',)",
          "('LUNCH BAG VINTAGE LEAF DESIGN',)",
          "('LUNCH BAG WOODLAND',)",
          "('PACK OF 60 SPACEBOY CAKE CASES',)",
          "('PACK OF 72 SKULL CAKE CASES',)",
          "(\"PAPER CHAIN KIT 50'S CHRISTMAS\",)",
          "('PAPER CHAIN KIT VINTAGE CHRISTMAS',)",
          "('SPOTTY BUNTING',)",
          "('PARTY BUNTING',)",
          "('PINK BLUE FELT CRAFT TRINKET BOX',)",
          "('PINK CREAM FELT CRAFT TRINKET BOX',)",
          "('SCANDINAVIAN PAISLEY PICNIC BAG',)",
          "('PINK VINTAGE PAISLEY PICNIC BAG',)",
          "('PLASTERS IN TIN SPACEBOY',)",
          "('PLASTERS IN TIN CIRCUS PARADE',)",
          "('PLASTERS IN TIN STRONGMAN',)",
          "('PLASTERS IN TIN WOODLAND ANIMALS',)",
          "(\"POPPY'S PLAYHOUSE KITCHEN\",)",
          "(\"POPPY'S PLAYHOUSE BEDROOM\",)",
          "(\"POPPY'S PLAYHOUSE LIVINGROOM\",)",
          "('ROUND SNACK BOXES SET OF4 WOODLAND',)",
          "('POSTAGE',)",
          "('RED HANGING HEART T-LIGHT HOLDER',)",
          "('REGENCY TEA PLATE GREEN',)",
          "('REGENCY TEA PLATE ROSES',)",
          "('ROUND SNACK BOXES SET OF 4 FRUITS',)",
          "('SET OF 12 FAIRY CAKE BAKING CASES',)",
          "('SET OF 12 MINI LOAF BAKING CASES',)",
          "('SET OF 6 TEA TIME BAKING CASES',)",
          "('SET OF 3 HEART COOKIE CUTTERS',)",
          "('SET OF 3 BUTTERFLY COOKIE CUTTERS',)",
          "('SET OF 6 SPICE TINS PANTRY DESIGN',)",
          "('SET OF 3 CAKE TINS PANTRY DESIGN',)",
          "('SET OF TEA COFFEE SUGAR TINS PANTRY',)",
          "('SET/10 BLUE POLKADOT PARTY CANDLES',)",
          "('SET/10 PINK POLKADOT PARTY CANDLES',)",
          "('SET/6 RED SPOTTY PAPER PLATES',)",
          "('SET/20 RED RETROSPOT PAPER NAPKINS',)",
          "('SET/6 RED SPOTTY PAPER CUPS',)",
          "('SMALL DOLLY MIX DESIGN ORANGE BOWL',)",
          "('SMALL MARSHMALLOWS PINK BOWL',)",
          "('SWEETHEART CERAMIC TRINKET BOX',)",
          "('STRAWBERRY CERAMIC TRINKET BOX',)",
          "('VINTAGE HEADS AND TAILS CARD GAME',)",
          "('VINTAGE SNAP CARDS',)",
          "('WOOD 2 DRAWER CABINET WHITE FINISH',)",
          "('WOODEN FRAME ANTIQUE WHITE',)",
          "('WOODEN PICTURE FRAME WHITE FINISH',)",
          "('WOODEN HEART CHRISTMAS SCANDINAVIAN',)",
          "('WOODEN STAR CHRISTMAS SCANDINAVIAN',)",
          "('WOODEN TREE CHRISTMAS SCANDINAVIAN',)",
          "('ALARM CLOCK BAKELIKE GREEN', 'ALARM CLOCK BAKELIKE RED')",
          "('ALARM CLOCK BAKELIKE GREEN', 'ALARM CLOCK BAKELIKE PINK')",
          "('ALARM CLOCK BAKELIKE RED', 'ALARM CLOCK BAKELIKE PINK')",
          "('PINK REGENCY TEACUP AND SAUCER', 'GREEN REGENCY TEACUP AND SAUCER')",
          "('PINK REGENCY TEACUP AND SAUCER', 'ROSES REGENCY TEACUP AND SAUCER')",
          "('GREEN REGENCY TEACUP AND SAUCER', 'ROSES REGENCY TEACUP AND SAUCER')",
          "('REGENCY CAKESTAND 3 TIER', 'GREEN REGENCY TEACUP AND SAUCER')",
          "('REGENCY CAKESTAND 3 TIER', 'ROSES REGENCY TEACUP AND SAUCER')",
          "('JUMBO BAG STRAWBERRY', 'JUMBO BAG RED RETROSPOT')",
          "('JUMBO BAG STRAWBERRY', 'JUMBO BAG PINK POLKADOT')",
          "('JUMBO BAG RED RETROSPOT', 'JUMBO BAG PINK POLKADOT')",
          "('LUNCH BAG PINK POLKADOT', 'LUNCH BAG  BLACK SKULL.')",
          "('LUNCH BAG PINK POLKADOT', 'LUNCH BAG CARS BLUE')",
          "('LUNCH BAG  BLACK SKULL.', 'LUNCH BAG CARS BLUE')",
          "('LUNCH BAG RED RETROSPOT', 'LUNCH BAG  BLACK SKULL.')",
          "('LUNCH BAG RED RETROSPOT', 'LUNCH BAG CARS BLUE')",
          "('LUNCH BAG RED RETROSPOT', 'LUNCH BAG PINK POLKADOT')",
          "('LUNCH BAG RED RETROSPOT', 'LUNCH BAG SPACEBOY DESIGN')",
          "('LUNCH BAG  BLACK SKULL.', 'LUNCH BAG SPACEBOY DESIGN')",
          "('LUNCH BAG SUKI DESIGN', 'LUNCH BAG RED RETROSPOT')",
          "('LUNCH BAG SUKI DESIGN', 'LUNCH BAG  BLACK SKULL.')",
          "('LUNCH BAG SUKI DESIGN', 'LUNCH BAG PINK POLKADOT')"
         ],
         "type": "scatter",
         "x": [
          0.05828074701094161,
          0.25509350981915935,
          0.29992121619335993,
          0.5425585021328445,
          0.5024007360575465,
          0.4381036089646517,
          0.7787384618951348,
          0.8851015703483772,
          0.7484777253408404,
          0.609063460278658,
          0.6076868045798135,
          0.4038676440249491,
          0.8390880809971183,
          0.13796025710528448,
          0.23081602568047851,
          0.5671315193441596,
          0.8203307673421898,
          0.49256093627888464,
          0.2532144149941674,
          -0.7572690000263624,
          -0.8470682193321774,
          0.7755673652258905,
          0.9513627978227999,
          0.9542238405075586,
          0.8596560634528828,
          -0.1537433490613345,
          0.18769509387587746,
          -0.6083603080313897,
          -0.21634487915561015,
          0.048498974891632,
          0.13300777968971964,
          0.08285780099474409,
          0.22494994605645266,
          0.8890282632538432,
          0.6900887042176458,
          -0.5093880378551224,
          -0.7105910411952702,
          -0.5618997800414155,
          -0.25077302836750975,
          -0.9423087058552119,
          -0.7002990598496092,
          -0.34744563492411307,
          0.02920226117301008,
          0.149764849099267,
          0.18043032409757284,
          0.1133536142393194,
          0.12953141372426,
          -0.06381854648730469,
          -0.23777282755557758,
          -0.9269020225165261,
          -0.938325478846801,
          -0.19157146330618724,
          0.3014741798747419,
          0.30497242942118435,
          -0.5090279759411953,
          -0.28796928517033865,
          -0.7258329030580197,
          -0.3291125967662966,
          0.08000264311908935,
          -0.08853694771517483,
          0.06841331676688103,
          0.3104069011468328,
          -0.4240397646472184,
          0.22820378201784505,
          -0.09838997532413037,
          -0.25179462441495876,
          -0.6544052511640325,
          -0.44498970326752013,
          -0.9999999999999999,
          -0.7130440678510879,
          0.7450114380093061,
          0.30772755265533963,
          0.7252259163400991,
          0.5488825117280515,
          -0.6032731129562042,
          -0.9858164661814843,
          -0.8782928048349231,
          -0.8246318988412797,
          0.8309994464545128,
          0.640843976393595,
          -0.33407692113554843,
          -0.516696390871352,
          -0.5077435808925668,
          -0.5924353172871726,
          0.40620811993365685,
          -0.33103445030643047,
          -0.7212448398203188,
          -0.0986861220713571,
          -0.7126664207062108,
          -0.6702414323732796,
          -0.8490658515952276,
          -0.3822297409077885,
          -0.7323328528763403,
          -0.5577051603805437,
          -0.9368552664708977,
          -0.37076886891927513,
          0.27123372572189014,
          0.42557637790337394,
          -0.9321952887279654,
          -0.6915828924005368,
          0.6546451226351405,
          0.688245758523707,
          0.5931975073956183,
          0.5275542684650046,
          0.770694689291741,
          0.6212955358849239,
          0.7822839592091256,
          0.6474021962510882,
          0.7207185358384934,
          0.6842145850835495,
          -0.07556658020950344,
          -0.10209181120164579,
          -0.927325356515432,
          -0.8616526551142109,
          0.5536482527468838,
          0.9786671460381265,
          -0.8407171178277681,
          -0.6366074384182598,
          -0.5603912180361278,
          -0.5595488597359507,
          -0.10414400271237638,
          -0.07414042379412142,
          -0.2007216963738326,
          -0.07681908491492237,
          0.25913473855602165,
          0.03292794774070466,
          0.09886261031761025,
          -0.9099596280171087,
          -0.5801264047127184,
          0.2765787786957649,
          0.2579638056781949,
          0.06807407932079897,
          -0.920331126417761,
          0.7523346059242099,
          0.9575086477357325,
          0.21964886530360464,
          -0.39261687846055493,
          -0.08596209626974818,
          0.5736779028917136,
          0.3553388707207271,
          -0.17286223423528296,
          -0.26368849215815865,
          -0.13382836727603067,
          -0.7251384237852597,
          -0.9346328064777577,
          -0.3486803571790646,
          -0.681202978624102,
          -0.4852631195943395,
          0.487011247540278,
          0.6817593198625712,
          0.40183241431121286,
          0.9382393338672352,
          -0.1785927200578629,
          -0.5453250876058776,
          -0.3798593588281751,
          -0.6097701320189913,
          -0.48318911416005283,
          -0.6652944096001652,
          0.8932669467361973,
          0.8883533117564819,
          0.6318707260210819,
          0.15960463588683857,
          0.2544804157853406,
          -0.5613889275338703,
          -0.4328306476483714,
          -0.7107491278451,
          -0.0923947630271778,
          -0.19980646750727563,
          -0.618740059369674,
          0.2598804804717052,
          0.8041802576078487,
          0.31465909428097494,
          0.5206933518492692,
          0.7256008525052757,
          0.8608482404141753,
          0.2513078667612117,
          -0.05685068227334303,
          0.8427080869473604,
          0.05986527129384014,
          0.7938331514773521
         ],
         "y": [
          -0.5277705155356165,
          -0.33299644375132226,
          -0.2841197785186737,
          -0.6223076589958387,
          -0.8404331175155062,
          0.49348981673652836,
          0.48009503840635337,
          0.38171140935624054,
          0.24332577577317216,
          0.666671426409363,
          0.23887712574846376,
          -0.06845269987045778,
          0.39261752285593965,
          0.7328299572172259,
          0.9049153721374176,
          0.1495777654545964,
          -0.4494278643728226,
          -0.6219208569221851,
          -0.7977324003571676,
          0.7296329852677393,
          0.6001206528698163,
          -0.41334063389966497,
          -0.062270810998843455,
          -0.19987219515093244,
          0.023937674698599597,
          -0.8990282612979729,
          -0.9648216626508865,
          0.4189656747936064,
          0.4026369758053377,
          0.6961092703479771,
          0.5025883849463727,
          0.6280535792801673,
          0.55224763074614,
          0.1137355038616389,
          0.4677451283547376,
          0.15034253216996038,
          0.1248192164469541,
          0.23166425328371618,
          -0.18818553745284286,
          0.07749773777344071,
          0.6361305673106051,
          0.8429469578823404,
          0.9586012870537391,
          -0.02708994543981453,
          -0.47484715657017423,
          -0.40650721881335405,
          -0.9292867993161404,
          0.8117683326061431,
          0.8292806528448281,
          0.13761125560646728,
          -0.2570840718303953,
          0.9575158787306072,
          0.5479602105324185,
          0.760065533552555,
          -0.5464452646140897,
          -0.5904633430813048,
          -0.7575590322235083,
          -0.6477651098804271,
          -0.6741409295262046,
          -0.422595110887363,
          -0.7812848028469666,
          -0.7423173932293063,
          -0.29155533535329914,
          -0.9793523854663784,
          -0.8636506684400306,
          -0.4905519271645113,
          -0.5935708384278816,
          -0.8115616695680715,
          -0.049124027874374816,
          0.4246036845759757,
          -0.029867207326015863,
          -0.12466739817660269,
          -0.1703191065876968,
          0.12924017294410647,
          -0.06385540862984669,
          -0.21080286189513633,
          -0.08208814640555606,
          0.1376617718549599,
          -0.42317632281877543,
          -0.6576219770350252,
          -0.060619163020321366,
          -0.40752706502066177,
          -0.17308221687140146,
          0.11226818685136193,
          0.042747100790004364,
          -0.16396731067516035,
          -0.5165445876554078,
          0.13620520816656156,
          -0.3514651027674753,
          -0.332449977332606,
          -0.4263758544221002,
          -0.11310779644139785,
          -0.3057936066254846,
          -0.3558654016298398,
          -0.4424902514341417,
          0.15055191800624187,
          0.09400363645684173,
          0.7399537674591591,
          0.2055753949412041,
          -0.04507385562986057,
          0.040336469741919546,
          -0.009602169246078422,
          -0.061689910622672,
          -0.1259254308306423,
          -0.039836815772223276,
          0.08924859293346395,
          -0.08827812978618589,
          -0.037030177271430376,
          0.08716694386295114,
          -0.11197673777175877,
          -0.6838441523604274,
          -0.42308048375972107,
          0.386131731817043,
          0.2883577308886441,
          0.2242569061095548,
          -0.13853303024483737,
          0.010319513832738318,
          0.2360192090274019,
          0.1069466563626957,
          0.4195960636652194,
          0.9307523781914127,
          0.4731297194816355,
          0.576797379290802,
          0.711871033732516,
          0.6800905716290818,
          0.7671771830324793,
          0.5504829063098599,
          -0.2539195079101912,
          -0.7269595259605378,
          -0.7709662383271926,
          0.8307646501069001,
          0.3431857640949101,
          0.2439725309265885,
          0.25428245008871075,
          -0.21546668334580563,
          0.3425810644184567,
          0.9004838016138171,
          0.8725174765526934,
          -0.8253295605172888,
          -0.8288429568106913,
          -0.9174160858128968,
          -0.7397738284356132,
          -0.24925598075843988,
          0.6847778031846261,
          0.12183944306023198,
          0.9330727430134895,
          -0.6377906252805399,
          -0.7781589309130519,
          -0.722904684585613,
          -0.8152010659842147,
          0.14163163631525222,
          -0.0792372175188559,
          0.6586484431772545,
          0.7119365795103013,
          0.44371215161922106,
          0.6252763393184425,
          0.7334522145268177,
          0.6999930446891995,
          0.27722762083584207,
          0.06505587694679228,
          0.7222018300831153,
          -0.5112386021422889,
          -0.32103668705067356,
          -0.13873648595155114,
          -0.17468485048565044,
          -0.4673521172198581,
          -0.028879307274662057,
          -0.3866926944624009,
          -0.01613820744184368,
          -0.24265133246559387,
          -0.23161123155470395,
          -0.20038064759836477,
          -0.08861004711426212,
          0.30141350065828565,
          0.1123030386727096,
          -0.4401218605848546,
          0.1135567104179234,
          0.4014177913499914,
          -0.14692255790792846,
          0.569385221327776
         ]
        }
       ],
       "layout": {
        "hovermode": "closest",
        "margin": {
         "b": 0,
         "l": 0,
         "r": 0,
         "t": 0
        },
        "showlegend": false,
        "template": {
         "data": {
          "bar": [
           {
            "error_x": {
             "color": "#2a3f5f"
            },
            "error_y": {
             "color": "#2a3f5f"
            },
            "marker": {
             "line": {
              "color": "#E5ECF6",
              "width": 0.5
             },
             "pattern": {
              "fillmode": "overlay",
              "size": 10,
              "solidity": 0.2
             }
            },
            "type": "bar"
           }
          ],
          "barpolar": [
           {
            "marker": {
             "line": {
              "color": "#E5ECF6",
              "width": 0.5
             },
             "pattern": {
              "fillmode": "overlay",
              "size": 10,
              "solidity": 0.2
             }
            },
            "type": "barpolar"
           }
          ],
          "carpet": [
           {
            "aaxis": {
             "endlinecolor": "#2a3f5f",
             "gridcolor": "white",
             "linecolor": "white",
             "minorgridcolor": "white",
             "startlinecolor": "#2a3f5f"
            },
            "baxis": {
             "endlinecolor": "#2a3f5f",
             "gridcolor": "white",
             "linecolor": "white",
             "minorgridcolor": "white",
             "startlinecolor": "#2a3f5f"
            },
            "type": "carpet"
           }
          ],
          "choropleth": [
           {
            "colorbar": {
             "outlinewidth": 0,
             "ticks": ""
            },
            "type": "choropleth"
           }
          ],
          "contour": [
           {
            "colorbar": {
             "outlinewidth": 0,
             "ticks": ""
            },
            "colorscale": [
             [
              0,
              "#0d0887"
             ],
             [
              0.1111111111111111,
              "#46039f"
             ],
             [
              0.2222222222222222,
              "#7201a8"
             ],
             [
              0.3333333333333333,
              "#9c179e"
             ],
             [
              0.4444444444444444,
              "#bd3786"
             ],
             [
              0.5555555555555556,
              "#d8576b"
             ],
             [
              0.6666666666666666,
              "#ed7953"
             ],
             [
              0.7777777777777778,
              "#fb9f3a"
             ],
             [
              0.8888888888888888,
              "#fdca26"
             ],
             [
              1,
              "#f0f921"
             ]
            ],
            "type": "contour"
           }
          ],
          "contourcarpet": [
           {
            "colorbar": {
             "outlinewidth": 0,
             "ticks": ""
            },
            "type": "contourcarpet"
           }
          ],
          "heatmap": [
           {
            "colorbar": {
             "outlinewidth": 0,
             "ticks": ""
            },
            "colorscale": [
             [
              0,
              "#0d0887"
             ],
             [
              0.1111111111111111,
              "#46039f"
             ],
             [
              0.2222222222222222,
              "#7201a8"
             ],
             [
              0.3333333333333333,
              "#9c179e"
             ],
             [
              0.4444444444444444,
              "#bd3786"
             ],
             [
              0.5555555555555556,
              "#d8576b"
             ],
             [
              0.6666666666666666,
              "#ed7953"
             ],
             [
              0.7777777777777778,
              "#fb9f3a"
             ],
             [
              0.8888888888888888,
              "#fdca26"
             ],
             [
              1,
              "#f0f921"
             ]
            ],
            "type": "heatmap"
           }
          ],
          "heatmapgl": [
           {
            "colorbar": {
             "outlinewidth": 0,
             "ticks": ""
            },
            "colorscale": [
             [
              0,
              "#0d0887"
             ],
             [
              0.1111111111111111,
              "#46039f"
             ],
             [
              0.2222222222222222,
              "#7201a8"
             ],
             [
              0.3333333333333333,
              "#9c179e"
             ],
             [
              0.4444444444444444,
              "#bd3786"
             ],
             [
              0.5555555555555556,
              "#d8576b"
             ],
             [
              0.6666666666666666,
              "#ed7953"
             ],
             [
              0.7777777777777778,
              "#fb9f3a"
             ],
             [
              0.8888888888888888,
              "#fdca26"
             ],
             [
              1,
              "#f0f921"
             ]
            ],
            "type": "heatmapgl"
           }
          ],
          "histogram": [
           {
            "marker": {
             "pattern": {
              "fillmode": "overlay",
              "size": 10,
              "solidity": 0.2
             }
            },
            "type": "histogram"
           }
          ],
          "histogram2d": [
           {
            "colorbar": {
             "outlinewidth": 0,
             "ticks": ""
            },
            "colorscale": [
             [
              0,
              "#0d0887"
             ],
             [
              0.1111111111111111,
              "#46039f"
             ],
             [
              0.2222222222222222,
              "#7201a8"
             ],
             [
              0.3333333333333333,
              "#9c179e"
             ],
             [
              0.4444444444444444,
              "#bd3786"
             ],
             [
              0.5555555555555556,
              "#d8576b"
             ],
             [
              0.6666666666666666,
              "#ed7953"
             ],
             [
              0.7777777777777778,
              "#fb9f3a"
             ],
             [
              0.8888888888888888,
              "#fdca26"
             ],
             [
              1,
              "#f0f921"
             ]
            ],
            "type": "histogram2d"
           }
          ],
          "histogram2dcontour": [
           {
            "colorbar": {
             "outlinewidth": 0,
             "ticks": ""
            },
            "colorscale": [
             [
              0,
              "#0d0887"
             ],
             [
              0.1111111111111111,
              "#46039f"
             ],
             [
              0.2222222222222222,
              "#7201a8"
             ],
             [
              0.3333333333333333,
              "#9c179e"
             ],
             [
              0.4444444444444444,
              "#bd3786"
             ],
             [
              0.5555555555555556,
              "#d8576b"
             ],
             [
              0.6666666666666666,
              "#ed7953"
             ],
             [
              0.7777777777777778,
              "#fb9f3a"
             ],
             [
              0.8888888888888888,
              "#fdca26"
             ],
             [
              1,
              "#f0f921"
             ]
            ],
            "type": "histogram2dcontour"
           }
          ],
          "mesh3d": [
           {
            "colorbar": {
             "outlinewidth": 0,
             "ticks": ""
            },
            "type": "mesh3d"
           }
          ],
          "parcoords": [
           {
            "line": {
             "colorbar": {
              "outlinewidth": 0,
              "ticks": ""
             }
            },
            "type": "parcoords"
           }
          ],
          "pie": [
           {
            "automargin": true,
            "type": "pie"
           }
          ],
          "scatter": [
           {
            "fillpattern": {
             "fillmode": "overlay",
             "size": 10,
             "solidity": 0.2
            },
            "type": "scatter"
           }
          ],
          "scatter3d": [
           {
            "line": {
             "colorbar": {
              "outlinewidth": 0,
              "ticks": ""
             }
            },
            "marker": {
             "colorbar": {
              "outlinewidth": 0,
              "ticks": ""
             }
            },
            "type": "scatter3d"
           }
          ],
          "scattercarpet": [
           {
            "marker": {
             "colorbar": {
              "outlinewidth": 0,
              "ticks": ""
             }
            },
            "type": "scattercarpet"
           }
          ],
          "scattergeo": [
           {
            "marker": {
             "colorbar": {
              "outlinewidth": 0,
              "ticks": ""
             }
            },
            "type": "scattergeo"
           }
          ],
          "scattergl": [
           {
            "marker": {
             "colorbar": {
              "outlinewidth": 0,
              "ticks": ""
             }
            },
            "type": "scattergl"
           }
          ],
          "scattermapbox": [
           {
            "marker": {
             "colorbar": {
              "outlinewidth": 0,
              "ticks": ""
             }
            },
            "type": "scattermapbox"
           }
          ],
          "scatterpolar": [
           {
            "marker": {
             "colorbar": {
              "outlinewidth": 0,
              "ticks": ""
             }
            },
            "type": "scatterpolar"
           }
          ],
          "scatterpolargl": [
           {
            "marker": {
             "colorbar": {
              "outlinewidth": 0,
              "ticks": ""
             }
            },
            "type": "scatterpolargl"
           }
          ],
          "scatterternary": [
           {
            "marker": {
             "colorbar": {
              "outlinewidth": 0,
              "ticks": ""
             }
            },
            "type": "scatterternary"
           }
          ],
          "surface": [
           {
            "colorbar": {
             "outlinewidth": 0,
             "ticks": ""
            },
            "colorscale": [
             [
              0,
              "#0d0887"
             ],
             [
              0.1111111111111111,
              "#46039f"
             ],
             [
              0.2222222222222222,
              "#7201a8"
             ],
             [
              0.3333333333333333,
              "#9c179e"
             ],
             [
              0.4444444444444444,
              "#bd3786"
             ],
             [
              0.5555555555555556,
              "#d8576b"
             ],
             [
              0.6666666666666666,
              "#ed7953"
             ],
             [
              0.7777777777777778,
              "#fb9f3a"
             ],
             [
              0.8888888888888888,
              "#fdca26"
             ],
             [
              1,
              "#f0f921"
             ]
            ],
            "type": "surface"
           }
          ],
          "table": [
           {
            "cells": {
             "fill": {
              "color": "#EBF0F8"
             },
             "line": {
              "color": "white"
             }
            },
            "header": {
             "fill": {
              "color": "#C8D4E3"
             },
             "line": {
              "color": "white"
             }
            },
            "type": "table"
           }
          ]
         },
         "layout": {
          "annotationdefaults": {
           "arrowcolor": "#2a3f5f",
           "arrowhead": 0,
           "arrowwidth": 1
          },
          "autotypenumbers": "strict",
          "coloraxis": {
           "colorbar": {
            "outlinewidth": 0,
            "ticks": ""
           }
          },
          "colorscale": {
           "diverging": [
            [
             0,
             "#8e0152"
            ],
            [
             0.1,
             "#c51b7d"
            ],
            [
             0.2,
             "#de77ae"
            ],
            [
             0.3,
             "#f1b6da"
            ],
            [
             0.4,
             "#fde0ef"
            ],
            [
             0.5,
             "#f7f7f7"
            ],
            [
             0.6,
             "#e6f5d0"
            ],
            [
             0.7,
             "#b8e186"
            ],
            [
             0.8,
             "#7fbc41"
            ],
            [
             0.9,
             "#4d9221"
            ],
            [
             1,
             "#276419"
            ]
           ],
           "sequential": [
            [
             0,
             "#0d0887"
            ],
            [
             0.1111111111111111,
             "#46039f"
            ],
            [
             0.2222222222222222,
             "#7201a8"
            ],
            [
             0.3333333333333333,
             "#9c179e"
            ],
            [
             0.4444444444444444,
             "#bd3786"
            ],
            [
             0.5555555555555556,
             "#d8576b"
            ],
            [
             0.6666666666666666,
             "#ed7953"
            ],
            [
             0.7777777777777778,
             "#fb9f3a"
            ],
            [
             0.8888888888888888,
             "#fdca26"
            ],
            [
             1,
             "#f0f921"
            ]
           ],
           "sequentialminus": [
            [
             0,
             "#0d0887"
            ],
            [
             0.1111111111111111,
             "#46039f"
            ],
            [
             0.2222222222222222,
             "#7201a8"
            ],
            [
             0.3333333333333333,
             "#9c179e"
            ],
            [
             0.4444444444444444,
             "#bd3786"
            ],
            [
             0.5555555555555556,
             "#d8576b"
            ],
            [
             0.6666666666666666,
             "#ed7953"
            ],
            [
             0.7777777777777778,
             "#fb9f3a"
            ],
            [
             0.8888888888888888,
             "#fdca26"
            ],
            [
             1,
             "#f0f921"
            ]
           ]
          },
          "colorway": [
           "#636efa",
           "#EF553B",
           "#00cc96",
           "#ab63fa",
           "#FFA15A",
           "#19d3f3",
           "#FF6692",
           "#B6E880",
           "#FF97FF",
           "#FECB52"
          ],
          "font": {
           "color": "#2a3f5f"
          },
          "geo": {
           "bgcolor": "white",
           "lakecolor": "white",
           "landcolor": "#E5ECF6",
           "showlakes": true,
           "showland": true,
           "subunitcolor": "white"
          },
          "hoverlabel": {
           "align": "left"
          },
          "hovermode": "closest",
          "mapbox": {
           "style": "light"
          },
          "paper_bgcolor": "white",
          "plot_bgcolor": "#E5ECF6",
          "polar": {
           "angularaxis": {
            "gridcolor": "white",
            "linecolor": "white",
            "ticks": ""
           },
           "bgcolor": "#E5ECF6",
           "radialaxis": {
            "gridcolor": "white",
            "linecolor": "white",
            "ticks": ""
           }
          },
          "scene": {
           "xaxis": {
            "backgroundcolor": "#E5ECF6",
            "gridcolor": "white",
            "gridwidth": 2,
            "linecolor": "white",
            "showbackground": true,
            "ticks": "",
            "zerolinecolor": "white"
           },
           "yaxis": {
            "backgroundcolor": "#E5ECF6",
            "gridcolor": "white",
            "gridwidth": 2,
            "linecolor": "white",
            "showbackground": true,
            "ticks": "",
            "zerolinecolor": "white"
           },
           "zaxis": {
            "backgroundcolor": "#E5ECF6",
            "gridcolor": "white",
            "gridwidth": 2,
            "linecolor": "white",
            "showbackground": true,
            "ticks": "",
            "zerolinecolor": "white"
           }
          },
          "shapedefaults": {
           "line": {
            "color": "#2a3f5f"
           }
          },
          "ternary": {
           "aaxis": {
            "gridcolor": "white",
            "linecolor": "white",
            "ticks": ""
           },
           "baxis": {
            "gridcolor": "white",
            "linecolor": "white",
            "ticks": ""
           },
           "bgcolor": "#E5ECF6",
           "caxis": {
            "gridcolor": "white",
            "linecolor": "white",
            "ticks": ""
           }
          },
          "title": {
           "x": 0.05
          },
          "xaxis": {
           "automargin": true,
           "gridcolor": "white",
           "linecolor": "white",
           "ticks": "",
           "title": {
            "standoff": 15
           },
           "zerolinecolor": "white",
           "zerolinewidth": 2
          },
          "yaxis": {
           "automargin": true,
           "gridcolor": "white",
           "linecolor": "white",
           "ticks": "",
           "title": {
            "standoff": 15
           },
           "zerolinecolor": "white",
           "zerolinewidth": 2
          }
         }
        }
       }
      },
      "text/html": [
       "<div>                            <div id=\"cefa95f0-026b-4a63-8fc2-d0311ec5414a\" class=\"plotly-graph-div\" style=\"height:525px; width:100%;\"></div>            <script type=\"text/javascript\">                require([\"plotly\"], function(Plotly) {                    window.PLOTLYENV=window.PLOTLYENV || {};                                    if (document.getElementById(\"cefa95f0-026b-4a63-8fc2-d0311ec5414a\")) {                    Plotly.newPlot(                        \"cefa95f0-026b-4a63-8fc2-d0311ec5414a\",                        [{\"hoverinfo\":\"none\",\"line\":{\"color\":\"#888\",\"width\":0.5},\"mode\":\"lines\",\"x\":[0.05828074701094161,0.25509350981915935,null,0.05828074701094161,0.5024007360575465,null,0.25509350981915935,0.5425585021328445,null,0.25509350981915935,0.5024007360575465,null,0.29992121619335993,0.25509350981915935,null,0.29992121619335993,0.5425585021328445,null,0.29992121619335993,0.5024007360575465,null,0.5425585021328445,0.25509350981915935,null,0.5425585021328445,0.5024007360575465,null,0.4381036089646517,0.7787384618951348,null,0.4381036089646517,0.8851015703483772,null,0.7787384618951348,0.6076868045798135,null,0.7787384618951348,0.8851015703483772,null,0.8851015703483772,0.7787384618951348,null,0.8851015703483772,0.7484777253408404,null,0.8851015703483772,0.6076868045798135,null,0.7484777253408404,0.7787384618951348,null,0.7484777253408404,0.6076868045798135,null,0.7484777253408404,0.8851015703483772,null,0.609063460278658,0.7787384618951348,null,0.609063460278658,0.8851015703483772,null,0.6076868045798135,0.7787384618951348,null,0.6076868045798135,0.7484777253408404,null,0.6076868045798135,0.8851015703483772,null,0.4038676440249491,0.8390880809971183,null,0.13796025710528448,0.23081602568047851,null,0.13796025710528448,-0.19157146330618724,null,0.13796025710528448,0.42557637790337394,null,0.23081602568047851,0.13796025710528448,null,0.5671315193441596,0.8203307673421898,null,0.49256093627888464,0.2532144149941674,null,0.2532144149941674,0.49256093627888464,null,-0.7572690000263624,-0.8470682193321774,null,-0.8470682193321774,-0.7572690000263624,null,0.7755673652258905,0.9513627978227999,null,0.9513627978227999,0.7755673652258905,null,0.9542238405075586,0.8596560634528828,null,0.8596560634528828,0.9542238405075586,null,-0.1537433490613345,0.18769509387587746,null,-0.6083603080313897,-0.21634487915561015,null,-0.21634487915561015,0.048498974891632,null,-0.21634487915561015,0.13300777968971964,null,-0.21634487915561015,-0.8782928048349231,null,-0.21634487915561015,0.08285780099474409,null,-0.21634487915561015,0.22494994605645266,null,0.048498974891632,0.13300777968971964,null,0.048498974891632,-0.21634487915561015,null,0.048498974891632,0.08285780099474409,null,0.13300777968971964,0.048498974891632,null,0.13300777968971964,-0.21634487915561015,null,0.13300777968971964,0.08285780099474409,null,0.13300777968971964,0.22494994605645266,null,0.08285780099474409,0.048498974891632,null,0.08285780099474409,0.13300777968971964,null,0.08285780099474409,-0.21634487915561015,null,0.08285780099474409,0.22494994605645266,null,0.22494994605645266,0.13300777968971964,null,0.22494994605645266,-0.21634487915561015,null,0.22494994605645266,0.08285780099474409,null,0.8890282632538432,0.6900887042176458,null,0.6900887042176458,0.8890282632538432,null,-0.5093880378551224,-0.7105910411952702,null,-0.5093880378551224,-0.5618997800414155,null,-0.5093880378551224,-0.9423087058552119,null,-0.7105910411952702,-0.5093880378551224,null,-0.7105910411952702,-0.9999999999999999,null,-0.7105910411952702,-0.5618997800414155,null,-0.5618997800414155,-0.5093880378551224,null,-0.5618997800414155,-0.7105910411952702,null,-0.5618997800414155,-0.9999999999999999,null,-0.25077302836750975,-0.5093880378551224,null,-0.25077302836750975,-0.9423087058552119,null,-0.9423087058552119,-0.5093880378551224,null,-0.7002990598496092,-0.34744563492411307,null,-0.34744563492411307,-0.7002990598496092,null,-0.34744563492411307,0.02920226117301008,null,0.02920226117301008,-0.34744563492411307,null,0.149764849099267,0.18043032409757284,null,0.149764849099267,0.1133536142393194,null,0.18043032409757284,0.149764849099267,null,0.18043032409757284,0.1133536142393194,null,0.18043032409757284,0.12953141372426,null,0.1133536142393194,0.18043032409757284,null,0.1133536142393194,0.149764849099267,null,0.1133536142393194,0.12953141372426,null,-0.06381854648730469,-0.23777282755557758,null,-0.23777282755557758,-0.06381854648730469,null,-0.9269020225165261,-0.938325478846801,null,-0.938325478846801,-0.9269020225165261,null,-0.19157146330618724,0.13796025710528448,null,0.3014741798747419,0.30497242942118435,null,0.30497242942118435,0.3014741798747419,null,-0.5090279759411953,-0.28796928517033865,null,-0.5090279759411953,-0.7258329030580197,null,-0.5090279759411953,-0.3291125967662966,null,-0.5090279759411953,-0.5613889275338703,null,-0.28796928517033865,-0.5090279759411953,null,-0.28796928517033865,-0.7258329030580197,null,-0.28796928517033865,-0.3291125967662966,null,-0.28796928517033865,0.2544804157853406,null,-0.3291125967662966,-0.28796928517033865,null,-0.3291125967662966,-0.5090279759411953,null,-0.3291125967662966,-0.7258329030580197,null,-0.3291125967662966,0.15960463588683857,null,0.08000264311908935,-0.08853694771517483,null,0.08000264311908935,0.3104069011468328,null,0.08000264311908935,0.06841331676688103,null,0.08000264311908935,0.22820378201784505,null,-0.08853694771517483,0.08000264311908935,null,-0.08853694771517483,0.06841331676688103,null,0.06841331676688103,-0.08853694771517483,null,0.06841331676688103,0.08000264311908935,null,0.06841331676688103,0.3104069011468328,null,0.06841331676688103,0.22820378201784505,null,0.3104069011468328,0.08000264311908935,null,0.3104069011468328,0.06841331676688103,null,-0.4240397646472184,0.08000264311908935,null,0.22820378201784505,0.08000264311908935,null,0.22820378201784505,0.06841331676688103,null,-0.09838997532413037,-0.25179462441495876,null,-0.09838997532413037,0.18769509387587746,null,-0.25179462441495876,-0.09838997532413037,null,-0.6544052511640325,-0.44498970326752013,null,-0.44498970326752013,-0.6544052511640325,null,-0.7130440678510879,-0.9999999999999999,null,0.7450114380093061,0.30772755265533963,null,0.30772755265533963,0.7450114380093061,null,0.7252259163400991,0.5488825117280515,null,0.5488825117280515,0.7252259163400991,null,-0.6032731129562042,-0.9858164661814843,null,-0.6032731129562042,-0.8782928048349231,null,-0.6032731129562042,-0.8246318988412797,null,-0.9858164661814843,-0.8782928048349231,null,-0.8246318988412797,-0.8782928048349231,null,0.8309994464545128,0.640843976393595,null,0.640843976393595,0.8309994464545128,null,-0.33407692113554843,-0.516696390871352,null,-0.33407692113554843,-0.5077435808925668,null,-0.33407692113554843,-0.8782928048349231,null,-0.33407692113554843,-0.5924353172871726,null,-0.33407692113554843,0.40620811993365685,null,-0.516696390871352,-0.8782928048349231,null,-0.5077435808925668,-0.33407692113554843,null,-0.5077435808925668,-0.8782928048349231,null,-0.5077435808925668,-0.5924353172871726,null,-0.5924353172871726,-0.8782928048349231,null,0.40620811993365685,0.688245758523707,null,0.40620811993365685,0.6212955358849239,null,0.40620811993365685,0.6474021962510882,null,-0.33103445030643047,-0.5924353172871726,null,-0.33103445030643047,-0.7212448398203188,null,-0.7212448398203188,-0.33103445030643047,null,-0.0986861220713571,-0.8782928048349231,null,-0.7126664207062108,-0.9858164661814843,null,-0.7126664207062108,-0.8782928048349231,null,-0.7126664207062108,-0.7323328528763403,null,-0.7126664207062108,-0.5577051603805437,null,-0.6702414323732796,-0.9858164661814843,null,-0.6702414323732796,-0.8782928048349231,null,-0.8490658515952276,-0.9858164661814843,null,-0.8490658515952276,-0.8782928048349231,null,-0.3822297409077885,-0.9858164661814843,null,-0.3822297409077885,-0.8782928048349231,null,-0.3822297409077885,-0.8246318988412797,null,-0.7323328528763403,-0.7126664207062108,null,-0.7323328528763403,-0.8782928048349231,null,-0.7323328528763403,-0.5577051603805437,null,-0.5577051603805437,-0.8782928048349231,null,-0.9368552664708977,-0.8782928048349231,null,-0.37076886891927513,-0.8782928048349231,null,0.27123372572189014,-0.37076886891927513,null,0.27123372572189014,0.40620811993365685,null,0.27123372572189014,0.6212955358849239,null,0.27123372572189014,0.7822839592091256,null,0.42557637790337394,0.13796025710528448,null,-0.9321952887279654,-0.6915828924005368,null,-0.6915828924005368,-0.9321952887279654,null,0.6546451226351405,0.688245758523707,null,0.6546451226351405,0.40620811993365685,null,0.6546451226351405,0.5931975073956183,null,0.6546451226351405,0.6212955358849239,null,0.6546451226351405,0.7822839592091256,null,0.6546451226351405,0.6474021962510882,null,0.6546451226351405,0.7207185358384934,null,0.688245758523707,0.5931975073956183,null,0.688245758523707,0.770694689291741,null,0.688245758523707,0.6212955358849239,null,0.688245758523707,0.7822839592091256,null,0.688245758523707,0.6474021962510882,null,0.5931975073956183,0.688245758523707,null,0.5931975073956183,0.770694689291741,null,0.5931975073956183,0.6212955358849239,null,0.5931975073956183,0.7822839592091256,null,0.5931975073956183,0.6474021962510882,null,0.5931975073956183,0.6842145850835495,null,0.5275542684650046,0.688245758523707,null,0.5275542684650046,0.5931975073956183,null,0.5275542684650046,0.6212955358849239,null,0.5275542684650046,0.7822839592091256,null,0.5275542684650046,0.6474021962510882,null,0.5275542684650046,0.6842145850835495,null,0.770694689291741,0.688245758523707,null,0.770694689291741,0.5931975073956183,null,0.770694689291741,0.6212955358849239,null,0.770694689291741,0.7822839592091256,null,0.770694689291741,0.6474021962510882,null,0.6212955358849239,0.688245758523707,null,0.6212955358849239,0.770694689291741,null,0.7822839592091256,0.688245758523707,null,0.7822839592091256,0.5931975073956183,null,0.7822839592091256,0.6212955358849239,null,0.7822839592091256,0.6474021962510882,null,0.7822839592091256,0.6842145850835495,null,0.6474021962510882,0.688245758523707,null,0.6474021962510882,0.40620811993365685,null,0.6474021962510882,0.5931975073956183,null,0.6474021962510882,0.770694689291741,null,0.6474021962510882,0.6212955358849239,null,0.6474021962510882,0.7822839592091256,null,0.7207185358384934,0.688245758523707,null,0.7207185358384934,0.6546451226351405,null,0.7207185358384934,0.40620811993365685,null,0.7207185358384934,0.6212955358849239,null,0.7207185358384934,0.7822839592091256,null,0.7207185358384934,0.6474021962510882,null,0.6842145850835495,0.688245758523707,null,0.6842145850835495,0.5931975073956183,null,0.6842145850835495,0.6212955358849239,null,0.6842145850835495,0.7822839592091256,null,0.6842145850835495,0.6474021962510882,null,-0.07556658020950344,0.5024007360575465,null,-0.10209181120164579,0.5024007360575465,null,-0.927325356515432,-0.8616526551142109,null,-0.8616526551142109,-0.927325356515432,null,0.5536482527468838,0.9786671460381265,null,-0.8407171178277681,-0.6366074384182598,null,-0.6366074384182598,-0.8407171178277681,null,-0.5603912180361278,-0.5595488597359507,null,-0.5595488597359507,-0.5603912180361278,null,-0.10414400271237638,-0.07414042379412142,null,-0.10414400271237638,-0.07681908491492237,null,-0.07414042379412142,-0.10414400271237638,null,-0.07414042379412142,-0.2007216963738326,null,-0.07414042379412142,-0.07681908491492237,null,-0.2007216963738326,-0.07414042379412142,null,-0.2007216963738326,-0.10414400271237638,null,-0.2007216963738326,-0.07681908491492237,null,-0.07681908491492237,-0.07414042379412142,null,-0.07681908491492237,-0.10414400271237638,null,0.25913473855602165,0.03292794774070466,null,0.25913473855602165,0.09886261031761025,null,0.03292794774070466,0.25913473855602165,null,0.03292794774070466,0.09886261031761025,null,0.09886261031761025,0.03292794774070466,null,0.09886261031761025,0.25913473855602165,null,-0.9099596280171087,-0.5801264047127184,null,-0.9099596280171087,-0.920331126417761,null,0.2765787786957649,0.18769509387587746,null,0.2579638056781949,0.06807407932079897,null,0.06807407932079897,0.2579638056781949,null,-0.920331126417761,-0.9099596280171087,null,0.7523346059242099,0.9575086477357325,null,0.7523346059242099,0.21964886530360464,null,0.9575086477357325,0.7523346059242099,null,0.21964886530360464,0.7523346059242099,null,-0.39261687846055493,-0.08596209626974818,null,-0.08596209626974818,-0.39261687846055493,null,0.5736779028917136,0.3553388707207271,null,-0.17286223423528296,0.3553388707207271,null,-0.26368849215815865,-0.13382836727603067,null,-0.13382836727603067,-0.26368849215815865,null,-0.7251384237852597,-0.9346328064777577,null,-0.7251384237852597,-0.3486803571790646,null,-0.3486803571790646,-0.7251384237852597,null,-0.681202978624102,-0.4852631195943395,null,-0.4852631195943395,-0.681202978624102,null,0.487011247540278,0.6817593198625712,null,0.6817593198625712,0.487011247540278,null,0.40183241431121286,0.9382393338672352,null,-0.1785927200578629,-0.5453250876058776,null,-0.1785927200578629,-0.3798593588281751,null,-0.5453250876058776,-0.3798593588281751,null,-0.3798593588281751,-0.5453250876058776,null,-0.6097701320189913,-0.48318911416005283,null,-0.6097701320189913,-0.6652944096001652,null,-0.48318911416005283,-0.6097701320189913,null,-0.48318911416005283,-0.6652944096001652,null,-0.6652944096001652,-0.6097701320189913,null,-0.6652944096001652,-0.48318911416005283,null,0.8932669467361973,0.6076868045798135,null,0.8883533117564819,0.8851015703483772,null,0.6318707260210819,0.7787384618951348,null,0.15960463588683857,-0.3291125967662966,null,0.2544804157853406,-0.28796928517033865,null,-0.5613889275338703,-0.5090279759411953,null,-0.5613889275338703,-0.7258329030580197,null,-0.4328306476483714,-0.3291125967662966,null,-0.7107491278451,-0.28796928517033865,null,-0.0923947630271778,-0.9858164661814843,null,-0.19980646750727563,-0.8782928048349231,null,-0.618740059369674,-0.6702414323732796,null,0.2598804804717052,0.5931975073956183,null,0.2598804804717052,0.6212955358849239,null,0.8041802576078487,0.688245758523707,null,0.8041802576078487,0.6212955358849239,null,0.31465909428097494,0.770694689291741,null,0.31465909428097494,0.6212955358849239,null,0.5206933518492692,0.5931975073956183,null,0.5206933518492692,0.770694689291741,null,0.5206933518492692,0.7822839592091256,null,0.5206933518492692,0.6474021962510882,null,0.7256008525052757,0.688245758523707,null,0.7256008525052757,0.770694689291741,null,0.8608482404141753,0.688245758523707,null,0.8608482404141753,0.5931975073956183,null,0.8608482404141753,0.6474021962510882,null,0.2513078667612117,0.688245758523707,null,-0.05685068227334303,0.6212955358849239,null,0.8427080869473604,0.688245758523707,null,0.8427080869473604,0.770694689291741,null,0.05986527129384014,0.6212955358849239,null,0.7938331514773521,0.6212955358849239,null],\"y\":[-0.5277705155356165,-0.33299644375132226,null,-0.5277705155356165,-0.8404331175155062,null,-0.33299644375132226,-0.6223076589958387,null,-0.33299644375132226,-0.8404331175155062,null,-0.2841197785186737,-0.33299644375132226,null,-0.2841197785186737,-0.6223076589958387,null,-0.2841197785186737,-0.8404331175155062,null,-0.6223076589958387,-0.33299644375132226,null,-0.6223076589958387,-0.8404331175155062,null,0.49348981673652836,0.48009503840635337,null,0.49348981673652836,0.38171140935624054,null,0.48009503840635337,0.23887712574846376,null,0.48009503840635337,0.38171140935624054,null,0.38171140935624054,0.48009503840635337,null,0.38171140935624054,0.24332577577317216,null,0.38171140935624054,0.23887712574846376,null,0.24332577577317216,0.48009503840635337,null,0.24332577577317216,0.23887712574846376,null,0.24332577577317216,0.38171140935624054,null,0.666671426409363,0.48009503840635337,null,0.666671426409363,0.38171140935624054,null,0.23887712574846376,0.48009503840635337,null,0.23887712574846376,0.24332577577317216,null,0.23887712574846376,0.38171140935624054,null,-0.06845269987045778,0.39261752285593965,null,0.7328299572172259,0.9049153721374176,null,0.7328299572172259,0.9575158787306072,null,0.7328299572172259,0.7399537674591591,null,0.9049153721374176,0.7328299572172259,null,0.1495777654545964,-0.4494278643728226,null,-0.6219208569221851,-0.7977324003571676,null,-0.7977324003571676,-0.6219208569221851,null,0.7296329852677393,0.6001206528698163,null,0.6001206528698163,0.7296329852677393,null,-0.41334063389966497,-0.062270810998843455,null,-0.062270810998843455,-0.41334063389966497,null,-0.19987219515093244,0.023937674698599597,null,0.023937674698599597,-0.19987219515093244,null,-0.8990282612979729,-0.9648216626508865,null,0.4189656747936064,0.4026369758053377,null,0.4026369758053377,0.6961092703479771,null,0.4026369758053377,0.5025883849463727,null,0.4026369758053377,-0.08208814640555606,null,0.4026369758053377,0.6280535792801673,null,0.4026369758053377,0.55224763074614,null,0.6961092703479771,0.5025883849463727,null,0.6961092703479771,0.4026369758053377,null,0.6961092703479771,0.6280535792801673,null,0.5025883849463727,0.6961092703479771,null,0.5025883849463727,0.4026369758053377,null,0.5025883849463727,0.6280535792801673,null,0.5025883849463727,0.55224763074614,null,0.6280535792801673,0.6961092703479771,null,0.6280535792801673,0.5025883849463727,null,0.6280535792801673,0.4026369758053377,null,0.6280535792801673,0.55224763074614,null,0.55224763074614,0.5025883849463727,null,0.55224763074614,0.4026369758053377,null,0.55224763074614,0.6280535792801673,null,0.1137355038616389,0.4677451283547376,null,0.4677451283547376,0.1137355038616389,null,0.15034253216996038,0.1248192164469541,null,0.15034253216996038,0.23166425328371618,null,0.15034253216996038,0.07749773777344071,null,0.1248192164469541,0.15034253216996038,null,0.1248192164469541,-0.049124027874374816,null,0.1248192164469541,0.23166425328371618,null,0.23166425328371618,0.15034253216996038,null,0.23166425328371618,0.1248192164469541,null,0.23166425328371618,-0.049124027874374816,null,-0.18818553745284286,0.15034253216996038,null,-0.18818553745284286,0.07749773777344071,null,0.07749773777344071,0.15034253216996038,null,0.6361305673106051,0.8429469578823404,null,0.8429469578823404,0.6361305673106051,null,0.8429469578823404,0.9586012870537391,null,0.9586012870537391,0.8429469578823404,null,-0.02708994543981453,-0.47484715657017423,null,-0.02708994543981453,-0.40650721881335405,null,-0.47484715657017423,-0.02708994543981453,null,-0.47484715657017423,-0.40650721881335405,null,-0.47484715657017423,-0.9292867993161404,null,-0.40650721881335405,-0.47484715657017423,null,-0.40650721881335405,-0.02708994543981453,null,-0.40650721881335405,-0.9292867993161404,null,0.8117683326061431,0.8292806528448281,null,0.8292806528448281,0.8117683326061431,null,0.13761125560646728,-0.2570840718303953,null,-0.2570840718303953,0.13761125560646728,null,0.9575158787306072,0.7328299572172259,null,0.5479602105324185,0.760065533552555,null,0.760065533552555,0.5479602105324185,null,-0.5464452646140897,-0.5904633430813048,null,-0.5464452646140897,-0.7575590322235083,null,-0.5464452646140897,-0.6477651098804271,null,-0.5464452646140897,-0.13873648595155114,null,-0.5904633430813048,-0.5464452646140897,null,-0.5904633430813048,-0.7575590322235083,null,-0.5904633430813048,-0.6477651098804271,null,-0.5904633430813048,-0.32103668705067356,null,-0.6477651098804271,-0.5904633430813048,null,-0.6477651098804271,-0.5464452646140897,null,-0.6477651098804271,-0.7575590322235083,null,-0.6477651098804271,-0.5112386021422889,null,-0.6741409295262046,-0.422595110887363,null,-0.6741409295262046,-0.7423173932293063,null,-0.6741409295262046,-0.7812848028469666,null,-0.6741409295262046,-0.9793523854663784,null,-0.422595110887363,-0.6741409295262046,null,-0.422595110887363,-0.7812848028469666,null,-0.7812848028469666,-0.422595110887363,null,-0.7812848028469666,-0.6741409295262046,null,-0.7812848028469666,-0.7423173932293063,null,-0.7812848028469666,-0.9793523854663784,null,-0.7423173932293063,-0.6741409295262046,null,-0.7423173932293063,-0.7812848028469666,null,-0.29155533535329914,-0.6741409295262046,null,-0.9793523854663784,-0.6741409295262046,null,-0.9793523854663784,-0.7812848028469666,null,-0.8636506684400306,-0.4905519271645113,null,-0.8636506684400306,-0.9648216626508865,null,-0.4905519271645113,-0.8636506684400306,null,-0.5935708384278816,-0.8115616695680715,null,-0.8115616695680715,-0.5935708384278816,null,0.4246036845759757,-0.049124027874374816,null,-0.029867207326015863,-0.12466739817660269,null,-0.12466739817660269,-0.029867207326015863,null,-0.1703191065876968,0.12924017294410647,null,0.12924017294410647,-0.1703191065876968,null,-0.06385540862984669,-0.21080286189513633,null,-0.06385540862984669,-0.08208814640555606,null,-0.06385540862984669,0.1376617718549599,null,-0.21080286189513633,-0.08208814640555606,null,0.1376617718549599,-0.08208814640555606,null,-0.42317632281877543,-0.6576219770350252,null,-0.6576219770350252,-0.42317632281877543,null,-0.060619163020321366,-0.40752706502066177,null,-0.060619163020321366,-0.17308221687140146,null,-0.060619163020321366,-0.08208814640555606,null,-0.060619163020321366,0.11226818685136193,null,-0.060619163020321366,0.042747100790004364,null,-0.40752706502066177,-0.08208814640555606,null,-0.17308221687140146,-0.060619163020321366,null,-0.17308221687140146,-0.08208814640555606,null,-0.17308221687140146,0.11226818685136193,null,0.11226818685136193,-0.08208814640555606,null,0.042747100790004364,-0.009602169246078422,null,0.042747100790004364,0.08924859293346395,null,0.042747100790004364,-0.037030177271430376,null,-0.16396731067516035,0.11226818685136193,null,-0.16396731067516035,-0.5165445876554078,null,-0.5165445876554078,-0.16396731067516035,null,0.13620520816656156,-0.08208814640555606,null,-0.3514651027674753,-0.21080286189513633,null,-0.3514651027674753,-0.08208814640555606,null,-0.3514651027674753,-0.3057936066254846,null,-0.3514651027674753,-0.3558654016298398,null,-0.332449977332606,-0.21080286189513633,null,-0.332449977332606,-0.08208814640555606,null,-0.4263758544221002,-0.21080286189513633,null,-0.4263758544221002,-0.08208814640555606,null,-0.11310779644139785,-0.21080286189513633,null,-0.11310779644139785,-0.08208814640555606,null,-0.11310779644139785,0.1376617718549599,null,-0.3057936066254846,-0.3514651027674753,null,-0.3057936066254846,-0.08208814640555606,null,-0.3057936066254846,-0.3558654016298398,null,-0.3558654016298398,-0.08208814640555606,null,-0.4424902514341417,-0.08208814640555606,null,0.15055191800624187,-0.08208814640555606,null,0.09400363645684173,0.15055191800624187,null,0.09400363645684173,0.042747100790004364,null,0.09400363645684173,0.08924859293346395,null,0.09400363645684173,-0.08827812978618589,null,0.7399537674591591,0.7328299572172259,null,0.2055753949412041,-0.04507385562986057,null,-0.04507385562986057,0.2055753949412041,null,0.040336469741919546,-0.009602169246078422,null,0.040336469741919546,0.042747100790004364,null,0.040336469741919546,-0.061689910622672,null,0.040336469741919546,0.08924859293346395,null,0.040336469741919546,-0.08827812978618589,null,0.040336469741919546,-0.037030177271430376,null,0.040336469741919546,0.08716694386295114,null,-0.009602169246078422,-0.061689910622672,null,-0.009602169246078422,-0.039836815772223276,null,-0.009602169246078422,0.08924859293346395,null,-0.009602169246078422,-0.08827812978618589,null,-0.009602169246078422,-0.037030177271430376,null,-0.061689910622672,-0.009602169246078422,null,-0.061689910622672,-0.039836815772223276,null,-0.061689910622672,0.08924859293346395,null,-0.061689910622672,-0.08827812978618589,null,-0.061689910622672,-0.037030177271430376,null,-0.061689910622672,-0.11197673777175877,null,-0.1259254308306423,-0.009602169246078422,null,-0.1259254308306423,-0.061689910622672,null,-0.1259254308306423,0.08924859293346395,null,-0.1259254308306423,-0.08827812978618589,null,-0.1259254308306423,-0.037030177271430376,null,-0.1259254308306423,-0.11197673777175877,null,-0.039836815772223276,-0.009602169246078422,null,-0.039836815772223276,-0.061689910622672,null,-0.039836815772223276,0.08924859293346395,null,-0.039836815772223276,-0.08827812978618589,null,-0.039836815772223276,-0.037030177271430376,null,0.08924859293346395,-0.009602169246078422,null,0.08924859293346395,-0.039836815772223276,null,-0.08827812978618589,-0.009602169246078422,null,-0.08827812978618589,-0.061689910622672,null,-0.08827812978618589,0.08924859293346395,null,-0.08827812978618589,-0.037030177271430376,null,-0.08827812978618589,-0.11197673777175877,null,-0.037030177271430376,-0.009602169246078422,null,-0.037030177271430376,0.042747100790004364,null,-0.037030177271430376,-0.061689910622672,null,-0.037030177271430376,-0.039836815772223276,null,-0.037030177271430376,0.08924859293346395,null,-0.037030177271430376,-0.08827812978618589,null,0.08716694386295114,-0.009602169246078422,null,0.08716694386295114,0.040336469741919546,null,0.08716694386295114,0.042747100790004364,null,0.08716694386295114,0.08924859293346395,null,0.08716694386295114,-0.08827812978618589,null,0.08716694386295114,-0.037030177271430376,null,-0.11197673777175877,-0.009602169246078422,null,-0.11197673777175877,-0.061689910622672,null,-0.11197673777175877,0.08924859293346395,null,-0.11197673777175877,-0.08827812978618589,null,-0.11197673777175877,-0.037030177271430376,null,-0.6838441523604274,-0.8404331175155062,null,-0.42308048375972107,-0.8404331175155062,null,0.386131731817043,0.2883577308886441,null,0.2883577308886441,0.386131731817043,null,0.2242569061095548,-0.13853303024483737,null,0.010319513832738318,0.2360192090274019,null,0.2360192090274019,0.010319513832738318,null,0.1069466563626957,0.4195960636652194,null,0.4195960636652194,0.1069466563626957,null,0.9307523781914127,0.4731297194816355,null,0.9307523781914127,0.711871033732516,null,0.4731297194816355,0.9307523781914127,null,0.4731297194816355,0.576797379290802,null,0.4731297194816355,0.711871033732516,null,0.576797379290802,0.4731297194816355,null,0.576797379290802,0.9307523781914127,null,0.576797379290802,0.711871033732516,null,0.711871033732516,0.4731297194816355,null,0.711871033732516,0.9307523781914127,null,0.6800905716290818,0.7671771830324793,null,0.6800905716290818,0.5504829063098599,null,0.7671771830324793,0.6800905716290818,null,0.7671771830324793,0.5504829063098599,null,0.5504829063098599,0.7671771830324793,null,0.5504829063098599,0.6800905716290818,null,-0.2539195079101912,-0.7269595259605378,null,-0.2539195079101912,0.2439725309265885,null,-0.7709662383271926,-0.9648216626508865,null,0.8307646501069001,0.3431857640949101,null,0.3431857640949101,0.8307646501069001,null,0.2439725309265885,-0.2539195079101912,null,0.25428245008871075,-0.21546668334580563,null,0.25428245008871075,0.3425810644184567,null,-0.21546668334580563,0.25428245008871075,null,0.3425810644184567,0.25428245008871075,null,0.9004838016138171,0.8725174765526934,null,0.8725174765526934,0.9004838016138171,null,-0.8253295605172888,-0.8288429568106913,null,-0.9174160858128968,-0.8288429568106913,null,-0.7397738284356132,-0.24925598075843988,null,-0.24925598075843988,-0.7397738284356132,null,0.6847778031846261,0.12183944306023198,null,0.6847778031846261,0.9330727430134895,null,0.9330727430134895,0.6847778031846261,null,-0.6377906252805399,-0.7781589309130519,null,-0.7781589309130519,-0.6377906252805399,null,-0.722904684585613,-0.8152010659842147,null,-0.8152010659842147,-0.722904684585613,null,0.14163163631525222,-0.0792372175188559,null,0.6586484431772545,0.7119365795103013,null,0.6586484431772545,0.44371215161922106,null,0.7119365795103013,0.44371215161922106,null,0.44371215161922106,0.7119365795103013,null,0.6252763393184425,0.7334522145268177,null,0.6252763393184425,0.6999930446891995,null,0.7334522145268177,0.6252763393184425,null,0.7334522145268177,0.6999930446891995,null,0.6999930446891995,0.6252763393184425,null,0.6999930446891995,0.7334522145268177,null,0.27722762083584207,0.23887712574846376,null,0.06505587694679228,0.38171140935624054,null,0.7222018300831153,0.48009503840635337,null,-0.5112386021422889,-0.6477651098804271,null,-0.32103668705067356,-0.5904633430813048,null,-0.13873648595155114,-0.5464452646140897,null,-0.13873648595155114,-0.7575590322235083,null,-0.17468485048565044,-0.6477651098804271,null,-0.4673521172198581,-0.5904633430813048,null,-0.028879307274662057,-0.21080286189513633,null,-0.3866926944624009,-0.08208814640555606,null,-0.01613820744184368,-0.332449977332606,null,-0.24265133246559387,-0.061689910622672,null,-0.24265133246559387,0.08924859293346395,null,-0.23161123155470395,-0.009602169246078422,null,-0.23161123155470395,0.08924859293346395,null,-0.20038064759836477,-0.039836815772223276,null,-0.20038064759836477,0.08924859293346395,null,-0.08861004711426212,-0.061689910622672,null,-0.08861004711426212,-0.039836815772223276,null,-0.08861004711426212,-0.08827812978618589,null,-0.08861004711426212,-0.037030177271430376,null,0.30141350065828565,-0.009602169246078422,null,0.30141350065828565,-0.039836815772223276,null,0.1123030386727096,-0.009602169246078422,null,0.1123030386727096,-0.061689910622672,null,0.1123030386727096,-0.037030177271430376,null,-0.4401218605848546,-0.009602169246078422,null,0.1135567104179234,0.08924859293346395,null,0.4014177913499914,-0.009602169246078422,null,0.4014177913499914,-0.039836815772223276,null,-0.14692255790792846,0.08924859293346395,null,0.569385221327776,0.08924859293346395,null],\"type\":\"scatter\"},{\"hoverinfo\":\"text\",\"marker\":{\"colorbar\":{\"thickness\":15,\"title\":{\"side\":\"right\",\"text\":\"Node Connections\"},\"xanchor\":\"left\"},\"colorscale\":[[0.0,\"rgb(255,255,217)\"],[0.125,\"rgb(237,248,177)\"],[0.25,\"rgb(199,233,180)\"],[0.375,\"rgb(127,205,187)\"],[0.5,\"rgb(65,182,196)\"],[0.625,\"rgb(29,145,192)\"],[0.75,\"rgb(34,94,168)\"],[0.875,\"rgb(37,52,148)\"],[1.0,\"rgb(8,29,88)\"]],\"showscale\":true,\"size\":10},\"mode\":\"markers\",\"text\":[\"('72 SWEETHEART FAIRY CAKE CASES',)\",\"('60 TEATIME FAIRY CAKE CASES',)\",\"('PACK OF 60 DINOSAUR CAKE CASES',)\",\"('PACK OF 60 PINK PAISLEY CAKE CASES',)\",\"('PACK OF 72 RETROSPOT CAKE CASES',)\",\"('ALARM CLOCK BAKELIKE CHOCOLATE',)\",\"('ALARM CLOCK BAKELIKE GREEN',)\",\"('ALARM CLOCK BAKELIKE RED',)\",\"('ALARM CLOCK BAKELIKE IVORY',)\",\"('ALARM CLOCK BAKELIKE ORANGE',)\",\"('ALARM CLOCK BAKELIKE PINK',)\",\"('PAINTED METAL PEARS ASSORTED',)\",\"('ASSORTED COLOUR BIRD ORNAMENT',)\",\"('KEY FOB ',)\",\"('BACK DOOR',)\",\"('BAKING SET SPACEBOY DESIGN',)\",\"('BAKING SET 9 PIECE RETROSPOT',)\",\"('TOILET METAL SIGN',)\",\"('BATHROOM METAL SIGN',)\",\"('PINK HAPPY BIRTHDAY BUNTING',)\",\"('BLUE HAPPY BIRTHDAY BUNTING',)\",\"('RED  HARMONICA IN BOX',)\",\"('BLUE HARMONICA IN BOX',)\",\"('RED STRIPE CERAMIC DRAWER KNOB',)\",\"('BLUE STRIPE CERAMIC DRAWER KNOB',)\",\"('CANDLEHOLDER PINK HANGING HEART',)\",\"('WHITE HANGING HEART T-LIGHT HOLDER',)\",\"('CHARLOTTE BAG APPLES DESIGN',)\",\"('RED RETROSPOT CHARLOTTE BAG',)\",\"('CHARLOTTE BAG PINK POLKADOT',)\",\"('CHARLOTTE BAG SUKI DESIGN',)\",\"('STRAWBERRY CHARLOTTE BAG',)\",\"('WOODLAND CHARLOTTE BAG',)\",\"('CHILDRENS CUTLERY DOLLY GIRL',)\",\"('CHILDRENS CUTLERY SPACEBOY',)\",\"('CHOCOLATE HOT WATER BOTTLE',)\",\"('HOT WATER BOTTLE I AM SO POORLY',)\",\"('HOT WATER BOTTLE TEA AND SYMPATHY',)\",\"('RETROSPOT HEART HOT WATER BOTTLE',)\",\"('SCOTTIE DOG HOT WATER BOTTLE',)\",\"('CHRISTMAS CRAFT TREE TOP ANGEL',)\",\"('CHRISTMAS CRAFT LITTLE FRIENDS',)\",\"('CHRISTMAS CRAFT WHITE FAIRY',)\",\"('GIN + TONIC DIET METAL SIGN',)\",\"('COOK WITH WINE METAL SIGN',)\",\"('HAND OVER THE CHOCOLATE   SIGN',)\",\"('PLEASE ONE PERSON METAL SIGN',)\",\"('SPACEBOY LUNCH BOX',)\",\"('DOLLY GIRL LUNCH BOX',)\",\"('FELTCRAFT PRINCESS LOLA DOLL',)\",\"('FELTCRAFT PRINCESS CHARLOTTE DOLL',)\",\"('FRONT  DOOR',)\",\"('GARDENERS KNEELING PAD KEEP CALM',)\",\"('GARDENERS KNEELING PAD CUP OF TEA',)\",\"('PINK REGENCY TEACUP AND SAUCER',)\",\"('GREEN REGENCY TEACUP AND SAUCER',)\",\"('REGENCY CAKESTAND 3 TIER',)\",\"('ROSES REGENCY TEACUP AND SAUCER',)\",\"('HAND WARMER OWL DESIGN',)\",\"('HAND WARMER BIRD DESIGN',)\",\"('HAND WARMER SCOTTY DOG DESIGN',)\",\"('HAND WARMER RED LOVE HEART',)\",\"('HAND WARMER RED RETROSPOT',)\",\"('HAND WARMER UNION JACK',)\",\"('HEART OF WICKER LARGE',)\",\"('HEART OF WICKER SMALL',)\",\"('LOVE BUILDING BLOCK WORD',)\",\"('HOME BUILDING BLOCK WORD',)\",\"('HOT WATER BOTTLE KEEP CALM',)\",\"('LOVE HOT WATER BOTTLE',)\",\"('IVORY DINER WALL CLOCK',)\",\"('RED DINER WALL CLOCK',)\",\"('RED KITCHEN SCALES',)\",\"('IVORY KITCHEN SCALES',)\",\"('JUMBO  BAG BAROQUE BLACK WHITE',)\",\"('JUMBO BAG PINK POLKADOT',)\",\"('JUMBO BAG RED RETROSPOT',)\",\"('JUMBO STORAGE BAG SUKI',)\",\"('JUMBO BAG VINTAGE CHRISTMAS',)\",\"(\\\"JUMBO BAG 50'S CHRISTMAS\\\",)\",\"('JUMBO BAG APPLES',)\",\"('JUMBO BAG ALPHABET',)\",\"('JUMBO BAG PEARS',)\",\"('JUMBO BAG VINTAGE LEAF',)\",\"('LUNCH BAG APPLE DESIGN',)\",\"('JUMBO BAG DOILEY PATTERNS',)\",\"('LUNCH BAG DOILEY PATTERN',)\",\"('JUMBO BAG OWLS',)\",\"('JUMBO BAG PINK VINTAGE PAISLEY',)\",\"('JUMBO BAG STRAWBERRY',)\",\"('JUMBO BAG WOODLAND ANIMALS',)\",\"('JUMBO STORAGE BAG SKULLS',)\",\"('JUMBO BAG SCANDINAVIAN BLUE PAISLEY',)\",\"('JUMBO SHOPPER VINTAGE RED PAISLEY',)\",\"('JUMBO BAG SPACEBOY DESIGN',)\",\"('JUMBO BAG VINTAGE DOILY',)\",\"('LUNCH BAG VINTAGE DOILY',)\",\"('SHED',)\",\"('SMALL WHITE HEART OF WICKER',)\",\"('LARGE WHITE HEART OF WICKER',)\",\"('LUNCH BAG ALPHABET DESIGN',)\",\"('LUNCH BAG  BLACK SKULL.',)\",\"('LUNCH BAG CARS BLUE',)\",\"('LUNCH BAG DOLLY GIRL DESIGN',)\",\"('LUNCH BAG PINK POLKADOT',)\",\"('LUNCH BAG RED RETROSPOT',)\",\"('LUNCH BAG SPACEBOY DESIGN',)\",\"('LUNCH BAG SUKI DESIGN',)\",\"('LUNCH BAG VINTAGE LEAF DESIGN',)\",\"('LUNCH BAG WOODLAND',)\",\"('PACK OF 60 SPACEBOY CAKE CASES',)\",\"('PACK OF 72 SKULL CAKE CASES',)\",\"(\\\"PAPER CHAIN KIT 50'S CHRISTMAS\\\",)\",\"('PAPER CHAIN KIT VINTAGE CHRISTMAS',)\",\"('SPOTTY BUNTING',)\",\"('PARTY BUNTING',)\",\"('PINK BLUE FELT CRAFT TRINKET BOX',)\",\"('PINK CREAM FELT CRAFT TRINKET BOX',)\",\"('SCANDINAVIAN PAISLEY PICNIC BAG',)\",\"('PINK VINTAGE PAISLEY PICNIC BAG',)\",\"('PLASTERS IN TIN SPACEBOY',)\",\"('PLASTERS IN TIN CIRCUS PARADE',)\",\"('PLASTERS IN TIN STRONGMAN',)\",\"('PLASTERS IN TIN WOODLAND ANIMALS',)\",\"(\\\"POPPY'S PLAYHOUSE KITCHEN\\\",)\",\"(\\\"POPPY'S PLAYHOUSE BEDROOM\\\",)\",\"(\\\"POPPY'S PLAYHOUSE LIVINGROOM\\\",)\",\"('ROUND SNACK BOXES SET OF4 WOODLAND',)\",\"('POSTAGE',)\",\"('RED HANGING HEART T-LIGHT HOLDER',)\",\"('REGENCY TEA PLATE GREEN',)\",\"('REGENCY TEA PLATE ROSES',)\",\"('ROUND SNACK BOXES SET OF 4 FRUITS',)\",\"('SET OF 12 FAIRY CAKE BAKING CASES',)\",\"('SET OF 12 MINI LOAF BAKING CASES',)\",\"('SET OF 6 TEA TIME BAKING CASES',)\",\"('SET OF 3 HEART COOKIE CUTTERS',)\",\"('SET OF 3 BUTTERFLY COOKIE CUTTERS',)\",\"('SET OF 6 SPICE TINS PANTRY DESIGN',)\",\"('SET OF 3 CAKE TINS PANTRY DESIGN',)\",\"('SET OF TEA COFFEE SUGAR TINS PANTRY',)\",\"('SET/10 BLUE POLKADOT PARTY CANDLES',)\",\"('SET/10 PINK POLKADOT PARTY CANDLES',)\",\"('SET/6 RED SPOTTY PAPER PLATES',)\",\"('SET/20 RED RETROSPOT PAPER NAPKINS',)\",\"('SET/6 RED SPOTTY PAPER CUPS',)\",\"('SMALL DOLLY MIX DESIGN ORANGE BOWL',)\",\"('SMALL MARSHMALLOWS PINK BOWL',)\",\"('SWEETHEART CERAMIC TRINKET BOX',)\",\"('STRAWBERRY CERAMIC TRINKET BOX',)\",\"('VINTAGE HEADS AND TAILS CARD GAME',)\",\"('VINTAGE SNAP CARDS',)\",\"('WOOD 2 DRAWER CABINET WHITE FINISH',)\",\"('WOODEN FRAME ANTIQUE WHITE',)\",\"('WOODEN PICTURE FRAME WHITE FINISH',)\",\"('WOODEN HEART CHRISTMAS SCANDINAVIAN',)\",\"('WOODEN STAR CHRISTMAS SCANDINAVIAN',)\",\"('WOODEN TREE CHRISTMAS SCANDINAVIAN',)\",\"('ALARM CLOCK BAKELIKE GREEN', 'ALARM CLOCK BAKELIKE RED')\",\"('ALARM CLOCK BAKELIKE GREEN', 'ALARM CLOCK BAKELIKE PINK')\",\"('ALARM CLOCK BAKELIKE RED', 'ALARM CLOCK BAKELIKE PINK')\",\"('PINK REGENCY TEACUP AND SAUCER', 'GREEN REGENCY TEACUP AND SAUCER')\",\"('PINK REGENCY TEACUP AND SAUCER', 'ROSES REGENCY TEACUP AND SAUCER')\",\"('GREEN REGENCY TEACUP AND SAUCER', 'ROSES REGENCY TEACUP AND SAUCER')\",\"('REGENCY CAKESTAND 3 TIER', 'GREEN REGENCY TEACUP AND SAUCER')\",\"('REGENCY CAKESTAND 3 TIER', 'ROSES REGENCY TEACUP AND SAUCER')\",\"('JUMBO BAG STRAWBERRY', 'JUMBO BAG RED RETROSPOT')\",\"('JUMBO BAG STRAWBERRY', 'JUMBO BAG PINK POLKADOT')\",\"('JUMBO BAG RED RETROSPOT', 'JUMBO BAG PINK POLKADOT')\",\"('LUNCH BAG PINK POLKADOT', 'LUNCH BAG  BLACK SKULL.')\",\"('LUNCH BAG PINK POLKADOT', 'LUNCH BAG CARS BLUE')\",\"('LUNCH BAG  BLACK SKULL.', 'LUNCH BAG CARS BLUE')\",\"('LUNCH BAG RED RETROSPOT', 'LUNCH BAG  BLACK SKULL.')\",\"('LUNCH BAG RED RETROSPOT', 'LUNCH BAG CARS BLUE')\",\"('LUNCH BAG RED RETROSPOT', 'LUNCH BAG PINK POLKADOT')\",\"('LUNCH BAG RED RETROSPOT', 'LUNCH BAG SPACEBOY DESIGN')\",\"('LUNCH BAG  BLACK SKULL.', 'LUNCH BAG SPACEBOY DESIGN')\",\"('LUNCH BAG SUKI DESIGN', 'LUNCH BAG RED RETROSPOT')\",\"('LUNCH BAG SUKI DESIGN', 'LUNCH BAG  BLACK SKULL.')\",\"('LUNCH BAG SUKI DESIGN', 'LUNCH BAG PINK POLKADOT')\"],\"x\":[0.05828074701094161,0.25509350981915935,0.29992121619335993,0.5425585021328445,0.5024007360575465,0.4381036089646517,0.7787384618951348,0.8851015703483772,0.7484777253408404,0.609063460278658,0.6076868045798135,0.4038676440249491,0.8390880809971183,0.13796025710528448,0.23081602568047851,0.5671315193441596,0.8203307673421898,0.49256093627888464,0.2532144149941674,-0.7572690000263624,-0.8470682193321774,0.7755673652258905,0.9513627978227999,0.9542238405075586,0.8596560634528828,-0.1537433490613345,0.18769509387587746,-0.6083603080313897,-0.21634487915561015,0.048498974891632,0.13300777968971964,0.08285780099474409,0.22494994605645266,0.8890282632538432,0.6900887042176458,-0.5093880378551224,-0.7105910411952702,-0.5618997800414155,-0.25077302836750975,-0.9423087058552119,-0.7002990598496092,-0.34744563492411307,0.02920226117301008,0.149764849099267,0.18043032409757284,0.1133536142393194,0.12953141372426,-0.06381854648730469,-0.23777282755557758,-0.9269020225165261,-0.938325478846801,-0.19157146330618724,0.3014741798747419,0.30497242942118435,-0.5090279759411953,-0.28796928517033865,-0.7258329030580197,-0.3291125967662966,0.08000264311908935,-0.08853694771517483,0.06841331676688103,0.3104069011468328,-0.4240397646472184,0.22820378201784505,-0.09838997532413037,-0.25179462441495876,-0.6544052511640325,-0.44498970326752013,-0.9999999999999999,-0.7130440678510879,0.7450114380093061,0.30772755265533963,0.7252259163400991,0.5488825117280515,-0.6032731129562042,-0.9858164661814843,-0.8782928048349231,-0.8246318988412797,0.8309994464545128,0.640843976393595,-0.33407692113554843,-0.516696390871352,-0.5077435808925668,-0.5924353172871726,0.40620811993365685,-0.33103445030643047,-0.7212448398203188,-0.0986861220713571,-0.7126664207062108,-0.6702414323732796,-0.8490658515952276,-0.3822297409077885,-0.7323328528763403,-0.5577051603805437,-0.9368552664708977,-0.37076886891927513,0.27123372572189014,0.42557637790337394,-0.9321952887279654,-0.6915828924005368,0.6546451226351405,0.688245758523707,0.5931975073956183,0.5275542684650046,0.770694689291741,0.6212955358849239,0.7822839592091256,0.6474021962510882,0.7207185358384934,0.6842145850835495,-0.07556658020950344,-0.10209181120164579,-0.927325356515432,-0.8616526551142109,0.5536482527468838,0.9786671460381265,-0.8407171178277681,-0.6366074384182598,-0.5603912180361278,-0.5595488597359507,-0.10414400271237638,-0.07414042379412142,-0.2007216963738326,-0.07681908491492237,0.25913473855602165,0.03292794774070466,0.09886261031761025,-0.9099596280171087,-0.5801264047127184,0.2765787786957649,0.2579638056781949,0.06807407932079897,-0.920331126417761,0.7523346059242099,0.9575086477357325,0.21964886530360464,-0.39261687846055493,-0.08596209626974818,0.5736779028917136,0.3553388707207271,-0.17286223423528296,-0.26368849215815865,-0.13382836727603067,-0.7251384237852597,-0.9346328064777577,-0.3486803571790646,-0.681202978624102,-0.4852631195943395,0.487011247540278,0.6817593198625712,0.40183241431121286,0.9382393338672352,-0.1785927200578629,-0.5453250876058776,-0.3798593588281751,-0.6097701320189913,-0.48318911416005283,-0.6652944096001652,0.8932669467361973,0.8883533117564819,0.6318707260210819,0.15960463588683857,0.2544804157853406,-0.5613889275338703,-0.4328306476483714,-0.7107491278451,-0.0923947630271778,-0.19980646750727563,-0.618740059369674,0.2598804804717052,0.8041802576078487,0.31465909428097494,0.5206933518492692,0.7256008525052757,0.8608482404141753,0.2513078667612117,-0.05685068227334303,0.8427080869473604,0.05986527129384014,0.7938331514773521],\"y\":[-0.5277705155356165,-0.33299644375132226,-0.2841197785186737,-0.6223076589958387,-0.8404331175155062,0.49348981673652836,0.48009503840635337,0.38171140935624054,0.24332577577317216,0.666671426409363,0.23887712574846376,-0.06845269987045778,0.39261752285593965,0.7328299572172259,0.9049153721374176,0.1495777654545964,-0.4494278643728226,-0.6219208569221851,-0.7977324003571676,0.7296329852677393,0.6001206528698163,-0.41334063389966497,-0.062270810998843455,-0.19987219515093244,0.023937674698599597,-0.8990282612979729,-0.9648216626508865,0.4189656747936064,0.4026369758053377,0.6961092703479771,0.5025883849463727,0.6280535792801673,0.55224763074614,0.1137355038616389,0.4677451283547376,0.15034253216996038,0.1248192164469541,0.23166425328371618,-0.18818553745284286,0.07749773777344071,0.6361305673106051,0.8429469578823404,0.9586012870537391,-0.02708994543981453,-0.47484715657017423,-0.40650721881335405,-0.9292867993161404,0.8117683326061431,0.8292806528448281,0.13761125560646728,-0.2570840718303953,0.9575158787306072,0.5479602105324185,0.760065533552555,-0.5464452646140897,-0.5904633430813048,-0.7575590322235083,-0.6477651098804271,-0.6741409295262046,-0.422595110887363,-0.7812848028469666,-0.7423173932293063,-0.29155533535329914,-0.9793523854663784,-0.8636506684400306,-0.4905519271645113,-0.5935708384278816,-0.8115616695680715,-0.049124027874374816,0.4246036845759757,-0.029867207326015863,-0.12466739817660269,-0.1703191065876968,0.12924017294410647,-0.06385540862984669,-0.21080286189513633,-0.08208814640555606,0.1376617718549599,-0.42317632281877543,-0.6576219770350252,-0.060619163020321366,-0.40752706502066177,-0.17308221687140146,0.11226818685136193,0.042747100790004364,-0.16396731067516035,-0.5165445876554078,0.13620520816656156,-0.3514651027674753,-0.332449977332606,-0.4263758544221002,-0.11310779644139785,-0.3057936066254846,-0.3558654016298398,-0.4424902514341417,0.15055191800624187,0.09400363645684173,0.7399537674591591,0.2055753949412041,-0.04507385562986057,0.040336469741919546,-0.009602169246078422,-0.061689910622672,-0.1259254308306423,-0.039836815772223276,0.08924859293346395,-0.08827812978618589,-0.037030177271430376,0.08716694386295114,-0.11197673777175877,-0.6838441523604274,-0.42308048375972107,0.386131731817043,0.2883577308886441,0.2242569061095548,-0.13853303024483737,0.010319513832738318,0.2360192090274019,0.1069466563626957,0.4195960636652194,0.9307523781914127,0.4731297194816355,0.576797379290802,0.711871033732516,0.6800905716290818,0.7671771830324793,0.5504829063098599,-0.2539195079101912,-0.7269595259605378,-0.7709662383271926,0.8307646501069001,0.3431857640949101,0.2439725309265885,0.25428245008871075,-0.21546668334580563,0.3425810644184567,0.9004838016138171,0.8725174765526934,-0.8253295605172888,-0.8288429568106913,-0.9174160858128968,-0.7397738284356132,-0.24925598075843988,0.6847778031846261,0.12183944306023198,0.9330727430134895,-0.6377906252805399,-0.7781589309130519,-0.722904684585613,-0.8152010659842147,0.14163163631525222,-0.0792372175188559,0.6586484431772545,0.7119365795103013,0.44371215161922106,0.6252763393184425,0.7334522145268177,0.6999930446891995,0.27722762083584207,0.06505587694679228,0.7222018300831153,-0.5112386021422889,-0.32103668705067356,-0.13873648595155114,-0.17468485048565044,-0.4673521172198581,-0.028879307274662057,-0.3866926944624009,-0.01613820744184368,-0.24265133246559387,-0.23161123155470395,-0.20038064759836477,-0.08861004711426212,0.30141350065828565,0.1123030386727096,-0.4401218605848546,0.1135567104179234,0.4014177913499914,-0.14692255790792846,0.569385221327776],\"type\":\"scatter\"}],                        {\"hovermode\":\"closest\",\"margin\":{\"b\":0,\"l\":0,\"r\":0,\"t\":0},\"showlegend\":false,\"template\":{\"data\":{\"histogram2dcontour\":[{\"type\":\"histogram2dcontour\",\"colorbar\":{\"outlinewidth\":0,\"ticks\":\"\"},\"colorscale\":[[0.0,\"#0d0887\"],[0.1111111111111111,\"#46039f\"],[0.2222222222222222,\"#7201a8\"],[0.3333333333333333,\"#9c179e\"],[0.4444444444444444,\"#bd3786\"],[0.5555555555555556,\"#d8576b\"],[0.6666666666666666,\"#ed7953\"],[0.7777777777777778,\"#fb9f3a\"],[0.8888888888888888,\"#fdca26\"],[1.0,\"#f0f921\"]]}],\"choropleth\":[{\"type\":\"choropleth\",\"colorbar\":{\"outlinewidth\":0,\"ticks\":\"\"}}],\"histogram2d\":[{\"type\":\"histogram2d\",\"colorbar\":{\"outlinewidth\":0,\"ticks\":\"\"},\"colorscale\":[[0.0,\"#0d0887\"],[0.1111111111111111,\"#46039f\"],[0.2222222222222222,\"#7201a8\"],[0.3333333333333333,\"#9c179e\"],[0.4444444444444444,\"#bd3786\"],[0.5555555555555556,\"#d8576b\"],[0.6666666666666666,\"#ed7953\"],[0.7777777777777778,\"#fb9f3a\"],[0.8888888888888888,\"#fdca26\"],[1.0,\"#f0f921\"]]}],\"heatmap\":[{\"type\":\"heatmap\",\"colorbar\":{\"outlinewidth\":0,\"ticks\":\"\"},\"colorscale\":[[0.0,\"#0d0887\"],[0.1111111111111111,\"#46039f\"],[0.2222222222222222,\"#7201a8\"],[0.3333333333333333,\"#9c179e\"],[0.4444444444444444,\"#bd3786\"],[0.5555555555555556,\"#d8576b\"],[0.6666666666666666,\"#ed7953\"],[0.7777777777777778,\"#fb9f3a\"],[0.8888888888888888,\"#fdca26\"],[1.0,\"#f0f921\"]]}],\"heatmapgl\":[{\"type\":\"heatmapgl\",\"colorbar\":{\"outlinewidth\":0,\"ticks\":\"\"},\"colorscale\":[[0.0,\"#0d0887\"],[0.1111111111111111,\"#46039f\"],[0.2222222222222222,\"#7201a8\"],[0.3333333333333333,\"#9c179e\"],[0.4444444444444444,\"#bd3786\"],[0.5555555555555556,\"#d8576b\"],[0.6666666666666666,\"#ed7953\"],[0.7777777777777778,\"#fb9f3a\"],[0.8888888888888888,\"#fdca26\"],[1.0,\"#f0f921\"]]}],\"contourcarpet\":[{\"type\":\"contourcarpet\",\"colorbar\":{\"outlinewidth\":0,\"ticks\":\"\"}}],\"contour\":[{\"type\":\"contour\",\"colorbar\":{\"outlinewidth\":0,\"ticks\":\"\"},\"colorscale\":[[0.0,\"#0d0887\"],[0.1111111111111111,\"#46039f\"],[0.2222222222222222,\"#7201a8\"],[0.3333333333333333,\"#9c179e\"],[0.4444444444444444,\"#bd3786\"],[0.5555555555555556,\"#d8576b\"],[0.6666666666666666,\"#ed7953\"],[0.7777777777777778,\"#fb9f3a\"],[0.8888888888888888,\"#fdca26\"],[1.0,\"#f0f921\"]]}],\"surface\":[{\"type\":\"surface\",\"colorbar\":{\"outlinewidth\":0,\"ticks\":\"\"},\"colorscale\":[[0.0,\"#0d0887\"],[0.1111111111111111,\"#46039f\"],[0.2222222222222222,\"#7201a8\"],[0.3333333333333333,\"#9c179e\"],[0.4444444444444444,\"#bd3786\"],[0.5555555555555556,\"#d8576b\"],[0.6666666666666666,\"#ed7953\"],[0.7777777777777778,\"#fb9f3a\"],[0.8888888888888888,\"#fdca26\"],[1.0,\"#f0f921\"]]}],\"mesh3d\":[{\"type\":\"mesh3d\",\"colorbar\":{\"outlinewidth\":0,\"ticks\":\"\"}}],\"scatter\":[{\"fillpattern\":{\"fillmode\":\"overlay\",\"size\":10,\"solidity\":0.2},\"type\":\"scatter\"}],\"parcoords\":[{\"type\":\"parcoords\",\"line\":{\"colorbar\":{\"outlinewidth\":0,\"ticks\":\"\"}}}],\"scatterpolargl\":[{\"type\":\"scatterpolargl\",\"marker\":{\"colorbar\":{\"outlinewidth\":0,\"ticks\":\"\"}}}],\"bar\":[{\"error_x\":{\"color\":\"#2a3f5f\"},\"error_y\":{\"color\":\"#2a3f5f\"},\"marker\":{\"line\":{\"color\":\"#E5ECF6\",\"width\":0.5},\"pattern\":{\"fillmode\":\"overlay\",\"size\":10,\"solidity\":0.2}},\"type\":\"bar\"}],\"scattergeo\":[{\"type\":\"scattergeo\",\"marker\":{\"colorbar\":{\"outlinewidth\":0,\"ticks\":\"\"}}}],\"scatterpolar\":[{\"type\":\"scatterpolar\",\"marker\":{\"colorbar\":{\"outlinewidth\":0,\"ticks\":\"\"}}}],\"histogram\":[{\"marker\":{\"pattern\":{\"fillmode\":\"overlay\",\"size\":10,\"solidity\":0.2}},\"type\":\"histogram\"}],\"scattergl\":[{\"type\":\"scattergl\",\"marker\":{\"colorbar\":{\"outlinewidth\":0,\"ticks\":\"\"}}}],\"scatter3d\":[{\"type\":\"scatter3d\",\"line\":{\"colorbar\":{\"outlinewidth\":0,\"ticks\":\"\"}},\"marker\":{\"colorbar\":{\"outlinewidth\":0,\"ticks\":\"\"}}}],\"scattermapbox\":[{\"type\":\"scattermapbox\",\"marker\":{\"colorbar\":{\"outlinewidth\":0,\"ticks\":\"\"}}}],\"scatterternary\":[{\"type\":\"scatterternary\",\"marker\":{\"colorbar\":{\"outlinewidth\":0,\"ticks\":\"\"}}}],\"scattercarpet\":[{\"type\":\"scattercarpet\",\"marker\":{\"colorbar\":{\"outlinewidth\":0,\"ticks\":\"\"}}}],\"carpet\":[{\"aaxis\":{\"endlinecolor\":\"#2a3f5f\",\"gridcolor\":\"white\",\"linecolor\":\"white\",\"minorgridcolor\":\"white\",\"startlinecolor\":\"#2a3f5f\"},\"baxis\":{\"endlinecolor\":\"#2a3f5f\",\"gridcolor\":\"white\",\"linecolor\":\"white\",\"minorgridcolor\":\"white\",\"startlinecolor\":\"#2a3f5f\"},\"type\":\"carpet\"}],\"table\":[{\"cells\":{\"fill\":{\"color\":\"#EBF0F8\"},\"line\":{\"color\":\"white\"}},\"header\":{\"fill\":{\"color\":\"#C8D4E3\"},\"line\":{\"color\":\"white\"}},\"type\":\"table\"}],\"barpolar\":[{\"marker\":{\"line\":{\"color\":\"#E5ECF6\",\"width\":0.5},\"pattern\":{\"fillmode\":\"overlay\",\"size\":10,\"solidity\":0.2}},\"type\":\"barpolar\"}],\"pie\":[{\"automargin\":true,\"type\":\"pie\"}]},\"layout\":{\"autotypenumbers\":\"strict\",\"colorway\":[\"#636efa\",\"#EF553B\",\"#00cc96\",\"#ab63fa\",\"#FFA15A\",\"#19d3f3\",\"#FF6692\",\"#B6E880\",\"#FF97FF\",\"#FECB52\"],\"font\":{\"color\":\"#2a3f5f\"},\"hovermode\":\"closest\",\"hoverlabel\":{\"align\":\"left\"},\"paper_bgcolor\":\"white\",\"plot_bgcolor\":\"#E5ECF6\",\"polar\":{\"bgcolor\":\"#E5ECF6\",\"angularaxis\":{\"gridcolor\":\"white\",\"linecolor\":\"white\",\"ticks\":\"\"},\"radialaxis\":{\"gridcolor\":\"white\",\"linecolor\":\"white\",\"ticks\":\"\"}},\"ternary\":{\"bgcolor\":\"#E5ECF6\",\"aaxis\":{\"gridcolor\":\"white\",\"linecolor\":\"white\",\"ticks\":\"\"},\"baxis\":{\"gridcolor\":\"white\",\"linecolor\":\"white\",\"ticks\":\"\"},\"caxis\":{\"gridcolor\":\"white\",\"linecolor\":\"white\",\"ticks\":\"\"}},\"coloraxis\":{\"colorbar\":{\"outlinewidth\":0,\"ticks\":\"\"}},\"colorscale\":{\"sequential\":[[0.0,\"#0d0887\"],[0.1111111111111111,\"#46039f\"],[0.2222222222222222,\"#7201a8\"],[0.3333333333333333,\"#9c179e\"],[0.4444444444444444,\"#bd3786\"],[0.5555555555555556,\"#d8576b\"],[0.6666666666666666,\"#ed7953\"],[0.7777777777777778,\"#fb9f3a\"],[0.8888888888888888,\"#fdca26\"],[1.0,\"#f0f921\"]],\"sequentialminus\":[[0.0,\"#0d0887\"],[0.1111111111111111,\"#46039f\"],[0.2222222222222222,\"#7201a8\"],[0.3333333333333333,\"#9c179e\"],[0.4444444444444444,\"#bd3786\"],[0.5555555555555556,\"#d8576b\"],[0.6666666666666666,\"#ed7953\"],[0.7777777777777778,\"#fb9f3a\"],[0.8888888888888888,\"#fdca26\"],[1.0,\"#f0f921\"]],\"diverging\":[[0,\"#8e0152\"],[0.1,\"#c51b7d\"],[0.2,\"#de77ae\"],[0.3,\"#f1b6da\"],[0.4,\"#fde0ef\"],[0.5,\"#f7f7f7\"],[0.6,\"#e6f5d0\"],[0.7,\"#b8e186\"],[0.8,\"#7fbc41\"],[0.9,\"#4d9221\"],[1,\"#276419\"]]},\"xaxis\":{\"gridcolor\":\"white\",\"linecolor\":\"white\",\"ticks\":\"\",\"title\":{\"standoff\":15},\"zerolinecolor\":\"white\",\"automargin\":true,\"zerolinewidth\":2},\"yaxis\":{\"gridcolor\":\"white\",\"linecolor\":\"white\",\"ticks\":\"\",\"title\":{\"standoff\":15},\"zerolinecolor\":\"white\",\"automargin\":true,\"zerolinewidth\":2},\"scene\":{\"xaxis\":{\"backgroundcolor\":\"#E5ECF6\",\"gridcolor\":\"white\",\"linecolor\":\"white\",\"showbackground\":true,\"ticks\":\"\",\"zerolinecolor\":\"white\",\"gridwidth\":2},\"yaxis\":{\"backgroundcolor\":\"#E5ECF6\",\"gridcolor\":\"white\",\"linecolor\":\"white\",\"showbackground\":true,\"ticks\":\"\",\"zerolinecolor\":\"white\",\"gridwidth\":2},\"zaxis\":{\"backgroundcolor\":\"#E5ECF6\",\"gridcolor\":\"white\",\"linecolor\":\"white\",\"showbackground\":true,\"ticks\":\"\",\"zerolinecolor\":\"white\",\"gridwidth\":2}},\"shapedefaults\":{\"line\":{\"color\":\"#2a3f5f\"}},\"annotationdefaults\":{\"arrowcolor\":\"#2a3f5f\",\"arrowhead\":0,\"arrowwidth\":1},\"geo\":{\"bgcolor\":\"white\",\"landcolor\":\"#E5ECF6\",\"subunitcolor\":\"white\",\"showland\":true,\"showlakes\":true,\"lakecolor\":\"white\"},\"title\":{\"x\":0.05},\"mapbox\":{\"style\":\"light\"}}}},                        {\"responsive\": true}                    ).then(function(){\n",
       "                            \n",
       "var gd = document.getElementById('cefa95f0-026b-4a63-8fc2-d0311ec5414a');\n",
       "var x = new MutationObserver(function (mutations, observer) {{\n",
       "        var display = window.getComputedStyle(gd).display;\n",
       "        if (!display || display === 'none') {{\n",
       "            console.log([gd, 'removed!']);\n",
       "            Plotly.purge(gd);\n",
       "            observer.disconnect();\n",
       "        }}\n",
       "}});\n",
       "\n",
       "// Listen for the removal of the full notebook cells\n",
       "var notebookContainer = gd.closest('#notebook-container');\n",
       "if (notebookContainer) {{\n",
       "    x.observe(notebookContainer, {childList: true});\n",
       "}}\n",
       "\n",
       "// Listen for the clearing of the current output cell\n",
       "var outputEl = gd.closest('.output');\n",
       "if (outputEl) {{\n",
       "    x.observe(outputEl, {childList: true});\n",
       "}}\n",
       "\n",
       "                        })                };                });            </script>        </div>"
      ]
     },
     "metadata": {},
     "output_type": "display_data"
    }
   ],
   "source": [
    "# Let's create a directed graph\n",
    "G = nx.DiGraph()\n",
    "for idx, row in rules.iterrows():\n",
    "    G.add_node(tuple(row['antecedents']), color='skyblue')\n",
    "    G.add_node(tuple(row['consequents']), color='orange')\n",
    "    G.add_edge(tuple(row['antecedents']), tuple(row['consequents']), weight=row['support'])\n",
    "pos = nx.spring_layout(G)\n",
    "\n",
    "# Let's create an interactive plot using plotly\n",
    "edge_x = []\n",
    "edge_y = []\n",
    "for edge in G.edges(data=True):\n",
    "    x0, y0 = pos[edge[0]]\n",
    "    x1, y1 = pos[edge[1]]\n",
    "    edge_x.extend([x0, x1, None])\n",
    "    edge_y.extend([y0, y1, None])\n",
    "\n",
    "edge_trace = go.Scatter(\n",
    "    x=edge_x, y=edge_y,\n",
    "    line=dict(width=0.5, color='#888'),\n",
    "    hoverinfo='none',\n",
    "    mode='lines')\n",
    "\n",
    "node_x = []\n",
    "node_y = []\n",
    "node_labels = []\n",
    "for node in G.nodes():\n",
    "    x, y = pos[node]\n",
    "    node_x.append(x)\n",
    "    node_y.append(y)\n",
    "    node_labels.append(str(node))  \n",
    "\n",
    "node_trace = go.Scatter(\n",
    "    x=node_x, y=node_y,\n",
    "    mode='markers',\n",
    "    text=node_labels, \n",
    "    hoverinfo='text', \n",
    "    marker=dict(\n",
    "        showscale=True,\n",
    "        colorscale='YlGnBu',\n",
    "        size=10,\n",
    "        colorbar=dict(\n",
    "            thickness=15,\n",
    "            title='Node Connections',\n",
    "            xanchor='left',\n",
    "            titleside='right'\n",
    "        )\n",
    "    )\n",
    ")\n",
    "layout = go.Layout(\n",
    "    showlegend=False,\n",
    "    hovermode='closest',\n",
    "    margin=dict(b=0, l=0, r=0, t=0),\n",
    ")\n",
    "fig = go.Figure(data=[edge_trace, node_trace], layout=layout)\n",
    "\n",
    "# Let's show the interactive graph\n",
    "fig.show()"
   ]
  },
  {
   "cell_type": "code",
   "execution_count": 90,
   "id": "3c6d79ff",
   "metadata": {},
   "outputs": [
    {
     "data": {
      "application/vnd.plotly.v1+json": {
       "config": {
        "plotlyServerURL": "https://plot.ly"
       },
       "data": [
        {
         "branchvalues": "total",
         "customdata": [
          [
           0.008793547664388933
          ],
          [
           0.015906799596729023
          ],
          [
           0.009017587095328778
          ],
          [
           0.007281281505544976
          ],
          [
           0.009017587095328778
          ],
          [
           0.007449311078749861
          ],
          [
           0.007281281505544976
          ],
          [
           0.007449311078749861
          ],
          [
           0.010025764534558083
          ],
          [
           0.011313991262462193
          ],
          [
           0.007001232216870169
          ],
          [
           0.007561330794219783
          ],
          [
           0.007505320936484821
          ],
          [
           0.008121429371569396
          ],
          [
           0.007393301221014899
          ],
          [
           0.007393301221014899
          ],
          [
           0.012042119413016689
          ],
          [
           0.018987341772151903
          ],
          [
           0.009801725103618234
          ],
          [
           0.008513498375714126
          ],
          [
           0.011762070124341883
          ],
          [
           0.008345468802509241
          ],
          [
           0.008849557522123894
          ],
          [
           0.012042119413016689
          ],
          [
           0.008513498375714126
          ],
          [
           0.013778425002800493
          ],
          [
           0.007393301221014899
          ],
          [
           0.018987341772151903
          ],
          [
           0.011762070124341883
          ],
          [
           0.013778425002800493
          ],
          [
           0.010473843396437773
          ],
          [
           0.01036182368096785
          ],
          [
           0.0077293603674246664
          ],
          [
           0.008737537806653971
          ],
          [
           0.008457488517979164
          ],
          [
           0.007001232216870169
          ],
          [
           0.009017587095328778
          ],
          [
           0.007897389940629551
          ],
          [
           0.008625518091184049
          ],
          [
           0.011482020835667078
          ],
          [
           0.007617340651954744
          ],
          [
           0.008625518091184049
          ],
          [
           0.010585863111907696
          ],
          [
           0.009017587095328778
          ],
          [
           0.009073596953063739
          ],
          [
           0.007617340651954744
          ],
          [
           0.007617340651954744
          ],
          [
           0.010977932116052426
          ],
          [
           0.009745715245883276
          ],
          [
           0.009577685672678391
          ],
          [
           0.007169261790075053
          ],
          [
           0.0073372913632799375
          ],
          [
           0.007169261790075053
          ],
          [
           0.007337291363279938
          ],
          [
           0.009353646241738546
          ],
          [
           0.009409656099473508
          ],
          [
           0.009185616668533661
          ],
          [
           0.01450655315335499
          ],
          [
           0.008009409656099474
          ],
          [
           0.008009409656099474
          ],
          [
           0.007393301221014899
          ],
          [
           0.017139016466898173
          ],
          [
           0.017139016466898173
          ],
          [
           0.009353646241738546
          ],
          [
           0.008737537806653971
          ],
          [
           0.010473843396437775
          ],
          [
           0.008289458944774281
          ],
          [
           0.010473843396437773
          ],
          [
           0.015402710877114372
          ],
          [
           0.012434188417161422
          ],
          [
           0.018819312198947016
          ],
          [
           0.00940965609947351
          ],
          [
           0.008737537806653971
          ],
          [
           0.008401478660244203
          ],
          [
           0.010025764534558083
          ],
          [
           0.008793547664388933
          ],
          [
           0.010025764534558083
          ],
          [
           0.007953399798364512
          ],
          [
           0.010305813823232889
          ],
          [
           0.007897389940629551
          ],
          [
           0.007953399798364512
          ],
          [
           0.007281281505544977
          ],
          [
           0.007225271647810014
          ],
          [
           0.008793547664388933
          ],
          [
           0.010305813823232889
          ],
          [
           0.007281281505544977
          ],
          [
           0.007001232216870169
          ],
          [
           0.007897389940629551
          ],
          [
           0.007001232216870169
          ],
          [
           0.0140584742914753
          ],
          [
           0.010641872969642658
          ],
          [
           0.0140584742914753
          ],
          [
           0.009297636384003584
          ],
          [
           0.010977932116052426
          ],
          [
           0.00705724207460513
          ],
          [
           0.0071132519323400915
          ],
          [
           0.009745715245883276
          ],
          [
           0.0071132519323400915
          ],
          [
           0.007673350509689705
          ],
          [
           0.00705724207460513
          ],
          [
           0.009017587095328778
          ],
          [
           0.009241626526268623
          ],
          [
           0.013386355998655763
          ],
          [
           0.008849557522123894
          ],
          [
           0.011257981404727231
          ],
          [
           0.009745715245883276
          ],
          [
           0.01075389268511258
          ],
          [
           0.01288226727904111
          ],
          [
           0.010025764534558083
          ],
          [
           0.010585863111907696
          ],
          [
           0.007001232216870169
          ],
          [
           0.007393301221014899
          ],
          [
           0.007505320936484821
          ],
          [
           0.01075389268511258
          ],
          [
           0.007393301221014899
          ],
          [
           0.008233449087039319
          ],
          [
           0.021059706508345467
          ],
          [
           0.008401478660244203
          ],
          [
           0.01036182368096785
          ],
          [
           0.008289458944774281
          ],
          [
           0.008793547664388933
          ],
          [
           0.007169261790075053
          ],
          [
           0.008289458944774281
          ],
          [
           0.010025764534558083
          ],
          [
           0.007169261790075053
          ],
          [
           0.009745715245883276
          ],
          [
           0.007169261790075053
          ],
          [
           0.007169261790075053
          ],
          [
           0.01075389268511258
          ],
          [
           0.014618572868824913
          ],
          [
           0.008793547664388933
          ],
          [
           0.01075389268511258
          ],
          [
           0.012210148986221577
          ],
          [
           0.007953399798364512
          ],
          [
           0.009633695530413353
          ],
          [
           0.014842612299764758
          ],
          [
           0.008457488517979164
          ],
          [
           0.009185616668533661
          ],
          [
           0.007561330794219783
          ],
          [
           0.015850789738994064
          ],
          [
           0.010473843396437773
          ],
          [
           0.007393301221014899
          ],
          [
           0.012322168701691498
          ],
          [
           0.009577685672678391
          ],
          [
           0.009297636384003584
          ],
          [
           0.007953399798364512
          ],
          [
           0.007169261790075053
          ],
          [
           0.007505320936484822
          ],
          [
           0.007561330794219783
          ],
          [
           0.01534670101937941
          ],
          [
           0.016018819312198947
          ],
          [
           0.018427243194802285
          ],
          [
           0.015458720734849333
          ],
          [
           0.015234681303909488
          ],
          [
           0.008905567379858856
          ],
          [
           0.01120197154699227
          ],
          [
           0.008849557522123894
          ],
          [
           0.009017587095328778
          ],
          [
           0.008961577237593816
          ],
          [
           0.009689705388148314
          ],
          [
           0.009633695530413353
          ],
          [
           0.011930099697546768
          ],
          [
           0.014114484149210262
          ],
          [
           0.013050296852245995
          ],
          [
           0.01534670101937941
          ],
          [
           0.015066651730704607
          ],
          [
           0.016354878458608717
          ],
          [
           0.01321832642545088
          ],
          [
           0.014674582726559875
          ],
          [
           0.01372241514506553
          ],
          [
           0.007393301221014899
          ],
          [
           0.009857734961353198
          ],
          [
           0.008793547664388933
          ],
          [
           0.010081774392293043
          ],
          [
           0.012490198274896381
          ],
          [
           0.009465665957208469
          ],
          [
           0.009409656099473508
          ],
          [
           0.007169261790075053
          ],
          [
           0.009353646241738546
          ],
          [
           0.007169261790075052
          ],
          [
           0.007785370225159628
          ],
          [
           0.016018819312198947
          ],
          [
           0.015066651730704607
          ],
          [
           0.01853926291027221
          ],
          [
           0.012546208132631343
          ],
          [
           0.012658227848101266
          ],
          [
           0.007505320936484821
          ],
          [
           0.009353646241738546
          ],
          [
           0.007561330794219783
          ],
          [
           0.007785370225159628
          ],
          [
           0.007505320936484821
          ],
          [
           0.007785370225159628
          ],
          [
           0.009353646241738546
          ],
          [
           0.007785370225159628
          ],
          [
           0.007561330794219782
          ],
          [
           0.007561330794219782
          ],
          [
           0.018427243194802285
          ],
          [
           0.01853926291027221
          ],
          [
           0.015458720734849333
          ],
          [
           0.01321832642545088
          ],
          [
           0.016018819312198947
          ],
          [
           0.013778425002800493
          ],
          [
           0.013330346140920803
          ],
          [
           0.007785370225159627
          ],
          [
           0.007561330794219783
          ],
          [
           0.007785370225159628
          ],
          [
           0.007561330794219783
          ],
          [
           0.015234681303909488
          ],
          [
           0.013050296852245995
          ],
          [
           0.014674582726559875
          ],
          [
           0.012658227848101266
          ],
          [
           0.01663492774728352
          ],
          [
           0.013778425002800493
          ],
          [
           0.0077293603674246664
          ],
          [
           0.007169261790075053
          ],
          [
           0.008345468802509241
          ],
          [
           0.007393301221014899
          ],
          [
           0.008569508233449086
          ],
          [
           0.009633695530413353
          ],
          [
           0.010529853254172734
          ],
          [
           0.009409656099473508
          ],
          [
           0.008233449087039319
          ],
          [
           0.009465665957208469
          ],
          [
           0.013050296852245994
          ],
          [
           0.01372241514506553
          ],
          [
           0.015458720734849333
          ],
          [
           0.013330346140920803
          ],
          [
           0.011257981404727231
          ],
          [
           0.007785370225159628
          ],
          [
           0.0073933012210149
          ],
          [
           0.009297636384003584
          ],
          [
           0.010025764534558083
          ],
          [
           0.012154139128486613
          ],
          [
           0.007393301221014899
          ],
          [
           0.008737537806653971
          ],
          [
           0.008513498375714126
          ],
          [
           0.015906799596729023
          ],
          [
           0.009129606810798701
          ],
          [
           0.009129606810798701
          ],
          [
           0.008737537806653971
          ],
          [
           0.010473843396437773
          ],
          [
           0.010473843396437773
          ],
          [
           0.010473843396437773
          ],
          [
           0.015402710877114372
          ],
          [
           0.009633695530413353
          ],
          [
           0.014226503864680183
          ],
          [
           0.007617340651954744
          ],
          [
           0.008513498375714126
          ],
          [
           0.008065419513834434
          ],
          [
           0.009017587095328778
          ],
          [
           0.008513498375714126
          ],
          [
           0.010697882827377618
          ],
          [
           0.008065419513834434
          ],
          [
           0.007001232216870169
          ],
          [
           0.007225271647810016
          ],
          [
           0.009017587095328778
          ],
          [
           0.010697882827377618
          ],
          [
           0.008457488517979164
          ],
          [
           0.00705724207460513
          ],
          [
           0.01573877002352414
          ],
          [
           0.009017587095328778
          ],
          [
           0.011482020835667078
          ],
          [
           0.010585863111907696
          ],
          [
           0.010193794107762966
          ],
          [
           0.010697882827377618
          ],
          [
           0.009969754676823121
          ],
          [
           0.007001232216870169
          ],
          [
           0.008289458944774281
          ],
          [
           0.008289458944774281
          ],
          [
           0.007785370225159628
          ],
          [
           0.007785370225159628
          ],
          [
           0.007057242074605129
          ],
          [
           0.007729360367424667
          ],
          [
           0.018819312198947016
          ],
          [
           0.010473843396437773
          ],
          [
           0.014226503864680183
          ],
          [
           0.013442365856390725
          ],
          [
           0.008905567379858856
          ],
          [
           0.008065419513834434
          ],
          [
           0.008905567379858856
          ],
          [
           0.007617340651954744
          ],
          [
           0.009577685672678391
          ],
          [
           0.008961577237593816
          ],
          [
           0.0077293603674246664
          ],
          [
           0.008961577237593816
          ],
          [
           0.007673350509689705
          ],
          [
           0.007673350509689705
          ],
          [
           0.010585863111907696
          ],
          [
           0.0077293603674246664
          ],
          [
           0.007449311078749861
          ],
          [
           0.00705724207460513
          ],
          [
           0.00705724207460513
          ],
          [
           0.008401478660244203
          ],
          [
           0.008009409656099474
          ],
          [
           0.008401478660244203
          ],
          [
           0.012322168701691498
          ],
          [
           0.008233449087039319
          ],
          [
           0.008233449087039319
          ],
          [
           0.009577685672678391
          ],
          [
           0.01450655315335499
          ],
          [
           0.014674582726559875
          ],
          [
           0.007673350509689705
          ],
          [
           0.007617340651954744
          ],
          [
           0.009017587095328778
          ],
          [
           0.010697882827377618
          ],
          [
           0.007169261790075054
          ],
          [
           0.007673350509689705
          ],
          [
           0.0077293603674246664
          ],
          [
           0.008625518091184049
          ],
          [
           0.007393301221014899
          ],
          [
           0.007393301221014899
          ],
          [
           0.017643105186512825
          ],
          [
           0.010641872969642658
          ],
          [
           0.0071132519323400915
          ],
          [
           0.017643105186512825
          ],
          [
           0.010641872969642658
          ],
          [
           0.007673350509689704
          ],
          [
           0.0071132519323400915
          ],
          [
           0.007673350509689704
          ],
          [
           0.009073596953063739
          ],
          [
           0.009969754676823121
          ],
          [
           0.007169261790075054
          ]
         ],
         "domain": {
          "x": [
           0,
           1
          ],
          "y": [
           0,
           1
          ]
         },
         "hovertemplate": "labels=%{label}<br>lift=%{value}<br>parent=%{parent}<br>id=%{id}<br>support=%{color}<extra></extra>",
         "ids": [
          "frozenset({\"JUMBO BAG 50'S CHRISTMAS\"}) -> frozenset({'JUMBO BAG VINTAGE CHRISTMAS'})",
          "frozenset({\"PAPER CHAIN KIT 50'S CHRISTMAS\"}) -> frozenset({'PAPER CHAIN KIT VINTAGE CHRISTMAS'})",
          "frozenset({\"POPPY'S PLAYHOUSE BEDROOM\"}) -> frozenset({\"POPPY'S PLAYHOUSE KITCHEN\"})",
          "frozenset({\"POPPY'S PLAYHOUSE BEDROOM\"}) -> frozenset({\"POPPY'S PLAYHOUSE LIVINGROOM\"})",
          "frozenset({\"POPPY'S PLAYHOUSE KITCHEN\"}) -> frozenset({\"POPPY'S PLAYHOUSE BEDROOM\"})",
          "frozenset({\"POPPY'S PLAYHOUSE KITCHEN\"}) -> frozenset({\"POPPY'S PLAYHOUSE LIVINGROOM\"})",
          "frozenset({\"POPPY'S PLAYHOUSE LIVINGROOM\"}) -> frozenset({\"POPPY'S PLAYHOUSE BEDROOM\"})",
          "frozenset({\"POPPY'S PLAYHOUSE LIVINGROOM\"}) -> frozenset({\"POPPY'S PLAYHOUSE KITCHEN\"})",
          "frozenset({'60 TEATIME FAIRY CAKE CASES'}) -> frozenset({'PACK OF 60 PINK PAISLEY CAKE CASES'})",
          "frozenset({'60 TEATIME FAIRY CAKE CASES'}) -> frozenset({'PACK OF 72 RETROSPOT CAKE CASES'})",
          "frozenset({'72 SWEETHEART FAIRY CAKE CASES'}) -> frozenset({'60 TEATIME FAIRY CAKE CASES'})",
          "frozenset({'72 SWEETHEART FAIRY CAKE CASES'}) -> frozenset({'PACK OF 72 RETROSPOT CAKE CASES'})",
          "frozenset({'ALARM CLOCK BAKELIKE CHOCOLATE'}) -> frozenset({'ALARM CLOCK BAKELIKE GREEN'})",
          "frozenset({'ALARM CLOCK BAKELIKE CHOCOLATE'}) -> frozenset({'ALARM CLOCK BAKELIKE RED'})",
          "frozenset({'ALARM CLOCK BAKELIKE GREEN', 'ALARM CLOCK BAKELIKE PINK'}) -> frozenset({'ALARM CLOCK BAKELIKE RED'})",
          "frozenset({'ALARM CLOCK BAKELIKE GREEN', 'ALARM CLOCK BAKELIKE RED'}) -> frozenset({'ALARM CLOCK BAKELIKE PINK'})",
          "frozenset({'ALARM CLOCK BAKELIKE GREEN'}) -> frozenset({'ALARM CLOCK BAKELIKE PINK'})",
          "frozenset({'ALARM CLOCK BAKELIKE GREEN'}) -> frozenset({'ALARM CLOCK BAKELIKE RED'})",
          "frozenset({'ALARM CLOCK BAKELIKE IVORY'}) -> frozenset({'ALARM CLOCK BAKELIKE GREEN'})",
          "frozenset({'ALARM CLOCK BAKELIKE IVORY'}) -> frozenset({'ALARM CLOCK BAKELIKE PINK'})",
          "frozenset({'ALARM CLOCK BAKELIKE IVORY'}) -> frozenset({'ALARM CLOCK BAKELIKE RED'})",
          "frozenset({'ALARM CLOCK BAKELIKE ORANGE'}) -> frozenset({'ALARM CLOCK BAKELIKE GREEN'})",
          "frozenset({'ALARM CLOCK BAKELIKE ORANGE'}) -> frozenset({'ALARM CLOCK BAKELIKE RED'})",
          "frozenset({'ALARM CLOCK BAKELIKE PINK'}) -> frozenset({'ALARM CLOCK BAKELIKE GREEN'})",
          "frozenset({'ALARM CLOCK BAKELIKE PINK'}) -> frozenset({'ALARM CLOCK BAKELIKE IVORY'})",
          "frozenset({'ALARM CLOCK BAKELIKE PINK'}) -> frozenset({'ALARM CLOCK BAKELIKE RED'})",
          "frozenset({'ALARM CLOCK BAKELIKE RED', 'ALARM CLOCK BAKELIKE PINK'}) -> frozenset({'ALARM CLOCK BAKELIKE GREEN'})",
          "frozenset({'ALARM CLOCK BAKELIKE RED'}) -> frozenset({'ALARM CLOCK BAKELIKE GREEN'})",
          "frozenset({'ALARM CLOCK BAKELIKE RED'}) -> frozenset({'ALARM CLOCK BAKELIKE IVORY'})",
          "frozenset({'ALARM CLOCK BAKELIKE RED'}) -> frozenset({'ALARM CLOCK BAKELIKE PINK'})",
          "frozenset({'BACK DOOR'}) -> frozenset({'KEY FOB '})",
          "frozenset({'BAKING SET SPACEBOY DESIGN'}) -> frozenset({'BAKING SET 9 PIECE RETROSPOT'})",
          "frozenset({'BATHROOM METAL SIGN'}) -> frozenset({'TOILET METAL SIGN'})",
          "frozenset({'BLUE HAPPY BIRTHDAY BUNTING'}) -> frozenset({'PINK HAPPY BIRTHDAY BUNTING'})",
          "frozenset({'BLUE HARMONICA IN BOX'}) -> frozenset({'RED  HARMONICA IN BOX'})",
          "frozenset({'BLUE STRIPE CERAMIC DRAWER KNOB'}) -> frozenset({'RED STRIPE CERAMIC DRAWER KNOB'})",
          "frozenset({'CANDLEHOLDER PINK HANGING HEART'}) -> frozenset({'WHITE HANGING HEART T-LIGHT HOLDER'})",
          "frozenset({'CHARLOTTE BAG APPLES DESIGN'}) -> frozenset({'RED RETROSPOT CHARLOTTE BAG'})",
          "frozenset({'CHARLOTTE BAG PINK POLKADOT'}) -> frozenset({'CHARLOTTE BAG SUKI DESIGN'})",
          "frozenset({'CHARLOTTE BAG PINK POLKADOT'}) -> frozenset({'RED RETROSPOT CHARLOTTE BAG'})",
          "frozenset({'CHARLOTTE BAG PINK POLKADOT'}) -> frozenset({'STRAWBERRY CHARLOTTE BAG'})",
          "frozenset({'CHARLOTTE BAG SUKI DESIGN'}) -> frozenset({'CHARLOTTE BAG PINK POLKADOT'})",
          "frozenset({'CHARLOTTE BAG SUKI DESIGN'}) -> frozenset({'RED RETROSPOT CHARLOTTE BAG'})",
          "frozenset({'CHARLOTTE BAG SUKI DESIGN'}) -> frozenset({'STRAWBERRY CHARLOTTE BAG'})",
          "frozenset({'CHARLOTTE BAG SUKI DESIGN'}) -> frozenset({'WOODLAND CHARLOTTE BAG'})",
          "frozenset({'CHILDRENS CUTLERY DOLLY GIRL'}) -> frozenset({'CHILDRENS CUTLERY SPACEBOY'})",
          "frozenset({'CHILDRENS CUTLERY SPACEBOY'}) -> frozenset({'CHILDRENS CUTLERY DOLLY GIRL'})",
          "frozenset({'CHOCOLATE HOT WATER BOTTLE'}) -> frozenset({'HOT WATER BOTTLE I AM SO POORLY'})",
          "frozenset({'CHOCOLATE HOT WATER BOTTLE'}) -> frozenset({'HOT WATER BOTTLE TEA AND SYMPATHY'})",
          "frozenset({'CHOCOLATE HOT WATER BOTTLE'}) -> frozenset({'SCOTTIE DOG HOT WATER BOTTLE'})",
          "frozenset({'CHRISTMAS CRAFT LITTLE FRIENDS'}) -> frozenset({'CHRISTMAS CRAFT TREE TOP ANGEL'})",
          "frozenset({'CHRISTMAS CRAFT LITTLE FRIENDS'}) -> frozenset({'CHRISTMAS CRAFT WHITE FAIRY'})",
          "frozenset({'CHRISTMAS CRAFT TREE TOP ANGEL'}) -> frozenset({'CHRISTMAS CRAFT LITTLE FRIENDS'})",
          "frozenset({'CHRISTMAS CRAFT WHITE FAIRY'}) -> frozenset({'CHRISTMAS CRAFT LITTLE FRIENDS'})",
          "frozenset({'COOK WITH WINE METAL SIGN'}) -> frozenset({'GIN + TONIC DIET METAL SIGN'})",
          "frozenset({'COOK WITH WINE METAL SIGN'}) -> frozenset({'HAND OVER THE CHOCOLATE   SIGN'})",
          "frozenset({'COOK WITH WINE METAL SIGN'}) -> frozenset({'PLEASE ONE PERSON METAL SIGN'})",
          "frozenset({'DOLLY GIRL LUNCH BOX'}) -> frozenset({'SPACEBOY LUNCH BOX'})",
          "frozenset({'FELTCRAFT PRINCESS CHARLOTTE DOLL'}) -> frozenset({'FELTCRAFT PRINCESS LOLA DOLL'})",
          "frozenset({'FELTCRAFT PRINCESS LOLA DOLL'}) -> frozenset({'FELTCRAFT PRINCESS CHARLOTTE DOLL'})",
          "frozenset({'FRONT  DOOR'}) -> frozenset({'KEY FOB '})",
          "frozenset({'GARDENERS KNEELING PAD CUP OF TEA'}) -> frozenset({'GARDENERS KNEELING PAD KEEP CALM'})",
          "frozenset({'GARDENERS KNEELING PAD KEEP CALM'}) -> frozenset({'GARDENERS KNEELING PAD CUP OF TEA'})",
          "frozenset({'GIN + TONIC DIET METAL SIGN'}) -> frozenset({'COOK WITH WINE METAL SIGN'})",
          "frozenset({'GIN + TONIC DIET METAL SIGN'}) -> frozenset({'HAND OVER THE CHOCOLATE   SIGN'})",
          "frozenset({'GREEN REGENCY TEACUP AND SAUCER', 'ROSES REGENCY TEACUP AND SAUCER'}) -> frozenset({'PINK REGENCY TEACUP AND SAUCER'})",
          "frozenset({'GREEN REGENCY TEACUP AND SAUCER', 'ROSES REGENCY TEACUP AND SAUCER'}) -> frozenset({'REGENCY CAKESTAND 3 TIER'})",
          "frozenset({'GREEN REGENCY TEACUP AND SAUCER'}) -> frozenset({'PINK REGENCY TEACUP AND SAUCER', 'ROSES REGENCY TEACUP AND SAUCER'})",
          "frozenset({'GREEN REGENCY TEACUP AND SAUCER'}) -> frozenset({'PINK REGENCY TEACUP AND SAUCER'})",
          "frozenset({'GREEN REGENCY TEACUP AND SAUCER'}) -> frozenset({'REGENCY CAKESTAND 3 TIER'})",
          "frozenset({'GREEN REGENCY TEACUP AND SAUCER'}) -> frozenset({'ROSES REGENCY TEACUP AND SAUCER'})",
          "frozenset({'HAND OVER THE CHOCOLATE   SIGN'}) -> frozenset({'COOK WITH WINE METAL SIGN'})",
          "frozenset({'HAND OVER THE CHOCOLATE   SIGN'}) -> frozenset({'GIN + TONIC DIET METAL SIGN'})",
          "frozenset({'HAND OVER THE CHOCOLATE   SIGN'}) -> frozenset({'PLEASE ONE PERSON METAL SIGN'})",
          "frozenset({'HAND WARMER BIRD DESIGN'}) -> frozenset({'HAND WARMER OWL DESIGN'})",
          "frozenset({'HAND WARMER BIRD DESIGN'}) -> frozenset({'HAND WARMER SCOTTY DOG DESIGN'})",
          "frozenset({'HAND WARMER OWL DESIGN'}) -> frozenset({'HAND WARMER BIRD DESIGN'})",
          "frozenset({'HAND WARMER OWL DESIGN'}) -> frozenset({'HAND WARMER RED LOVE HEART'})",
          "frozenset({'HAND WARMER OWL DESIGN'}) -> frozenset({'HAND WARMER SCOTTY DOG DESIGN'})",
          "frozenset({'HAND WARMER OWL DESIGN'}) -> frozenset({'HAND WARMER UNION JACK'})",
          "frozenset({'HAND WARMER RED LOVE HEART'}) -> frozenset({'HAND WARMER OWL DESIGN'})",
          "frozenset({'HAND WARMER RED LOVE HEART'}) -> frozenset({'HAND WARMER SCOTTY DOG DESIGN'})",
          "frozenset({'HAND WARMER RED RETROSPOT'}) -> frozenset({'HAND WARMER OWL DESIGN'})",
          "frozenset({'HAND WARMER SCOTTY DOG DESIGN'}) -> frozenset({'HAND WARMER BIRD DESIGN'})",
          "frozenset({'HAND WARMER SCOTTY DOG DESIGN'}) -> frozenset({'HAND WARMER OWL DESIGN'})",
          "frozenset({'HAND WARMER SCOTTY DOG DESIGN'}) -> frozenset({'HAND WARMER RED LOVE HEART'})",
          "frozenset({'HAND WARMER SCOTTY DOG DESIGN'}) -> frozenset({'HAND WARMER UNION JACK'})",
          "frozenset({'HAND WARMER UNION JACK'}) -> frozenset({'HAND WARMER OWL DESIGN'})",
          "frozenset({'HAND WARMER UNION JACK'}) -> frozenset({'HAND WARMER SCOTTY DOG DESIGN'})",
          "frozenset({'HEART OF WICKER LARGE'}) -> frozenset({'HEART OF WICKER SMALL'})",
          "frozenset({'HEART OF WICKER LARGE'}) -> frozenset({'WHITE HANGING HEART T-LIGHT HOLDER'})",
          "frozenset({'HEART OF WICKER SMALL'}) -> frozenset({'HEART OF WICKER LARGE'})",
          "frozenset({'HOME BUILDING BLOCK WORD'}) -> frozenset({'LOVE BUILDING BLOCK WORD'})",
          "frozenset({'HOT WATER BOTTLE I AM SO POORLY'}) -> frozenset({'CHOCOLATE HOT WATER BOTTLE'})",
          "frozenset({'HOT WATER BOTTLE I AM SO POORLY'}) -> frozenset({'HOT WATER BOTTLE KEEP CALM'})",
          "frozenset({'HOT WATER BOTTLE I AM SO POORLY'}) -> frozenset({'HOT WATER BOTTLE TEA AND SYMPATHY'})",
          "frozenset({'HOT WATER BOTTLE TEA AND SYMPATHY'}) -> frozenset({'CHOCOLATE HOT WATER BOTTLE'})",
          "frozenset({'HOT WATER BOTTLE TEA AND SYMPATHY'}) -> frozenset({'HOT WATER BOTTLE I AM SO POORLY'})",
          "frozenset({'HOT WATER BOTTLE TEA AND SYMPATHY'}) -> frozenset({'HOT WATER BOTTLE KEEP CALM'})",
          "frozenset({'IVORY DINER WALL CLOCK'}) -> frozenset({'RED DINER WALL CLOCK'})",
          "frozenset({'IVORY KITCHEN SCALES'}) -> frozenset({'RED KITCHEN SCALES'})",
          "frozenset({'JUMBO  BAG BAROQUE BLACK WHITE'}) -> frozenset({'JUMBO BAG PINK POLKADOT'})",
          "frozenset({'JUMBO  BAG BAROQUE BLACK WHITE'}) -> frozenset({'JUMBO BAG RED RETROSPOT'})",
          "frozenset({'JUMBO  BAG BAROQUE BLACK WHITE'}) -> frozenset({'JUMBO STORAGE BAG SUKI'})",
          "frozenset({'JUMBO BAG ALPHABET'}) -> frozenset({'JUMBO BAG RED RETROSPOT'})",
          "frozenset({'JUMBO BAG APPLES'}) -> frozenset({'JUMBO BAG ALPHABET'})",
          "frozenset({'JUMBO BAG APPLES'}) -> frozenset({'JUMBO BAG PEARS'})",
          "frozenset({'JUMBO BAG APPLES'}) -> frozenset({'JUMBO BAG RED RETROSPOT'})",
          "frozenset({'JUMBO BAG APPLES'}) -> frozenset({'JUMBO BAG VINTAGE LEAF'})",
          "frozenset({'JUMBO BAG APPLES'}) -> frozenset({'LUNCH BAG APPLE DESIGN'})",
          "frozenset({'JUMBO BAG DOILEY PATTERNS'}) -> frozenset({'JUMBO BAG VINTAGE LEAF'})",
          "frozenset({'JUMBO BAG DOILEY PATTERNS'}) -> frozenset({'LUNCH BAG DOILEY PATTERN'})",
          "frozenset({'JUMBO BAG OWLS'}) -> frozenset({'JUMBO BAG RED RETROSPOT'})",
          "frozenset({'JUMBO BAG PEARS'}) -> frozenset({'JUMBO BAG APPLES'})",
          "frozenset({'JUMBO BAG PEARS'}) -> frozenset({'JUMBO BAG RED RETROSPOT'})",
          "frozenset({'JUMBO BAG PEARS'}) -> frozenset({'JUMBO BAG VINTAGE LEAF'})",
          "frozenset({'JUMBO BAG PINK POLKADOT'}) -> frozenset({'JUMBO BAG RED RETROSPOT'})",
          "frozenset({'JUMBO BAG PINK VINTAGE PAISLEY'}) -> frozenset({'JUMBO BAG PINK POLKADOT'})",
          "frozenset({'JUMBO BAG PINK VINTAGE PAISLEY'}) -> frozenset({'JUMBO BAG RED RETROSPOT'})",
          "frozenset({'JUMBO BAG PINK VINTAGE PAISLEY'}) -> frozenset({'JUMBO BAG SCANDINAVIAN BLUE PAISLEY'})",
          "frozenset({'JUMBO BAG PINK VINTAGE PAISLEY'}) -> frozenset({'JUMBO SHOPPER VINTAGE RED PAISLEY'})",
          "frozenset({'JUMBO BAG RED RETROSPOT', 'JUMBO BAG PINK POLKADOT'}) -> frozenset({'JUMBO BAG STRAWBERRY'})",
          "frozenset({'JUMBO BAG SCANDINAVIAN BLUE PAISLEY'}) -> frozenset({'JUMBO BAG PINK VINTAGE PAISLEY'})",
          "frozenset({'JUMBO BAG SCANDINAVIAN BLUE PAISLEY'}) -> frozenset({'JUMBO BAG RED RETROSPOT'})",
          "frozenset({'JUMBO BAG SCANDINAVIAN BLUE PAISLEY'}) -> frozenset({'JUMBO SHOPPER VINTAGE RED PAISLEY'})",
          "frozenset({'JUMBO BAG SPACEBOY DESIGN'}) -> frozenset({'JUMBO BAG RED RETROSPOT'})",
          "frozenset({'JUMBO BAG STRAWBERRY', 'JUMBO BAG PINK POLKADOT'}) -> frozenset({'JUMBO BAG RED RETROSPOT'})",
          "frozenset({'JUMBO BAG STRAWBERRY', 'JUMBO BAG RED RETROSPOT'}) -> frozenset({'JUMBO BAG PINK POLKADOT'})",
          "frozenset({'JUMBO BAG STRAWBERRY'}) -> frozenset({'JUMBO BAG PINK POLKADOT'})",
          "frozenset({'JUMBO BAG STRAWBERRY'}) -> frozenset({'JUMBO BAG RED RETROSPOT'})",
          "frozenset({'JUMBO BAG VINTAGE CHRISTMAS'}) -> frozenset({\"JUMBO BAG 50'S CHRISTMAS\"})",
          "frozenset({'JUMBO BAG VINTAGE DOILY'}) -> frozenset({'JUMBO BAG RED RETROSPOT'})",
          "frozenset({'JUMBO BAG VINTAGE LEAF'}) -> frozenset({'JUMBO BAG RED RETROSPOT'})",
          "frozenset({'JUMBO BAG WOODLAND ANIMALS'}) -> frozenset({'JUMBO BAG PINK POLKADOT'})",
          "frozenset({'JUMBO BAG WOODLAND ANIMALS'}) -> frozenset({'JUMBO BAG RED RETROSPOT'})",
          "frozenset({'JUMBO SHOPPER VINTAGE RED PAISLEY'}) -> frozenset({'JUMBO BAG RED RETROSPOT'})",
          "frozenset({'JUMBO STORAGE BAG SKULLS'}) -> frozenset({'JUMBO BAG PINK POLKADOT'})",
          "frozenset({'JUMBO STORAGE BAG SKULLS'}) -> frozenset({'JUMBO BAG RED RETROSPOT'})",
          "frozenset({'JUMBO STORAGE BAG SKULLS'}) -> frozenset({'JUMBO STORAGE BAG SUKI'})",
          "frozenset({'JUMBO STORAGE BAG SUKI'}) -> frozenset({'JUMBO BAG RED RETROSPOT'})",
          "frozenset({'KEY FOB '}) -> frozenset({'BACK DOOR'})",
          "frozenset({'KEY FOB '}) -> frozenset({'FRONT  DOOR'})",
          "frozenset({'KEY FOB '}) -> frozenset({'SHED'})",
          "frozenset({'LARGE WHITE HEART OF WICKER'}) -> frozenset({'SMALL WHITE HEART OF WICKER'})",
          "frozenset({'LOVE BUILDING BLOCK WORD'}) -> frozenset({'HOME BUILDING BLOCK WORD'})",
          "frozenset({'LOVE HOT WATER BOTTLE'}) -> frozenset({'HOT WATER BOTTLE KEEP CALM'})",
          "frozenset({'LUNCH BAG  BLACK SKULL.', 'LUNCH BAG CARS BLUE'}) -> frozenset({'LUNCH BAG PINK POLKADOT'})",
          "frozenset({'LUNCH BAG  BLACK SKULL.', 'LUNCH BAG CARS BLUE'}) -> frozenset({'LUNCH BAG RED RETROSPOT'})",
          "frozenset({'LUNCH BAG  BLACK SKULL.', 'LUNCH BAG SPACEBOY DESIGN'}) -> frozenset({'LUNCH BAG RED RETROSPOT'})",
          "frozenset({'LUNCH BAG  BLACK SKULL.'}) -> frozenset({'LUNCH BAG CARS BLUE'})",
          "frozenset({'LUNCH BAG  BLACK SKULL.'}) -> frozenset({'LUNCH BAG PINK POLKADOT'})",
          "frozenset({'LUNCH BAG  BLACK SKULL.'}) -> frozenset({'LUNCH BAG RED RETROSPOT'})",
          "frozenset({'LUNCH BAG  BLACK SKULL.'}) -> frozenset({'LUNCH BAG SPACEBOY DESIGN'})",
          "frozenset({'LUNCH BAG  BLACK SKULL.'}) -> frozenset({'LUNCH BAG SUKI DESIGN'})",
          "frozenset({'LUNCH BAG ALPHABET DESIGN'}) -> frozenset({'LUNCH BAG  BLACK SKULL.'})",
          "frozenset({'LUNCH BAG ALPHABET DESIGN'}) -> frozenset({'LUNCH BAG APPLE DESIGN'})",
          "frozenset({'LUNCH BAG ALPHABET DESIGN'}) -> frozenset({'LUNCH BAG CARS BLUE'})",
          "frozenset({'LUNCH BAG ALPHABET DESIGN'}) -> frozenset({'LUNCH BAG RED RETROSPOT'})",
          "frozenset({'LUNCH BAG ALPHABET DESIGN'}) -> frozenset({'LUNCH BAG SPACEBOY DESIGN'})",
          "frozenset({'LUNCH BAG ALPHABET DESIGN'}) -> frozenset({'LUNCH BAG SUKI DESIGN'})",
          "frozenset({'LUNCH BAG ALPHABET DESIGN'}) -> frozenset({'LUNCH BAG VINTAGE LEAF DESIGN'})",
          "frozenset({'LUNCH BAG APPLE DESIGN'}) -> frozenset({'LUNCH BAG  BLACK SKULL.'})",
          "frozenset({'LUNCH BAG APPLE DESIGN'}) -> frozenset({'LUNCH BAG RED RETROSPOT'})",
          "frozenset({'LUNCH BAG APPLE DESIGN'}) -> frozenset({'LUNCH BAG SUKI DESIGN'})",
          "frozenset({'LUNCH BAG CARS BLUE'}) -> frozenset({'LUNCH BAG  BLACK SKULL.'})",
          "frozenset({'LUNCH BAG CARS BLUE'}) -> frozenset({'LUNCH BAG PINK POLKADOT'})",
          "frozenset({'LUNCH BAG CARS BLUE'}) -> frozenset({'LUNCH BAG RED RETROSPOT'})",
          "frozenset({'LUNCH BAG CARS BLUE'}) -> frozenset({'LUNCH BAG SPACEBOY DESIGN'})",
          "frozenset({'LUNCH BAG CARS BLUE'}) -> frozenset({'LUNCH BAG SUKI DESIGN'})",
          "frozenset({'LUNCH BAG CARS BLUE'}) -> frozenset({'LUNCH BAG WOODLAND'})",
          "frozenset({'LUNCH BAG DOILEY PATTERN'}) -> frozenset({'JUMBO BAG DOILEY PATTERNS'})",
          "frozenset({'LUNCH BAG DOLLY GIRL DESIGN'}) -> frozenset({'LUNCH BAG  BLACK SKULL.'})",
          "frozenset({'LUNCH BAG DOLLY GIRL DESIGN'}) -> frozenset({'LUNCH BAG CARS BLUE'})",
          "frozenset({'LUNCH BAG DOLLY GIRL DESIGN'}) -> frozenset({'LUNCH BAG RED RETROSPOT'})",
          "frozenset({'LUNCH BAG DOLLY GIRL DESIGN'}) -> frozenset({'LUNCH BAG SPACEBOY DESIGN'})",
          "frozenset({'LUNCH BAG DOLLY GIRL DESIGN'}) -> frozenset({'LUNCH BAG SUKI DESIGN'})",
          "frozenset({'LUNCH BAG DOLLY GIRL DESIGN'}) -> frozenset({'LUNCH BAG WOODLAND'})",
          "frozenset({'LUNCH BAG PINK POLKADOT', 'LUNCH BAG  BLACK SKULL.'}) -> frozenset({'LUNCH BAG CARS BLUE'})",
          "frozenset({'LUNCH BAG PINK POLKADOT', 'LUNCH BAG  BLACK SKULL.'}) -> frozenset({'LUNCH BAG RED RETROSPOT'})",
          "frozenset({'LUNCH BAG PINK POLKADOT', 'LUNCH BAG CARS BLUE'}) -> frozenset({'LUNCH BAG  BLACK SKULL.'})",
          "frozenset({'LUNCH BAG PINK POLKADOT', 'LUNCH BAG CARS BLUE'}) -> frozenset({'LUNCH BAG RED RETROSPOT'})",
          "frozenset({'LUNCH BAG PINK POLKADOT'}) -> frozenset({'LUNCH BAG  BLACK SKULL.'})",
          "frozenset({'LUNCH BAG PINK POLKADOT'}) -> frozenset({'LUNCH BAG CARS BLUE'})",
          "frozenset({'LUNCH BAG PINK POLKADOT'}) -> frozenset({'LUNCH BAG RED RETROSPOT'})",
          "frozenset({'LUNCH BAG PINK POLKADOT'}) -> frozenset({'LUNCH BAG SPACEBOY DESIGN'})",
          "frozenset({'LUNCH BAG PINK POLKADOT'}) -> frozenset({'LUNCH BAG SUKI DESIGN'})",
          "frozenset({'LUNCH BAG RED RETROSPOT', 'LUNCH BAG  BLACK SKULL.'}) -> frozenset({'LUNCH BAG CARS BLUE'})",
          "frozenset({'LUNCH BAG RED RETROSPOT', 'LUNCH BAG  BLACK SKULL.'}) -> frozenset({'LUNCH BAG PINK POLKADOT'})",
          "frozenset({'LUNCH BAG RED RETROSPOT', 'LUNCH BAG  BLACK SKULL.'}) -> frozenset({'LUNCH BAG SPACEBOY DESIGN'})",
          "frozenset({'LUNCH BAG RED RETROSPOT', 'LUNCH BAG  BLACK SKULL.'}) -> frozenset({'LUNCH BAG SUKI DESIGN'})",
          "frozenset({'LUNCH BAG RED RETROSPOT', 'LUNCH BAG CARS BLUE'}) -> frozenset({'LUNCH BAG  BLACK SKULL.'})",
          "frozenset({'LUNCH BAG RED RETROSPOT', 'LUNCH BAG CARS BLUE'}) -> frozenset({'LUNCH BAG PINK POLKADOT'})",
          "frozenset({'LUNCH BAG RED RETROSPOT', 'LUNCH BAG PINK POLKADOT'}) -> frozenset({'LUNCH BAG  BLACK SKULL.'})",
          "frozenset({'LUNCH BAG RED RETROSPOT', 'LUNCH BAG PINK POLKADOT'}) -> frozenset({'LUNCH BAG CARS BLUE'})",
          "frozenset({'LUNCH BAG RED RETROSPOT', 'LUNCH BAG PINK POLKADOT'}) -> frozenset({'LUNCH BAG SUKI DESIGN'})",
          "frozenset({'LUNCH BAG RED RETROSPOT', 'LUNCH BAG SPACEBOY DESIGN'}) -> frozenset({'LUNCH BAG  BLACK SKULL.'})",
          "frozenset({'LUNCH BAG RED RETROSPOT'}) -> frozenset({'LUNCH BAG  BLACK SKULL.'})",
          "frozenset({'LUNCH BAG RED RETROSPOT'}) -> frozenset({'LUNCH BAG PINK POLKADOT'})",
          "frozenset({'LUNCH BAG SPACEBOY DESIGN'}) -> frozenset({'LUNCH BAG  BLACK SKULL.'})",
          "frozenset({'LUNCH BAG SPACEBOY DESIGN'}) -> frozenset({'LUNCH BAG CARS BLUE'})",
          "frozenset({'LUNCH BAG SPACEBOY DESIGN'}) -> frozenset({'LUNCH BAG RED RETROSPOT'})",
          "frozenset({'LUNCH BAG SPACEBOY DESIGN'}) -> frozenset({'LUNCH BAG SUKI DESIGN'})",
          "frozenset({'LUNCH BAG SPACEBOY DESIGN'}) -> frozenset({'LUNCH BAG WOODLAND'})",
          "frozenset({'LUNCH BAG SUKI DESIGN', 'LUNCH BAG  BLACK SKULL.'}) -> frozenset({'LUNCH BAG RED RETROSPOT'})",
          "frozenset({'LUNCH BAG SUKI DESIGN', 'LUNCH BAG PINK POLKADOT'}) -> frozenset({'LUNCH BAG RED RETROSPOT'})",
          "frozenset({'LUNCH BAG SUKI DESIGN', 'LUNCH BAG RED RETROSPOT'}) -> frozenset({'LUNCH BAG  BLACK SKULL.'})",
          "frozenset({'LUNCH BAG SUKI DESIGN', 'LUNCH BAG RED RETROSPOT'}) -> frozenset({'LUNCH BAG PINK POLKADOT'})",
          "frozenset({'LUNCH BAG SUKI DESIGN'}) -> frozenset({'LUNCH BAG  BLACK SKULL.'})",
          "frozenset({'LUNCH BAG SUKI DESIGN'}) -> frozenset({'LUNCH BAG APPLE DESIGN'})",
          "frozenset({'LUNCH BAG SUKI DESIGN'}) -> frozenset({'LUNCH BAG CARS BLUE'})",
          "frozenset({'LUNCH BAG SUKI DESIGN'}) -> frozenset({'LUNCH BAG PINK POLKADOT'})",
          "frozenset({'LUNCH BAG SUKI DESIGN'}) -> frozenset({'LUNCH BAG RED RETROSPOT'})",
          "frozenset({'LUNCH BAG SUKI DESIGN'}) -> frozenset({'LUNCH BAG SPACEBOY DESIGN'})",
          "frozenset({'LUNCH BAG VINTAGE DOILY'}) -> frozenset({'JUMBO BAG VINTAGE DOILY'})",
          "frozenset({'LUNCH BAG VINTAGE DOILY'}) -> frozenset({'LUNCH BAG APPLE DESIGN'})",
          "frozenset({'LUNCH BAG VINTAGE DOILY'}) -> frozenset({'LUNCH BAG RED RETROSPOT'})",
          "frozenset({'LUNCH BAG VINTAGE DOILY'}) -> frozenset({'LUNCH BAG SPACEBOY DESIGN'})",
          "frozenset({'LUNCH BAG VINTAGE LEAF DESIGN'}) -> frozenset({'LUNCH BAG  BLACK SKULL.'})",
          "frozenset({'LUNCH BAG VINTAGE LEAF DESIGN'}) -> frozenset({'LUNCH BAG ALPHABET DESIGN'})",
          "frozenset({'LUNCH BAG VINTAGE LEAF DESIGN'}) -> frozenset({'LUNCH BAG APPLE DESIGN'})",
          "frozenset({'LUNCH BAG VINTAGE LEAF DESIGN'}) -> frozenset({'LUNCH BAG RED RETROSPOT'})",
          "frozenset({'LUNCH BAG VINTAGE LEAF DESIGN'}) -> frozenset({'LUNCH BAG SPACEBOY DESIGN'})",
          "frozenset({'LUNCH BAG VINTAGE LEAF DESIGN'}) -> frozenset({'LUNCH BAG SUKI DESIGN'})",
          "frozenset({'LUNCH BAG WOODLAND'}) -> frozenset({'LUNCH BAG  BLACK SKULL.'})",
          "frozenset({'LUNCH BAG WOODLAND'}) -> frozenset({'LUNCH BAG CARS BLUE'})",
          "frozenset({'LUNCH BAG WOODLAND'}) -> frozenset({'LUNCH BAG RED RETROSPOT'})",
          "frozenset({'LUNCH BAG WOODLAND'}) -> frozenset({'LUNCH BAG SPACEBOY DESIGN'})",
          "frozenset({'LUNCH BAG WOODLAND'}) -> frozenset({'LUNCH BAG SUKI DESIGN'})",
          "frozenset({'PACK OF 60 DINOSAUR CAKE CASES'}) -> frozenset({'60 TEATIME FAIRY CAKE CASES'})",
          "frozenset({'PACK OF 60 DINOSAUR CAKE CASES'}) -> frozenset({'PACK OF 60 PINK PAISLEY CAKE CASES'})",
          "frozenset({'PACK OF 60 DINOSAUR CAKE CASES'}) -> frozenset({'PACK OF 72 RETROSPOT CAKE CASES'})",
          "frozenset({'PACK OF 60 PINK PAISLEY CAKE CASES'}) -> frozenset({'60 TEATIME FAIRY CAKE CASES'})",
          "frozenset({'PACK OF 60 PINK PAISLEY CAKE CASES'}) -> frozenset({'PACK OF 72 RETROSPOT CAKE CASES'})",
          "frozenset({'PACK OF 60 SPACEBOY CAKE CASES'}) -> frozenset({'PACK OF 72 RETROSPOT CAKE CASES'})",
          "frozenset({'PACK OF 72 SKULL CAKE CASES'}) -> frozenset({'PACK OF 72 RETROSPOT CAKE CASES'})",
          "frozenset({'PAINTED METAL PEARS ASSORTED'}) -> frozenset({'ASSORTED COLOUR BIRD ORNAMENT'})",
          "frozenset({'PAPER CHAIN KIT VINTAGE CHRISTMAS'}) -> frozenset({\"PAPER CHAIN KIT 50'S CHRISTMAS\"})",
          "frozenset({'PINK BLUE FELT CRAFT TRINKET BOX'}) -> frozenset({'PINK CREAM FELT CRAFT TRINKET BOX'})",
          "frozenset({'PINK CREAM FELT CRAFT TRINKET BOX'}) -> frozenset({'PINK BLUE FELT CRAFT TRINKET BOX'})",
          "frozenset({'PINK HAPPY BIRTHDAY BUNTING'}) -> frozenset({'BLUE HAPPY BIRTHDAY BUNTING'})",
          "frozenset({'PINK REGENCY TEACUP AND SAUCER', 'GREEN REGENCY TEACUP AND SAUCER'}) -> frozenset({'ROSES REGENCY TEACUP AND SAUCER'})",
          "frozenset({'PINK REGENCY TEACUP AND SAUCER', 'ROSES REGENCY TEACUP AND SAUCER'}) -> frozenset({'GREEN REGENCY TEACUP AND SAUCER'})",
          "frozenset({'PINK REGENCY TEACUP AND SAUCER'}) -> frozenset({'GREEN REGENCY TEACUP AND SAUCER', 'ROSES REGENCY TEACUP AND SAUCER'})",
          "frozenset({'PINK REGENCY TEACUP AND SAUCER'}) -> frozenset({'GREEN REGENCY TEACUP AND SAUCER'})",
          "frozenset({'PINK REGENCY TEACUP AND SAUCER'}) -> frozenset({'REGENCY CAKESTAND 3 TIER'})",
          "frozenset({'PINK REGENCY TEACUP AND SAUCER'}) -> frozenset({'ROSES REGENCY TEACUP AND SAUCER'})",
          "frozenset({'PINK VINTAGE PAISLEY PICNIC BAG'}) -> frozenset({'SCANDINAVIAN PAISLEY PICNIC BAG'})",
          "frozenset({'PLASTERS IN TIN CIRCUS PARADE'}) -> frozenset({'PLASTERS IN TIN SPACEBOY'})",
          "frozenset({'PLASTERS IN TIN CIRCUS PARADE'}) -> frozenset({'PLASTERS IN TIN STRONGMAN'})",
          "frozenset({'PLASTERS IN TIN CIRCUS PARADE'}) -> frozenset({'PLASTERS IN TIN WOODLAND ANIMALS'})",
          "frozenset({'PLASTERS IN TIN SPACEBOY'}) -> frozenset({'PLASTERS IN TIN CIRCUS PARADE'})",
          "frozenset({'PLASTERS IN TIN SPACEBOY'}) -> frozenset({'PLASTERS IN TIN WOODLAND ANIMALS'})",
          "frozenset({'PLASTERS IN TIN STRONGMAN'}) -> frozenset({'PLASTERS IN TIN CIRCUS PARADE'})",
          "frozenset({'PLASTERS IN TIN STRONGMAN'}) -> frozenset({'PLASTERS IN TIN SPACEBOY'})",
          "frozenset({'PLASTERS IN TIN STRONGMAN'}) -> frozenset({'PLASTERS IN TIN WOODLAND ANIMALS'})",
          "frozenset({'PLASTERS IN TIN WOODLAND ANIMALS'}) -> frozenset({'PLASTERS IN TIN CIRCUS PARADE'})",
          "frozenset({'PLASTERS IN TIN WOODLAND ANIMALS'}) -> frozenset({'PLASTERS IN TIN SPACEBOY'})",
          "frozenset({'RED  HARMONICA IN BOX'}) -> frozenset({'BLUE HARMONICA IN BOX'})",
          "frozenset({'RED DINER WALL CLOCK'}) -> frozenset({'IVORY DINER WALL CLOCK'})",
          "frozenset({'RED HANGING HEART T-LIGHT HOLDER'}) -> frozenset({'WHITE HANGING HEART T-LIGHT HOLDER'})",
          "frozenset({'RED KITCHEN SCALES'}) -> frozenset({'IVORY KITCHEN SCALES'})",
          "frozenset({'RED RETROSPOT CHARLOTTE BAG'}) -> frozenset({'CHARLOTTE BAG PINK POLKADOT'})",
          "frozenset({'RED RETROSPOT CHARLOTTE BAG'}) -> frozenset({'CHARLOTTE BAG SUKI DESIGN'})",
          "frozenset({'RED RETROSPOT CHARLOTTE BAG'}) -> frozenset({'JUMBO BAG RED RETROSPOT'})",
          "frozenset({'RED RETROSPOT CHARLOTTE BAG'}) -> frozenset({'STRAWBERRY CHARLOTTE BAG'})",
          "frozenset({'RED RETROSPOT CHARLOTTE BAG'}) -> frozenset({'WOODLAND CHARLOTTE BAG'})",
          "frozenset({'RED STRIPE CERAMIC DRAWER KNOB'}) -> frozenset({'BLUE STRIPE CERAMIC DRAWER KNOB'})",
          "frozenset({'REGENCY CAKESTAND 3 TIER', 'GREEN REGENCY TEACUP AND SAUCER'}) -> frozenset({'ROSES REGENCY TEACUP AND SAUCER'})",
          "frozenset({'REGENCY CAKESTAND 3 TIER', 'ROSES REGENCY TEACUP AND SAUCER'}) -> frozenset({'GREEN REGENCY TEACUP AND SAUCER'})",
          "frozenset({'REGENCY TEA PLATE GREEN'}) -> frozenset({'REGENCY TEA PLATE ROSES'})",
          "frozenset({'REGENCY TEA PLATE ROSES'}) -> frozenset({'REGENCY TEA PLATE GREEN'})",
          "frozenset({'RETROSPOT HEART HOT WATER BOTTLE'}) -> frozenset({'CHOCOLATE HOT WATER BOTTLE'})",
          "frozenset({'RETROSPOT HEART HOT WATER BOTTLE'}) -> frozenset({'SCOTTIE DOG HOT WATER BOTTLE'})",
          "frozenset({'ROSES REGENCY TEACUP AND SAUCER'}) -> frozenset({'GREEN REGENCY TEACUP AND SAUCER'})",
          "frozenset({'ROSES REGENCY TEACUP AND SAUCER'}) -> frozenset({'PINK REGENCY TEACUP AND SAUCER', 'GREEN REGENCY TEACUP AND SAUCER'})",
          "frozenset({'ROSES REGENCY TEACUP AND SAUCER'}) -> frozenset({'PINK REGENCY TEACUP AND SAUCER'})",
          "frozenset({'ROSES REGENCY TEACUP AND SAUCER'}) -> frozenset({'REGENCY CAKESTAND 3 TIER'})",
          "frozenset({'ROUND SNACK BOXES SET OF 4 FRUITS'}) -> frozenset({'ROUND SNACK BOXES SET OF4 WOODLAND'})",
          "frozenset({'ROUND SNACK BOXES SET OF4 WOODLAND'}) -> frozenset({'POSTAGE'})",
          "frozenset({'ROUND SNACK BOXES SET OF4 WOODLAND'}) -> frozenset({'ROUND SNACK BOXES SET OF 4 FRUITS'})",
          "frozenset({'SCANDINAVIAN PAISLEY PICNIC BAG'}) -> frozenset({'PINK VINTAGE PAISLEY PICNIC BAG'})",
          "frozenset({'SCOTTIE DOG HOT WATER BOTTLE'}) -> frozenset({'CHOCOLATE HOT WATER BOTTLE'})",
          "frozenset({'SET OF 12 FAIRY CAKE BAKING CASES'}) -> frozenset({'SET OF 12 MINI LOAF BAKING CASES'})",
          "frozenset({'SET OF 12 FAIRY CAKE BAKING CASES'}) -> frozenset({'SET OF 6 TEA TIME BAKING CASES'})",
          "frozenset({'SET OF 12 MINI LOAF BAKING CASES'}) -> frozenset({'SET OF 12 FAIRY CAKE BAKING CASES'})",
          "frozenset({'SET OF 3 BUTTERFLY COOKIE CUTTERS'}) -> frozenset({'SET OF 3 HEART COOKIE CUTTERS'})",
          "frozenset({'SET OF 3 HEART COOKIE CUTTERS'}) -> frozenset({'SET OF 3 BUTTERFLY COOKIE CUTTERS'})",
          "frozenset({'SET OF 6 SPICE TINS PANTRY DESIGN'}) -> frozenset({'SET OF 3 CAKE TINS PANTRY DESIGN'})",
          "frozenset({'SET OF 6 TEA TIME BAKING CASES'}) -> frozenset({'SET OF 12 FAIRY CAKE BAKING CASES'})",
          "frozenset({'SET OF TEA COFFEE SUGAR TINS PANTRY'}) -> frozenset({'SET OF 3 CAKE TINS PANTRY DESIGN'})",
          "frozenset({'SET/10 BLUE POLKADOT PARTY CANDLES'}) -> frozenset({'SET/10 PINK POLKADOT PARTY CANDLES'})",
          "frozenset({'SET/10 PINK POLKADOT PARTY CANDLES'}) -> frozenset({'SET/10 BLUE POLKADOT PARTY CANDLES'})",
          "frozenset({'SET/6 RED SPOTTY PAPER CUPS'}) -> frozenset({'SET/6 RED SPOTTY PAPER PLATES'})",
          "frozenset({'SET/6 RED SPOTTY PAPER PLATES'}) -> frozenset({'SET/20 RED RETROSPOT PAPER NAPKINS'})",
          "frozenset({'SET/6 RED SPOTTY PAPER PLATES'}) -> frozenset({'SET/6 RED SPOTTY PAPER CUPS'})",
          "frozenset({'SHED'}) -> frozenset({'KEY FOB '})",
          "frozenset({'SMALL DOLLY MIX DESIGN ORANGE BOWL'}) -> frozenset({'SMALL MARSHMALLOWS PINK BOWL'})",
          "frozenset({'SMALL MARSHMALLOWS PINK BOWL'}) -> frozenset({'SMALL DOLLY MIX DESIGN ORANGE BOWL'})",
          "frozenset({'SMALL WHITE HEART OF WICKER'}) -> frozenset({'LARGE WHITE HEART OF WICKER'})",
          "frozenset({'SPACEBOY LUNCH BOX'}) -> frozenset({'DOLLY GIRL LUNCH BOX'})",
          "frozenset({'SPOTTY BUNTING'}) -> frozenset({'PARTY BUNTING'})",
          "frozenset({'STRAWBERRY CERAMIC TRINKET BOX'}) -> frozenset({'SWEETHEART CERAMIC TRINKET BOX'})",
          "frozenset({'STRAWBERRY CHARLOTTE BAG'}) -> frozenset({'CHARLOTTE BAG PINK POLKADOT'})",
          "frozenset({'STRAWBERRY CHARLOTTE BAG'}) -> frozenset({'CHARLOTTE BAG SUKI DESIGN'})",
          "frozenset({'STRAWBERRY CHARLOTTE BAG'}) -> frozenset({'RED RETROSPOT CHARLOTTE BAG'})",
          "frozenset({'STRAWBERRY CHARLOTTE BAG'}) -> frozenset({'WOODLAND CHARLOTTE BAG'})",
          "frozenset({'SWEETHEART CERAMIC TRINKET BOX'}) -> frozenset({'STRAWBERRY CERAMIC TRINKET BOX'})",
          "frozenset({'TOILET METAL SIGN'}) -> frozenset({'BATHROOM METAL SIGN'})",
          "frozenset({'VINTAGE HEADS AND TAILS CARD GAME'}) -> frozenset({'VINTAGE SNAP CARDS'})",
          "frozenset({'WOOD 2 DRAWER CABINET WHITE FINISH'}) -> frozenset({'WOODEN FRAME ANTIQUE WHITE'})",
          "frozenset({'WOOD 2 DRAWER CABINET WHITE FINISH'}) -> frozenset({'WOODEN PICTURE FRAME WHITE FINISH'})",
          "frozenset({'WOODEN FRAME ANTIQUE WHITE'}) -> frozenset({'WOODEN PICTURE FRAME WHITE FINISH'})",
          "frozenset({'WOODEN HEART CHRISTMAS SCANDINAVIAN'}) -> frozenset({'WOODEN STAR CHRISTMAS SCANDINAVIAN'})",
          "frozenset({'WOODEN HEART CHRISTMAS SCANDINAVIAN'}) -> frozenset({'WOODEN TREE CHRISTMAS SCANDINAVIAN'})",
          "frozenset({'WOODEN PICTURE FRAME WHITE FINISH'}) -> frozenset({'WOODEN FRAME ANTIQUE WHITE'})",
          "frozenset({'WOODEN STAR CHRISTMAS SCANDINAVIAN'}) -> frozenset({'WOODEN HEART CHRISTMAS SCANDINAVIAN'})",
          "frozenset({'WOODEN STAR CHRISTMAS SCANDINAVIAN'}) -> frozenset({'WOODEN TREE CHRISTMAS SCANDINAVIAN'})",
          "frozenset({'WOODEN TREE CHRISTMAS SCANDINAVIAN'}) -> frozenset({'WOODEN HEART CHRISTMAS SCANDINAVIAN'})",
          "frozenset({'WOODEN TREE CHRISTMAS SCANDINAVIAN'}) -> frozenset({'WOODEN STAR CHRISTMAS SCANDINAVIAN'})",
          "frozenset({'WOODLAND CHARLOTTE BAG'}) -> frozenset({'CHARLOTTE BAG SUKI DESIGN'})",
          "frozenset({'WOODLAND CHARLOTTE BAG'}) -> frozenset({'RED RETROSPOT CHARLOTTE BAG'})",
          "frozenset({'WOODLAND CHARLOTTE BAG'}) -> frozenset({'STRAWBERRY CHARLOTTE BAG'})"
         ],
         "labels": [
          "frozenset({\"JUMBO BAG 50'S CHRISTMAS\"}) -> frozenset({'JUMBO BAG VINTAGE CHRISTMAS'})",
          "frozenset({\"PAPER CHAIN KIT 50'S CHRISTMAS\"}) -> frozenset({'PAPER CHAIN KIT VINTAGE CHRISTMAS'})",
          "frozenset({\"POPPY'S PLAYHOUSE BEDROOM\"}) -> frozenset({\"POPPY'S PLAYHOUSE KITCHEN\"})",
          "frozenset({\"POPPY'S PLAYHOUSE BEDROOM\"}) -> frozenset({\"POPPY'S PLAYHOUSE LIVINGROOM\"})",
          "frozenset({\"POPPY'S PLAYHOUSE KITCHEN\"}) -> frozenset({\"POPPY'S PLAYHOUSE BEDROOM\"})",
          "frozenset({\"POPPY'S PLAYHOUSE KITCHEN\"}) -> frozenset({\"POPPY'S PLAYHOUSE LIVINGROOM\"})",
          "frozenset({\"POPPY'S PLAYHOUSE LIVINGROOM\"}) -> frozenset({\"POPPY'S PLAYHOUSE BEDROOM\"})",
          "frozenset({\"POPPY'S PLAYHOUSE LIVINGROOM\"}) -> frozenset({\"POPPY'S PLAYHOUSE KITCHEN\"})",
          "frozenset({'60 TEATIME FAIRY CAKE CASES'}) -> frozenset({'PACK OF 60 PINK PAISLEY CAKE CASES'})",
          "frozenset({'60 TEATIME FAIRY CAKE CASES'}) -> frozenset({'PACK OF 72 RETROSPOT CAKE CASES'})",
          "frozenset({'72 SWEETHEART FAIRY CAKE CASES'}) -> frozenset({'60 TEATIME FAIRY CAKE CASES'})",
          "frozenset({'72 SWEETHEART FAIRY CAKE CASES'}) -> frozenset({'PACK OF 72 RETROSPOT CAKE CASES'})",
          "frozenset({'ALARM CLOCK BAKELIKE CHOCOLATE'}) -> frozenset({'ALARM CLOCK BAKELIKE GREEN'})",
          "frozenset({'ALARM CLOCK BAKELIKE CHOCOLATE'}) -> frozenset({'ALARM CLOCK BAKELIKE RED'})",
          "frozenset({'ALARM CLOCK BAKELIKE GREEN', 'ALARM CLOCK BAKELIKE PINK'}) -> frozenset({'ALARM CLOCK BAKELIKE RED'})",
          "frozenset({'ALARM CLOCK BAKELIKE GREEN', 'ALARM CLOCK BAKELIKE RED'}) -> frozenset({'ALARM CLOCK BAKELIKE PINK'})",
          "frozenset({'ALARM CLOCK BAKELIKE GREEN'}) -> frozenset({'ALARM CLOCK BAKELIKE PINK'})",
          "frozenset({'ALARM CLOCK BAKELIKE GREEN'}) -> frozenset({'ALARM CLOCK BAKELIKE RED'})",
          "frozenset({'ALARM CLOCK BAKELIKE IVORY'}) -> frozenset({'ALARM CLOCK BAKELIKE GREEN'})",
          "frozenset({'ALARM CLOCK BAKELIKE IVORY'}) -> frozenset({'ALARM CLOCK BAKELIKE PINK'})",
          "frozenset({'ALARM CLOCK BAKELIKE IVORY'}) -> frozenset({'ALARM CLOCK BAKELIKE RED'})",
          "frozenset({'ALARM CLOCK BAKELIKE ORANGE'}) -> frozenset({'ALARM CLOCK BAKELIKE GREEN'})",
          "frozenset({'ALARM CLOCK BAKELIKE ORANGE'}) -> frozenset({'ALARM CLOCK BAKELIKE RED'})",
          "frozenset({'ALARM CLOCK BAKELIKE PINK'}) -> frozenset({'ALARM CLOCK BAKELIKE GREEN'})",
          "frozenset({'ALARM CLOCK BAKELIKE PINK'}) -> frozenset({'ALARM CLOCK BAKELIKE IVORY'})",
          "frozenset({'ALARM CLOCK BAKELIKE PINK'}) -> frozenset({'ALARM CLOCK BAKELIKE RED'})",
          "frozenset({'ALARM CLOCK BAKELIKE RED', 'ALARM CLOCK BAKELIKE PINK'}) -> frozenset({'ALARM CLOCK BAKELIKE GREEN'})",
          "frozenset({'ALARM CLOCK BAKELIKE RED'}) -> frozenset({'ALARM CLOCK BAKELIKE GREEN'})",
          "frozenset({'ALARM CLOCK BAKELIKE RED'}) -> frozenset({'ALARM CLOCK BAKELIKE IVORY'})",
          "frozenset({'ALARM CLOCK BAKELIKE RED'}) -> frozenset({'ALARM CLOCK BAKELIKE PINK'})",
          "frozenset({'BACK DOOR'}) -> frozenset({'KEY FOB '})",
          "frozenset({'BAKING SET SPACEBOY DESIGN'}) -> frozenset({'BAKING SET 9 PIECE RETROSPOT'})",
          "frozenset({'BATHROOM METAL SIGN'}) -> frozenset({'TOILET METAL SIGN'})",
          "frozenset({'BLUE HAPPY BIRTHDAY BUNTING'}) -> frozenset({'PINK HAPPY BIRTHDAY BUNTING'})",
          "frozenset({'BLUE HARMONICA IN BOX'}) -> frozenset({'RED  HARMONICA IN BOX'})",
          "frozenset({'BLUE STRIPE CERAMIC DRAWER KNOB'}) -> frozenset({'RED STRIPE CERAMIC DRAWER KNOB'})",
          "frozenset({'CANDLEHOLDER PINK HANGING HEART'}) -> frozenset({'WHITE HANGING HEART T-LIGHT HOLDER'})",
          "frozenset({'CHARLOTTE BAG APPLES DESIGN'}) -> frozenset({'RED RETROSPOT CHARLOTTE BAG'})",
          "frozenset({'CHARLOTTE BAG PINK POLKADOT'}) -> frozenset({'CHARLOTTE BAG SUKI DESIGN'})",
          "frozenset({'CHARLOTTE BAG PINK POLKADOT'}) -> frozenset({'RED RETROSPOT CHARLOTTE BAG'})",
          "frozenset({'CHARLOTTE BAG PINK POLKADOT'}) -> frozenset({'STRAWBERRY CHARLOTTE BAG'})",
          "frozenset({'CHARLOTTE BAG SUKI DESIGN'}) -> frozenset({'CHARLOTTE BAG PINK POLKADOT'})",
          "frozenset({'CHARLOTTE BAG SUKI DESIGN'}) -> frozenset({'RED RETROSPOT CHARLOTTE BAG'})",
          "frozenset({'CHARLOTTE BAG SUKI DESIGN'}) -> frozenset({'STRAWBERRY CHARLOTTE BAG'})",
          "frozenset({'CHARLOTTE BAG SUKI DESIGN'}) -> frozenset({'WOODLAND CHARLOTTE BAG'})",
          "frozenset({'CHILDRENS CUTLERY DOLLY GIRL'}) -> frozenset({'CHILDRENS CUTLERY SPACEBOY'})",
          "frozenset({'CHILDRENS CUTLERY SPACEBOY'}) -> frozenset({'CHILDRENS CUTLERY DOLLY GIRL'})",
          "frozenset({'CHOCOLATE HOT WATER BOTTLE'}) -> frozenset({'HOT WATER BOTTLE I AM SO POORLY'})",
          "frozenset({'CHOCOLATE HOT WATER BOTTLE'}) -> frozenset({'HOT WATER BOTTLE TEA AND SYMPATHY'})",
          "frozenset({'CHOCOLATE HOT WATER BOTTLE'}) -> frozenset({'SCOTTIE DOG HOT WATER BOTTLE'})",
          "frozenset({'CHRISTMAS CRAFT LITTLE FRIENDS'}) -> frozenset({'CHRISTMAS CRAFT TREE TOP ANGEL'})",
          "frozenset({'CHRISTMAS CRAFT LITTLE FRIENDS'}) -> frozenset({'CHRISTMAS CRAFT WHITE FAIRY'})",
          "frozenset({'CHRISTMAS CRAFT TREE TOP ANGEL'}) -> frozenset({'CHRISTMAS CRAFT LITTLE FRIENDS'})",
          "frozenset({'CHRISTMAS CRAFT WHITE FAIRY'}) -> frozenset({'CHRISTMAS CRAFT LITTLE FRIENDS'})",
          "frozenset({'COOK WITH WINE METAL SIGN'}) -> frozenset({'GIN + TONIC DIET METAL SIGN'})",
          "frozenset({'COOK WITH WINE METAL SIGN'}) -> frozenset({'HAND OVER THE CHOCOLATE   SIGN'})",
          "frozenset({'COOK WITH WINE METAL SIGN'}) -> frozenset({'PLEASE ONE PERSON METAL SIGN'})",
          "frozenset({'DOLLY GIRL LUNCH BOX'}) -> frozenset({'SPACEBOY LUNCH BOX'})",
          "frozenset({'FELTCRAFT PRINCESS CHARLOTTE DOLL'}) -> frozenset({'FELTCRAFT PRINCESS LOLA DOLL'})",
          "frozenset({'FELTCRAFT PRINCESS LOLA DOLL'}) -> frozenset({'FELTCRAFT PRINCESS CHARLOTTE DOLL'})",
          "frozenset({'FRONT  DOOR'}) -> frozenset({'KEY FOB '})",
          "frozenset({'GARDENERS KNEELING PAD CUP OF TEA'}) -> frozenset({'GARDENERS KNEELING PAD KEEP CALM'})",
          "frozenset({'GARDENERS KNEELING PAD KEEP CALM'}) -> frozenset({'GARDENERS KNEELING PAD CUP OF TEA'})",
          "frozenset({'GIN + TONIC DIET METAL SIGN'}) -> frozenset({'COOK WITH WINE METAL SIGN'})",
          "frozenset({'GIN + TONIC DIET METAL SIGN'}) -> frozenset({'HAND OVER THE CHOCOLATE   SIGN'})",
          "frozenset({'GREEN REGENCY TEACUP AND SAUCER', 'ROSES REGENCY TEACUP AND SAUCER'}) -> frozenset({'PINK REGENCY TEACUP AND SAUCER'})",
          "frozenset({'GREEN REGENCY TEACUP AND SAUCER', 'ROSES REGENCY TEACUP AND SAUCER'}) -> frozenset({'REGENCY CAKESTAND 3 TIER'})",
          "frozenset({'GREEN REGENCY TEACUP AND SAUCER'}) -> frozenset({'PINK REGENCY TEACUP AND SAUCER', 'ROSES REGENCY TEACUP AND SAUCER'})",
          "frozenset({'GREEN REGENCY TEACUP AND SAUCER'}) -> frozenset({'PINK REGENCY TEACUP AND SAUCER'})",
          "frozenset({'GREEN REGENCY TEACUP AND SAUCER'}) -> frozenset({'REGENCY CAKESTAND 3 TIER'})",
          "frozenset({'GREEN REGENCY TEACUP AND SAUCER'}) -> frozenset({'ROSES REGENCY TEACUP AND SAUCER'})",
          "frozenset({'HAND OVER THE CHOCOLATE   SIGN'}) -> frozenset({'COOK WITH WINE METAL SIGN'})",
          "frozenset({'HAND OVER THE CHOCOLATE   SIGN'}) -> frozenset({'GIN + TONIC DIET METAL SIGN'})",
          "frozenset({'HAND OVER THE CHOCOLATE   SIGN'}) -> frozenset({'PLEASE ONE PERSON METAL SIGN'})",
          "frozenset({'HAND WARMER BIRD DESIGN'}) -> frozenset({'HAND WARMER OWL DESIGN'})",
          "frozenset({'HAND WARMER BIRD DESIGN'}) -> frozenset({'HAND WARMER SCOTTY DOG DESIGN'})",
          "frozenset({'HAND WARMER OWL DESIGN'}) -> frozenset({'HAND WARMER BIRD DESIGN'})",
          "frozenset({'HAND WARMER OWL DESIGN'}) -> frozenset({'HAND WARMER RED LOVE HEART'})",
          "frozenset({'HAND WARMER OWL DESIGN'}) -> frozenset({'HAND WARMER SCOTTY DOG DESIGN'})",
          "frozenset({'HAND WARMER OWL DESIGN'}) -> frozenset({'HAND WARMER UNION JACK'})",
          "frozenset({'HAND WARMER RED LOVE HEART'}) -> frozenset({'HAND WARMER OWL DESIGN'})",
          "frozenset({'HAND WARMER RED LOVE HEART'}) -> frozenset({'HAND WARMER SCOTTY DOG DESIGN'})",
          "frozenset({'HAND WARMER RED RETROSPOT'}) -> frozenset({'HAND WARMER OWL DESIGN'})",
          "frozenset({'HAND WARMER SCOTTY DOG DESIGN'}) -> frozenset({'HAND WARMER BIRD DESIGN'})",
          "frozenset({'HAND WARMER SCOTTY DOG DESIGN'}) -> frozenset({'HAND WARMER OWL DESIGN'})",
          "frozenset({'HAND WARMER SCOTTY DOG DESIGN'}) -> frozenset({'HAND WARMER RED LOVE HEART'})",
          "frozenset({'HAND WARMER SCOTTY DOG DESIGN'}) -> frozenset({'HAND WARMER UNION JACK'})",
          "frozenset({'HAND WARMER UNION JACK'}) -> frozenset({'HAND WARMER OWL DESIGN'})",
          "frozenset({'HAND WARMER UNION JACK'}) -> frozenset({'HAND WARMER SCOTTY DOG DESIGN'})",
          "frozenset({'HEART OF WICKER LARGE'}) -> frozenset({'HEART OF WICKER SMALL'})",
          "frozenset({'HEART OF WICKER LARGE'}) -> frozenset({'WHITE HANGING HEART T-LIGHT HOLDER'})",
          "frozenset({'HEART OF WICKER SMALL'}) -> frozenset({'HEART OF WICKER LARGE'})",
          "frozenset({'HOME BUILDING BLOCK WORD'}) -> frozenset({'LOVE BUILDING BLOCK WORD'})",
          "frozenset({'HOT WATER BOTTLE I AM SO POORLY'}) -> frozenset({'CHOCOLATE HOT WATER BOTTLE'})",
          "frozenset({'HOT WATER BOTTLE I AM SO POORLY'}) -> frozenset({'HOT WATER BOTTLE KEEP CALM'})",
          "frozenset({'HOT WATER BOTTLE I AM SO POORLY'}) -> frozenset({'HOT WATER BOTTLE TEA AND SYMPATHY'})",
          "frozenset({'HOT WATER BOTTLE TEA AND SYMPATHY'}) -> frozenset({'CHOCOLATE HOT WATER BOTTLE'})",
          "frozenset({'HOT WATER BOTTLE TEA AND SYMPATHY'}) -> frozenset({'HOT WATER BOTTLE I AM SO POORLY'})",
          "frozenset({'HOT WATER BOTTLE TEA AND SYMPATHY'}) -> frozenset({'HOT WATER BOTTLE KEEP CALM'})",
          "frozenset({'IVORY DINER WALL CLOCK'}) -> frozenset({'RED DINER WALL CLOCK'})",
          "frozenset({'IVORY KITCHEN SCALES'}) -> frozenset({'RED KITCHEN SCALES'})",
          "frozenset({'JUMBO  BAG BAROQUE BLACK WHITE'}) -> frozenset({'JUMBO BAG PINK POLKADOT'})",
          "frozenset({'JUMBO  BAG BAROQUE BLACK WHITE'}) -> frozenset({'JUMBO BAG RED RETROSPOT'})",
          "frozenset({'JUMBO  BAG BAROQUE BLACK WHITE'}) -> frozenset({'JUMBO STORAGE BAG SUKI'})",
          "frozenset({'JUMBO BAG ALPHABET'}) -> frozenset({'JUMBO BAG RED RETROSPOT'})",
          "frozenset({'JUMBO BAG APPLES'}) -> frozenset({'JUMBO BAG ALPHABET'})",
          "frozenset({'JUMBO BAG APPLES'}) -> frozenset({'JUMBO BAG PEARS'})",
          "frozenset({'JUMBO BAG APPLES'}) -> frozenset({'JUMBO BAG RED RETROSPOT'})",
          "frozenset({'JUMBO BAG APPLES'}) -> frozenset({'JUMBO BAG VINTAGE LEAF'})",
          "frozenset({'JUMBO BAG APPLES'}) -> frozenset({'LUNCH BAG APPLE DESIGN'})",
          "frozenset({'JUMBO BAG DOILEY PATTERNS'}) -> frozenset({'JUMBO BAG VINTAGE LEAF'})",
          "frozenset({'JUMBO BAG DOILEY PATTERNS'}) -> frozenset({'LUNCH BAG DOILEY PATTERN'})",
          "frozenset({'JUMBO BAG OWLS'}) -> frozenset({'JUMBO BAG RED RETROSPOT'})",
          "frozenset({'JUMBO BAG PEARS'}) -> frozenset({'JUMBO BAG APPLES'})",
          "frozenset({'JUMBO BAG PEARS'}) -> frozenset({'JUMBO BAG RED RETROSPOT'})",
          "frozenset({'JUMBO BAG PEARS'}) -> frozenset({'JUMBO BAG VINTAGE LEAF'})",
          "frozenset({'JUMBO BAG PINK POLKADOT'}) -> frozenset({'JUMBO BAG RED RETROSPOT'})",
          "frozenset({'JUMBO BAG PINK VINTAGE PAISLEY'}) -> frozenset({'JUMBO BAG PINK POLKADOT'})",
          "frozenset({'JUMBO BAG PINK VINTAGE PAISLEY'}) -> frozenset({'JUMBO BAG RED RETROSPOT'})",
          "frozenset({'JUMBO BAG PINK VINTAGE PAISLEY'}) -> frozenset({'JUMBO BAG SCANDINAVIAN BLUE PAISLEY'})",
          "frozenset({'JUMBO BAG PINK VINTAGE PAISLEY'}) -> frozenset({'JUMBO SHOPPER VINTAGE RED PAISLEY'})",
          "frozenset({'JUMBO BAG RED RETROSPOT', 'JUMBO BAG PINK POLKADOT'}) -> frozenset({'JUMBO BAG STRAWBERRY'})",
          "frozenset({'JUMBO BAG SCANDINAVIAN BLUE PAISLEY'}) -> frozenset({'JUMBO BAG PINK VINTAGE PAISLEY'})",
          "frozenset({'JUMBO BAG SCANDINAVIAN BLUE PAISLEY'}) -> frozenset({'JUMBO BAG RED RETROSPOT'})",
          "frozenset({'JUMBO BAG SCANDINAVIAN BLUE PAISLEY'}) -> frozenset({'JUMBO SHOPPER VINTAGE RED PAISLEY'})",
          "frozenset({'JUMBO BAG SPACEBOY DESIGN'}) -> frozenset({'JUMBO BAG RED RETROSPOT'})",
          "frozenset({'JUMBO BAG STRAWBERRY', 'JUMBO BAG PINK POLKADOT'}) -> frozenset({'JUMBO BAG RED RETROSPOT'})",
          "frozenset({'JUMBO BAG STRAWBERRY', 'JUMBO BAG RED RETROSPOT'}) -> frozenset({'JUMBO BAG PINK POLKADOT'})",
          "frozenset({'JUMBO BAG STRAWBERRY'}) -> frozenset({'JUMBO BAG PINK POLKADOT'})",
          "frozenset({'JUMBO BAG STRAWBERRY'}) -> frozenset({'JUMBO BAG RED RETROSPOT'})",
          "frozenset({'JUMBO BAG VINTAGE CHRISTMAS'}) -> frozenset({\"JUMBO BAG 50'S CHRISTMAS\"})",
          "frozenset({'JUMBO BAG VINTAGE DOILY'}) -> frozenset({'JUMBO BAG RED RETROSPOT'})",
          "frozenset({'JUMBO BAG VINTAGE LEAF'}) -> frozenset({'JUMBO BAG RED RETROSPOT'})",
          "frozenset({'JUMBO BAG WOODLAND ANIMALS'}) -> frozenset({'JUMBO BAG PINK POLKADOT'})",
          "frozenset({'JUMBO BAG WOODLAND ANIMALS'}) -> frozenset({'JUMBO BAG RED RETROSPOT'})",
          "frozenset({'JUMBO SHOPPER VINTAGE RED PAISLEY'}) -> frozenset({'JUMBO BAG RED RETROSPOT'})",
          "frozenset({'JUMBO STORAGE BAG SKULLS'}) -> frozenset({'JUMBO BAG PINK POLKADOT'})",
          "frozenset({'JUMBO STORAGE BAG SKULLS'}) -> frozenset({'JUMBO BAG RED RETROSPOT'})",
          "frozenset({'JUMBO STORAGE BAG SKULLS'}) -> frozenset({'JUMBO STORAGE BAG SUKI'})",
          "frozenset({'JUMBO STORAGE BAG SUKI'}) -> frozenset({'JUMBO BAG RED RETROSPOT'})",
          "frozenset({'KEY FOB '}) -> frozenset({'BACK DOOR'})",
          "frozenset({'KEY FOB '}) -> frozenset({'FRONT  DOOR'})",
          "frozenset({'KEY FOB '}) -> frozenset({'SHED'})",
          "frozenset({'LARGE WHITE HEART OF WICKER'}) -> frozenset({'SMALL WHITE HEART OF WICKER'})",
          "frozenset({'LOVE BUILDING BLOCK WORD'}) -> frozenset({'HOME BUILDING BLOCK WORD'})",
          "frozenset({'LOVE HOT WATER BOTTLE'}) -> frozenset({'HOT WATER BOTTLE KEEP CALM'})",
          "frozenset({'LUNCH BAG  BLACK SKULL.', 'LUNCH BAG CARS BLUE'}) -> frozenset({'LUNCH BAG PINK POLKADOT'})",
          "frozenset({'LUNCH BAG  BLACK SKULL.', 'LUNCH BAG CARS BLUE'}) -> frozenset({'LUNCH BAG RED RETROSPOT'})",
          "frozenset({'LUNCH BAG  BLACK SKULL.', 'LUNCH BAG SPACEBOY DESIGN'}) -> frozenset({'LUNCH BAG RED RETROSPOT'})",
          "frozenset({'LUNCH BAG  BLACK SKULL.'}) -> frozenset({'LUNCH BAG CARS BLUE'})",
          "frozenset({'LUNCH BAG  BLACK SKULL.'}) -> frozenset({'LUNCH BAG PINK POLKADOT'})",
          "frozenset({'LUNCH BAG  BLACK SKULL.'}) -> frozenset({'LUNCH BAG RED RETROSPOT'})",
          "frozenset({'LUNCH BAG  BLACK SKULL.'}) -> frozenset({'LUNCH BAG SPACEBOY DESIGN'})",
          "frozenset({'LUNCH BAG  BLACK SKULL.'}) -> frozenset({'LUNCH BAG SUKI DESIGN'})",
          "frozenset({'LUNCH BAG ALPHABET DESIGN'}) -> frozenset({'LUNCH BAG  BLACK SKULL.'})",
          "frozenset({'LUNCH BAG ALPHABET DESIGN'}) -> frozenset({'LUNCH BAG APPLE DESIGN'})",
          "frozenset({'LUNCH BAG ALPHABET DESIGN'}) -> frozenset({'LUNCH BAG CARS BLUE'})",
          "frozenset({'LUNCH BAG ALPHABET DESIGN'}) -> frozenset({'LUNCH BAG RED RETROSPOT'})",
          "frozenset({'LUNCH BAG ALPHABET DESIGN'}) -> frozenset({'LUNCH BAG SPACEBOY DESIGN'})",
          "frozenset({'LUNCH BAG ALPHABET DESIGN'}) -> frozenset({'LUNCH BAG SUKI DESIGN'})",
          "frozenset({'LUNCH BAG ALPHABET DESIGN'}) -> frozenset({'LUNCH BAG VINTAGE LEAF DESIGN'})",
          "frozenset({'LUNCH BAG APPLE DESIGN'}) -> frozenset({'LUNCH BAG  BLACK SKULL.'})",
          "frozenset({'LUNCH BAG APPLE DESIGN'}) -> frozenset({'LUNCH BAG RED RETROSPOT'})",
          "frozenset({'LUNCH BAG APPLE DESIGN'}) -> frozenset({'LUNCH BAG SUKI DESIGN'})",
          "frozenset({'LUNCH BAG CARS BLUE'}) -> frozenset({'LUNCH BAG  BLACK SKULL.'})",
          "frozenset({'LUNCH BAG CARS BLUE'}) -> frozenset({'LUNCH BAG PINK POLKADOT'})",
          "frozenset({'LUNCH BAG CARS BLUE'}) -> frozenset({'LUNCH BAG RED RETROSPOT'})",
          "frozenset({'LUNCH BAG CARS BLUE'}) -> frozenset({'LUNCH BAG SPACEBOY DESIGN'})",
          "frozenset({'LUNCH BAG CARS BLUE'}) -> frozenset({'LUNCH BAG SUKI DESIGN'})",
          "frozenset({'LUNCH BAG CARS BLUE'}) -> frozenset({'LUNCH BAG WOODLAND'})",
          "frozenset({'LUNCH BAG DOILEY PATTERN'}) -> frozenset({'JUMBO BAG DOILEY PATTERNS'})",
          "frozenset({'LUNCH BAG DOLLY GIRL DESIGN'}) -> frozenset({'LUNCH BAG  BLACK SKULL.'})",
          "frozenset({'LUNCH BAG DOLLY GIRL DESIGN'}) -> frozenset({'LUNCH BAG CARS BLUE'})",
          "frozenset({'LUNCH BAG DOLLY GIRL DESIGN'}) -> frozenset({'LUNCH BAG RED RETROSPOT'})",
          "frozenset({'LUNCH BAG DOLLY GIRL DESIGN'}) -> frozenset({'LUNCH BAG SPACEBOY DESIGN'})",
          "frozenset({'LUNCH BAG DOLLY GIRL DESIGN'}) -> frozenset({'LUNCH BAG SUKI DESIGN'})",
          "frozenset({'LUNCH BAG DOLLY GIRL DESIGN'}) -> frozenset({'LUNCH BAG WOODLAND'})",
          "frozenset({'LUNCH BAG PINK POLKADOT', 'LUNCH BAG  BLACK SKULL.'}) -> frozenset({'LUNCH BAG CARS BLUE'})",
          "frozenset({'LUNCH BAG PINK POLKADOT', 'LUNCH BAG  BLACK SKULL.'}) -> frozenset({'LUNCH BAG RED RETROSPOT'})",
          "frozenset({'LUNCH BAG PINK POLKADOT', 'LUNCH BAG CARS BLUE'}) -> frozenset({'LUNCH BAG  BLACK SKULL.'})",
          "frozenset({'LUNCH BAG PINK POLKADOT', 'LUNCH BAG CARS BLUE'}) -> frozenset({'LUNCH BAG RED RETROSPOT'})",
          "frozenset({'LUNCH BAG PINK POLKADOT'}) -> frozenset({'LUNCH BAG  BLACK SKULL.'})",
          "frozenset({'LUNCH BAG PINK POLKADOT'}) -> frozenset({'LUNCH BAG CARS BLUE'})",
          "frozenset({'LUNCH BAG PINK POLKADOT'}) -> frozenset({'LUNCH BAG RED RETROSPOT'})",
          "frozenset({'LUNCH BAG PINK POLKADOT'}) -> frozenset({'LUNCH BAG SPACEBOY DESIGN'})",
          "frozenset({'LUNCH BAG PINK POLKADOT'}) -> frozenset({'LUNCH BAG SUKI DESIGN'})",
          "frozenset({'LUNCH BAG RED RETROSPOT', 'LUNCH BAG  BLACK SKULL.'}) -> frozenset({'LUNCH BAG CARS BLUE'})",
          "frozenset({'LUNCH BAG RED RETROSPOT', 'LUNCH BAG  BLACK SKULL.'}) -> frozenset({'LUNCH BAG PINK POLKADOT'})",
          "frozenset({'LUNCH BAG RED RETROSPOT', 'LUNCH BAG  BLACK SKULL.'}) -> frozenset({'LUNCH BAG SPACEBOY DESIGN'})",
          "frozenset({'LUNCH BAG RED RETROSPOT', 'LUNCH BAG  BLACK SKULL.'}) -> frozenset({'LUNCH BAG SUKI DESIGN'})",
          "frozenset({'LUNCH BAG RED RETROSPOT', 'LUNCH BAG CARS BLUE'}) -> frozenset({'LUNCH BAG  BLACK SKULL.'})",
          "frozenset({'LUNCH BAG RED RETROSPOT', 'LUNCH BAG CARS BLUE'}) -> frozenset({'LUNCH BAG PINK POLKADOT'})",
          "frozenset({'LUNCH BAG RED RETROSPOT', 'LUNCH BAG PINK POLKADOT'}) -> frozenset({'LUNCH BAG  BLACK SKULL.'})",
          "frozenset({'LUNCH BAG RED RETROSPOT', 'LUNCH BAG PINK POLKADOT'}) -> frozenset({'LUNCH BAG CARS BLUE'})",
          "frozenset({'LUNCH BAG RED RETROSPOT', 'LUNCH BAG PINK POLKADOT'}) -> frozenset({'LUNCH BAG SUKI DESIGN'})",
          "frozenset({'LUNCH BAG RED RETROSPOT', 'LUNCH BAG SPACEBOY DESIGN'}) -> frozenset({'LUNCH BAG  BLACK SKULL.'})",
          "frozenset({'LUNCH BAG RED RETROSPOT'}) -> frozenset({'LUNCH BAG  BLACK SKULL.'})",
          "frozenset({'LUNCH BAG RED RETROSPOT'}) -> frozenset({'LUNCH BAG PINK POLKADOT'})",
          "frozenset({'LUNCH BAG SPACEBOY DESIGN'}) -> frozenset({'LUNCH BAG  BLACK SKULL.'})",
          "frozenset({'LUNCH BAG SPACEBOY DESIGN'}) -> frozenset({'LUNCH BAG CARS BLUE'})",
          "frozenset({'LUNCH BAG SPACEBOY DESIGN'}) -> frozenset({'LUNCH BAG RED RETROSPOT'})",
          "frozenset({'LUNCH BAG SPACEBOY DESIGN'}) -> frozenset({'LUNCH BAG SUKI DESIGN'})",
          "frozenset({'LUNCH BAG SPACEBOY DESIGN'}) -> frozenset({'LUNCH BAG WOODLAND'})",
          "frozenset({'LUNCH BAG SUKI DESIGN', 'LUNCH BAG  BLACK SKULL.'}) -> frozenset({'LUNCH BAG RED RETROSPOT'})",
          "frozenset({'LUNCH BAG SUKI DESIGN', 'LUNCH BAG PINK POLKADOT'}) -> frozenset({'LUNCH BAG RED RETROSPOT'})",
          "frozenset({'LUNCH BAG SUKI DESIGN', 'LUNCH BAG RED RETROSPOT'}) -> frozenset({'LUNCH BAG  BLACK SKULL.'})",
          "frozenset({'LUNCH BAG SUKI DESIGN', 'LUNCH BAG RED RETROSPOT'}) -> frozenset({'LUNCH BAG PINK POLKADOT'})",
          "frozenset({'LUNCH BAG SUKI DESIGN'}) -> frozenset({'LUNCH BAG  BLACK SKULL.'})",
          "frozenset({'LUNCH BAG SUKI DESIGN'}) -> frozenset({'LUNCH BAG APPLE DESIGN'})",
          "frozenset({'LUNCH BAG SUKI DESIGN'}) -> frozenset({'LUNCH BAG CARS BLUE'})",
          "frozenset({'LUNCH BAG SUKI DESIGN'}) -> frozenset({'LUNCH BAG PINK POLKADOT'})",
          "frozenset({'LUNCH BAG SUKI DESIGN'}) -> frozenset({'LUNCH BAG RED RETROSPOT'})",
          "frozenset({'LUNCH BAG SUKI DESIGN'}) -> frozenset({'LUNCH BAG SPACEBOY DESIGN'})",
          "frozenset({'LUNCH BAG VINTAGE DOILY'}) -> frozenset({'JUMBO BAG VINTAGE DOILY'})",
          "frozenset({'LUNCH BAG VINTAGE DOILY'}) -> frozenset({'LUNCH BAG APPLE DESIGN'})",
          "frozenset({'LUNCH BAG VINTAGE DOILY'}) -> frozenset({'LUNCH BAG RED RETROSPOT'})",
          "frozenset({'LUNCH BAG VINTAGE DOILY'}) -> frozenset({'LUNCH BAG SPACEBOY DESIGN'})",
          "frozenset({'LUNCH BAG VINTAGE LEAF DESIGN'}) -> frozenset({'LUNCH BAG  BLACK SKULL.'})",
          "frozenset({'LUNCH BAG VINTAGE LEAF DESIGN'}) -> frozenset({'LUNCH BAG ALPHABET DESIGN'})",
          "frozenset({'LUNCH BAG VINTAGE LEAF DESIGN'}) -> frozenset({'LUNCH BAG APPLE DESIGN'})",
          "frozenset({'LUNCH BAG VINTAGE LEAF DESIGN'}) -> frozenset({'LUNCH BAG RED RETROSPOT'})",
          "frozenset({'LUNCH BAG VINTAGE LEAF DESIGN'}) -> frozenset({'LUNCH BAG SPACEBOY DESIGN'})",
          "frozenset({'LUNCH BAG VINTAGE LEAF DESIGN'}) -> frozenset({'LUNCH BAG SUKI DESIGN'})",
          "frozenset({'LUNCH BAG WOODLAND'}) -> frozenset({'LUNCH BAG  BLACK SKULL.'})",
          "frozenset({'LUNCH BAG WOODLAND'}) -> frozenset({'LUNCH BAG CARS BLUE'})",
          "frozenset({'LUNCH BAG WOODLAND'}) -> frozenset({'LUNCH BAG RED RETROSPOT'})",
          "frozenset({'LUNCH BAG WOODLAND'}) -> frozenset({'LUNCH BAG SPACEBOY DESIGN'})",
          "frozenset({'LUNCH BAG WOODLAND'}) -> frozenset({'LUNCH BAG SUKI DESIGN'})",
          "frozenset({'PACK OF 60 DINOSAUR CAKE CASES'}) -> frozenset({'60 TEATIME FAIRY CAKE CASES'})",
          "frozenset({'PACK OF 60 DINOSAUR CAKE CASES'}) -> frozenset({'PACK OF 60 PINK PAISLEY CAKE CASES'})",
          "frozenset({'PACK OF 60 DINOSAUR CAKE CASES'}) -> frozenset({'PACK OF 72 RETROSPOT CAKE CASES'})",
          "frozenset({'PACK OF 60 PINK PAISLEY CAKE CASES'}) -> frozenset({'60 TEATIME FAIRY CAKE CASES'})",
          "frozenset({'PACK OF 60 PINK PAISLEY CAKE CASES'}) -> frozenset({'PACK OF 72 RETROSPOT CAKE CASES'})",
          "frozenset({'PACK OF 60 SPACEBOY CAKE CASES'}) -> frozenset({'PACK OF 72 RETROSPOT CAKE CASES'})",
          "frozenset({'PACK OF 72 SKULL CAKE CASES'}) -> frozenset({'PACK OF 72 RETROSPOT CAKE CASES'})",
          "frozenset({'PAINTED METAL PEARS ASSORTED'}) -> frozenset({'ASSORTED COLOUR BIRD ORNAMENT'})",
          "frozenset({'PAPER CHAIN KIT VINTAGE CHRISTMAS'}) -> frozenset({\"PAPER CHAIN KIT 50'S CHRISTMAS\"})",
          "frozenset({'PINK BLUE FELT CRAFT TRINKET BOX'}) -> frozenset({'PINK CREAM FELT CRAFT TRINKET BOX'})",
          "frozenset({'PINK CREAM FELT CRAFT TRINKET BOX'}) -> frozenset({'PINK BLUE FELT CRAFT TRINKET BOX'})",
          "frozenset({'PINK HAPPY BIRTHDAY BUNTING'}) -> frozenset({'BLUE HAPPY BIRTHDAY BUNTING'})",
          "frozenset({'PINK REGENCY TEACUP AND SAUCER', 'GREEN REGENCY TEACUP AND SAUCER'}) -> frozenset({'ROSES REGENCY TEACUP AND SAUCER'})",
          "frozenset({'PINK REGENCY TEACUP AND SAUCER', 'ROSES REGENCY TEACUP AND SAUCER'}) -> frozenset({'GREEN REGENCY TEACUP AND SAUCER'})",
          "frozenset({'PINK REGENCY TEACUP AND SAUCER'}) -> frozenset({'GREEN REGENCY TEACUP AND SAUCER', 'ROSES REGENCY TEACUP AND SAUCER'})",
          "frozenset({'PINK REGENCY TEACUP AND SAUCER'}) -> frozenset({'GREEN REGENCY TEACUP AND SAUCER'})",
          "frozenset({'PINK REGENCY TEACUP AND SAUCER'}) -> frozenset({'REGENCY CAKESTAND 3 TIER'})",
          "frozenset({'PINK REGENCY TEACUP AND SAUCER'}) -> frozenset({'ROSES REGENCY TEACUP AND SAUCER'})",
          "frozenset({'PINK VINTAGE PAISLEY PICNIC BAG'}) -> frozenset({'SCANDINAVIAN PAISLEY PICNIC BAG'})",
          "frozenset({'PLASTERS IN TIN CIRCUS PARADE'}) -> frozenset({'PLASTERS IN TIN SPACEBOY'})",
          "frozenset({'PLASTERS IN TIN CIRCUS PARADE'}) -> frozenset({'PLASTERS IN TIN STRONGMAN'})",
          "frozenset({'PLASTERS IN TIN CIRCUS PARADE'}) -> frozenset({'PLASTERS IN TIN WOODLAND ANIMALS'})",
          "frozenset({'PLASTERS IN TIN SPACEBOY'}) -> frozenset({'PLASTERS IN TIN CIRCUS PARADE'})",
          "frozenset({'PLASTERS IN TIN SPACEBOY'}) -> frozenset({'PLASTERS IN TIN WOODLAND ANIMALS'})",
          "frozenset({'PLASTERS IN TIN STRONGMAN'}) -> frozenset({'PLASTERS IN TIN CIRCUS PARADE'})",
          "frozenset({'PLASTERS IN TIN STRONGMAN'}) -> frozenset({'PLASTERS IN TIN SPACEBOY'})",
          "frozenset({'PLASTERS IN TIN STRONGMAN'}) -> frozenset({'PLASTERS IN TIN WOODLAND ANIMALS'})",
          "frozenset({'PLASTERS IN TIN WOODLAND ANIMALS'}) -> frozenset({'PLASTERS IN TIN CIRCUS PARADE'})",
          "frozenset({'PLASTERS IN TIN WOODLAND ANIMALS'}) -> frozenset({'PLASTERS IN TIN SPACEBOY'})",
          "frozenset({'RED  HARMONICA IN BOX'}) -> frozenset({'BLUE HARMONICA IN BOX'})",
          "frozenset({'RED DINER WALL CLOCK'}) -> frozenset({'IVORY DINER WALL CLOCK'})",
          "frozenset({'RED HANGING HEART T-LIGHT HOLDER'}) -> frozenset({'WHITE HANGING HEART T-LIGHT HOLDER'})",
          "frozenset({'RED KITCHEN SCALES'}) -> frozenset({'IVORY KITCHEN SCALES'})",
          "frozenset({'RED RETROSPOT CHARLOTTE BAG'}) -> frozenset({'CHARLOTTE BAG PINK POLKADOT'})",
          "frozenset({'RED RETROSPOT CHARLOTTE BAG'}) -> frozenset({'CHARLOTTE BAG SUKI DESIGN'})",
          "frozenset({'RED RETROSPOT CHARLOTTE BAG'}) -> frozenset({'JUMBO BAG RED RETROSPOT'})",
          "frozenset({'RED RETROSPOT CHARLOTTE BAG'}) -> frozenset({'STRAWBERRY CHARLOTTE BAG'})",
          "frozenset({'RED RETROSPOT CHARLOTTE BAG'}) -> frozenset({'WOODLAND CHARLOTTE BAG'})",
          "frozenset({'RED STRIPE CERAMIC DRAWER KNOB'}) -> frozenset({'BLUE STRIPE CERAMIC DRAWER KNOB'})",
          "frozenset({'REGENCY CAKESTAND 3 TIER', 'GREEN REGENCY TEACUP AND SAUCER'}) -> frozenset({'ROSES REGENCY TEACUP AND SAUCER'})",
          "frozenset({'REGENCY CAKESTAND 3 TIER', 'ROSES REGENCY TEACUP AND SAUCER'}) -> frozenset({'GREEN REGENCY TEACUP AND SAUCER'})",
          "frozenset({'REGENCY TEA PLATE GREEN'}) -> frozenset({'REGENCY TEA PLATE ROSES'})",
          "frozenset({'REGENCY TEA PLATE ROSES'}) -> frozenset({'REGENCY TEA PLATE GREEN'})",
          "frozenset({'RETROSPOT HEART HOT WATER BOTTLE'}) -> frozenset({'CHOCOLATE HOT WATER BOTTLE'})",
          "frozenset({'RETROSPOT HEART HOT WATER BOTTLE'}) -> frozenset({'SCOTTIE DOG HOT WATER BOTTLE'})",
          "frozenset({'ROSES REGENCY TEACUP AND SAUCER'}) -> frozenset({'GREEN REGENCY TEACUP AND SAUCER'})",
          "frozenset({'ROSES REGENCY TEACUP AND SAUCER'}) -> frozenset({'PINK REGENCY TEACUP AND SAUCER', 'GREEN REGENCY TEACUP AND SAUCER'})",
          "frozenset({'ROSES REGENCY TEACUP AND SAUCER'}) -> frozenset({'PINK REGENCY TEACUP AND SAUCER'})",
          "frozenset({'ROSES REGENCY TEACUP AND SAUCER'}) -> frozenset({'REGENCY CAKESTAND 3 TIER'})",
          "frozenset({'ROUND SNACK BOXES SET OF 4 FRUITS'}) -> frozenset({'ROUND SNACK BOXES SET OF4 WOODLAND'})",
          "frozenset({'ROUND SNACK BOXES SET OF4 WOODLAND'}) -> frozenset({'POSTAGE'})",
          "frozenset({'ROUND SNACK BOXES SET OF4 WOODLAND'}) -> frozenset({'ROUND SNACK BOXES SET OF 4 FRUITS'})",
          "frozenset({'SCANDINAVIAN PAISLEY PICNIC BAG'}) -> frozenset({'PINK VINTAGE PAISLEY PICNIC BAG'})",
          "frozenset({'SCOTTIE DOG HOT WATER BOTTLE'}) -> frozenset({'CHOCOLATE HOT WATER BOTTLE'})",
          "frozenset({'SET OF 12 FAIRY CAKE BAKING CASES'}) -> frozenset({'SET OF 12 MINI LOAF BAKING CASES'})",
          "frozenset({'SET OF 12 FAIRY CAKE BAKING CASES'}) -> frozenset({'SET OF 6 TEA TIME BAKING CASES'})",
          "frozenset({'SET OF 12 MINI LOAF BAKING CASES'}) -> frozenset({'SET OF 12 FAIRY CAKE BAKING CASES'})",
          "frozenset({'SET OF 3 BUTTERFLY COOKIE CUTTERS'}) -> frozenset({'SET OF 3 HEART COOKIE CUTTERS'})",
          "frozenset({'SET OF 3 HEART COOKIE CUTTERS'}) -> frozenset({'SET OF 3 BUTTERFLY COOKIE CUTTERS'})",
          "frozenset({'SET OF 6 SPICE TINS PANTRY DESIGN'}) -> frozenset({'SET OF 3 CAKE TINS PANTRY DESIGN'})",
          "frozenset({'SET OF 6 TEA TIME BAKING CASES'}) -> frozenset({'SET OF 12 FAIRY CAKE BAKING CASES'})",
          "frozenset({'SET OF TEA COFFEE SUGAR TINS PANTRY'}) -> frozenset({'SET OF 3 CAKE TINS PANTRY DESIGN'})",
          "frozenset({'SET/10 BLUE POLKADOT PARTY CANDLES'}) -> frozenset({'SET/10 PINK POLKADOT PARTY CANDLES'})",
          "frozenset({'SET/10 PINK POLKADOT PARTY CANDLES'}) -> frozenset({'SET/10 BLUE POLKADOT PARTY CANDLES'})",
          "frozenset({'SET/6 RED SPOTTY PAPER CUPS'}) -> frozenset({'SET/6 RED SPOTTY PAPER PLATES'})",
          "frozenset({'SET/6 RED SPOTTY PAPER PLATES'}) -> frozenset({'SET/20 RED RETROSPOT PAPER NAPKINS'})",
          "frozenset({'SET/6 RED SPOTTY PAPER PLATES'}) -> frozenset({'SET/6 RED SPOTTY PAPER CUPS'})",
          "frozenset({'SHED'}) -> frozenset({'KEY FOB '})",
          "frozenset({'SMALL DOLLY MIX DESIGN ORANGE BOWL'}) -> frozenset({'SMALL MARSHMALLOWS PINK BOWL'})",
          "frozenset({'SMALL MARSHMALLOWS PINK BOWL'}) -> frozenset({'SMALL DOLLY MIX DESIGN ORANGE BOWL'})",
          "frozenset({'SMALL WHITE HEART OF WICKER'}) -> frozenset({'LARGE WHITE HEART OF WICKER'})",
          "frozenset({'SPACEBOY LUNCH BOX'}) -> frozenset({'DOLLY GIRL LUNCH BOX'})",
          "frozenset({'SPOTTY BUNTING'}) -> frozenset({'PARTY BUNTING'})",
          "frozenset({'STRAWBERRY CERAMIC TRINKET BOX'}) -> frozenset({'SWEETHEART CERAMIC TRINKET BOX'})",
          "frozenset({'STRAWBERRY CHARLOTTE BAG'}) -> frozenset({'CHARLOTTE BAG PINK POLKADOT'})",
          "frozenset({'STRAWBERRY CHARLOTTE BAG'}) -> frozenset({'CHARLOTTE BAG SUKI DESIGN'})",
          "frozenset({'STRAWBERRY CHARLOTTE BAG'}) -> frozenset({'RED RETROSPOT CHARLOTTE BAG'})",
          "frozenset({'STRAWBERRY CHARLOTTE BAG'}) -> frozenset({'WOODLAND CHARLOTTE BAG'})",
          "frozenset({'SWEETHEART CERAMIC TRINKET BOX'}) -> frozenset({'STRAWBERRY CERAMIC TRINKET BOX'})",
          "frozenset({'TOILET METAL SIGN'}) -> frozenset({'BATHROOM METAL SIGN'})",
          "frozenset({'VINTAGE HEADS AND TAILS CARD GAME'}) -> frozenset({'VINTAGE SNAP CARDS'})",
          "frozenset({'WOOD 2 DRAWER CABINET WHITE FINISH'}) -> frozenset({'WOODEN FRAME ANTIQUE WHITE'})",
          "frozenset({'WOOD 2 DRAWER CABINET WHITE FINISH'}) -> frozenset({'WOODEN PICTURE FRAME WHITE FINISH'})",
          "frozenset({'WOODEN FRAME ANTIQUE WHITE'}) -> frozenset({'WOODEN PICTURE FRAME WHITE FINISH'})",
          "frozenset({'WOODEN HEART CHRISTMAS SCANDINAVIAN'}) -> frozenset({'WOODEN STAR CHRISTMAS SCANDINAVIAN'})",
          "frozenset({'WOODEN HEART CHRISTMAS SCANDINAVIAN'}) -> frozenset({'WOODEN TREE CHRISTMAS SCANDINAVIAN'})",
          "frozenset({'WOODEN PICTURE FRAME WHITE FINISH'}) -> frozenset({'WOODEN FRAME ANTIQUE WHITE'})",
          "frozenset({'WOODEN STAR CHRISTMAS SCANDINAVIAN'}) -> frozenset({'WOODEN HEART CHRISTMAS SCANDINAVIAN'})",
          "frozenset({'WOODEN STAR CHRISTMAS SCANDINAVIAN'}) -> frozenset({'WOODEN TREE CHRISTMAS SCANDINAVIAN'})",
          "frozenset({'WOODEN TREE CHRISTMAS SCANDINAVIAN'}) -> frozenset({'WOODEN HEART CHRISTMAS SCANDINAVIAN'})",
          "frozenset({'WOODEN TREE CHRISTMAS SCANDINAVIAN'}) -> frozenset({'WOODEN STAR CHRISTMAS SCANDINAVIAN'})",
          "frozenset({'WOODLAND CHARLOTTE BAG'}) -> frozenset({'CHARLOTTE BAG SUKI DESIGN'})",
          "frozenset({'WOODLAND CHARLOTTE BAG'}) -> frozenset({'RED RETROSPOT CHARLOTTE BAG'})",
          "frozenset({'WOODLAND CHARLOTTE BAG'}) -> frozenset({'STRAWBERRY CHARLOTTE BAG'})"
         ],
         "marker": {
          "coloraxis": "coloraxis",
          "colors": [
           0.008793547664388933,
           0.015906799596729023,
           0.009017587095328778,
           0.007281281505544976,
           0.009017587095328778,
           0.007449311078749861,
           0.007281281505544976,
           0.007449311078749861,
           0.010025764534558083,
           0.011313991262462193,
           0.007001232216870169,
           0.007561330794219783,
           0.007505320936484821,
           0.008121429371569396,
           0.007393301221014899,
           0.007393301221014899,
           0.012042119413016689,
           0.018987341772151903,
           0.009801725103618234,
           0.008513498375714126,
           0.011762070124341883,
           0.008345468802509241,
           0.008849557522123894,
           0.012042119413016689,
           0.008513498375714126,
           0.013778425002800493,
           0.007393301221014899,
           0.018987341772151903,
           0.011762070124341883,
           0.013778425002800493,
           0.010473843396437773,
           0.01036182368096785,
           0.0077293603674246664,
           0.008737537806653971,
           0.008457488517979164,
           0.007001232216870169,
           0.009017587095328778,
           0.007897389940629551,
           0.008625518091184049,
           0.011482020835667078,
           0.007617340651954744,
           0.008625518091184049,
           0.010585863111907696,
           0.009017587095328778,
           0.009073596953063739,
           0.007617340651954744,
           0.007617340651954744,
           0.010977932116052426,
           0.009745715245883276,
           0.009577685672678391,
           0.007169261790075053,
           0.0073372913632799375,
           0.007169261790075053,
           0.007337291363279938,
           0.009353646241738546,
           0.009409656099473508,
           0.009185616668533661,
           0.01450655315335499,
           0.008009409656099474,
           0.008009409656099474,
           0.007393301221014899,
           0.017139016466898173,
           0.017139016466898173,
           0.009353646241738546,
           0.008737537806653971,
           0.010473843396437775,
           0.008289458944774281,
           0.010473843396437773,
           0.015402710877114372,
           0.012434188417161422,
           0.018819312198947016,
           0.00940965609947351,
           0.008737537806653971,
           0.008401478660244203,
           0.010025764534558083,
           0.008793547664388933,
           0.010025764534558083,
           0.007953399798364512,
           0.010305813823232889,
           0.007897389940629551,
           0.007953399798364512,
           0.007281281505544977,
           0.007225271647810014,
           0.008793547664388933,
           0.010305813823232889,
           0.007281281505544977,
           0.007001232216870169,
           0.007897389940629551,
           0.007001232216870169,
           0.0140584742914753,
           0.010641872969642658,
           0.0140584742914753,
           0.009297636384003584,
           0.010977932116052426,
           0.00705724207460513,
           0.0071132519323400915,
           0.009745715245883276,
           0.0071132519323400915,
           0.007673350509689705,
           0.00705724207460513,
           0.009017587095328778,
           0.009241626526268623,
           0.013386355998655763,
           0.008849557522123894,
           0.011257981404727231,
           0.009745715245883276,
           0.01075389268511258,
           0.01288226727904111,
           0.010025764534558083,
           0.010585863111907696,
           0.007001232216870169,
           0.007393301221014899,
           0.007505320936484821,
           0.01075389268511258,
           0.007393301221014899,
           0.008233449087039319,
           0.021059706508345467,
           0.008401478660244203,
           0.01036182368096785,
           0.008289458944774281,
           0.008793547664388933,
           0.007169261790075053,
           0.008289458944774281,
           0.010025764534558083,
           0.007169261790075053,
           0.009745715245883276,
           0.007169261790075053,
           0.007169261790075053,
           0.01075389268511258,
           0.014618572868824913,
           0.008793547664388933,
           0.01075389268511258,
           0.012210148986221577,
           0.007953399798364512,
           0.009633695530413353,
           0.014842612299764758,
           0.008457488517979164,
           0.009185616668533661,
           0.007561330794219783,
           0.015850789738994064,
           0.010473843396437773,
           0.007393301221014899,
           0.012322168701691498,
           0.009577685672678391,
           0.009297636384003584,
           0.007953399798364512,
           0.007169261790075053,
           0.007505320936484822,
           0.007561330794219783,
           0.01534670101937941,
           0.016018819312198947,
           0.018427243194802285,
           0.015458720734849333,
           0.015234681303909488,
           0.008905567379858856,
           0.01120197154699227,
           0.008849557522123894,
           0.009017587095328778,
           0.008961577237593816,
           0.009689705388148314,
           0.009633695530413353,
           0.011930099697546768,
           0.014114484149210262,
           0.013050296852245995,
           0.01534670101937941,
           0.015066651730704607,
           0.016354878458608717,
           0.01321832642545088,
           0.014674582726559875,
           0.01372241514506553,
           0.007393301221014899,
           0.009857734961353198,
           0.008793547664388933,
           0.010081774392293043,
           0.012490198274896381,
           0.009465665957208469,
           0.009409656099473508,
           0.007169261790075053,
           0.009353646241738546,
           0.007169261790075052,
           0.007785370225159628,
           0.016018819312198947,
           0.015066651730704607,
           0.01853926291027221,
           0.012546208132631343,
           0.012658227848101266,
           0.007505320936484821,
           0.009353646241738546,
           0.007561330794219783,
           0.007785370225159628,
           0.007505320936484821,
           0.007785370225159628,
           0.009353646241738546,
           0.007785370225159628,
           0.007561330794219782,
           0.007561330794219782,
           0.018427243194802285,
           0.01853926291027221,
           0.015458720734849333,
           0.01321832642545088,
           0.016018819312198947,
           0.013778425002800493,
           0.013330346140920803,
           0.007785370225159627,
           0.007561330794219783,
           0.007785370225159628,
           0.007561330794219783,
           0.015234681303909488,
           0.013050296852245995,
           0.014674582726559875,
           0.012658227848101266,
           0.01663492774728352,
           0.013778425002800493,
           0.0077293603674246664,
           0.007169261790075053,
           0.008345468802509241,
           0.007393301221014899,
           0.008569508233449086,
           0.009633695530413353,
           0.010529853254172734,
           0.009409656099473508,
           0.008233449087039319,
           0.009465665957208469,
           0.013050296852245994,
           0.01372241514506553,
           0.015458720734849333,
           0.013330346140920803,
           0.011257981404727231,
           0.007785370225159628,
           0.0073933012210149,
           0.009297636384003584,
           0.010025764534558083,
           0.012154139128486613,
           0.007393301221014899,
           0.008737537806653971,
           0.008513498375714126,
           0.015906799596729023,
           0.009129606810798701,
           0.009129606810798701,
           0.008737537806653971,
           0.010473843396437773,
           0.010473843396437773,
           0.010473843396437773,
           0.015402710877114372,
           0.009633695530413353,
           0.014226503864680183,
           0.007617340651954744,
           0.008513498375714126,
           0.008065419513834434,
           0.009017587095328778,
           0.008513498375714126,
           0.010697882827377618,
           0.008065419513834434,
           0.007001232216870169,
           0.007225271647810016,
           0.009017587095328778,
           0.010697882827377618,
           0.008457488517979164,
           0.00705724207460513,
           0.01573877002352414,
           0.009017587095328778,
           0.011482020835667078,
           0.010585863111907696,
           0.010193794107762966,
           0.010697882827377618,
           0.009969754676823121,
           0.007001232216870169,
           0.008289458944774281,
           0.008289458944774281,
           0.007785370225159628,
           0.007785370225159628,
           0.007057242074605129,
           0.007729360367424667,
           0.018819312198947016,
           0.010473843396437773,
           0.014226503864680183,
           0.013442365856390725,
           0.008905567379858856,
           0.008065419513834434,
           0.008905567379858856,
           0.007617340651954744,
           0.009577685672678391,
           0.008961577237593816,
           0.0077293603674246664,
           0.008961577237593816,
           0.007673350509689705,
           0.007673350509689705,
           0.010585863111907696,
           0.0077293603674246664,
           0.007449311078749861,
           0.00705724207460513,
           0.00705724207460513,
           0.008401478660244203,
           0.008009409656099474,
           0.008401478660244203,
           0.012322168701691498,
           0.008233449087039319,
           0.008233449087039319,
           0.009577685672678391,
           0.01450655315335499,
           0.014674582726559875,
           0.007673350509689705,
           0.007617340651954744,
           0.009017587095328778,
           0.010697882827377618,
           0.007169261790075054,
           0.007673350509689705,
           0.0077293603674246664,
           0.008625518091184049,
           0.007393301221014899,
           0.007393301221014899,
           0.017643105186512825,
           0.010641872969642658,
           0.0071132519323400915,
           0.017643105186512825,
           0.010641872969642658,
           0.007673350509689704,
           0.0071132519323400915,
           0.007673350509689704,
           0.009073596953063739,
           0.009969754676823121,
           0.007169261790075054
          ]
         },
         "name": "",
         "parents": [
          "",
          "",
          "",
          "",
          "",
          "",
          "",
          "",
          "",
          "",
          "",
          "",
          "",
          "",
          "",
          "",
          "",
          "",
          "",
          "",
          "",
          "",
          "",
          "",
          "",
          "",
          "",
          "",
          "",
          "",
          "",
          "",
          "",
          "",
          "",
          "",
          "",
          "",
          "",
          "",
          "",
          "",
          "",
          "",
          "",
          "",
          "",
          "",
          "",
          "",
          "",
          "",
          "",
          "",
          "",
          "",
          "",
          "",
          "",
          "",
          "",
          "",
          "",
          "",
          "",
          "",
          "",
          "",
          "",
          "",
          "",
          "",
          "",
          "",
          "",
          "",
          "",
          "",
          "",
          "",
          "",
          "",
          "",
          "",
          "",
          "",
          "",
          "",
          "",
          "",
          "",
          "",
          "",
          "",
          "",
          "",
          "",
          "",
          "",
          "",
          "",
          "",
          "",
          "",
          "",
          "",
          "",
          "",
          "",
          "",
          "",
          "",
          "",
          "",
          "",
          "",
          "",
          "",
          "",
          "",
          "",
          "",
          "",
          "",
          "",
          "",
          "",
          "",
          "",
          "",
          "",
          "",
          "",
          "",
          "",
          "",
          "",
          "",
          "",
          "",
          "",
          "",
          "",
          "",
          "",
          "",
          "",
          "",
          "",
          "",
          "",
          "",
          "",
          "",
          "",
          "",
          "",
          "",
          "",
          "",
          "",
          "",
          "",
          "",
          "",
          "",
          "",
          "",
          "",
          "",
          "",
          "",
          "",
          "",
          "",
          "",
          "",
          "",
          "",
          "",
          "",
          "",
          "",
          "",
          "",
          "",
          "",
          "",
          "",
          "",
          "",
          "",
          "",
          "",
          "",
          "",
          "",
          "",
          "",
          "",
          "",
          "",
          "",
          "",
          "",
          "",
          "",
          "",
          "",
          "",
          "",
          "",
          "",
          "",
          "",
          "",
          "",
          "",
          "",
          "",
          "",
          "",
          "",
          "",
          "",
          "",
          "",
          "",
          "",
          "",
          "",
          "",
          "",
          "",
          "",
          "",
          "",
          "",
          "",
          "",
          "",
          "",
          "",
          "",
          "",
          "",
          "",
          "",
          "",
          "",
          "",
          "",
          "",
          "",
          "",
          "",
          "",
          "",
          "",
          "",
          "",
          "",
          "",
          "",
          "",
          "",
          "",
          "",
          "",
          "",
          "",
          "",
          "",
          "",
          "",
          "",
          "",
          "",
          "",
          "",
          "",
          "",
          "",
          "",
          "",
          "",
          "",
          "",
          "",
          "",
          "",
          "",
          "",
          "",
          "",
          "",
          "",
          "",
          "",
          "",
          "",
          "",
          "",
          "",
          "",
          "",
          "",
          "",
          "",
          "",
          "",
          "",
          "",
          "",
          "",
          "",
          "",
          "",
          "",
          "",
          "",
          ""
         ],
         "type": "sunburst",
         "values": [
          20.265167727009835,
          11.817117394263127,
          41.61771561771562,
          48.0313722244066,
          41.61771561771562,
          45.53980400053698,
          48.0313722244066,
          45.53980400053698,
          12.434115102091635,
          8.79348700668562,
          11.51740189501063,
          7.6429309809044845,
          15.057752825961076,
          14.808291815150183,
          15.863278699559118,
          14.635789473684211,
          12.868286959436807,
          13.947537492971508,
          13.024185480374827,
          14.956230366492148,
          14.204089982649018,
          14.968411694537595,
          14.425408968412656,
          12.868286959436807,
          14.956230366492147,
          13.381320740345801,
          15.255087773807674,
          13.947537492971508,
          14.204089982649018,
          13.3813207403458,
          52.2046783625731,
          15.261098174022326,
          30.994968047099075,
          35.03955314009663,
          17.0405668487055,
          31.88214285714286,
          6.827128063841915,
          12.094113916753143,
          15.325065630695656,
          16.687959366052052,
          16.2744235924933,
          15.325065630695656,
          11.93094743094743,
          14.940197505197506,
          14.215596939001193,
          46.73372211636545,
          46.73372211636545,
          16.004353950569858,
          13.96298227320125,
          10.298022046224212,
          24.597845156984945,
          28.435812330549172,
          24.597845156984942,
          28.435812330549176,
          12.767492249456179,
          13.521367521367523,
          11.334293323423758,
          18.163694497690347,
          28.713541842392342,
          28.713541842392342,
          52.2046783625731,
          17.190535225449167,
          17.190535225449164,
          12.767492249456177,
          11.77555110220441,
          24.00145215090867,
          6.1439546130952385,
          24.523284169702666,
          22.126009445525995,
          5.7771513526119405,
          19.197357978546375,
          13.521367521367525,
          11.77555110220441,
          10.235507246376812,
          18.156060037949803,
          19.310131509151912,
          18.156060037949803,
          17.93331069801658,
          18.663212552976333,
          15.094038925063854,
          17.93331069801658,
          19.908222256531662,
          18.395600709253845,
          19.310131509151912,
          18.663212552976333,
          19.908222256531662,
          16.22607077162446,
          15.094038925063854,
          16.22607077162446,
          9.69553534339518,
          3.55374203821656,
          9.695535343395182,
          12.9885968218352,
          16.004353950569858,
          9.891412742382272,
          13.997172734792645,
          13.96298227320125,
          13.997172734792645,
          10.569518624146573,
          21.994778986888804,
          17.49571812023348,
          8.340911922262364,
          6.655892510084199,
          9.13928594570077,
          4.800682246866346,
          9.436231091671225,
          17.160088904907795,
          5.808346982825685,
          9.577522446386403,
          8.776955849992977,
          10.338014989948025,
          18.134256694367497,
          5.810056462874143,
          17.16008890490779,
          5.195768828843923,
          12.2593841669625,
          7.59086622506971,
          8.432570295034479,
          5.729533292279939,
          16.087132811786553,
          9.492466855178721,
          12.204733828932751,
          16.087132811786553,
          6.987225260009577,
          9.754243690484827,
          6.699263783042426,
          9.394369902657195,
          12.544390650901864,
          9.86170469844996,
          7.385332965643156,
          20.265167727009835,
          5.6132334688076195,
          5.137055113994822,
          9.3855015807438,
          6.262913268438131,
          5.753870626049669,
          9.878256472640132,
          5.910524286582276,
          10.105614020376503,
          6.53755741586554,
          52.2046783625731,
          52.204678362573105,
          52.204678362573105,
          16.12699670385396,
          12.9885968218352,
          12.63590510366826,
          11.648819475594339,
          8.585563665855638,
          8.58695652173913,
          7.54851452148983,
          8.561375388144084,
          6.9337068160597575,
          7.545422250532865,
          8.052317059420453,
          6.566293569450902,
          9.985709931178357,
          6.986274772030453,
          5.4459430528794694,
          7.0205654516141704,
          8.220073664825046,
          12.430530593740386,
          6.6259920513924,
          6.420899854862118,
          8.339378072151968,
          7.548514521489831,
          8.621745343309733,
          6.588974578691803,
          6.9079927600860405,
          8.304598843897798,
          8.42939070310603,
          18.134256694367497,
          8.009073693171535,
          7.649528706083977,
          6.709129511677282,
          10.782101694180856,
          8.848359550034603,
          9.547684756347941,
          10.270695885091772,
          10.250971250971253,
          10.198779883700691,
          9.071458075175547,
          8.561375388144084,
          8.621745343309733,
          8.11576660459342,
          7.124501197126894,
          7.783812771999134,
          9.346840546643643,
          12.65735850978927,
          9.344527324607656,
          10.418755982468218,
          9.835863112368234,
          11.870102165761073,
          10.813816765376846,
          9.637019548148091,
          10.057794061190766,
          10.117151755807217,
          6.9337068160597575,
          8.115766604593421,
          7.545422250532865,
          6.9079927600860405,
          6.404195011337868,
          7.737773424286841,
          8.125883486828014,
          8.971405228758169,
          10.486725663716815,
          10.031107392451931,
          11.33443372270188,
          8.052317059420453,
          8.339378072151968,
          8.304598843897796,
          7.783812771999135,
          7.201657458563535,
          7.737773424286841,
          12.14186731847705,
          7.878511664466041,
          6.213248878332014,
          7.140215230985505,
          6.889298576573486,
          12.430530593740386,
          10.234513544169479,
          6.196078431372549,
          7.032825630252099,
          8.755414596777936,
          7.487220375406535,
          8.429390703106032,
          7.264367816091954,
          8.125883486828014,
          7.431340959354576,
          11.970066465373371,
          11.145240617433414,
          8.783578971077674,
          12.434115102091635,
          9.261967373011016,
          9.335313900013071,
          8.438333919071223,
          9.333979948064455,
          11.817117394263127,
          18.120809464508095,
          18.120809464508095,
          35.03955314009662,
          20.82456260720412,
          24.52328416970267,
          24.001452150908673,
          22.12600944552599,
          5.795003019323672,
          18.78885657228561,
          39.75740904476537,
          14.31786430304949,
          18.03434343434343,
          15.598936372269707,
          14.317864303049488,
          16.014435991359072,
          18.034343434343434,
          13.54743346930847,
          14.380407092907095,
          15.598936372269707,
          16.01443599135907,
          17.040566848705502,
          21.9947789868888,
          6.298932804339091,
          17.49571812023348,
          16.687959366052052,
          11.93094743094743,
          4.361671740519412,
          14.498784013605443,
          12.777263151123334,
          31.88214285714286,
          20.416237850200115,
          20.54098258706468,
          48.773751031799065,
          48.773751031799065,
          9.820853560576955,
          10.895347088945687,
          19.19735797854638,
          20.824562607204115,
          18.78885657228561,
          5.742066895368782,
          16.341910748825644,
          6.938757003594907,
          16.341910748825644,
          39.75740904476537,
          10.298022046224213,
          27.700214298874204,
          27.070537048431046,
          27.700214298874204,
          16.873024523160765,
          16.873024523160765,
          7.3667014508952935,
          27.070537048431046,
          9.30595529219965,
          50.521110312612294,
          50.52111031261229,
          48.30627705627706,
          17.712301587301585,
          48.30627705627706,
          52.2046783625731,
          39.89872301611432,
          39.898723016114324,
          16.12699670385396,
          18.16369449769035,
          5.313310229752278,
          20.472885540908138,
          16.274423592493296,
          14.940197505197505,
          14.498784013605443,
          13.506572104018913,
          20.472885540908138,
          30.994968047099075,
          12.706651138716357,
          8.649177921315328,
          7.956757778738116,
          12.059374731966722,
          29.17320261437909,
          29.15969650205761,
          12.059374731966722,
          29.173202614379093,
          35.05902419447311,
          29.15969650205761,
          35.05902419447311,
          14.215596939001191,
          12.777263151123334,
          13.506572104018913
         ]
        }
       ],
       "layout": {
        "coloraxis": {
         "colorbar": {
          "title": {
           "text": "support"
          }
         },
         "colorscale": [
          [
           0,
           "rgb(255,255,217)"
          ],
          [
           0.125,
           "rgb(237,248,177)"
          ],
          [
           0.25,
           "rgb(199,233,180)"
          ],
          [
           0.375,
           "rgb(127,205,187)"
          ],
          [
           0.5,
           "rgb(65,182,196)"
          ],
          [
           0.625,
           "rgb(29,145,192)"
          ],
          [
           0.75,
           "rgb(34,94,168)"
          ],
          [
           0.875,
           "rgb(37,52,148)"
          ],
          [
           1,
           "rgb(8,29,88)"
          ]
         ]
        },
        "legend": {
         "tracegroupgap": 0
        },
        "margin": {
         "b": 0,
         "l": 0,
         "r": 0,
         "t": 40
        },
        "template": {
         "data": {
          "bar": [
           {
            "error_x": {
             "color": "#2a3f5f"
            },
            "error_y": {
             "color": "#2a3f5f"
            },
            "marker": {
             "line": {
              "color": "#E5ECF6",
              "width": 0.5
             },
             "pattern": {
              "fillmode": "overlay",
              "size": 10,
              "solidity": 0.2
             }
            },
            "type": "bar"
           }
          ],
          "barpolar": [
           {
            "marker": {
             "line": {
              "color": "#E5ECF6",
              "width": 0.5
             },
             "pattern": {
              "fillmode": "overlay",
              "size": 10,
              "solidity": 0.2
             }
            },
            "type": "barpolar"
           }
          ],
          "carpet": [
           {
            "aaxis": {
             "endlinecolor": "#2a3f5f",
             "gridcolor": "white",
             "linecolor": "white",
             "minorgridcolor": "white",
             "startlinecolor": "#2a3f5f"
            },
            "baxis": {
             "endlinecolor": "#2a3f5f",
             "gridcolor": "white",
             "linecolor": "white",
             "minorgridcolor": "white",
             "startlinecolor": "#2a3f5f"
            },
            "type": "carpet"
           }
          ],
          "choropleth": [
           {
            "colorbar": {
             "outlinewidth": 0,
             "ticks": ""
            },
            "type": "choropleth"
           }
          ],
          "contour": [
           {
            "colorbar": {
             "outlinewidth": 0,
             "ticks": ""
            },
            "colorscale": [
             [
              0,
              "#0d0887"
             ],
             [
              0.1111111111111111,
              "#46039f"
             ],
             [
              0.2222222222222222,
              "#7201a8"
             ],
             [
              0.3333333333333333,
              "#9c179e"
             ],
             [
              0.4444444444444444,
              "#bd3786"
             ],
             [
              0.5555555555555556,
              "#d8576b"
             ],
             [
              0.6666666666666666,
              "#ed7953"
             ],
             [
              0.7777777777777778,
              "#fb9f3a"
             ],
             [
              0.8888888888888888,
              "#fdca26"
             ],
             [
              1,
              "#f0f921"
             ]
            ],
            "type": "contour"
           }
          ],
          "contourcarpet": [
           {
            "colorbar": {
             "outlinewidth": 0,
             "ticks": ""
            },
            "type": "contourcarpet"
           }
          ],
          "heatmap": [
           {
            "colorbar": {
             "outlinewidth": 0,
             "ticks": ""
            },
            "colorscale": [
             [
              0,
              "#0d0887"
             ],
             [
              0.1111111111111111,
              "#46039f"
             ],
             [
              0.2222222222222222,
              "#7201a8"
             ],
             [
              0.3333333333333333,
              "#9c179e"
             ],
             [
              0.4444444444444444,
              "#bd3786"
             ],
             [
              0.5555555555555556,
              "#d8576b"
             ],
             [
              0.6666666666666666,
              "#ed7953"
             ],
             [
              0.7777777777777778,
              "#fb9f3a"
             ],
             [
              0.8888888888888888,
              "#fdca26"
             ],
             [
              1,
              "#f0f921"
             ]
            ],
            "type": "heatmap"
           }
          ],
          "heatmapgl": [
           {
            "colorbar": {
             "outlinewidth": 0,
             "ticks": ""
            },
            "colorscale": [
             [
              0,
              "#0d0887"
             ],
             [
              0.1111111111111111,
              "#46039f"
             ],
             [
              0.2222222222222222,
              "#7201a8"
             ],
             [
              0.3333333333333333,
              "#9c179e"
             ],
             [
              0.4444444444444444,
              "#bd3786"
             ],
             [
              0.5555555555555556,
              "#d8576b"
             ],
             [
              0.6666666666666666,
              "#ed7953"
             ],
             [
              0.7777777777777778,
              "#fb9f3a"
             ],
             [
              0.8888888888888888,
              "#fdca26"
             ],
             [
              1,
              "#f0f921"
             ]
            ],
            "type": "heatmapgl"
           }
          ],
          "histogram": [
           {
            "marker": {
             "pattern": {
              "fillmode": "overlay",
              "size": 10,
              "solidity": 0.2
             }
            },
            "type": "histogram"
           }
          ],
          "histogram2d": [
           {
            "colorbar": {
             "outlinewidth": 0,
             "ticks": ""
            },
            "colorscale": [
             [
              0,
              "#0d0887"
             ],
             [
              0.1111111111111111,
              "#46039f"
             ],
             [
              0.2222222222222222,
              "#7201a8"
             ],
             [
              0.3333333333333333,
              "#9c179e"
             ],
             [
              0.4444444444444444,
              "#bd3786"
             ],
             [
              0.5555555555555556,
              "#d8576b"
             ],
             [
              0.6666666666666666,
              "#ed7953"
             ],
             [
              0.7777777777777778,
              "#fb9f3a"
             ],
             [
              0.8888888888888888,
              "#fdca26"
             ],
             [
              1,
              "#f0f921"
             ]
            ],
            "type": "histogram2d"
           }
          ],
          "histogram2dcontour": [
           {
            "colorbar": {
             "outlinewidth": 0,
             "ticks": ""
            },
            "colorscale": [
             [
              0,
              "#0d0887"
             ],
             [
              0.1111111111111111,
              "#46039f"
             ],
             [
              0.2222222222222222,
              "#7201a8"
             ],
             [
              0.3333333333333333,
              "#9c179e"
             ],
             [
              0.4444444444444444,
              "#bd3786"
             ],
             [
              0.5555555555555556,
              "#d8576b"
             ],
             [
              0.6666666666666666,
              "#ed7953"
             ],
             [
              0.7777777777777778,
              "#fb9f3a"
             ],
             [
              0.8888888888888888,
              "#fdca26"
             ],
             [
              1,
              "#f0f921"
             ]
            ],
            "type": "histogram2dcontour"
           }
          ],
          "mesh3d": [
           {
            "colorbar": {
             "outlinewidth": 0,
             "ticks": ""
            },
            "type": "mesh3d"
           }
          ],
          "parcoords": [
           {
            "line": {
             "colorbar": {
              "outlinewidth": 0,
              "ticks": ""
             }
            },
            "type": "parcoords"
           }
          ],
          "pie": [
           {
            "automargin": true,
            "type": "pie"
           }
          ],
          "scatter": [
           {
            "fillpattern": {
             "fillmode": "overlay",
             "size": 10,
             "solidity": 0.2
            },
            "type": "scatter"
           }
          ],
          "scatter3d": [
           {
            "line": {
             "colorbar": {
              "outlinewidth": 0,
              "ticks": ""
             }
            },
            "marker": {
             "colorbar": {
              "outlinewidth": 0,
              "ticks": ""
             }
            },
            "type": "scatter3d"
           }
          ],
          "scattercarpet": [
           {
            "marker": {
             "colorbar": {
              "outlinewidth": 0,
              "ticks": ""
             }
            },
            "type": "scattercarpet"
           }
          ],
          "scattergeo": [
           {
            "marker": {
             "colorbar": {
              "outlinewidth": 0,
              "ticks": ""
             }
            },
            "type": "scattergeo"
           }
          ],
          "scattergl": [
           {
            "marker": {
             "colorbar": {
              "outlinewidth": 0,
              "ticks": ""
             }
            },
            "type": "scattergl"
           }
          ],
          "scattermapbox": [
           {
            "marker": {
             "colorbar": {
              "outlinewidth": 0,
              "ticks": ""
             }
            },
            "type": "scattermapbox"
           }
          ],
          "scatterpolar": [
           {
            "marker": {
             "colorbar": {
              "outlinewidth": 0,
              "ticks": ""
             }
            },
            "type": "scatterpolar"
           }
          ],
          "scatterpolargl": [
           {
            "marker": {
             "colorbar": {
              "outlinewidth": 0,
              "ticks": ""
             }
            },
            "type": "scatterpolargl"
           }
          ],
          "scatterternary": [
           {
            "marker": {
             "colorbar": {
              "outlinewidth": 0,
              "ticks": ""
             }
            },
            "type": "scatterternary"
           }
          ],
          "surface": [
           {
            "colorbar": {
             "outlinewidth": 0,
             "ticks": ""
            },
            "colorscale": [
             [
              0,
              "#0d0887"
             ],
             [
              0.1111111111111111,
              "#46039f"
             ],
             [
              0.2222222222222222,
              "#7201a8"
             ],
             [
              0.3333333333333333,
              "#9c179e"
             ],
             [
              0.4444444444444444,
              "#bd3786"
             ],
             [
              0.5555555555555556,
              "#d8576b"
             ],
             [
              0.6666666666666666,
              "#ed7953"
             ],
             [
              0.7777777777777778,
              "#fb9f3a"
             ],
             [
              0.8888888888888888,
              "#fdca26"
             ],
             [
              1,
              "#f0f921"
             ]
            ],
            "type": "surface"
           }
          ],
          "table": [
           {
            "cells": {
             "fill": {
              "color": "#EBF0F8"
             },
             "line": {
              "color": "white"
             }
            },
            "header": {
             "fill": {
              "color": "#C8D4E3"
             },
             "line": {
              "color": "white"
             }
            },
            "type": "table"
           }
          ]
         },
         "layout": {
          "annotationdefaults": {
           "arrowcolor": "#2a3f5f",
           "arrowhead": 0,
           "arrowwidth": 1
          },
          "autotypenumbers": "strict",
          "coloraxis": {
           "colorbar": {
            "outlinewidth": 0,
            "ticks": ""
           }
          },
          "colorscale": {
           "diverging": [
            [
             0,
             "#8e0152"
            ],
            [
             0.1,
             "#c51b7d"
            ],
            [
             0.2,
             "#de77ae"
            ],
            [
             0.3,
             "#f1b6da"
            ],
            [
             0.4,
             "#fde0ef"
            ],
            [
             0.5,
             "#f7f7f7"
            ],
            [
             0.6,
             "#e6f5d0"
            ],
            [
             0.7,
             "#b8e186"
            ],
            [
             0.8,
             "#7fbc41"
            ],
            [
             0.9,
             "#4d9221"
            ],
            [
             1,
             "#276419"
            ]
           ],
           "sequential": [
            [
             0,
             "#0d0887"
            ],
            [
             0.1111111111111111,
             "#46039f"
            ],
            [
             0.2222222222222222,
             "#7201a8"
            ],
            [
             0.3333333333333333,
             "#9c179e"
            ],
            [
             0.4444444444444444,
             "#bd3786"
            ],
            [
             0.5555555555555556,
             "#d8576b"
            ],
            [
             0.6666666666666666,
             "#ed7953"
            ],
            [
             0.7777777777777778,
             "#fb9f3a"
            ],
            [
             0.8888888888888888,
             "#fdca26"
            ],
            [
             1,
             "#f0f921"
            ]
           ],
           "sequentialminus": [
            [
             0,
             "#0d0887"
            ],
            [
             0.1111111111111111,
             "#46039f"
            ],
            [
             0.2222222222222222,
             "#7201a8"
            ],
            [
             0.3333333333333333,
             "#9c179e"
            ],
            [
             0.4444444444444444,
             "#bd3786"
            ],
            [
             0.5555555555555556,
             "#d8576b"
            ],
            [
             0.6666666666666666,
             "#ed7953"
            ],
            [
             0.7777777777777778,
             "#fb9f3a"
            ],
            [
             0.8888888888888888,
             "#fdca26"
            ],
            [
             1,
             "#f0f921"
            ]
           ]
          },
          "colorway": [
           "#636efa",
           "#EF553B",
           "#00cc96",
           "#ab63fa",
           "#FFA15A",
           "#19d3f3",
           "#FF6692",
           "#B6E880",
           "#FF97FF",
           "#FECB52"
          ],
          "font": {
           "color": "#2a3f5f"
          },
          "geo": {
           "bgcolor": "white",
           "lakecolor": "white",
           "landcolor": "#E5ECF6",
           "showlakes": true,
           "showland": true,
           "subunitcolor": "white"
          },
          "hoverlabel": {
           "align": "left"
          },
          "hovermode": "closest",
          "mapbox": {
           "style": "light"
          },
          "paper_bgcolor": "white",
          "plot_bgcolor": "#E5ECF6",
          "polar": {
           "angularaxis": {
            "gridcolor": "white",
            "linecolor": "white",
            "ticks": ""
           },
           "bgcolor": "#E5ECF6",
           "radialaxis": {
            "gridcolor": "white",
            "linecolor": "white",
            "ticks": ""
           }
          },
          "scene": {
           "xaxis": {
            "backgroundcolor": "#E5ECF6",
            "gridcolor": "white",
            "gridwidth": 2,
            "linecolor": "white",
            "showbackground": true,
            "ticks": "",
            "zerolinecolor": "white"
           },
           "yaxis": {
            "backgroundcolor": "#E5ECF6",
            "gridcolor": "white",
            "gridwidth": 2,
            "linecolor": "white",
            "showbackground": true,
            "ticks": "",
            "zerolinecolor": "white"
           },
           "zaxis": {
            "backgroundcolor": "#E5ECF6",
            "gridcolor": "white",
            "gridwidth": 2,
            "linecolor": "white",
            "showbackground": true,
            "ticks": "",
            "zerolinecolor": "white"
           }
          },
          "shapedefaults": {
           "line": {
            "color": "#2a3f5f"
           }
          },
          "ternary": {
           "aaxis": {
            "gridcolor": "white",
            "linecolor": "white",
            "ticks": ""
           },
           "baxis": {
            "gridcolor": "white",
            "linecolor": "white",
            "ticks": ""
           },
           "bgcolor": "#E5ECF6",
           "caxis": {
            "gridcolor": "white",
            "linecolor": "white",
            "ticks": ""
           }
          },
          "title": {
           "x": 0.05
          },
          "xaxis": {
           "automargin": true,
           "gridcolor": "white",
           "linecolor": "white",
           "ticks": "",
           "title": {
            "standoff": 15
           },
           "zerolinecolor": "white",
           "zerolinewidth": 2
          },
          "yaxis": {
           "automargin": true,
           "gridcolor": "white",
           "linecolor": "white",
           "ticks": "",
           "title": {
            "standoff": 15
           },
           "zerolinecolor": "white",
           "zerolinewidth": 2
          }
         }
        },
        "title": {
         "text": "Market Basket Analysis - Sunburst Chart"
        }
       }
      },
      "text/html": [
       "<div>                            <div id=\"7796ea75-20cc-4efe-8ce0-d9cb36711234\" class=\"plotly-graph-div\" style=\"height:525px; width:100%;\"></div>            <script type=\"text/javascript\">                require([\"plotly\"], function(Plotly) {                    window.PLOTLYENV=window.PLOTLYENV || {};                                    if (document.getElementById(\"7796ea75-20cc-4efe-8ce0-d9cb36711234\")) {                    Plotly.newPlot(                        \"7796ea75-20cc-4efe-8ce0-d9cb36711234\",                        [{\"branchvalues\":\"total\",\"customdata\":[[0.008793547664388933],[0.015906799596729023],[0.009017587095328778],[0.007281281505544976],[0.009017587095328778],[0.007449311078749861],[0.007281281505544976],[0.007449311078749861],[0.010025764534558083],[0.011313991262462193],[0.007001232216870169],[0.007561330794219783],[0.007505320936484821],[0.008121429371569396],[0.007393301221014899],[0.007393301221014899],[0.012042119413016689],[0.018987341772151903],[0.009801725103618234],[0.008513498375714126],[0.011762070124341883],[0.008345468802509241],[0.008849557522123894],[0.012042119413016689],[0.008513498375714126],[0.013778425002800493],[0.007393301221014899],[0.018987341772151903],[0.011762070124341883],[0.013778425002800493],[0.010473843396437773],[0.01036182368096785],[0.0077293603674246664],[0.008737537806653971],[0.008457488517979164],[0.007001232216870169],[0.009017587095328778],[0.007897389940629551],[0.008625518091184049],[0.011482020835667078],[0.007617340651954744],[0.008625518091184049],[0.010585863111907696],[0.009017587095328778],[0.009073596953063739],[0.007617340651954744],[0.007617340651954744],[0.010977932116052426],[0.009745715245883276],[0.009577685672678391],[0.007169261790075053],[0.0073372913632799375],[0.007169261790075053],[0.007337291363279938],[0.009353646241738546],[0.009409656099473508],[0.009185616668533661],[0.01450655315335499],[0.008009409656099474],[0.008009409656099474],[0.007393301221014899],[0.017139016466898173],[0.017139016466898173],[0.009353646241738546],[0.008737537806653971],[0.010473843396437775],[0.008289458944774281],[0.010473843396437773],[0.015402710877114372],[0.012434188417161422],[0.018819312198947016],[0.00940965609947351],[0.008737537806653971],[0.008401478660244203],[0.010025764534558083],[0.008793547664388933],[0.010025764534558083],[0.007953399798364512],[0.010305813823232889],[0.007897389940629551],[0.007953399798364512],[0.007281281505544977],[0.007225271647810014],[0.008793547664388933],[0.010305813823232889],[0.007281281505544977],[0.007001232216870169],[0.007897389940629551],[0.007001232216870169],[0.0140584742914753],[0.010641872969642658],[0.0140584742914753],[0.009297636384003584],[0.010977932116052426],[0.00705724207460513],[0.0071132519323400915],[0.009745715245883276],[0.0071132519323400915],[0.007673350509689705],[0.00705724207460513],[0.009017587095328778],[0.009241626526268623],[0.013386355998655763],[0.008849557522123894],[0.011257981404727231],[0.009745715245883276],[0.01075389268511258],[0.01288226727904111],[0.010025764534558083],[0.010585863111907696],[0.007001232216870169],[0.007393301221014899],[0.007505320936484821],[0.01075389268511258],[0.007393301221014899],[0.008233449087039319],[0.021059706508345467],[0.008401478660244203],[0.01036182368096785],[0.008289458944774281],[0.008793547664388933],[0.007169261790075053],[0.008289458944774281],[0.010025764534558083],[0.007169261790075053],[0.009745715245883276],[0.007169261790075053],[0.007169261790075053],[0.01075389268511258],[0.014618572868824913],[0.008793547664388933],[0.01075389268511258],[0.012210148986221577],[0.007953399798364512],[0.009633695530413353],[0.014842612299764758],[0.008457488517979164],[0.009185616668533661],[0.007561330794219783],[0.015850789738994064],[0.010473843396437773],[0.007393301221014899],[0.012322168701691498],[0.009577685672678391],[0.009297636384003584],[0.007953399798364512],[0.007169261790075053],[0.007505320936484822],[0.007561330794219783],[0.01534670101937941],[0.016018819312198947],[0.018427243194802285],[0.015458720734849333],[0.015234681303909488],[0.008905567379858856],[0.01120197154699227],[0.008849557522123894],[0.009017587095328778],[0.008961577237593816],[0.009689705388148314],[0.009633695530413353],[0.011930099697546768],[0.014114484149210262],[0.013050296852245995],[0.01534670101937941],[0.015066651730704607],[0.016354878458608717],[0.01321832642545088],[0.014674582726559875],[0.01372241514506553],[0.007393301221014899],[0.009857734961353198],[0.008793547664388933],[0.010081774392293043],[0.012490198274896381],[0.009465665957208469],[0.009409656099473508],[0.007169261790075053],[0.009353646241738546],[0.007169261790075052],[0.007785370225159628],[0.016018819312198947],[0.015066651730704607],[0.01853926291027221],[0.012546208132631343],[0.012658227848101266],[0.007505320936484821],[0.009353646241738546],[0.007561330794219783],[0.007785370225159628],[0.007505320936484821],[0.007785370225159628],[0.009353646241738546],[0.007785370225159628],[0.007561330794219782],[0.007561330794219782],[0.018427243194802285],[0.01853926291027221],[0.015458720734849333],[0.01321832642545088],[0.016018819312198947],[0.013778425002800493],[0.013330346140920803],[0.007785370225159627],[0.007561330794219783],[0.007785370225159628],[0.007561330794219783],[0.015234681303909488],[0.013050296852245995],[0.014674582726559875],[0.012658227848101266],[0.01663492774728352],[0.013778425002800493],[0.0077293603674246664],[0.007169261790075053],[0.008345468802509241],[0.007393301221014899],[0.008569508233449086],[0.009633695530413353],[0.010529853254172734],[0.009409656099473508],[0.008233449087039319],[0.009465665957208469],[0.013050296852245994],[0.01372241514506553],[0.015458720734849333],[0.013330346140920803],[0.011257981404727231],[0.007785370225159628],[0.0073933012210149],[0.009297636384003584],[0.010025764534558083],[0.012154139128486613],[0.007393301221014899],[0.008737537806653971],[0.008513498375714126],[0.015906799596729023],[0.009129606810798701],[0.009129606810798701],[0.008737537806653971],[0.010473843396437773],[0.010473843396437773],[0.010473843396437773],[0.015402710877114372],[0.009633695530413353],[0.014226503864680183],[0.007617340651954744],[0.008513498375714126],[0.008065419513834434],[0.009017587095328778],[0.008513498375714126],[0.010697882827377618],[0.008065419513834434],[0.007001232216870169],[0.007225271647810016],[0.009017587095328778],[0.010697882827377618],[0.008457488517979164],[0.00705724207460513],[0.01573877002352414],[0.009017587095328778],[0.011482020835667078],[0.010585863111907696],[0.010193794107762966],[0.010697882827377618],[0.009969754676823121],[0.007001232216870169],[0.008289458944774281],[0.008289458944774281],[0.007785370225159628],[0.007785370225159628],[0.007057242074605129],[0.007729360367424667],[0.018819312198947016],[0.010473843396437773],[0.014226503864680183],[0.013442365856390725],[0.008905567379858856],[0.008065419513834434],[0.008905567379858856],[0.007617340651954744],[0.009577685672678391],[0.008961577237593816],[0.0077293603674246664],[0.008961577237593816],[0.007673350509689705],[0.007673350509689705],[0.010585863111907696],[0.0077293603674246664],[0.007449311078749861],[0.00705724207460513],[0.00705724207460513],[0.008401478660244203],[0.008009409656099474],[0.008401478660244203],[0.012322168701691498],[0.008233449087039319],[0.008233449087039319],[0.009577685672678391],[0.01450655315335499],[0.014674582726559875],[0.007673350509689705],[0.007617340651954744],[0.009017587095328778],[0.010697882827377618],[0.007169261790075054],[0.007673350509689705],[0.0077293603674246664],[0.008625518091184049],[0.007393301221014899],[0.007393301221014899],[0.017643105186512825],[0.010641872969642658],[0.0071132519323400915],[0.017643105186512825],[0.010641872969642658],[0.007673350509689704],[0.0071132519323400915],[0.007673350509689704],[0.009073596953063739],[0.009969754676823121],[0.007169261790075054]],\"domain\":{\"x\":[0.0,1.0],\"y\":[0.0,1.0]},\"hovertemplate\":\"labels=%{label}<br>lift=%{value}<br>parent=%{parent}<br>id=%{id}<br>support=%{color}<extra></extra>\",\"ids\":[\"frozenset({\\\"JUMBO BAG 50'S CHRISTMAS\\\"}) -> frozenset({'JUMBO BAG VINTAGE CHRISTMAS'})\",\"frozenset({\\\"PAPER CHAIN KIT 50'S CHRISTMAS\\\"}) -> frozenset({'PAPER CHAIN KIT VINTAGE CHRISTMAS'})\",\"frozenset({\\\"POPPY'S PLAYHOUSE BEDROOM\\\"}) -> frozenset({\\\"POPPY'S PLAYHOUSE KITCHEN\\\"})\",\"frozenset({\\\"POPPY'S PLAYHOUSE BEDROOM\\\"}) -> frozenset({\\\"POPPY'S PLAYHOUSE LIVINGROOM\\\"})\",\"frozenset({\\\"POPPY'S PLAYHOUSE KITCHEN\\\"}) -> frozenset({\\\"POPPY'S PLAYHOUSE BEDROOM\\\"})\",\"frozenset({\\\"POPPY'S PLAYHOUSE KITCHEN\\\"}) -> frozenset({\\\"POPPY'S PLAYHOUSE LIVINGROOM\\\"})\",\"frozenset({\\\"POPPY'S PLAYHOUSE LIVINGROOM\\\"}) -> frozenset({\\\"POPPY'S PLAYHOUSE BEDROOM\\\"})\",\"frozenset({\\\"POPPY'S PLAYHOUSE LIVINGROOM\\\"}) -> frozenset({\\\"POPPY'S PLAYHOUSE KITCHEN\\\"})\",\"frozenset({'60 TEATIME FAIRY CAKE CASES'}) -> frozenset({'PACK OF 60 PINK PAISLEY CAKE CASES'})\",\"frozenset({'60 TEATIME FAIRY CAKE CASES'}) -> frozenset({'PACK OF 72 RETROSPOT CAKE CASES'})\",\"frozenset({'72 SWEETHEART FAIRY CAKE CASES'}) -> frozenset({'60 TEATIME FAIRY CAKE CASES'})\",\"frozenset({'72 SWEETHEART FAIRY CAKE CASES'}) -> frozenset({'PACK OF 72 RETROSPOT CAKE CASES'})\",\"frozenset({'ALARM CLOCK BAKELIKE CHOCOLATE'}) -> frozenset({'ALARM CLOCK BAKELIKE GREEN'})\",\"frozenset({'ALARM CLOCK BAKELIKE CHOCOLATE'}) -> frozenset({'ALARM CLOCK BAKELIKE RED'})\",\"frozenset({'ALARM CLOCK BAKELIKE GREEN', 'ALARM CLOCK BAKELIKE PINK'}) -> frozenset({'ALARM CLOCK BAKELIKE RED'})\",\"frozenset({'ALARM CLOCK BAKELIKE GREEN', 'ALARM CLOCK BAKELIKE RED'}) -> frozenset({'ALARM CLOCK BAKELIKE PINK'})\",\"frozenset({'ALARM CLOCK BAKELIKE GREEN'}) -> frozenset({'ALARM CLOCK BAKELIKE PINK'})\",\"frozenset({'ALARM CLOCK BAKELIKE GREEN'}) -> frozenset({'ALARM CLOCK BAKELIKE RED'})\",\"frozenset({'ALARM CLOCK BAKELIKE IVORY'}) -> frozenset({'ALARM CLOCK BAKELIKE GREEN'})\",\"frozenset({'ALARM CLOCK BAKELIKE IVORY'}) -> frozenset({'ALARM CLOCK BAKELIKE PINK'})\",\"frozenset({'ALARM CLOCK BAKELIKE IVORY'}) -> frozenset({'ALARM CLOCK BAKELIKE RED'})\",\"frozenset({'ALARM CLOCK BAKELIKE ORANGE'}) -> frozenset({'ALARM CLOCK BAKELIKE GREEN'})\",\"frozenset({'ALARM CLOCK BAKELIKE ORANGE'}) -> frozenset({'ALARM CLOCK BAKELIKE RED'})\",\"frozenset({'ALARM CLOCK BAKELIKE PINK'}) -> frozenset({'ALARM CLOCK BAKELIKE GREEN'})\",\"frozenset({'ALARM CLOCK BAKELIKE PINK'}) -> frozenset({'ALARM CLOCK BAKELIKE IVORY'})\",\"frozenset({'ALARM CLOCK BAKELIKE PINK'}) -> frozenset({'ALARM CLOCK BAKELIKE RED'})\",\"frozenset({'ALARM CLOCK BAKELIKE RED', 'ALARM CLOCK BAKELIKE PINK'}) -> frozenset({'ALARM CLOCK BAKELIKE GREEN'})\",\"frozenset({'ALARM CLOCK BAKELIKE RED'}) -> frozenset({'ALARM CLOCK BAKELIKE GREEN'})\",\"frozenset({'ALARM CLOCK BAKELIKE RED'}) -> frozenset({'ALARM CLOCK BAKELIKE IVORY'})\",\"frozenset({'ALARM CLOCK BAKELIKE RED'}) -> frozenset({'ALARM CLOCK BAKELIKE PINK'})\",\"frozenset({'BACK DOOR'}) -> frozenset({'KEY FOB '})\",\"frozenset({'BAKING SET SPACEBOY DESIGN'}) -> frozenset({'BAKING SET 9 PIECE RETROSPOT'})\",\"frozenset({'BATHROOM METAL SIGN'}) -> frozenset({'TOILET METAL SIGN'})\",\"frozenset({'BLUE HAPPY BIRTHDAY BUNTING'}) -> frozenset({'PINK HAPPY BIRTHDAY BUNTING'})\",\"frozenset({'BLUE HARMONICA IN BOX'}) -> frozenset({'RED  HARMONICA IN BOX'})\",\"frozenset({'BLUE STRIPE CERAMIC DRAWER KNOB'}) -> frozenset({'RED STRIPE CERAMIC DRAWER KNOB'})\",\"frozenset({'CANDLEHOLDER PINK HANGING HEART'}) -> frozenset({'WHITE HANGING HEART T-LIGHT HOLDER'})\",\"frozenset({'CHARLOTTE BAG APPLES DESIGN'}) -> frozenset({'RED RETROSPOT CHARLOTTE BAG'})\",\"frozenset({'CHARLOTTE BAG PINK POLKADOT'}) -> frozenset({'CHARLOTTE BAG SUKI DESIGN'})\",\"frozenset({'CHARLOTTE BAG PINK POLKADOT'}) -> frozenset({'RED RETROSPOT CHARLOTTE BAG'})\",\"frozenset({'CHARLOTTE BAG PINK POLKADOT'}) -> frozenset({'STRAWBERRY CHARLOTTE BAG'})\",\"frozenset({'CHARLOTTE BAG SUKI DESIGN'}) -> frozenset({'CHARLOTTE BAG PINK POLKADOT'})\",\"frozenset({'CHARLOTTE BAG SUKI DESIGN'}) -> frozenset({'RED RETROSPOT CHARLOTTE BAG'})\",\"frozenset({'CHARLOTTE BAG SUKI DESIGN'}) -> frozenset({'STRAWBERRY CHARLOTTE BAG'})\",\"frozenset({'CHARLOTTE BAG SUKI DESIGN'}) -> frozenset({'WOODLAND CHARLOTTE BAG'})\",\"frozenset({'CHILDRENS CUTLERY DOLLY GIRL'}) -> frozenset({'CHILDRENS CUTLERY SPACEBOY'})\",\"frozenset({'CHILDRENS CUTLERY SPACEBOY'}) -> frozenset({'CHILDRENS CUTLERY DOLLY GIRL'})\",\"frozenset({'CHOCOLATE HOT WATER BOTTLE'}) -> frozenset({'HOT WATER BOTTLE I AM SO POORLY'})\",\"frozenset({'CHOCOLATE HOT WATER BOTTLE'}) -> frozenset({'HOT WATER BOTTLE TEA AND SYMPATHY'})\",\"frozenset({'CHOCOLATE HOT WATER BOTTLE'}) -> frozenset({'SCOTTIE DOG HOT WATER BOTTLE'})\",\"frozenset({'CHRISTMAS CRAFT LITTLE FRIENDS'}) -> frozenset({'CHRISTMAS CRAFT TREE TOP ANGEL'})\",\"frozenset({'CHRISTMAS CRAFT LITTLE FRIENDS'}) -> frozenset({'CHRISTMAS CRAFT WHITE FAIRY'})\",\"frozenset({'CHRISTMAS CRAFT TREE TOP ANGEL'}) -> frozenset({'CHRISTMAS CRAFT LITTLE FRIENDS'})\",\"frozenset({'CHRISTMAS CRAFT WHITE FAIRY'}) -> frozenset({'CHRISTMAS CRAFT LITTLE FRIENDS'})\",\"frozenset({'COOK WITH WINE METAL SIGN'}) -> frozenset({'GIN + TONIC DIET METAL SIGN'})\",\"frozenset({'COOK WITH WINE METAL SIGN'}) -> frozenset({'HAND OVER THE CHOCOLATE   SIGN'})\",\"frozenset({'COOK WITH WINE METAL SIGN'}) -> frozenset({'PLEASE ONE PERSON METAL SIGN'})\",\"frozenset({'DOLLY GIRL LUNCH BOX'}) -> frozenset({'SPACEBOY LUNCH BOX'})\",\"frozenset({'FELTCRAFT PRINCESS CHARLOTTE DOLL'}) -> frozenset({'FELTCRAFT PRINCESS LOLA DOLL'})\",\"frozenset({'FELTCRAFT PRINCESS LOLA DOLL'}) -> frozenset({'FELTCRAFT PRINCESS CHARLOTTE DOLL'})\",\"frozenset({'FRONT  DOOR'}) -> frozenset({'KEY FOB '})\",\"frozenset({'GARDENERS KNEELING PAD CUP OF TEA'}) -> frozenset({'GARDENERS KNEELING PAD KEEP CALM'})\",\"frozenset({'GARDENERS KNEELING PAD KEEP CALM'}) -> frozenset({'GARDENERS KNEELING PAD CUP OF TEA'})\",\"frozenset({'GIN + TONIC DIET METAL SIGN'}) -> frozenset({'COOK WITH WINE METAL SIGN'})\",\"frozenset({'GIN + TONIC DIET METAL SIGN'}) -> frozenset({'HAND OVER THE CHOCOLATE   SIGN'})\",\"frozenset({'GREEN REGENCY TEACUP AND SAUCER', 'ROSES REGENCY TEACUP AND SAUCER'}) -> frozenset({'PINK REGENCY TEACUP AND SAUCER'})\",\"frozenset({'GREEN REGENCY TEACUP AND SAUCER', 'ROSES REGENCY TEACUP AND SAUCER'}) -> frozenset({'REGENCY CAKESTAND 3 TIER'})\",\"frozenset({'GREEN REGENCY TEACUP AND SAUCER'}) -> frozenset({'PINK REGENCY TEACUP AND SAUCER', 'ROSES REGENCY TEACUP AND SAUCER'})\",\"frozenset({'GREEN REGENCY TEACUP AND SAUCER'}) -> frozenset({'PINK REGENCY TEACUP AND SAUCER'})\",\"frozenset({'GREEN REGENCY TEACUP AND SAUCER'}) -> frozenset({'REGENCY CAKESTAND 3 TIER'})\",\"frozenset({'GREEN REGENCY TEACUP AND SAUCER'}) -> frozenset({'ROSES REGENCY TEACUP AND SAUCER'})\",\"frozenset({'HAND OVER THE CHOCOLATE   SIGN'}) -> frozenset({'COOK WITH WINE METAL SIGN'})\",\"frozenset({'HAND OVER THE CHOCOLATE   SIGN'}) -> frozenset({'GIN + TONIC DIET METAL SIGN'})\",\"frozenset({'HAND OVER THE CHOCOLATE   SIGN'}) -> frozenset({'PLEASE ONE PERSON METAL SIGN'})\",\"frozenset({'HAND WARMER BIRD DESIGN'}) -> frozenset({'HAND WARMER OWL DESIGN'})\",\"frozenset({'HAND WARMER BIRD DESIGN'}) -> frozenset({'HAND WARMER SCOTTY DOG DESIGN'})\",\"frozenset({'HAND WARMER OWL DESIGN'}) -> frozenset({'HAND WARMER BIRD DESIGN'})\",\"frozenset({'HAND WARMER OWL DESIGN'}) -> frozenset({'HAND WARMER RED LOVE HEART'})\",\"frozenset({'HAND WARMER OWL DESIGN'}) -> frozenset({'HAND WARMER SCOTTY DOG DESIGN'})\",\"frozenset({'HAND WARMER OWL DESIGN'}) -> frozenset({'HAND WARMER UNION JACK'})\",\"frozenset({'HAND WARMER RED LOVE HEART'}) -> frozenset({'HAND WARMER OWL DESIGN'})\",\"frozenset({'HAND WARMER RED LOVE HEART'}) -> frozenset({'HAND WARMER SCOTTY DOG DESIGN'})\",\"frozenset({'HAND WARMER RED RETROSPOT'}) -> frozenset({'HAND WARMER OWL DESIGN'})\",\"frozenset({'HAND WARMER SCOTTY DOG DESIGN'}) -> frozenset({'HAND WARMER BIRD DESIGN'})\",\"frozenset({'HAND WARMER SCOTTY DOG DESIGN'}) -> frozenset({'HAND WARMER OWL DESIGN'})\",\"frozenset({'HAND WARMER SCOTTY DOG DESIGN'}) -> frozenset({'HAND WARMER RED LOVE HEART'})\",\"frozenset({'HAND WARMER SCOTTY DOG DESIGN'}) -> frozenset({'HAND WARMER UNION JACK'})\",\"frozenset({'HAND WARMER UNION JACK'}) -> frozenset({'HAND WARMER OWL DESIGN'})\",\"frozenset({'HAND WARMER UNION JACK'}) -> frozenset({'HAND WARMER SCOTTY DOG DESIGN'})\",\"frozenset({'HEART OF WICKER LARGE'}) -> frozenset({'HEART OF WICKER SMALL'})\",\"frozenset({'HEART OF WICKER LARGE'}) -> frozenset({'WHITE HANGING HEART T-LIGHT HOLDER'})\",\"frozenset({'HEART OF WICKER SMALL'}) -> frozenset({'HEART OF WICKER LARGE'})\",\"frozenset({'HOME BUILDING BLOCK WORD'}) -> frozenset({'LOVE BUILDING BLOCK WORD'})\",\"frozenset({'HOT WATER BOTTLE I AM SO POORLY'}) -> frozenset({'CHOCOLATE HOT WATER BOTTLE'})\",\"frozenset({'HOT WATER BOTTLE I AM SO POORLY'}) -> frozenset({'HOT WATER BOTTLE KEEP CALM'})\",\"frozenset({'HOT WATER BOTTLE I AM SO POORLY'}) -> frozenset({'HOT WATER BOTTLE TEA AND SYMPATHY'})\",\"frozenset({'HOT WATER BOTTLE TEA AND SYMPATHY'}) -> frozenset({'CHOCOLATE HOT WATER BOTTLE'})\",\"frozenset({'HOT WATER BOTTLE TEA AND SYMPATHY'}) -> frozenset({'HOT WATER BOTTLE I AM SO POORLY'})\",\"frozenset({'HOT WATER BOTTLE TEA AND SYMPATHY'}) -> frozenset({'HOT WATER BOTTLE KEEP CALM'})\",\"frozenset({'IVORY DINER WALL CLOCK'}) -> frozenset({'RED DINER WALL CLOCK'})\",\"frozenset({'IVORY KITCHEN SCALES'}) -> frozenset({'RED KITCHEN SCALES'})\",\"frozenset({'JUMBO  BAG BAROQUE BLACK WHITE'}) -> frozenset({'JUMBO BAG PINK POLKADOT'})\",\"frozenset({'JUMBO  BAG BAROQUE BLACK WHITE'}) -> frozenset({'JUMBO BAG RED RETROSPOT'})\",\"frozenset({'JUMBO  BAG BAROQUE BLACK WHITE'}) -> frozenset({'JUMBO STORAGE BAG SUKI'})\",\"frozenset({'JUMBO BAG ALPHABET'}) -> frozenset({'JUMBO BAG RED RETROSPOT'})\",\"frozenset({'JUMBO BAG APPLES'}) -> frozenset({'JUMBO BAG ALPHABET'})\",\"frozenset({'JUMBO BAG APPLES'}) -> frozenset({'JUMBO BAG PEARS'})\",\"frozenset({'JUMBO BAG APPLES'}) -> frozenset({'JUMBO BAG RED RETROSPOT'})\",\"frozenset({'JUMBO BAG APPLES'}) -> frozenset({'JUMBO BAG VINTAGE LEAF'})\",\"frozenset({'JUMBO BAG APPLES'}) -> frozenset({'LUNCH BAG APPLE DESIGN'})\",\"frozenset({'JUMBO BAG DOILEY PATTERNS'}) -> frozenset({'JUMBO BAG VINTAGE LEAF'})\",\"frozenset({'JUMBO BAG DOILEY PATTERNS'}) -> frozenset({'LUNCH BAG DOILEY PATTERN'})\",\"frozenset({'JUMBO BAG OWLS'}) -> frozenset({'JUMBO BAG RED RETROSPOT'})\",\"frozenset({'JUMBO BAG PEARS'}) -> frozenset({'JUMBO BAG APPLES'})\",\"frozenset({'JUMBO BAG PEARS'}) -> frozenset({'JUMBO BAG RED RETROSPOT'})\",\"frozenset({'JUMBO BAG PEARS'}) -> frozenset({'JUMBO BAG VINTAGE LEAF'})\",\"frozenset({'JUMBO BAG PINK POLKADOT'}) -> frozenset({'JUMBO BAG RED RETROSPOT'})\",\"frozenset({'JUMBO BAG PINK VINTAGE PAISLEY'}) -> frozenset({'JUMBO BAG PINK POLKADOT'})\",\"frozenset({'JUMBO BAG PINK VINTAGE PAISLEY'}) -> frozenset({'JUMBO BAG RED RETROSPOT'})\",\"frozenset({'JUMBO BAG PINK VINTAGE PAISLEY'}) -> frozenset({'JUMBO BAG SCANDINAVIAN BLUE PAISLEY'})\",\"frozenset({'JUMBO BAG PINK VINTAGE PAISLEY'}) -> frozenset({'JUMBO SHOPPER VINTAGE RED PAISLEY'})\",\"frozenset({'JUMBO BAG RED RETROSPOT', 'JUMBO BAG PINK POLKADOT'}) -> frozenset({'JUMBO BAG STRAWBERRY'})\",\"frozenset({'JUMBO BAG SCANDINAVIAN BLUE PAISLEY'}) -> frozenset({'JUMBO BAG PINK VINTAGE PAISLEY'})\",\"frozenset({'JUMBO BAG SCANDINAVIAN BLUE PAISLEY'}) -> frozenset({'JUMBO BAG RED RETROSPOT'})\",\"frozenset({'JUMBO BAG SCANDINAVIAN BLUE PAISLEY'}) -> frozenset({'JUMBO SHOPPER VINTAGE RED PAISLEY'})\",\"frozenset({'JUMBO BAG SPACEBOY DESIGN'}) -> frozenset({'JUMBO BAG RED RETROSPOT'})\",\"frozenset({'JUMBO BAG STRAWBERRY', 'JUMBO BAG PINK POLKADOT'}) -> frozenset({'JUMBO BAG RED RETROSPOT'})\",\"frozenset({'JUMBO BAG STRAWBERRY', 'JUMBO BAG RED RETROSPOT'}) -> frozenset({'JUMBO BAG PINK POLKADOT'})\",\"frozenset({'JUMBO BAG STRAWBERRY'}) -> frozenset({'JUMBO BAG PINK POLKADOT'})\",\"frozenset({'JUMBO BAG STRAWBERRY'}) -> frozenset({'JUMBO BAG RED RETROSPOT'})\",\"frozenset({'JUMBO BAG VINTAGE CHRISTMAS'}) -> frozenset({\\\"JUMBO BAG 50'S CHRISTMAS\\\"})\",\"frozenset({'JUMBO BAG VINTAGE DOILY'}) -> frozenset({'JUMBO BAG RED RETROSPOT'})\",\"frozenset({'JUMBO BAG VINTAGE LEAF'}) -> frozenset({'JUMBO BAG RED RETROSPOT'})\",\"frozenset({'JUMBO BAG WOODLAND ANIMALS'}) -> frozenset({'JUMBO BAG PINK POLKADOT'})\",\"frozenset({'JUMBO BAG WOODLAND ANIMALS'}) -> frozenset({'JUMBO BAG RED RETROSPOT'})\",\"frozenset({'JUMBO SHOPPER VINTAGE RED PAISLEY'}) -> frozenset({'JUMBO BAG RED RETROSPOT'})\",\"frozenset({'JUMBO STORAGE BAG SKULLS'}) -> frozenset({'JUMBO BAG PINK POLKADOT'})\",\"frozenset({'JUMBO STORAGE BAG SKULLS'}) -> frozenset({'JUMBO BAG RED RETROSPOT'})\",\"frozenset({'JUMBO STORAGE BAG SKULLS'}) -> frozenset({'JUMBO STORAGE BAG SUKI'})\",\"frozenset({'JUMBO STORAGE BAG SUKI'}) -> frozenset({'JUMBO BAG RED RETROSPOT'})\",\"frozenset({'KEY FOB '}) -> frozenset({'BACK DOOR'})\",\"frozenset({'KEY FOB '}) -> frozenset({'FRONT  DOOR'})\",\"frozenset({'KEY FOB '}) -> frozenset({'SHED'})\",\"frozenset({'LARGE WHITE HEART OF WICKER'}) -> frozenset({'SMALL WHITE HEART OF WICKER'})\",\"frozenset({'LOVE BUILDING BLOCK WORD'}) -> frozenset({'HOME BUILDING BLOCK WORD'})\",\"frozenset({'LOVE HOT WATER BOTTLE'}) -> frozenset({'HOT WATER BOTTLE KEEP CALM'})\",\"frozenset({'LUNCH BAG  BLACK SKULL.', 'LUNCH BAG CARS BLUE'}) -> frozenset({'LUNCH BAG PINK POLKADOT'})\",\"frozenset({'LUNCH BAG  BLACK SKULL.', 'LUNCH BAG CARS BLUE'}) -> frozenset({'LUNCH BAG RED RETROSPOT'})\",\"frozenset({'LUNCH BAG  BLACK SKULL.', 'LUNCH BAG SPACEBOY DESIGN'}) -> frozenset({'LUNCH BAG RED RETROSPOT'})\",\"frozenset({'LUNCH BAG  BLACK SKULL.'}) -> frozenset({'LUNCH BAG CARS BLUE'})\",\"frozenset({'LUNCH BAG  BLACK SKULL.'}) -> frozenset({'LUNCH BAG PINK POLKADOT'})\",\"frozenset({'LUNCH BAG  BLACK SKULL.'}) -> frozenset({'LUNCH BAG RED RETROSPOT'})\",\"frozenset({'LUNCH BAG  BLACK SKULL.'}) -> frozenset({'LUNCH BAG SPACEBOY DESIGN'})\",\"frozenset({'LUNCH BAG  BLACK SKULL.'}) -> frozenset({'LUNCH BAG SUKI DESIGN'})\",\"frozenset({'LUNCH BAG ALPHABET DESIGN'}) -> frozenset({'LUNCH BAG  BLACK SKULL.'})\",\"frozenset({'LUNCH BAG ALPHABET DESIGN'}) -> frozenset({'LUNCH BAG APPLE DESIGN'})\",\"frozenset({'LUNCH BAG ALPHABET DESIGN'}) -> frozenset({'LUNCH BAG CARS BLUE'})\",\"frozenset({'LUNCH BAG ALPHABET DESIGN'}) -> frozenset({'LUNCH BAG RED RETROSPOT'})\",\"frozenset({'LUNCH BAG ALPHABET DESIGN'}) -> frozenset({'LUNCH BAG SPACEBOY DESIGN'})\",\"frozenset({'LUNCH BAG ALPHABET DESIGN'}) -> frozenset({'LUNCH BAG SUKI DESIGN'})\",\"frozenset({'LUNCH BAG ALPHABET DESIGN'}) -> frozenset({'LUNCH BAG VINTAGE LEAF DESIGN'})\",\"frozenset({'LUNCH BAG APPLE DESIGN'}) -> frozenset({'LUNCH BAG  BLACK SKULL.'})\",\"frozenset({'LUNCH BAG APPLE DESIGN'}) -> frozenset({'LUNCH BAG RED RETROSPOT'})\",\"frozenset({'LUNCH BAG APPLE DESIGN'}) -> frozenset({'LUNCH BAG SUKI DESIGN'})\",\"frozenset({'LUNCH BAG CARS BLUE'}) -> frozenset({'LUNCH BAG  BLACK SKULL.'})\",\"frozenset({'LUNCH BAG CARS BLUE'}) -> frozenset({'LUNCH BAG PINK POLKADOT'})\",\"frozenset({'LUNCH BAG CARS BLUE'}) -> frozenset({'LUNCH BAG RED RETROSPOT'})\",\"frozenset({'LUNCH BAG CARS BLUE'}) -> frozenset({'LUNCH BAG SPACEBOY DESIGN'})\",\"frozenset({'LUNCH BAG CARS BLUE'}) -> frozenset({'LUNCH BAG SUKI DESIGN'})\",\"frozenset({'LUNCH BAG CARS BLUE'}) -> frozenset({'LUNCH BAG WOODLAND'})\",\"frozenset({'LUNCH BAG DOILEY PATTERN'}) -> frozenset({'JUMBO BAG DOILEY PATTERNS'})\",\"frozenset({'LUNCH BAG DOLLY GIRL DESIGN'}) -> frozenset({'LUNCH BAG  BLACK SKULL.'})\",\"frozenset({'LUNCH BAG DOLLY GIRL DESIGN'}) -> frozenset({'LUNCH BAG CARS BLUE'})\",\"frozenset({'LUNCH BAG DOLLY GIRL DESIGN'}) -> frozenset({'LUNCH BAG RED RETROSPOT'})\",\"frozenset({'LUNCH BAG DOLLY GIRL DESIGN'}) -> frozenset({'LUNCH BAG SPACEBOY DESIGN'})\",\"frozenset({'LUNCH BAG DOLLY GIRL DESIGN'}) -> frozenset({'LUNCH BAG SUKI DESIGN'})\",\"frozenset({'LUNCH BAG DOLLY GIRL DESIGN'}) -> frozenset({'LUNCH BAG WOODLAND'})\",\"frozenset({'LUNCH BAG PINK POLKADOT', 'LUNCH BAG  BLACK SKULL.'}) -> frozenset({'LUNCH BAG CARS BLUE'})\",\"frozenset({'LUNCH BAG PINK POLKADOT', 'LUNCH BAG  BLACK SKULL.'}) -> frozenset({'LUNCH BAG RED RETROSPOT'})\",\"frozenset({'LUNCH BAG PINK POLKADOT', 'LUNCH BAG CARS BLUE'}) -> frozenset({'LUNCH BAG  BLACK SKULL.'})\",\"frozenset({'LUNCH BAG PINK POLKADOT', 'LUNCH BAG CARS BLUE'}) -> frozenset({'LUNCH BAG RED RETROSPOT'})\",\"frozenset({'LUNCH BAG PINK POLKADOT'}) -> frozenset({'LUNCH BAG  BLACK SKULL.'})\",\"frozenset({'LUNCH BAG PINK POLKADOT'}) -> frozenset({'LUNCH BAG CARS BLUE'})\",\"frozenset({'LUNCH BAG PINK POLKADOT'}) -> frozenset({'LUNCH BAG RED RETROSPOT'})\",\"frozenset({'LUNCH BAG PINK POLKADOT'}) -> frozenset({'LUNCH BAG SPACEBOY DESIGN'})\",\"frozenset({'LUNCH BAG PINK POLKADOT'}) -> frozenset({'LUNCH BAG SUKI DESIGN'})\",\"frozenset({'LUNCH BAG RED RETROSPOT', 'LUNCH BAG  BLACK SKULL.'}) -> frozenset({'LUNCH BAG CARS BLUE'})\",\"frozenset({'LUNCH BAG RED RETROSPOT', 'LUNCH BAG  BLACK SKULL.'}) -> frozenset({'LUNCH BAG PINK POLKADOT'})\",\"frozenset({'LUNCH BAG RED RETROSPOT', 'LUNCH BAG  BLACK SKULL.'}) -> frozenset({'LUNCH BAG SPACEBOY DESIGN'})\",\"frozenset({'LUNCH BAG RED RETROSPOT', 'LUNCH BAG  BLACK SKULL.'}) -> frozenset({'LUNCH BAG SUKI DESIGN'})\",\"frozenset({'LUNCH BAG RED RETROSPOT', 'LUNCH BAG CARS BLUE'}) -> frozenset({'LUNCH BAG  BLACK SKULL.'})\",\"frozenset({'LUNCH BAG RED RETROSPOT', 'LUNCH BAG CARS BLUE'}) -> frozenset({'LUNCH BAG PINK POLKADOT'})\",\"frozenset({'LUNCH BAG RED RETROSPOT', 'LUNCH BAG PINK POLKADOT'}) -> frozenset({'LUNCH BAG  BLACK SKULL.'})\",\"frozenset({'LUNCH BAG RED RETROSPOT', 'LUNCH BAG PINK POLKADOT'}) -> frozenset({'LUNCH BAG CARS BLUE'})\",\"frozenset({'LUNCH BAG RED RETROSPOT', 'LUNCH BAG PINK POLKADOT'}) -> frozenset({'LUNCH BAG SUKI DESIGN'})\",\"frozenset({'LUNCH BAG RED RETROSPOT', 'LUNCH BAG SPACEBOY DESIGN'}) -> frozenset({'LUNCH BAG  BLACK SKULL.'})\",\"frozenset({'LUNCH BAG RED RETROSPOT'}) -> frozenset({'LUNCH BAG  BLACK SKULL.'})\",\"frozenset({'LUNCH BAG RED RETROSPOT'}) -> frozenset({'LUNCH BAG PINK POLKADOT'})\",\"frozenset({'LUNCH BAG SPACEBOY DESIGN'}) -> frozenset({'LUNCH BAG  BLACK SKULL.'})\",\"frozenset({'LUNCH BAG SPACEBOY DESIGN'}) -> frozenset({'LUNCH BAG CARS BLUE'})\",\"frozenset({'LUNCH BAG SPACEBOY DESIGN'}) -> frozenset({'LUNCH BAG RED RETROSPOT'})\",\"frozenset({'LUNCH BAG SPACEBOY DESIGN'}) -> frozenset({'LUNCH BAG SUKI DESIGN'})\",\"frozenset({'LUNCH BAG SPACEBOY DESIGN'}) -> frozenset({'LUNCH BAG WOODLAND'})\",\"frozenset({'LUNCH BAG SUKI DESIGN', 'LUNCH BAG  BLACK SKULL.'}) -> frozenset({'LUNCH BAG RED RETROSPOT'})\",\"frozenset({'LUNCH BAG SUKI DESIGN', 'LUNCH BAG PINK POLKADOT'}) -> frozenset({'LUNCH BAG RED RETROSPOT'})\",\"frozenset({'LUNCH BAG SUKI DESIGN', 'LUNCH BAG RED RETROSPOT'}) -> frozenset({'LUNCH BAG  BLACK SKULL.'})\",\"frozenset({'LUNCH BAG SUKI DESIGN', 'LUNCH BAG RED RETROSPOT'}) -> frozenset({'LUNCH BAG PINK POLKADOT'})\",\"frozenset({'LUNCH BAG SUKI DESIGN'}) -> frozenset({'LUNCH BAG  BLACK SKULL.'})\",\"frozenset({'LUNCH BAG SUKI DESIGN'}) -> frozenset({'LUNCH BAG APPLE DESIGN'})\",\"frozenset({'LUNCH BAG SUKI DESIGN'}) -> frozenset({'LUNCH BAG CARS BLUE'})\",\"frozenset({'LUNCH BAG SUKI DESIGN'}) -> frozenset({'LUNCH BAG PINK POLKADOT'})\",\"frozenset({'LUNCH BAG SUKI DESIGN'}) -> frozenset({'LUNCH BAG RED RETROSPOT'})\",\"frozenset({'LUNCH BAG SUKI DESIGN'}) -> frozenset({'LUNCH BAG SPACEBOY DESIGN'})\",\"frozenset({'LUNCH BAG VINTAGE DOILY'}) -> frozenset({'JUMBO BAG VINTAGE DOILY'})\",\"frozenset({'LUNCH BAG VINTAGE DOILY'}) -> frozenset({'LUNCH BAG APPLE DESIGN'})\",\"frozenset({'LUNCH BAG VINTAGE DOILY'}) -> frozenset({'LUNCH BAG RED RETROSPOT'})\",\"frozenset({'LUNCH BAG VINTAGE DOILY'}) -> frozenset({'LUNCH BAG SPACEBOY DESIGN'})\",\"frozenset({'LUNCH BAG VINTAGE LEAF DESIGN'}) -> frozenset({'LUNCH BAG  BLACK SKULL.'})\",\"frozenset({'LUNCH BAG VINTAGE LEAF DESIGN'}) -> frozenset({'LUNCH BAG ALPHABET DESIGN'})\",\"frozenset({'LUNCH BAG VINTAGE LEAF DESIGN'}) -> frozenset({'LUNCH BAG APPLE DESIGN'})\",\"frozenset({'LUNCH BAG VINTAGE LEAF DESIGN'}) -> frozenset({'LUNCH BAG RED RETROSPOT'})\",\"frozenset({'LUNCH BAG VINTAGE LEAF DESIGN'}) -> frozenset({'LUNCH BAG SPACEBOY DESIGN'})\",\"frozenset({'LUNCH BAG VINTAGE LEAF DESIGN'}) -> frozenset({'LUNCH BAG SUKI DESIGN'})\",\"frozenset({'LUNCH BAG WOODLAND'}) -> frozenset({'LUNCH BAG  BLACK SKULL.'})\",\"frozenset({'LUNCH BAG WOODLAND'}) -> frozenset({'LUNCH BAG CARS BLUE'})\",\"frozenset({'LUNCH BAG WOODLAND'}) -> frozenset({'LUNCH BAG RED RETROSPOT'})\",\"frozenset({'LUNCH BAG WOODLAND'}) -> frozenset({'LUNCH BAG SPACEBOY DESIGN'})\",\"frozenset({'LUNCH BAG WOODLAND'}) -> frozenset({'LUNCH BAG SUKI DESIGN'})\",\"frozenset({'PACK OF 60 DINOSAUR CAKE CASES'}) -> frozenset({'60 TEATIME FAIRY CAKE CASES'})\",\"frozenset({'PACK OF 60 DINOSAUR CAKE CASES'}) -> frozenset({'PACK OF 60 PINK PAISLEY CAKE CASES'})\",\"frozenset({'PACK OF 60 DINOSAUR CAKE CASES'}) -> frozenset({'PACK OF 72 RETROSPOT CAKE CASES'})\",\"frozenset({'PACK OF 60 PINK PAISLEY CAKE CASES'}) -> frozenset({'60 TEATIME FAIRY CAKE CASES'})\",\"frozenset({'PACK OF 60 PINK PAISLEY CAKE CASES'}) -> frozenset({'PACK OF 72 RETROSPOT CAKE CASES'})\",\"frozenset({'PACK OF 60 SPACEBOY CAKE CASES'}) -> frozenset({'PACK OF 72 RETROSPOT CAKE CASES'})\",\"frozenset({'PACK OF 72 SKULL CAKE CASES'}) -> frozenset({'PACK OF 72 RETROSPOT CAKE CASES'})\",\"frozenset({'PAINTED METAL PEARS ASSORTED'}) -> frozenset({'ASSORTED COLOUR BIRD ORNAMENT'})\",\"frozenset({'PAPER CHAIN KIT VINTAGE CHRISTMAS'}) -> frozenset({\\\"PAPER CHAIN KIT 50'S CHRISTMAS\\\"})\",\"frozenset({'PINK BLUE FELT CRAFT TRINKET BOX'}) -> frozenset({'PINK CREAM FELT CRAFT TRINKET BOX'})\",\"frozenset({'PINK CREAM FELT CRAFT TRINKET BOX'}) -> frozenset({'PINK BLUE FELT CRAFT TRINKET BOX'})\",\"frozenset({'PINK HAPPY BIRTHDAY BUNTING'}) -> frozenset({'BLUE HAPPY BIRTHDAY BUNTING'})\",\"frozenset({'PINK REGENCY TEACUP AND SAUCER', 'GREEN REGENCY TEACUP AND SAUCER'}) -> frozenset({'ROSES REGENCY TEACUP AND SAUCER'})\",\"frozenset({'PINK REGENCY TEACUP AND SAUCER', 'ROSES REGENCY TEACUP AND SAUCER'}) -> frozenset({'GREEN REGENCY TEACUP AND SAUCER'})\",\"frozenset({'PINK REGENCY TEACUP AND SAUCER'}) -> frozenset({'GREEN REGENCY TEACUP AND SAUCER', 'ROSES REGENCY TEACUP AND SAUCER'})\",\"frozenset({'PINK REGENCY TEACUP AND SAUCER'}) -> frozenset({'GREEN REGENCY TEACUP AND SAUCER'})\",\"frozenset({'PINK REGENCY TEACUP AND SAUCER'}) -> frozenset({'REGENCY CAKESTAND 3 TIER'})\",\"frozenset({'PINK REGENCY TEACUP AND SAUCER'}) -> frozenset({'ROSES REGENCY TEACUP AND SAUCER'})\",\"frozenset({'PINK VINTAGE PAISLEY PICNIC BAG'}) -> frozenset({'SCANDINAVIAN PAISLEY PICNIC BAG'})\",\"frozenset({'PLASTERS IN TIN CIRCUS PARADE'}) -> frozenset({'PLASTERS IN TIN SPACEBOY'})\",\"frozenset({'PLASTERS IN TIN CIRCUS PARADE'}) -> frozenset({'PLASTERS IN TIN STRONGMAN'})\",\"frozenset({'PLASTERS IN TIN CIRCUS PARADE'}) -> frozenset({'PLASTERS IN TIN WOODLAND ANIMALS'})\",\"frozenset({'PLASTERS IN TIN SPACEBOY'}) -> frozenset({'PLASTERS IN TIN CIRCUS PARADE'})\",\"frozenset({'PLASTERS IN TIN SPACEBOY'}) -> frozenset({'PLASTERS IN TIN WOODLAND ANIMALS'})\",\"frozenset({'PLASTERS IN TIN STRONGMAN'}) -> frozenset({'PLASTERS IN TIN CIRCUS PARADE'})\",\"frozenset({'PLASTERS IN TIN STRONGMAN'}) -> frozenset({'PLASTERS IN TIN SPACEBOY'})\",\"frozenset({'PLASTERS IN TIN STRONGMAN'}) -> frozenset({'PLASTERS IN TIN WOODLAND ANIMALS'})\",\"frozenset({'PLASTERS IN TIN WOODLAND ANIMALS'}) -> frozenset({'PLASTERS IN TIN CIRCUS PARADE'})\",\"frozenset({'PLASTERS IN TIN WOODLAND ANIMALS'}) -> frozenset({'PLASTERS IN TIN SPACEBOY'})\",\"frozenset({'RED  HARMONICA IN BOX'}) -> frozenset({'BLUE HARMONICA IN BOX'})\",\"frozenset({'RED DINER WALL CLOCK'}) -> frozenset({'IVORY DINER WALL CLOCK'})\",\"frozenset({'RED HANGING HEART T-LIGHT HOLDER'}) -> frozenset({'WHITE HANGING HEART T-LIGHT HOLDER'})\",\"frozenset({'RED KITCHEN SCALES'}) -> frozenset({'IVORY KITCHEN SCALES'})\",\"frozenset({'RED RETROSPOT CHARLOTTE BAG'}) -> frozenset({'CHARLOTTE BAG PINK POLKADOT'})\",\"frozenset({'RED RETROSPOT CHARLOTTE BAG'}) -> frozenset({'CHARLOTTE BAG SUKI DESIGN'})\",\"frozenset({'RED RETROSPOT CHARLOTTE BAG'}) -> frozenset({'JUMBO BAG RED RETROSPOT'})\",\"frozenset({'RED RETROSPOT CHARLOTTE BAG'}) -> frozenset({'STRAWBERRY CHARLOTTE BAG'})\",\"frozenset({'RED RETROSPOT CHARLOTTE BAG'}) -> frozenset({'WOODLAND CHARLOTTE BAG'})\",\"frozenset({'RED STRIPE CERAMIC DRAWER KNOB'}) -> frozenset({'BLUE STRIPE CERAMIC DRAWER KNOB'})\",\"frozenset({'REGENCY CAKESTAND 3 TIER', 'GREEN REGENCY TEACUP AND SAUCER'}) -> frozenset({'ROSES REGENCY TEACUP AND SAUCER'})\",\"frozenset({'REGENCY CAKESTAND 3 TIER', 'ROSES REGENCY TEACUP AND SAUCER'}) -> frozenset({'GREEN REGENCY TEACUP AND SAUCER'})\",\"frozenset({'REGENCY TEA PLATE GREEN'}) -> frozenset({'REGENCY TEA PLATE ROSES'})\",\"frozenset({'REGENCY TEA PLATE ROSES'}) -> frozenset({'REGENCY TEA PLATE GREEN'})\",\"frozenset({'RETROSPOT HEART HOT WATER BOTTLE'}) -> frozenset({'CHOCOLATE HOT WATER BOTTLE'})\",\"frozenset({'RETROSPOT HEART HOT WATER BOTTLE'}) -> frozenset({'SCOTTIE DOG HOT WATER BOTTLE'})\",\"frozenset({'ROSES REGENCY TEACUP AND SAUCER'}) -> frozenset({'GREEN REGENCY TEACUP AND SAUCER'})\",\"frozenset({'ROSES REGENCY TEACUP AND SAUCER'}) -> frozenset({'PINK REGENCY TEACUP AND SAUCER', 'GREEN REGENCY TEACUP AND SAUCER'})\",\"frozenset({'ROSES REGENCY TEACUP AND SAUCER'}) -> frozenset({'PINK REGENCY TEACUP AND SAUCER'})\",\"frozenset({'ROSES REGENCY TEACUP AND SAUCER'}) -> frozenset({'REGENCY CAKESTAND 3 TIER'})\",\"frozenset({'ROUND SNACK BOXES SET OF 4 FRUITS'}) -> frozenset({'ROUND SNACK BOXES SET OF4 WOODLAND'})\",\"frozenset({'ROUND SNACK BOXES SET OF4 WOODLAND'}) -> frozenset({'POSTAGE'})\",\"frozenset({'ROUND SNACK BOXES SET OF4 WOODLAND'}) -> frozenset({'ROUND SNACK BOXES SET OF 4 FRUITS'})\",\"frozenset({'SCANDINAVIAN PAISLEY PICNIC BAG'}) -> frozenset({'PINK VINTAGE PAISLEY PICNIC BAG'})\",\"frozenset({'SCOTTIE DOG HOT WATER BOTTLE'}) -> frozenset({'CHOCOLATE HOT WATER BOTTLE'})\",\"frozenset({'SET OF 12 FAIRY CAKE BAKING CASES'}) -> frozenset({'SET OF 12 MINI LOAF BAKING CASES'})\",\"frozenset({'SET OF 12 FAIRY CAKE BAKING CASES'}) -> frozenset({'SET OF 6 TEA TIME BAKING CASES'})\",\"frozenset({'SET OF 12 MINI LOAF BAKING CASES'}) -> frozenset({'SET OF 12 FAIRY CAKE BAKING CASES'})\",\"frozenset({'SET OF 3 BUTTERFLY COOKIE CUTTERS'}) -> frozenset({'SET OF 3 HEART COOKIE CUTTERS'})\",\"frozenset({'SET OF 3 HEART COOKIE CUTTERS'}) -> frozenset({'SET OF 3 BUTTERFLY COOKIE CUTTERS'})\",\"frozenset({'SET OF 6 SPICE TINS PANTRY DESIGN'}) -> frozenset({'SET OF 3 CAKE TINS PANTRY DESIGN'})\",\"frozenset({'SET OF 6 TEA TIME BAKING CASES'}) -> frozenset({'SET OF 12 FAIRY CAKE BAKING CASES'})\",\"frozenset({'SET OF TEA COFFEE SUGAR TINS PANTRY'}) -> frozenset({'SET OF 3 CAKE TINS PANTRY DESIGN'})\",\"frozenset({'SET/10 BLUE POLKADOT PARTY CANDLES'}) -> frozenset({'SET/10 PINK POLKADOT PARTY CANDLES'})\",\"frozenset({'SET/10 PINK POLKADOT PARTY CANDLES'}) -> frozenset({'SET/10 BLUE POLKADOT PARTY CANDLES'})\",\"frozenset({'SET/6 RED SPOTTY PAPER CUPS'}) -> frozenset({'SET/6 RED SPOTTY PAPER PLATES'})\",\"frozenset({'SET/6 RED SPOTTY PAPER PLATES'}) -> frozenset({'SET/20 RED RETROSPOT PAPER NAPKINS'})\",\"frozenset({'SET/6 RED SPOTTY PAPER PLATES'}) -> frozenset({'SET/6 RED SPOTTY PAPER CUPS'})\",\"frozenset({'SHED'}) -> frozenset({'KEY FOB '})\",\"frozenset({'SMALL DOLLY MIX DESIGN ORANGE BOWL'}) -> frozenset({'SMALL MARSHMALLOWS PINK BOWL'})\",\"frozenset({'SMALL MARSHMALLOWS PINK BOWL'}) -> frozenset({'SMALL DOLLY MIX DESIGN ORANGE BOWL'})\",\"frozenset({'SMALL WHITE HEART OF WICKER'}) -> frozenset({'LARGE WHITE HEART OF WICKER'})\",\"frozenset({'SPACEBOY LUNCH BOX'}) -> frozenset({'DOLLY GIRL LUNCH BOX'})\",\"frozenset({'SPOTTY BUNTING'}) -> frozenset({'PARTY BUNTING'})\",\"frozenset({'STRAWBERRY CERAMIC TRINKET BOX'}) -> frozenset({'SWEETHEART CERAMIC TRINKET BOX'})\",\"frozenset({'STRAWBERRY CHARLOTTE BAG'}) -> frozenset({'CHARLOTTE BAG PINK POLKADOT'})\",\"frozenset({'STRAWBERRY CHARLOTTE BAG'}) -> frozenset({'CHARLOTTE BAG SUKI DESIGN'})\",\"frozenset({'STRAWBERRY CHARLOTTE BAG'}) -> frozenset({'RED RETROSPOT CHARLOTTE BAG'})\",\"frozenset({'STRAWBERRY CHARLOTTE BAG'}) -> frozenset({'WOODLAND CHARLOTTE BAG'})\",\"frozenset({'SWEETHEART CERAMIC TRINKET BOX'}) -> frozenset({'STRAWBERRY CERAMIC TRINKET BOX'})\",\"frozenset({'TOILET METAL SIGN'}) -> frozenset({'BATHROOM METAL SIGN'})\",\"frozenset({'VINTAGE HEADS AND TAILS CARD GAME'}) -> frozenset({'VINTAGE SNAP CARDS'})\",\"frozenset({'WOOD 2 DRAWER CABINET WHITE FINISH'}) -> frozenset({'WOODEN FRAME ANTIQUE WHITE'})\",\"frozenset({'WOOD 2 DRAWER CABINET WHITE FINISH'}) -> frozenset({'WOODEN PICTURE FRAME WHITE FINISH'})\",\"frozenset({'WOODEN FRAME ANTIQUE WHITE'}) -> frozenset({'WOODEN PICTURE FRAME WHITE FINISH'})\",\"frozenset({'WOODEN HEART CHRISTMAS SCANDINAVIAN'}) -> frozenset({'WOODEN STAR CHRISTMAS SCANDINAVIAN'})\",\"frozenset({'WOODEN HEART CHRISTMAS SCANDINAVIAN'}) -> frozenset({'WOODEN TREE CHRISTMAS SCANDINAVIAN'})\",\"frozenset({'WOODEN PICTURE FRAME WHITE FINISH'}) -> frozenset({'WOODEN FRAME ANTIQUE WHITE'})\",\"frozenset({'WOODEN STAR CHRISTMAS SCANDINAVIAN'}) -> frozenset({'WOODEN HEART CHRISTMAS SCANDINAVIAN'})\",\"frozenset({'WOODEN STAR CHRISTMAS SCANDINAVIAN'}) -> frozenset({'WOODEN TREE CHRISTMAS SCANDINAVIAN'})\",\"frozenset({'WOODEN TREE CHRISTMAS SCANDINAVIAN'}) -> frozenset({'WOODEN HEART CHRISTMAS SCANDINAVIAN'})\",\"frozenset({'WOODEN TREE CHRISTMAS SCANDINAVIAN'}) -> frozenset({'WOODEN STAR CHRISTMAS SCANDINAVIAN'})\",\"frozenset({'WOODLAND CHARLOTTE BAG'}) -> frozenset({'CHARLOTTE BAG SUKI DESIGN'})\",\"frozenset({'WOODLAND CHARLOTTE BAG'}) -> frozenset({'RED RETROSPOT CHARLOTTE BAG'})\",\"frozenset({'WOODLAND CHARLOTTE BAG'}) -> frozenset({'STRAWBERRY CHARLOTTE BAG'})\"],\"labels\":[\"frozenset({\\\"JUMBO BAG 50'S CHRISTMAS\\\"}) -> frozenset({'JUMBO BAG VINTAGE CHRISTMAS'})\",\"frozenset({\\\"PAPER CHAIN KIT 50'S CHRISTMAS\\\"}) -> frozenset({'PAPER CHAIN KIT VINTAGE CHRISTMAS'})\",\"frozenset({\\\"POPPY'S PLAYHOUSE BEDROOM\\\"}) -> frozenset({\\\"POPPY'S PLAYHOUSE KITCHEN\\\"})\",\"frozenset({\\\"POPPY'S PLAYHOUSE BEDROOM\\\"}) -> frozenset({\\\"POPPY'S PLAYHOUSE LIVINGROOM\\\"})\",\"frozenset({\\\"POPPY'S PLAYHOUSE KITCHEN\\\"}) -> frozenset({\\\"POPPY'S PLAYHOUSE BEDROOM\\\"})\",\"frozenset({\\\"POPPY'S PLAYHOUSE KITCHEN\\\"}) -> frozenset({\\\"POPPY'S PLAYHOUSE LIVINGROOM\\\"})\",\"frozenset({\\\"POPPY'S PLAYHOUSE LIVINGROOM\\\"}) -> frozenset({\\\"POPPY'S PLAYHOUSE BEDROOM\\\"})\",\"frozenset({\\\"POPPY'S PLAYHOUSE LIVINGROOM\\\"}) -> frozenset({\\\"POPPY'S PLAYHOUSE KITCHEN\\\"})\",\"frozenset({'60 TEATIME FAIRY CAKE CASES'}) -> frozenset({'PACK OF 60 PINK PAISLEY CAKE CASES'})\",\"frozenset({'60 TEATIME FAIRY CAKE CASES'}) -> frozenset({'PACK OF 72 RETROSPOT CAKE CASES'})\",\"frozenset({'72 SWEETHEART FAIRY CAKE CASES'}) -> frozenset({'60 TEATIME FAIRY CAKE CASES'})\",\"frozenset({'72 SWEETHEART FAIRY CAKE CASES'}) -> frozenset({'PACK OF 72 RETROSPOT CAKE CASES'})\",\"frozenset({'ALARM CLOCK BAKELIKE CHOCOLATE'}) -> frozenset({'ALARM CLOCK BAKELIKE GREEN'})\",\"frozenset({'ALARM CLOCK BAKELIKE CHOCOLATE'}) -> frozenset({'ALARM CLOCK BAKELIKE RED'})\",\"frozenset({'ALARM CLOCK BAKELIKE GREEN', 'ALARM CLOCK BAKELIKE PINK'}) -> frozenset({'ALARM CLOCK BAKELIKE RED'})\",\"frozenset({'ALARM CLOCK BAKELIKE GREEN', 'ALARM CLOCK BAKELIKE RED'}) -> frozenset({'ALARM CLOCK BAKELIKE PINK'})\",\"frozenset({'ALARM CLOCK BAKELIKE GREEN'}) -> frozenset({'ALARM CLOCK BAKELIKE PINK'})\",\"frozenset({'ALARM CLOCK BAKELIKE GREEN'}) -> frozenset({'ALARM CLOCK BAKELIKE RED'})\",\"frozenset({'ALARM CLOCK BAKELIKE IVORY'}) -> frozenset({'ALARM CLOCK BAKELIKE GREEN'})\",\"frozenset({'ALARM CLOCK BAKELIKE IVORY'}) -> frozenset({'ALARM CLOCK BAKELIKE PINK'})\",\"frozenset({'ALARM CLOCK BAKELIKE IVORY'}) -> frozenset({'ALARM CLOCK BAKELIKE RED'})\",\"frozenset({'ALARM CLOCK BAKELIKE ORANGE'}) -> frozenset({'ALARM CLOCK BAKELIKE GREEN'})\",\"frozenset({'ALARM CLOCK BAKELIKE ORANGE'}) -> frozenset({'ALARM CLOCK BAKELIKE RED'})\",\"frozenset({'ALARM CLOCK BAKELIKE PINK'}) -> frozenset({'ALARM CLOCK BAKELIKE GREEN'})\",\"frozenset({'ALARM CLOCK BAKELIKE PINK'}) -> frozenset({'ALARM CLOCK BAKELIKE IVORY'})\",\"frozenset({'ALARM CLOCK BAKELIKE PINK'}) -> frozenset({'ALARM CLOCK BAKELIKE RED'})\",\"frozenset({'ALARM CLOCK BAKELIKE RED', 'ALARM CLOCK BAKELIKE PINK'}) -> frozenset({'ALARM CLOCK BAKELIKE GREEN'})\",\"frozenset({'ALARM CLOCK BAKELIKE RED'}) -> frozenset({'ALARM CLOCK BAKELIKE GREEN'})\",\"frozenset({'ALARM CLOCK BAKELIKE RED'}) -> frozenset({'ALARM CLOCK BAKELIKE IVORY'})\",\"frozenset({'ALARM CLOCK BAKELIKE RED'}) -> frozenset({'ALARM CLOCK BAKELIKE PINK'})\",\"frozenset({'BACK DOOR'}) -> frozenset({'KEY FOB '})\",\"frozenset({'BAKING SET SPACEBOY DESIGN'}) -> frozenset({'BAKING SET 9 PIECE RETROSPOT'})\",\"frozenset({'BATHROOM METAL SIGN'}) -> frozenset({'TOILET METAL SIGN'})\",\"frozenset({'BLUE HAPPY BIRTHDAY BUNTING'}) -> frozenset({'PINK HAPPY BIRTHDAY BUNTING'})\",\"frozenset({'BLUE HARMONICA IN BOX'}) -> frozenset({'RED  HARMONICA IN BOX'})\",\"frozenset({'BLUE STRIPE CERAMIC DRAWER KNOB'}) -> frozenset({'RED STRIPE CERAMIC DRAWER KNOB'})\",\"frozenset({'CANDLEHOLDER PINK HANGING HEART'}) -> frozenset({'WHITE HANGING HEART T-LIGHT HOLDER'})\",\"frozenset({'CHARLOTTE BAG APPLES DESIGN'}) -> frozenset({'RED RETROSPOT CHARLOTTE BAG'})\",\"frozenset({'CHARLOTTE BAG PINK POLKADOT'}) -> frozenset({'CHARLOTTE BAG SUKI DESIGN'})\",\"frozenset({'CHARLOTTE BAG PINK POLKADOT'}) -> frozenset({'RED RETROSPOT CHARLOTTE BAG'})\",\"frozenset({'CHARLOTTE BAG PINK POLKADOT'}) -> frozenset({'STRAWBERRY CHARLOTTE BAG'})\",\"frozenset({'CHARLOTTE BAG SUKI DESIGN'}) -> frozenset({'CHARLOTTE BAG PINK POLKADOT'})\",\"frozenset({'CHARLOTTE BAG SUKI DESIGN'}) -> frozenset({'RED RETROSPOT CHARLOTTE BAG'})\",\"frozenset({'CHARLOTTE BAG SUKI DESIGN'}) -> frozenset({'STRAWBERRY CHARLOTTE BAG'})\",\"frozenset({'CHARLOTTE BAG SUKI DESIGN'}) -> frozenset({'WOODLAND CHARLOTTE BAG'})\",\"frozenset({'CHILDRENS CUTLERY DOLLY GIRL'}) -> frozenset({'CHILDRENS CUTLERY SPACEBOY'})\",\"frozenset({'CHILDRENS CUTLERY SPACEBOY'}) -> frozenset({'CHILDRENS CUTLERY DOLLY GIRL'})\",\"frozenset({'CHOCOLATE HOT WATER BOTTLE'}) -> frozenset({'HOT WATER BOTTLE I AM SO POORLY'})\",\"frozenset({'CHOCOLATE HOT WATER BOTTLE'}) -> frozenset({'HOT WATER BOTTLE TEA AND SYMPATHY'})\",\"frozenset({'CHOCOLATE HOT WATER BOTTLE'}) -> frozenset({'SCOTTIE DOG HOT WATER BOTTLE'})\",\"frozenset({'CHRISTMAS CRAFT LITTLE FRIENDS'}) -> frozenset({'CHRISTMAS CRAFT TREE TOP ANGEL'})\",\"frozenset({'CHRISTMAS CRAFT LITTLE FRIENDS'}) -> frozenset({'CHRISTMAS CRAFT WHITE FAIRY'})\",\"frozenset({'CHRISTMAS CRAFT TREE TOP ANGEL'}) -> frozenset({'CHRISTMAS CRAFT LITTLE FRIENDS'})\",\"frozenset({'CHRISTMAS CRAFT WHITE FAIRY'}) -> frozenset({'CHRISTMAS CRAFT LITTLE FRIENDS'})\",\"frozenset({'COOK WITH WINE METAL SIGN'}) -> frozenset({'GIN + TONIC DIET METAL SIGN'})\",\"frozenset({'COOK WITH WINE METAL SIGN'}) -> frozenset({'HAND OVER THE CHOCOLATE   SIGN'})\",\"frozenset({'COOK WITH WINE METAL SIGN'}) -> frozenset({'PLEASE ONE PERSON METAL SIGN'})\",\"frozenset({'DOLLY GIRL LUNCH BOX'}) -> frozenset({'SPACEBOY LUNCH BOX'})\",\"frozenset({'FELTCRAFT PRINCESS CHARLOTTE DOLL'}) -> frozenset({'FELTCRAFT PRINCESS LOLA DOLL'})\",\"frozenset({'FELTCRAFT PRINCESS LOLA DOLL'}) -> frozenset({'FELTCRAFT PRINCESS CHARLOTTE DOLL'})\",\"frozenset({'FRONT  DOOR'}) -> frozenset({'KEY FOB '})\",\"frozenset({'GARDENERS KNEELING PAD CUP OF TEA'}) -> frozenset({'GARDENERS KNEELING PAD KEEP CALM'})\",\"frozenset({'GARDENERS KNEELING PAD KEEP CALM'}) -> frozenset({'GARDENERS KNEELING PAD CUP OF TEA'})\",\"frozenset({'GIN + TONIC DIET METAL SIGN'}) -> frozenset({'COOK WITH WINE METAL SIGN'})\",\"frozenset({'GIN + TONIC DIET METAL SIGN'}) -> frozenset({'HAND OVER THE CHOCOLATE   SIGN'})\",\"frozenset({'GREEN REGENCY TEACUP AND SAUCER', 'ROSES REGENCY TEACUP AND SAUCER'}) -> frozenset({'PINK REGENCY TEACUP AND SAUCER'})\",\"frozenset({'GREEN REGENCY TEACUP AND SAUCER', 'ROSES REGENCY TEACUP AND SAUCER'}) -> frozenset({'REGENCY CAKESTAND 3 TIER'})\",\"frozenset({'GREEN REGENCY TEACUP AND SAUCER'}) -> frozenset({'PINK REGENCY TEACUP AND SAUCER', 'ROSES REGENCY TEACUP AND SAUCER'})\",\"frozenset({'GREEN REGENCY TEACUP AND SAUCER'}) -> frozenset({'PINK REGENCY TEACUP AND SAUCER'})\",\"frozenset({'GREEN REGENCY TEACUP AND SAUCER'}) -> frozenset({'REGENCY CAKESTAND 3 TIER'})\",\"frozenset({'GREEN REGENCY TEACUP AND SAUCER'}) -> frozenset({'ROSES REGENCY TEACUP AND SAUCER'})\",\"frozenset({'HAND OVER THE CHOCOLATE   SIGN'}) -> frozenset({'COOK WITH WINE METAL SIGN'})\",\"frozenset({'HAND OVER THE CHOCOLATE   SIGN'}) -> frozenset({'GIN + TONIC DIET METAL SIGN'})\",\"frozenset({'HAND OVER THE CHOCOLATE   SIGN'}) -> frozenset({'PLEASE ONE PERSON METAL SIGN'})\",\"frozenset({'HAND WARMER BIRD DESIGN'}) -> frozenset({'HAND WARMER OWL DESIGN'})\",\"frozenset({'HAND WARMER BIRD DESIGN'}) -> frozenset({'HAND WARMER SCOTTY DOG DESIGN'})\",\"frozenset({'HAND WARMER OWL DESIGN'}) -> frozenset({'HAND WARMER BIRD DESIGN'})\",\"frozenset({'HAND WARMER OWL DESIGN'}) -> frozenset({'HAND WARMER RED LOVE HEART'})\",\"frozenset({'HAND WARMER OWL DESIGN'}) -> frozenset({'HAND WARMER SCOTTY DOG DESIGN'})\",\"frozenset({'HAND WARMER OWL DESIGN'}) -> frozenset({'HAND WARMER UNION JACK'})\",\"frozenset({'HAND WARMER RED LOVE HEART'}) -> frozenset({'HAND WARMER OWL DESIGN'})\",\"frozenset({'HAND WARMER RED LOVE HEART'}) -> frozenset({'HAND WARMER SCOTTY DOG DESIGN'})\",\"frozenset({'HAND WARMER RED RETROSPOT'}) -> frozenset({'HAND WARMER OWL DESIGN'})\",\"frozenset({'HAND WARMER SCOTTY DOG DESIGN'}) -> frozenset({'HAND WARMER BIRD DESIGN'})\",\"frozenset({'HAND WARMER SCOTTY DOG DESIGN'}) -> frozenset({'HAND WARMER OWL DESIGN'})\",\"frozenset({'HAND WARMER SCOTTY DOG DESIGN'}) -> frozenset({'HAND WARMER RED LOVE HEART'})\",\"frozenset({'HAND WARMER SCOTTY DOG DESIGN'}) -> frozenset({'HAND WARMER UNION JACK'})\",\"frozenset({'HAND WARMER UNION JACK'}) -> frozenset({'HAND WARMER OWL DESIGN'})\",\"frozenset({'HAND WARMER UNION JACK'}) -> frozenset({'HAND WARMER SCOTTY DOG DESIGN'})\",\"frozenset({'HEART OF WICKER LARGE'}) -> frozenset({'HEART OF WICKER SMALL'})\",\"frozenset({'HEART OF WICKER LARGE'}) -> frozenset({'WHITE HANGING HEART T-LIGHT HOLDER'})\",\"frozenset({'HEART OF WICKER SMALL'}) -> frozenset({'HEART OF WICKER LARGE'})\",\"frozenset({'HOME BUILDING BLOCK WORD'}) -> frozenset({'LOVE BUILDING BLOCK WORD'})\",\"frozenset({'HOT WATER BOTTLE I AM SO POORLY'}) -> frozenset({'CHOCOLATE HOT WATER BOTTLE'})\",\"frozenset({'HOT WATER BOTTLE I AM SO POORLY'}) -> frozenset({'HOT WATER BOTTLE KEEP CALM'})\",\"frozenset({'HOT WATER BOTTLE I AM SO POORLY'}) -> frozenset({'HOT WATER BOTTLE TEA AND SYMPATHY'})\",\"frozenset({'HOT WATER BOTTLE TEA AND SYMPATHY'}) -> frozenset({'CHOCOLATE HOT WATER BOTTLE'})\",\"frozenset({'HOT WATER BOTTLE TEA AND SYMPATHY'}) -> frozenset({'HOT WATER BOTTLE I AM SO POORLY'})\",\"frozenset({'HOT WATER BOTTLE TEA AND SYMPATHY'}) -> frozenset({'HOT WATER BOTTLE KEEP CALM'})\",\"frozenset({'IVORY DINER WALL CLOCK'}) -> frozenset({'RED DINER WALL CLOCK'})\",\"frozenset({'IVORY KITCHEN SCALES'}) -> frozenset({'RED KITCHEN SCALES'})\",\"frozenset({'JUMBO  BAG BAROQUE BLACK WHITE'}) -> frozenset({'JUMBO BAG PINK POLKADOT'})\",\"frozenset({'JUMBO  BAG BAROQUE BLACK WHITE'}) -> frozenset({'JUMBO BAG RED RETROSPOT'})\",\"frozenset({'JUMBO  BAG BAROQUE BLACK WHITE'}) -> frozenset({'JUMBO STORAGE BAG SUKI'})\",\"frozenset({'JUMBO BAG ALPHABET'}) -> frozenset({'JUMBO BAG RED RETROSPOT'})\",\"frozenset({'JUMBO BAG APPLES'}) -> frozenset({'JUMBO BAG ALPHABET'})\",\"frozenset({'JUMBO BAG APPLES'}) -> frozenset({'JUMBO BAG PEARS'})\",\"frozenset({'JUMBO BAG APPLES'}) -> frozenset({'JUMBO BAG RED RETROSPOT'})\",\"frozenset({'JUMBO BAG APPLES'}) -> frozenset({'JUMBO BAG VINTAGE LEAF'})\",\"frozenset({'JUMBO BAG APPLES'}) -> frozenset({'LUNCH BAG APPLE DESIGN'})\",\"frozenset({'JUMBO BAG DOILEY PATTERNS'}) -> frozenset({'JUMBO BAG VINTAGE LEAF'})\",\"frozenset({'JUMBO BAG DOILEY PATTERNS'}) -> frozenset({'LUNCH BAG DOILEY PATTERN'})\",\"frozenset({'JUMBO BAG OWLS'}) -> frozenset({'JUMBO BAG RED RETROSPOT'})\",\"frozenset({'JUMBO BAG PEARS'}) -> frozenset({'JUMBO BAG APPLES'})\",\"frozenset({'JUMBO BAG PEARS'}) -> frozenset({'JUMBO BAG RED RETROSPOT'})\",\"frozenset({'JUMBO BAG PEARS'}) -> frozenset({'JUMBO BAG VINTAGE LEAF'})\",\"frozenset({'JUMBO BAG PINK POLKADOT'}) -> frozenset({'JUMBO BAG RED RETROSPOT'})\",\"frozenset({'JUMBO BAG PINK VINTAGE PAISLEY'}) -> frozenset({'JUMBO BAG PINK POLKADOT'})\",\"frozenset({'JUMBO BAG PINK VINTAGE PAISLEY'}) -> frozenset({'JUMBO BAG RED RETROSPOT'})\",\"frozenset({'JUMBO BAG PINK VINTAGE PAISLEY'}) -> frozenset({'JUMBO BAG SCANDINAVIAN BLUE PAISLEY'})\",\"frozenset({'JUMBO BAG PINK VINTAGE PAISLEY'}) -> frozenset({'JUMBO SHOPPER VINTAGE RED PAISLEY'})\",\"frozenset({'JUMBO BAG RED RETROSPOT', 'JUMBO BAG PINK POLKADOT'}) -> frozenset({'JUMBO BAG STRAWBERRY'})\",\"frozenset({'JUMBO BAG SCANDINAVIAN BLUE PAISLEY'}) -> frozenset({'JUMBO BAG PINK VINTAGE PAISLEY'})\",\"frozenset({'JUMBO BAG SCANDINAVIAN BLUE PAISLEY'}) -> frozenset({'JUMBO BAG RED RETROSPOT'})\",\"frozenset({'JUMBO BAG SCANDINAVIAN BLUE PAISLEY'}) -> frozenset({'JUMBO SHOPPER VINTAGE RED PAISLEY'})\",\"frozenset({'JUMBO BAG SPACEBOY DESIGN'}) -> frozenset({'JUMBO BAG RED RETROSPOT'})\",\"frozenset({'JUMBO BAG STRAWBERRY', 'JUMBO BAG PINK POLKADOT'}) -> frozenset({'JUMBO BAG RED RETROSPOT'})\",\"frozenset({'JUMBO BAG STRAWBERRY', 'JUMBO BAG RED RETROSPOT'}) -> frozenset({'JUMBO BAG PINK POLKADOT'})\",\"frozenset({'JUMBO BAG STRAWBERRY'}) -> frozenset({'JUMBO BAG PINK POLKADOT'})\",\"frozenset({'JUMBO BAG STRAWBERRY'}) -> frozenset({'JUMBO BAG RED RETROSPOT'})\",\"frozenset({'JUMBO BAG VINTAGE CHRISTMAS'}) -> frozenset({\\\"JUMBO BAG 50'S CHRISTMAS\\\"})\",\"frozenset({'JUMBO BAG VINTAGE DOILY'}) -> frozenset({'JUMBO BAG RED RETROSPOT'})\",\"frozenset({'JUMBO BAG VINTAGE LEAF'}) -> frozenset({'JUMBO BAG RED RETROSPOT'})\",\"frozenset({'JUMBO BAG WOODLAND ANIMALS'}) -> frozenset({'JUMBO BAG PINK POLKADOT'})\",\"frozenset({'JUMBO BAG WOODLAND ANIMALS'}) -> frozenset({'JUMBO BAG RED RETROSPOT'})\",\"frozenset({'JUMBO SHOPPER VINTAGE RED PAISLEY'}) -> frozenset({'JUMBO BAG RED RETROSPOT'})\",\"frozenset({'JUMBO STORAGE BAG SKULLS'}) -> frozenset({'JUMBO BAG PINK POLKADOT'})\",\"frozenset({'JUMBO STORAGE BAG SKULLS'}) -> frozenset({'JUMBO BAG RED RETROSPOT'})\",\"frozenset({'JUMBO STORAGE BAG SKULLS'}) -> frozenset({'JUMBO STORAGE BAG SUKI'})\",\"frozenset({'JUMBO STORAGE BAG SUKI'}) -> frozenset({'JUMBO BAG RED RETROSPOT'})\",\"frozenset({'KEY FOB '}) -> frozenset({'BACK DOOR'})\",\"frozenset({'KEY FOB '}) -> frozenset({'FRONT  DOOR'})\",\"frozenset({'KEY FOB '}) -> frozenset({'SHED'})\",\"frozenset({'LARGE WHITE HEART OF WICKER'}) -> frozenset({'SMALL WHITE HEART OF WICKER'})\",\"frozenset({'LOVE BUILDING BLOCK WORD'}) -> frozenset({'HOME BUILDING BLOCK WORD'})\",\"frozenset({'LOVE HOT WATER BOTTLE'}) -> frozenset({'HOT WATER BOTTLE KEEP CALM'})\",\"frozenset({'LUNCH BAG  BLACK SKULL.', 'LUNCH BAG CARS BLUE'}) -> frozenset({'LUNCH BAG PINK POLKADOT'})\",\"frozenset({'LUNCH BAG  BLACK SKULL.', 'LUNCH BAG CARS BLUE'}) -> frozenset({'LUNCH BAG RED RETROSPOT'})\",\"frozenset({'LUNCH BAG  BLACK SKULL.', 'LUNCH BAG SPACEBOY DESIGN'}) -> frozenset({'LUNCH BAG RED RETROSPOT'})\",\"frozenset({'LUNCH BAG  BLACK SKULL.'}) -> frozenset({'LUNCH BAG CARS BLUE'})\",\"frozenset({'LUNCH BAG  BLACK SKULL.'}) -> frozenset({'LUNCH BAG PINK POLKADOT'})\",\"frozenset({'LUNCH BAG  BLACK SKULL.'}) -> frozenset({'LUNCH BAG RED RETROSPOT'})\",\"frozenset({'LUNCH BAG  BLACK SKULL.'}) -> frozenset({'LUNCH BAG SPACEBOY DESIGN'})\",\"frozenset({'LUNCH BAG  BLACK SKULL.'}) -> frozenset({'LUNCH BAG SUKI DESIGN'})\",\"frozenset({'LUNCH BAG ALPHABET DESIGN'}) -> frozenset({'LUNCH BAG  BLACK SKULL.'})\",\"frozenset({'LUNCH BAG ALPHABET DESIGN'}) -> frozenset({'LUNCH BAG APPLE DESIGN'})\",\"frozenset({'LUNCH BAG ALPHABET DESIGN'}) -> frozenset({'LUNCH BAG CARS BLUE'})\",\"frozenset({'LUNCH BAG ALPHABET DESIGN'}) -> frozenset({'LUNCH BAG RED RETROSPOT'})\",\"frozenset({'LUNCH BAG ALPHABET DESIGN'}) -> frozenset({'LUNCH BAG SPACEBOY DESIGN'})\",\"frozenset({'LUNCH BAG ALPHABET DESIGN'}) -> frozenset({'LUNCH BAG SUKI DESIGN'})\",\"frozenset({'LUNCH BAG ALPHABET DESIGN'}) -> frozenset({'LUNCH BAG VINTAGE LEAF DESIGN'})\",\"frozenset({'LUNCH BAG APPLE DESIGN'}) -> frozenset({'LUNCH BAG  BLACK SKULL.'})\",\"frozenset({'LUNCH BAG APPLE DESIGN'}) -> frozenset({'LUNCH BAG RED RETROSPOT'})\",\"frozenset({'LUNCH BAG APPLE DESIGN'}) -> frozenset({'LUNCH BAG SUKI DESIGN'})\",\"frozenset({'LUNCH BAG CARS BLUE'}) -> frozenset({'LUNCH BAG  BLACK SKULL.'})\",\"frozenset({'LUNCH BAG CARS BLUE'}) -> frozenset({'LUNCH BAG PINK POLKADOT'})\",\"frozenset({'LUNCH BAG CARS BLUE'}) -> frozenset({'LUNCH BAG RED RETROSPOT'})\",\"frozenset({'LUNCH BAG CARS BLUE'}) -> frozenset({'LUNCH BAG SPACEBOY DESIGN'})\",\"frozenset({'LUNCH BAG CARS BLUE'}) -> frozenset({'LUNCH BAG SUKI DESIGN'})\",\"frozenset({'LUNCH BAG CARS BLUE'}) -> frozenset({'LUNCH BAG WOODLAND'})\",\"frozenset({'LUNCH BAG DOILEY PATTERN'}) -> frozenset({'JUMBO BAG DOILEY PATTERNS'})\",\"frozenset({'LUNCH BAG DOLLY GIRL DESIGN'}) -> frozenset({'LUNCH BAG  BLACK SKULL.'})\",\"frozenset({'LUNCH BAG DOLLY GIRL DESIGN'}) -> frozenset({'LUNCH BAG CARS BLUE'})\",\"frozenset({'LUNCH BAG DOLLY GIRL DESIGN'}) -> frozenset({'LUNCH BAG RED RETROSPOT'})\",\"frozenset({'LUNCH BAG DOLLY GIRL DESIGN'}) -> frozenset({'LUNCH BAG SPACEBOY DESIGN'})\",\"frozenset({'LUNCH BAG DOLLY GIRL DESIGN'}) -> frozenset({'LUNCH BAG SUKI DESIGN'})\",\"frozenset({'LUNCH BAG DOLLY GIRL DESIGN'}) -> frozenset({'LUNCH BAG WOODLAND'})\",\"frozenset({'LUNCH BAG PINK POLKADOT', 'LUNCH BAG  BLACK SKULL.'}) -> frozenset({'LUNCH BAG CARS BLUE'})\",\"frozenset({'LUNCH BAG PINK POLKADOT', 'LUNCH BAG  BLACK SKULL.'}) -> frozenset({'LUNCH BAG RED RETROSPOT'})\",\"frozenset({'LUNCH BAG PINK POLKADOT', 'LUNCH BAG CARS BLUE'}) -> frozenset({'LUNCH BAG  BLACK SKULL.'})\",\"frozenset({'LUNCH BAG PINK POLKADOT', 'LUNCH BAG CARS BLUE'}) -> frozenset({'LUNCH BAG RED RETROSPOT'})\",\"frozenset({'LUNCH BAG PINK POLKADOT'}) -> frozenset({'LUNCH BAG  BLACK SKULL.'})\",\"frozenset({'LUNCH BAG PINK POLKADOT'}) -> frozenset({'LUNCH BAG CARS BLUE'})\",\"frozenset({'LUNCH BAG PINK POLKADOT'}) -> frozenset({'LUNCH BAG RED RETROSPOT'})\",\"frozenset({'LUNCH BAG PINK POLKADOT'}) -> frozenset({'LUNCH BAG SPACEBOY DESIGN'})\",\"frozenset({'LUNCH BAG PINK POLKADOT'}) -> frozenset({'LUNCH BAG SUKI DESIGN'})\",\"frozenset({'LUNCH BAG RED RETROSPOT', 'LUNCH BAG  BLACK SKULL.'}) -> frozenset({'LUNCH BAG CARS BLUE'})\",\"frozenset({'LUNCH BAG RED RETROSPOT', 'LUNCH BAG  BLACK SKULL.'}) -> frozenset({'LUNCH BAG PINK POLKADOT'})\",\"frozenset({'LUNCH BAG RED RETROSPOT', 'LUNCH BAG  BLACK SKULL.'}) -> frozenset({'LUNCH BAG SPACEBOY DESIGN'})\",\"frozenset({'LUNCH BAG RED RETROSPOT', 'LUNCH BAG  BLACK SKULL.'}) -> frozenset({'LUNCH BAG SUKI DESIGN'})\",\"frozenset({'LUNCH BAG RED RETROSPOT', 'LUNCH BAG CARS BLUE'}) -> frozenset({'LUNCH BAG  BLACK SKULL.'})\",\"frozenset({'LUNCH BAG RED RETROSPOT', 'LUNCH BAG CARS BLUE'}) -> frozenset({'LUNCH BAG PINK POLKADOT'})\",\"frozenset({'LUNCH BAG RED RETROSPOT', 'LUNCH BAG PINK POLKADOT'}) -> frozenset({'LUNCH BAG  BLACK SKULL.'})\",\"frozenset({'LUNCH BAG RED RETROSPOT', 'LUNCH BAG PINK POLKADOT'}) -> frozenset({'LUNCH BAG CARS BLUE'})\",\"frozenset({'LUNCH BAG RED RETROSPOT', 'LUNCH BAG PINK POLKADOT'}) -> frozenset({'LUNCH BAG SUKI DESIGN'})\",\"frozenset({'LUNCH BAG RED RETROSPOT', 'LUNCH BAG SPACEBOY DESIGN'}) -> frozenset({'LUNCH BAG  BLACK SKULL.'})\",\"frozenset({'LUNCH BAG RED RETROSPOT'}) -> frozenset({'LUNCH BAG  BLACK SKULL.'})\",\"frozenset({'LUNCH BAG RED RETROSPOT'}) -> frozenset({'LUNCH BAG PINK POLKADOT'})\",\"frozenset({'LUNCH BAG SPACEBOY DESIGN'}) -> frozenset({'LUNCH BAG  BLACK SKULL.'})\",\"frozenset({'LUNCH BAG SPACEBOY DESIGN'}) -> frozenset({'LUNCH BAG CARS BLUE'})\",\"frozenset({'LUNCH BAG SPACEBOY DESIGN'}) -> frozenset({'LUNCH BAG RED RETROSPOT'})\",\"frozenset({'LUNCH BAG SPACEBOY DESIGN'}) -> frozenset({'LUNCH BAG SUKI DESIGN'})\",\"frozenset({'LUNCH BAG SPACEBOY DESIGN'}) -> frozenset({'LUNCH BAG WOODLAND'})\",\"frozenset({'LUNCH BAG SUKI DESIGN', 'LUNCH BAG  BLACK SKULL.'}) -> frozenset({'LUNCH BAG RED RETROSPOT'})\",\"frozenset({'LUNCH BAG SUKI DESIGN', 'LUNCH BAG PINK POLKADOT'}) -> frozenset({'LUNCH BAG RED RETROSPOT'})\",\"frozenset({'LUNCH BAG SUKI DESIGN', 'LUNCH BAG RED RETROSPOT'}) -> frozenset({'LUNCH BAG  BLACK SKULL.'})\",\"frozenset({'LUNCH BAG SUKI DESIGN', 'LUNCH BAG RED RETROSPOT'}) -> frozenset({'LUNCH BAG PINK POLKADOT'})\",\"frozenset({'LUNCH BAG SUKI DESIGN'}) -> frozenset({'LUNCH BAG  BLACK SKULL.'})\",\"frozenset({'LUNCH BAG SUKI DESIGN'}) -> frozenset({'LUNCH BAG APPLE DESIGN'})\",\"frozenset({'LUNCH BAG SUKI DESIGN'}) -> frozenset({'LUNCH BAG CARS BLUE'})\",\"frozenset({'LUNCH BAG SUKI DESIGN'}) -> frozenset({'LUNCH BAG PINK POLKADOT'})\",\"frozenset({'LUNCH BAG SUKI DESIGN'}) -> frozenset({'LUNCH BAG RED RETROSPOT'})\",\"frozenset({'LUNCH BAG SUKI DESIGN'}) -> frozenset({'LUNCH BAG SPACEBOY DESIGN'})\",\"frozenset({'LUNCH BAG VINTAGE DOILY'}) -> frozenset({'JUMBO BAG VINTAGE DOILY'})\",\"frozenset({'LUNCH BAG VINTAGE DOILY'}) -> frozenset({'LUNCH BAG APPLE DESIGN'})\",\"frozenset({'LUNCH BAG VINTAGE DOILY'}) -> frozenset({'LUNCH BAG RED RETROSPOT'})\",\"frozenset({'LUNCH BAG VINTAGE DOILY'}) -> frozenset({'LUNCH BAG SPACEBOY DESIGN'})\",\"frozenset({'LUNCH BAG VINTAGE LEAF DESIGN'}) -> frozenset({'LUNCH BAG  BLACK SKULL.'})\",\"frozenset({'LUNCH BAG VINTAGE LEAF DESIGN'}) -> frozenset({'LUNCH BAG ALPHABET DESIGN'})\",\"frozenset({'LUNCH BAG VINTAGE LEAF DESIGN'}) -> frozenset({'LUNCH BAG APPLE DESIGN'})\",\"frozenset({'LUNCH BAG VINTAGE LEAF DESIGN'}) -> frozenset({'LUNCH BAG RED RETROSPOT'})\",\"frozenset({'LUNCH BAG VINTAGE LEAF DESIGN'}) -> frozenset({'LUNCH BAG SPACEBOY DESIGN'})\",\"frozenset({'LUNCH BAG VINTAGE LEAF DESIGN'}) -> frozenset({'LUNCH BAG SUKI DESIGN'})\",\"frozenset({'LUNCH BAG WOODLAND'}) -> frozenset({'LUNCH BAG  BLACK SKULL.'})\",\"frozenset({'LUNCH BAG WOODLAND'}) -> frozenset({'LUNCH BAG CARS BLUE'})\",\"frozenset({'LUNCH BAG WOODLAND'}) -> frozenset({'LUNCH BAG RED RETROSPOT'})\",\"frozenset({'LUNCH BAG WOODLAND'}) -> frozenset({'LUNCH BAG SPACEBOY DESIGN'})\",\"frozenset({'LUNCH BAG WOODLAND'}) -> frozenset({'LUNCH BAG SUKI DESIGN'})\",\"frozenset({'PACK OF 60 DINOSAUR CAKE CASES'}) -> frozenset({'60 TEATIME FAIRY CAKE CASES'})\",\"frozenset({'PACK OF 60 DINOSAUR CAKE CASES'}) -> frozenset({'PACK OF 60 PINK PAISLEY CAKE CASES'})\",\"frozenset({'PACK OF 60 DINOSAUR CAKE CASES'}) -> frozenset({'PACK OF 72 RETROSPOT CAKE CASES'})\",\"frozenset({'PACK OF 60 PINK PAISLEY CAKE CASES'}) -> frozenset({'60 TEATIME FAIRY CAKE CASES'})\",\"frozenset({'PACK OF 60 PINK PAISLEY CAKE CASES'}) -> frozenset({'PACK OF 72 RETROSPOT CAKE CASES'})\",\"frozenset({'PACK OF 60 SPACEBOY CAKE CASES'}) -> frozenset({'PACK OF 72 RETROSPOT CAKE CASES'})\",\"frozenset({'PACK OF 72 SKULL CAKE CASES'}) -> frozenset({'PACK OF 72 RETROSPOT CAKE CASES'})\",\"frozenset({'PAINTED METAL PEARS ASSORTED'}) -> frozenset({'ASSORTED COLOUR BIRD ORNAMENT'})\",\"frozenset({'PAPER CHAIN KIT VINTAGE CHRISTMAS'}) -> frozenset({\\\"PAPER CHAIN KIT 50'S CHRISTMAS\\\"})\",\"frozenset({'PINK BLUE FELT CRAFT TRINKET BOX'}) -> frozenset({'PINK CREAM FELT CRAFT TRINKET BOX'})\",\"frozenset({'PINK CREAM FELT CRAFT TRINKET BOX'}) -> frozenset({'PINK BLUE FELT CRAFT TRINKET BOX'})\",\"frozenset({'PINK HAPPY BIRTHDAY BUNTING'}) -> frozenset({'BLUE HAPPY BIRTHDAY BUNTING'})\",\"frozenset({'PINK REGENCY TEACUP AND SAUCER', 'GREEN REGENCY TEACUP AND SAUCER'}) -> frozenset({'ROSES REGENCY TEACUP AND SAUCER'})\",\"frozenset({'PINK REGENCY TEACUP AND SAUCER', 'ROSES REGENCY TEACUP AND SAUCER'}) -> frozenset({'GREEN REGENCY TEACUP AND SAUCER'})\",\"frozenset({'PINK REGENCY TEACUP AND SAUCER'}) -> frozenset({'GREEN REGENCY TEACUP AND SAUCER', 'ROSES REGENCY TEACUP AND SAUCER'})\",\"frozenset({'PINK REGENCY TEACUP AND SAUCER'}) -> frozenset({'GREEN REGENCY TEACUP AND SAUCER'})\",\"frozenset({'PINK REGENCY TEACUP AND SAUCER'}) -> frozenset({'REGENCY CAKESTAND 3 TIER'})\",\"frozenset({'PINK REGENCY TEACUP AND SAUCER'}) -> frozenset({'ROSES REGENCY TEACUP AND SAUCER'})\",\"frozenset({'PINK VINTAGE PAISLEY PICNIC BAG'}) -> frozenset({'SCANDINAVIAN PAISLEY PICNIC BAG'})\",\"frozenset({'PLASTERS IN TIN CIRCUS PARADE'}) -> frozenset({'PLASTERS IN TIN SPACEBOY'})\",\"frozenset({'PLASTERS IN TIN CIRCUS PARADE'}) -> frozenset({'PLASTERS IN TIN STRONGMAN'})\",\"frozenset({'PLASTERS IN TIN CIRCUS PARADE'}) -> frozenset({'PLASTERS IN TIN WOODLAND ANIMALS'})\",\"frozenset({'PLASTERS IN TIN SPACEBOY'}) -> frozenset({'PLASTERS IN TIN CIRCUS PARADE'})\",\"frozenset({'PLASTERS IN TIN SPACEBOY'}) -> frozenset({'PLASTERS IN TIN WOODLAND ANIMALS'})\",\"frozenset({'PLASTERS IN TIN STRONGMAN'}) -> frozenset({'PLASTERS IN TIN CIRCUS PARADE'})\",\"frozenset({'PLASTERS IN TIN STRONGMAN'}) -> frozenset({'PLASTERS IN TIN SPACEBOY'})\",\"frozenset({'PLASTERS IN TIN STRONGMAN'}) -> frozenset({'PLASTERS IN TIN WOODLAND ANIMALS'})\",\"frozenset({'PLASTERS IN TIN WOODLAND ANIMALS'}) -> frozenset({'PLASTERS IN TIN CIRCUS PARADE'})\",\"frozenset({'PLASTERS IN TIN WOODLAND ANIMALS'}) -> frozenset({'PLASTERS IN TIN SPACEBOY'})\",\"frozenset({'RED  HARMONICA IN BOX'}) -> frozenset({'BLUE HARMONICA IN BOX'})\",\"frozenset({'RED DINER WALL CLOCK'}) -> frozenset({'IVORY DINER WALL CLOCK'})\",\"frozenset({'RED HANGING HEART T-LIGHT HOLDER'}) -> frozenset({'WHITE HANGING HEART T-LIGHT HOLDER'})\",\"frozenset({'RED KITCHEN SCALES'}) -> frozenset({'IVORY KITCHEN SCALES'})\",\"frozenset({'RED RETROSPOT CHARLOTTE BAG'}) -> frozenset({'CHARLOTTE BAG PINK POLKADOT'})\",\"frozenset({'RED RETROSPOT CHARLOTTE BAG'}) -> frozenset({'CHARLOTTE BAG SUKI DESIGN'})\",\"frozenset({'RED RETROSPOT CHARLOTTE BAG'}) -> frozenset({'JUMBO BAG RED RETROSPOT'})\",\"frozenset({'RED RETROSPOT CHARLOTTE BAG'}) -> frozenset({'STRAWBERRY CHARLOTTE BAG'})\",\"frozenset({'RED RETROSPOT CHARLOTTE BAG'}) -> frozenset({'WOODLAND CHARLOTTE BAG'})\",\"frozenset({'RED STRIPE CERAMIC DRAWER KNOB'}) -> frozenset({'BLUE STRIPE CERAMIC DRAWER KNOB'})\",\"frozenset({'REGENCY CAKESTAND 3 TIER', 'GREEN REGENCY TEACUP AND SAUCER'}) -> frozenset({'ROSES REGENCY TEACUP AND SAUCER'})\",\"frozenset({'REGENCY CAKESTAND 3 TIER', 'ROSES REGENCY TEACUP AND SAUCER'}) -> frozenset({'GREEN REGENCY TEACUP AND SAUCER'})\",\"frozenset({'REGENCY TEA PLATE GREEN'}) -> frozenset({'REGENCY TEA PLATE ROSES'})\",\"frozenset({'REGENCY TEA PLATE ROSES'}) -> frozenset({'REGENCY TEA PLATE GREEN'})\",\"frozenset({'RETROSPOT HEART HOT WATER BOTTLE'}) -> frozenset({'CHOCOLATE HOT WATER BOTTLE'})\",\"frozenset({'RETROSPOT HEART HOT WATER BOTTLE'}) -> frozenset({'SCOTTIE DOG HOT WATER BOTTLE'})\",\"frozenset({'ROSES REGENCY TEACUP AND SAUCER'}) -> frozenset({'GREEN REGENCY TEACUP AND SAUCER'})\",\"frozenset({'ROSES REGENCY TEACUP AND SAUCER'}) -> frozenset({'PINK REGENCY TEACUP AND SAUCER', 'GREEN REGENCY TEACUP AND SAUCER'})\",\"frozenset({'ROSES REGENCY TEACUP AND SAUCER'}) -> frozenset({'PINK REGENCY TEACUP AND SAUCER'})\",\"frozenset({'ROSES REGENCY TEACUP AND SAUCER'}) -> frozenset({'REGENCY CAKESTAND 3 TIER'})\",\"frozenset({'ROUND SNACK BOXES SET OF 4 FRUITS'}) -> frozenset({'ROUND SNACK BOXES SET OF4 WOODLAND'})\",\"frozenset({'ROUND SNACK BOXES SET OF4 WOODLAND'}) -> frozenset({'POSTAGE'})\",\"frozenset({'ROUND SNACK BOXES SET OF4 WOODLAND'}) -> frozenset({'ROUND SNACK BOXES SET OF 4 FRUITS'})\",\"frozenset({'SCANDINAVIAN PAISLEY PICNIC BAG'}) -> frozenset({'PINK VINTAGE PAISLEY PICNIC BAG'})\",\"frozenset({'SCOTTIE DOG HOT WATER BOTTLE'}) -> frozenset({'CHOCOLATE HOT WATER BOTTLE'})\",\"frozenset({'SET OF 12 FAIRY CAKE BAKING CASES'}) -> frozenset({'SET OF 12 MINI LOAF BAKING CASES'})\",\"frozenset({'SET OF 12 FAIRY CAKE BAKING CASES'}) -> frozenset({'SET OF 6 TEA TIME BAKING CASES'})\",\"frozenset({'SET OF 12 MINI LOAF BAKING CASES'}) -> frozenset({'SET OF 12 FAIRY CAKE BAKING CASES'})\",\"frozenset({'SET OF 3 BUTTERFLY COOKIE CUTTERS'}) -> frozenset({'SET OF 3 HEART COOKIE CUTTERS'})\",\"frozenset({'SET OF 3 HEART COOKIE CUTTERS'}) -> frozenset({'SET OF 3 BUTTERFLY COOKIE CUTTERS'})\",\"frozenset({'SET OF 6 SPICE TINS PANTRY DESIGN'}) -> frozenset({'SET OF 3 CAKE TINS PANTRY DESIGN'})\",\"frozenset({'SET OF 6 TEA TIME BAKING CASES'}) -> frozenset({'SET OF 12 FAIRY CAKE BAKING CASES'})\",\"frozenset({'SET OF TEA COFFEE SUGAR TINS PANTRY'}) -> frozenset({'SET OF 3 CAKE TINS PANTRY DESIGN'})\",\"frozenset({'SET/10 BLUE POLKADOT PARTY CANDLES'}) -> frozenset({'SET/10 PINK POLKADOT PARTY CANDLES'})\",\"frozenset({'SET/10 PINK POLKADOT PARTY CANDLES'}) -> frozenset({'SET/10 BLUE POLKADOT PARTY CANDLES'})\",\"frozenset({'SET/6 RED SPOTTY PAPER CUPS'}) -> frozenset({'SET/6 RED SPOTTY PAPER PLATES'})\",\"frozenset({'SET/6 RED SPOTTY PAPER PLATES'}) -> frozenset({'SET/20 RED RETROSPOT PAPER NAPKINS'})\",\"frozenset({'SET/6 RED SPOTTY PAPER PLATES'}) -> frozenset({'SET/6 RED SPOTTY PAPER CUPS'})\",\"frozenset({'SHED'}) -> frozenset({'KEY FOB '})\",\"frozenset({'SMALL DOLLY MIX DESIGN ORANGE BOWL'}) -> frozenset({'SMALL MARSHMALLOWS PINK BOWL'})\",\"frozenset({'SMALL MARSHMALLOWS PINK BOWL'}) -> frozenset({'SMALL DOLLY MIX DESIGN ORANGE BOWL'})\",\"frozenset({'SMALL WHITE HEART OF WICKER'}) -> frozenset({'LARGE WHITE HEART OF WICKER'})\",\"frozenset({'SPACEBOY LUNCH BOX'}) -> frozenset({'DOLLY GIRL LUNCH BOX'})\",\"frozenset({'SPOTTY BUNTING'}) -> frozenset({'PARTY BUNTING'})\",\"frozenset({'STRAWBERRY CERAMIC TRINKET BOX'}) -> frozenset({'SWEETHEART CERAMIC TRINKET BOX'})\",\"frozenset({'STRAWBERRY CHARLOTTE BAG'}) -> frozenset({'CHARLOTTE BAG PINK POLKADOT'})\",\"frozenset({'STRAWBERRY CHARLOTTE BAG'}) -> frozenset({'CHARLOTTE BAG SUKI DESIGN'})\",\"frozenset({'STRAWBERRY CHARLOTTE BAG'}) -> frozenset({'RED RETROSPOT CHARLOTTE BAG'})\",\"frozenset({'STRAWBERRY CHARLOTTE BAG'}) -> frozenset({'WOODLAND CHARLOTTE BAG'})\",\"frozenset({'SWEETHEART CERAMIC TRINKET BOX'}) -> frozenset({'STRAWBERRY CERAMIC TRINKET BOX'})\",\"frozenset({'TOILET METAL SIGN'}) -> frozenset({'BATHROOM METAL SIGN'})\",\"frozenset({'VINTAGE HEADS AND TAILS CARD GAME'}) -> frozenset({'VINTAGE SNAP CARDS'})\",\"frozenset({'WOOD 2 DRAWER CABINET WHITE FINISH'}) -> frozenset({'WOODEN FRAME ANTIQUE WHITE'})\",\"frozenset({'WOOD 2 DRAWER CABINET WHITE FINISH'}) -> frozenset({'WOODEN PICTURE FRAME WHITE FINISH'})\",\"frozenset({'WOODEN FRAME ANTIQUE WHITE'}) -> frozenset({'WOODEN PICTURE FRAME WHITE FINISH'})\",\"frozenset({'WOODEN HEART CHRISTMAS SCANDINAVIAN'}) -> frozenset({'WOODEN STAR CHRISTMAS SCANDINAVIAN'})\",\"frozenset({'WOODEN HEART CHRISTMAS SCANDINAVIAN'}) -> frozenset({'WOODEN TREE CHRISTMAS SCANDINAVIAN'})\",\"frozenset({'WOODEN PICTURE FRAME WHITE FINISH'}) -> frozenset({'WOODEN FRAME ANTIQUE WHITE'})\",\"frozenset({'WOODEN STAR CHRISTMAS SCANDINAVIAN'}) -> frozenset({'WOODEN HEART CHRISTMAS SCANDINAVIAN'})\",\"frozenset({'WOODEN STAR CHRISTMAS SCANDINAVIAN'}) -> frozenset({'WOODEN TREE CHRISTMAS SCANDINAVIAN'})\",\"frozenset({'WOODEN TREE CHRISTMAS SCANDINAVIAN'}) -> frozenset({'WOODEN HEART CHRISTMAS SCANDINAVIAN'})\",\"frozenset({'WOODEN TREE CHRISTMAS SCANDINAVIAN'}) -> frozenset({'WOODEN STAR CHRISTMAS SCANDINAVIAN'})\",\"frozenset({'WOODLAND CHARLOTTE BAG'}) -> frozenset({'CHARLOTTE BAG SUKI DESIGN'})\",\"frozenset({'WOODLAND CHARLOTTE BAG'}) -> frozenset({'RED RETROSPOT CHARLOTTE BAG'})\",\"frozenset({'WOODLAND CHARLOTTE BAG'}) -> frozenset({'STRAWBERRY CHARLOTTE BAG'})\"],\"marker\":{\"coloraxis\":\"coloraxis\",\"colors\":[0.008793547664388933,0.015906799596729023,0.009017587095328778,0.007281281505544976,0.009017587095328778,0.007449311078749861,0.007281281505544976,0.007449311078749861,0.010025764534558083,0.011313991262462193,0.007001232216870169,0.007561330794219783,0.007505320936484821,0.008121429371569396,0.007393301221014899,0.007393301221014899,0.012042119413016689,0.018987341772151903,0.009801725103618234,0.008513498375714126,0.011762070124341883,0.008345468802509241,0.008849557522123894,0.012042119413016689,0.008513498375714126,0.013778425002800493,0.007393301221014899,0.018987341772151903,0.011762070124341883,0.013778425002800493,0.010473843396437773,0.01036182368096785,0.0077293603674246664,0.008737537806653971,0.008457488517979164,0.007001232216870169,0.009017587095328778,0.007897389940629551,0.008625518091184049,0.011482020835667078,0.007617340651954744,0.008625518091184049,0.010585863111907696,0.009017587095328778,0.009073596953063739,0.007617340651954744,0.007617340651954744,0.010977932116052426,0.009745715245883276,0.009577685672678391,0.007169261790075053,0.0073372913632799375,0.007169261790075053,0.007337291363279938,0.009353646241738546,0.009409656099473508,0.009185616668533661,0.01450655315335499,0.008009409656099474,0.008009409656099474,0.007393301221014899,0.017139016466898173,0.017139016466898173,0.009353646241738546,0.008737537806653971,0.010473843396437775,0.008289458944774281,0.010473843396437773,0.015402710877114372,0.012434188417161422,0.018819312198947016,0.00940965609947351,0.008737537806653971,0.008401478660244203,0.010025764534558083,0.008793547664388933,0.010025764534558083,0.007953399798364512,0.010305813823232889,0.007897389940629551,0.007953399798364512,0.007281281505544977,0.007225271647810014,0.008793547664388933,0.010305813823232889,0.007281281505544977,0.007001232216870169,0.007897389940629551,0.007001232216870169,0.0140584742914753,0.010641872969642658,0.0140584742914753,0.009297636384003584,0.010977932116052426,0.00705724207460513,0.0071132519323400915,0.009745715245883276,0.0071132519323400915,0.007673350509689705,0.00705724207460513,0.009017587095328778,0.009241626526268623,0.013386355998655763,0.008849557522123894,0.011257981404727231,0.009745715245883276,0.01075389268511258,0.01288226727904111,0.010025764534558083,0.010585863111907696,0.007001232216870169,0.007393301221014899,0.007505320936484821,0.01075389268511258,0.007393301221014899,0.008233449087039319,0.021059706508345467,0.008401478660244203,0.01036182368096785,0.008289458944774281,0.008793547664388933,0.007169261790075053,0.008289458944774281,0.010025764534558083,0.007169261790075053,0.009745715245883276,0.007169261790075053,0.007169261790075053,0.01075389268511258,0.014618572868824913,0.008793547664388933,0.01075389268511258,0.012210148986221577,0.007953399798364512,0.009633695530413353,0.014842612299764758,0.008457488517979164,0.009185616668533661,0.007561330794219783,0.015850789738994064,0.010473843396437773,0.007393301221014899,0.012322168701691498,0.009577685672678391,0.009297636384003584,0.007953399798364512,0.007169261790075053,0.007505320936484822,0.007561330794219783,0.01534670101937941,0.016018819312198947,0.018427243194802285,0.015458720734849333,0.015234681303909488,0.008905567379858856,0.01120197154699227,0.008849557522123894,0.009017587095328778,0.008961577237593816,0.009689705388148314,0.009633695530413353,0.011930099697546768,0.014114484149210262,0.013050296852245995,0.01534670101937941,0.015066651730704607,0.016354878458608717,0.01321832642545088,0.014674582726559875,0.01372241514506553,0.007393301221014899,0.009857734961353198,0.008793547664388933,0.010081774392293043,0.012490198274896381,0.009465665957208469,0.009409656099473508,0.007169261790075053,0.009353646241738546,0.007169261790075052,0.007785370225159628,0.016018819312198947,0.015066651730704607,0.01853926291027221,0.012546208132631343,0.012658227848101266,0.007505320936484821,0.009353646241738546,0.007561330794219783,0.007785370225159628,0.007505320936484821,0.007785370225159628,0.009353646241738546,0.007785370225159628,0.007561330794219782,0.007561330794219782,0.018427243194802285,0.01853926291027221,0.015458720734849333,0.01321832642545088,0.016018819312198947,0.013778425002800493,0.013330346140920803,0.007785370225159627,0.007561330794219783,0.007785370225159628,0.007561330794219783,0.015234681303909488,0.013050296852245995,0.014674582726559875,0.012658227848101266,0.01663492774728352,0.013778425002800493,0.0077293603674246664,0.007169261790075053,0.008345468802509241,0.007393301221014899,0.008569508233449086,0.009633695530413353,0.010529853254172734,0.009409656099473508,0.008233449087039319,0.009465665957208469,0.013050296852245994,0.01372241514506553,0.015458720734849333,0.013330346140920803,0.011257981404727231,0.007785370225159628,0.0073933012210149,0.009297636384003584,0.010025764534558083,0.012154139128486613,0.007393301221014899,0.008737537806653971,0.008513498375714126,0.015906799596729023,0.009129606810798701,0.009129606810798701,0.008737537806653971,0.010473843396437773,0.010473843396437773,0.010473843396437773,0.015402710877114372,0.009633695530413353,0.014226503864680183,0.007617340651954744,0.008513498375714126,0.008065419513834434,0.009017587095328778,0.008513498375714126,0.010697882827377618,0.008065419513834434,0.007001232216870169,0.007225271647810016,0.009017587095328778,0.010697882827377618,0.008457488517979164,0.00705724207460513,0.01573877002352414,0.009017587095328778,0.011482020835667078,0.010585863111907696,0.010193794107762966,0.010697882827377618,0.009969754676823121,0.007001232216870169,0.008289458944774281,0.008289458944774281,0.007785370225159628,0.007785370225159628,0.007057242074605129,0.007729360367424667,0.018819312198947016,0.010473843396437773,0.014226503864680183,0.013442365856390725,0.008905567379858856,0.008065419513834434,0.008905567379858856,0.007617340651954744,0.009577685672678391,0.008961577237593816,0.0077293603674246664,0.008961577237593816,0.007673350509689705,0.007673350509689705,0.010585863111907696,0.0077293603674246664,0.007449311078749861,0.00705724207460513,0.00705724207460513,0.008401478660244203,0.008009409656099474,0.008401478660244203,0.012322168701691498,0.008233449087039319,0.008233449087039319,0.009577685672678391,0.01450655315335499,0.014674582726559875,0.007673350509689705,0.007617340651954744,0.009017587095328778,0.010697882827377618,0.007169261790075054,0.007673350509689705,0.0077293603674246664,0.008625518091184049,0.007393301221014899,0.007393301221014899,0.017643105186512825,0.010641872969642658,0.0071132519323400915,0.017643105186512825,0.010641872969642658,0.007673350509689704,0.0071132519323400915,0.007673350509689704,0.009073596953063739,0.009969754676823121,0.007169261790075054]},\"name\":\"\",\"parents\":[\"\",\"\",\"\",\"\",\"\",\"\",\"\",\"\",\"\",\"\",\"\",\"\",\"\",\"\",\"\",\"\",\"\",\"\",\"\",\"\",\"\",\"\",\"\",\"\",\"\",\"\",\"\",\"\",\"\",\"\",\"\",\"\",\"\",\"\",\"\",\"\",\"\",\"\",\"\",\"\",\"\",\"\",\"\",\"\",\"\",\"\",\"\",\"\",\"\",\"\",\"\",\"\",\"\",\"\",\"\",\"\",\"\",\"\",\"\",\"\",\"\",\"\",\"\",\"\",\"\",\"\",\"\",\"\",\"\",\"\",\"\",\"\",\"\",\"\",\"\",\"\",\"\",\"\",\"\",\"\",\"\",\"\",\"\",\"\",\"\",\"\",\"\",\"\",\"\",\"\",\"\",\"\",\"\",\"\",\"\",\"\",\"\",\"\",\"\",\"\",\"\",\"\",\"\",\"\",\"\",\"\",\"\",\"\",\"\",\"\",\"\",\"\",\"\",\"\",\"\",\"\",\"\",\"\",\"\",\"\",\"\",\"\",\"\",\"\",\"\",\"\",\"\",\"\",\"\",\"\",\"\",\"\",\"\",\"\",\"\",\"\",\"\",\"\",\"\",\"\",\"\",\"\",\"\",\"\",\"\",\"\",\"\",\"\",\"\",\"\",\"\",\"\",\"\",\"\",\"\",\"\",\"\",\"\",\"\",\"\",\"\",\"\",\"\",\"\",\"\",\"\",\"\",\"\",\"\",\"\",\"\",\"\",\"\",\"\",\"\",\"\",\"\",\"\",\"\",\"\",\"\",\"\",\"\",\"\",\"\",\"\",\"\",\"\",\"\",\"\",\"\",\"\",\"\",\"\",\"\",\"\",\"\",\"\",\"\",\"\",\"\",\"\",\"\",\"\",\"\",\"\",\"\",\"\",\"\",\"\",\"\",\"\",\"\",\"\",\"\",\"\",\"\",\"\",\"\",\"\",\"\",\"\",\"\",\"\",\"\",\"\",\"\",\"\",\"\",\"\",\"\",\"\",\"\",\"\",\"\",\"\",\"\",\"\",\"\",\"\",\"\",\"\",\"\",\"\",\"\",\"\",\"\",\"\",\"\",\"\",\"\",\"\",\"\",\"\",\"\",\"\",\"\",\"\",\"\",\"\",\"\",\"\",\"\",\"\",\"\",\"\",\"\",\"\",\"\",\"\",\"\",\"\",\"\",\"\",\"\",\"\",\"\",\"\",\"\",\"\",\"\",\"\",\"\",\"\",\"\",\"\",\"\",\"\",\"\",\"\",\"\",\"\",\"\",\"\",\"\",\"\",\"\",\"\",\"\",\"\",\"\",\"\",\"\",\"\",\"\",\"\",\"\",\"\",\"\",\"\",\"\",\"\",\"\",\"\",\"\",\"\",\"\",\"\",\"\",\"\",\"\",\"\"],\"values\":[20.265167727009835,11.817117394263127,41.61771561771562,48.0313722244066,41.61771561771562,45.53980400053698,48.0313722244066,45.53980400053698,12.434115102091635,8.79348700668562,11.51740189501063,7.6429309809044845,15.057752825961076,14.808291815150183,15.863278699559118,14.635789473684211,12.868286959436807,13.947537492971508,13.024185480374827,14.956230366492148,14.204089982649018,14.968411694537595,14.425408968412656,12.868286959436807,14.956230366492147,13.381320740345801,15.255087773807674,13.947537492971508,14.204089982649018,13.3813207403458,52.2046783625731,15.261098174022326,30.994968047099075,35.03955314009663,17.0405668487055,31.88214285714286,6.827128063841915,12.094113916753143,15.325065630695656,16.687959366052052,16.2744235924933,15.325065630695656,11.93094743094743,14.940197505197506,14.215596939001193,46.73372211636545,46.73372211636545,16.004353950569858,13.96298227320125,10.298022046224212,24.597845156984945,28.435812330549172,24.597845156984942,28.435812330549176,12.767492249456179,13.521367521367523,11.334293323423758,18.163694497690347,28.713541842392342,28.713541842392342,52.2046783625731,17.190535225449167,17.190535225449164,12.767492249456177,11.77555110220441,24.00145215090867,6.1439546130952385,24.523284169702666,22.126009445525995,5.7771513526119405,19.197357978546375,13.521367521367525,11.77555110220441,10.235507246376812,18.156060037949803,19.310131509151912,18.156060037949803,17.93331069801658,18.663212552976333,15.094038925063854,17.93331069801658,19.908222256531662,18.395600709253845,19.310131509151912,18.663212552976333,19.908222256531662,16.22607077162446,15.094038925063854,16.22607077162446,9.69553534339518,3.55374203821656,9.695535343395182,12.9885968218352,16.004353950569858,9.891412742382272,13.997172734792645,13.96298227320125,13.997172734792645,10.569518624146573,21.994778986888804,17.49571812023348,8.340911922262364,6.655892510084199,9.13928594570077,4.800682246866346,9.436231091671225,17.160088904907795,5.808346982825685,9.577522446386403,8.776955849992977,10.338014989948025,18.134256694367497,5.810056462874143,17.16008890490779,5.195768828843923,12.2593841669625,7.59086622506971,8.432570295034479,5.729533292279939,16.087132811786553,9.492466855178721,12.204733828932751,16.087132811786553,6.987225260009577,9.754243690484827,6.699263783042426,9.394369902657195,12.544390650901864,9.86170469844996,7.385332965643156,20.265167727009835,5.6132334688076195,5.137055113994822,9.3855015807438,6.262913268438131,5.753870626049669,9.878256472640132,5.910524286582276,10.105614020376503,6.53755741586554,52.2046783625731,52.204678362573105,52.204678362573105,16.12699670385396,12.9885968218352,12.63590510366826,11.648819475594339,8.585563665855638,8.58695652173913,7.54851452148983,8.561375388144084,6.9337068160597575,7.545422250532865,8.052317059420453,6.566293569450902,9.985709931178357,6.986274772030453,5.4459430528794694,7.0205654516141704,8.220073664825046,12.430530593740386,6.6259920513924,6.420899854862118,8.339378072151968,7.548514521489831,8.621745343309733,6.588974578691803,6.9079927600860405,8.304598843897798,8.42939070310603,18.134256694367497,8.009073693171535,7.649528706083977,6.709129511677282,10.782101694180856,8.848359550034603,9.547684756347941,10.270695885091772,10.250971250971253,10.198779883700691,9.071458075175547,8.561375388144084,8.621745343309733,8.11576660459342,7.124501197126894,7.783812771999134,9.346840546643643,12.65735850978927,9.344527324607656,10.418755982468218,9.835863112368234,11.870102165761073,10.813816765376846,9.637019548148091,10.057794061190766,10.117151755807217,6.9337068160597575,8.115766604593421,7.545422250532865,6.9079927600860405,6.404195011337868,7.737773424286841,8.125883486828014,8.971405228758169,10.486725663716815,10.031107392451931,11.33443372270188,8.052317059420453,8.339378072151968,8.304598843897796,7.783812771999135,7.201657458563535,7.737773424286841,12.14186731847705,7.878511664466041,6.213248878332014,7.140215230985505,6.889298576573486,12.430530593740386,10.234513544169479,6.196078431372549,7.032825630252099,8.755414596777936,7.487220375406535,8.429390703106032,7.264367816091954,8.125883486828014,7.431340959354576,11.970066465373371,11.145240617433414,8.783578971077674,12.434115102091635,9.261967373011016,9.335313900013071,8.438333919071223,9.333979948064455,11.817117394263127,18.120809464508095,18.120809464508095,35.03955314009662,20.82456260720412,24.52328416970267,24.001452150908673,22.12600944552599,5.795003019323672,18.78885657228561,39.75740904476537,14.31786430304949,18.03434343434343,15.598936372269707,14.317864303049488,16.014435991359072,18.034343434343434,13.54743346930847,14.380407092907095,15.598936372269707,16.01443599135907,17.040566848705502,21.9947789868888,6.298932804339091,17.49571812023348,16.687959366052052,11.93094743094743,4.361671740519412,14.498784013605443,12.777263151123334,31.88214285714286,20.416237850200115,20.54098258706468,48.773751031799065,48.773751031799065,9.820853560576955,10.895347088945687,19.19735797854638,20.824562607204115,18.78885657228561,5.742066895368782,16.341910748825644,6.938757003594907,16.341910748825644,39.75740904476537,10.298022046224213,27.700214298874204,27.070537048431046,27.700214298874204,16.873024523160765,16.873024523160765,7.3667014508952935,27.070537048431046,9.30595529219965,50.521110312612294,50.52111031261229,48.30627705627706,17.712301587301585,48.30627705627706,52.2046783625731,39.89872301611432,39.898723016114324,16.12699670385396,18.16369449769035,5.313310229752278,20.472885540908138,16.274423592493296,14.940197505197505,14.498784013605443,13.506572104018913,20.472885540908138,30.994968047099075,12.706651138716357,8.649177921315328,7.956757778738116,12.059374731966722,29.17320261437909,29.15969650205761,12.059374731966722,29.173202614379093,35.05902419447311,29.15969650205761,35.05902419447311,14.215596939001191,12.777263151123334,13.506572104018913],\"type\":\"sunburst\"}],                        {\"template\":{\"data\":{\"histogram2dcontour\":[{\"type\":\"histogram2dcontour\",\"colorbar\":{\"outlinewidth\":0,\"ticks\":\"\"},\"colorscale\":[[0.0,\"#0d0887\"],[0.1111111111111111,\"#46039f\"],[0.2222222222222222,\"#7201a8\"],[0.3333333333333333,\"#9c179e\"],[0.4444444444444444,\"#bd3786\"],[0.5555555555555556,\"#d8576b\"],[0.6666666666666666,\"#ed7953\"],[0.7777777777777778,\"#fb9f3a\"],[0.8888888888888888,\"#fdca26\"],[1.0,\"#f0f921\"]]}],\"choropleth\":[{\"type\":\"choropleth\",\"colorbar\":{\"outlinewidth\":0,\"ticks\":\"\"}}],\"histogram2d\":[{\"type\":\"histogram2d\",\"colorbar\":{\"outlinewidth\":0,\"ticks\":\"\"},\"colorscale\":[[0.0,\"#0d0887\"],[0.1111111111111111,\"#46039f\"],[0.2222222222222222,\"#7201a8\"],[0.3333333333333333,\"#9c179e\"],[0.4444444444444444,\"#bd3786\"],[0.5555555555555556,\"#d8576b\"],[0.6666666666666666,\"#ed7953\"],[0.7777777777777778,\"#fb9f3a\"],[0.8888888888888888,\"#fdca26\"],[1.0,\"#f0f921\"]]}],\"heatmap\":[{\"type\":\"heatmap\",\"colorbar\":{\"outlinewidth\":0,\"ticks\":\"\"},\"colorscale\":[[0.0,\"#0d0887\"],[0.1111111111111111,\"#46039f\"],[0.2222222222222222,\"#7201a8\"],[0.3333333333333333,\"#9c179e\"],[0.4444444444444444,\"#bd3786\"],[0.5555555555555556,\"#d8576b\"],[0.6666666666666666,\"#ed7953\"],[0.7777777777777778,\"#fb9f3a\"],[0.8888888888888888,\"#fdca26\"],[1.0,\"#f0f921\"]]}],\"heatmapgl\":[{\"type\":\"heatmapgl\",\"colorbar\":{\"outlinewidth\":0,\"ticks\":\"\"},\"colorscale\":[[0.0,\"#0d0887\"],[0.1111111111111111,\"#46039f\"],[0.2222222222222222,\"#7201a8\"],[0.3333333333333333,\"#9c179e\"],[0.4444444444444444,\"#bd3786\"],[0.5555555555555556,\"#d8576b\"],[0.6666666666666666,\"#ed7953\"],[0.7777777777777778,\"#fb9f3a\"],[0.8888888888888888,\"#fdca26\"],[1.0,\"#f0f921\"]]}],\"contourcarpet\":[{\"type\":\"contourcarpet\",\"colorbar\":{\"outlinewidth\":0,\"ticks\":\"\"}}],\"contour\":[{\"type\":\"contour\",\"colorbar\":{\"outlinewidth\":0,\"ticks\":\"\"},\"colorscale\":[[0.0,\"#0d0887\"],[0.1111111111111111,\"#46039f\"],[0.2222222222222222,\"#7201a8\"],[0.3333333333333333,\"#9c179e\"],[0.4444444444444444,\"#bd3786\"],[0.5555555555555556,\"#d8576b\"],[0.6666666666666666,\"#ed7953\"],[0.7777777777777778,\"#fb9f3a\"],[0.8888888888888888,\"#fdca26\"],[1.0,\"#f0f921\"]]}],\"surface\":[{\"type\":\"surface\",\"colorbar\":{\"outlinewidth\":0,\"ticks\":\"\"},\"colorscale\":[[0.0,\"#0d0887\"],[0.1111111111111111,\"#46039f\"],[0.2222222222222222,\"#7201a8\"],[0.3333333333333333,\"#9c179e\"],[0.4444444444444444,\"#bd3786\"],[0.5555555555555556,\"#d8576b\"],[0.6666666666666666,\"#ed7953\"],[0.7777777777777778,\"#fb9f3a\"],[0.8888888888888888,\"#fdca26\"],[1.0,\"#f0f921\"]]}],\"mesh3d\":[{\"type\":\"mesh3d\",\"colorbar\":{\"outlinewidth\":0,\"ticks\":\"\"}}],\"scatter\":[{\"fillpattern\":{\"fillmode\":\"overlay\",\"size\":10,\"solidity\":0.2},\"type\":\"scatter\"}],\"parcoords\":[{\"type\":\"parcoords\",\"line\":{\"colorbar\":{\"outlinewidth\":0,\"ticks\":\"\"}}}],\"scatterpolargl\":[{\"type\":\"scatterpolargl\",\"marker\":{\"colorbar\":{\"outlinewidth\":0,\"ticks\":\"\"}}}],\"bar\":[{\"error_x\":{\"color\":\"#2a3f5f\"},\"error_y\":{\"color\":\"#2a3f5f\"},\"marker\":{\"line\":{\"color\":\"#E5ECF6\",\"width\":0.5},\"pattern\":{\"fillmode\":\"overlay\",\"size\":10,\"solidity\":0.2}},\"type\":\"bar\"}],\"scattergeo\":[{\"type\":\"scattergeo\",\"marker\":{\"colorbar\":{\"outlinewidth\":0,\"ticks\":\"\"}}}],\"scatterpolar\":[{\"type\":\"scatterpolar\",\"marker\":{\"colorbar\":{\"outlinewidth\":0,\"ticks\":\"\"}}}],\"histogram\":[{\"marker\":{\"pattern\":{\"fillmode\":\"overlay\",\"size\":10,\"solidity\":0.2}},\"type\":\"histogram\"}],\"scattergl\":[{\"type\":\"scattergl\",\"marker\":{\"colorbar\":{\"outlinewidth\":0,\"ticks\":\"\"}}}],\"scatter3d\":[{\"type\":\"scatter3d\",\"line\":{\"colorbar\":{\"outlinewidth\":0,\"ticks\":\"\"}},\"marker\":{\"colorbar\":{\"outlinewidth\":0,\"ticks\":\"\"}}}],\"scattermapbox\":[{\"type\":\"scattermapbox\",\"marker\":{\"colorbar\":{\"outlinewidth\":0,\"ticks\":\"\"}}}],\"scatterternary\":[{\"type\":\"scatterternary\",\"marker\":{\"colorbar\":{\"outlinewidth\":0,\"ticks\":\"\"}}}],\"scattercarpet\":[{\"type\":\"scattercarpet\",\"marker\":{\"colorbar\":{\"outlinewidth\":0,\"ticks\":\"\"}}}],\"carpet\":[{\"aaxis\":{\"endlinecolor\":\"#2a3f5f\",\"gridcolor\":\"white\",\"linecolor\":\"white\",\"minorgridcolor\":\"white\",\"startlinecolor\":\"#2a3f5f\"},\"baxis\":{\"endlinecolor\":\"#2a3f5f\",\"gridcolor\":\"white\",\"linecolor\":\"white\",\"minorgridcolor\":\"white\",\"startlinecolor\":\"#2a3f5f\"},\"type\":\"carpet\"}],\"table\":[{\"cells\":{\"fill\":{\"color\":\"#EBF0F8\"},\"line\":{\"color\":\"white\"}},\"header\":{\"fill\":{\"color\":\"#C8D4E3\"},\"line\":{\"color\":\"white\"}},\"type\":\"table\"}],\"barpolar\":[{\"marker\":{\"line\":{\"color\":\"#E5ECF6\",\"width\":0.5},\"pattern\":{\"fillmode\":\"overlay\",\"size\":10,\"solidity\":0.2}},\"type\":\"barpolar\"}],\"pie\":[{\"automargin\":true,\"type\":\"pie\"}]},\"layout\":{\"autotypenumbers\":\"strict\",\"colorway\":[\"#636efa\",\"#EF553B\",\"#00cc96\",\"#ab63fa\",\"#FFA15A\",\"#19d3f3\",\"#FF6692\",\"#B6E880\",\"#FF97FF\",\"#FECB52\"],\"font\":{\"color\":\"#2a3f5f\"},\"hovermode\":\"closest\",\"hoverlabel\":{\"align\":\"left\"},\"paper_bgcolor\":\"white\",\"plot_bgcolor\":\"#E5ECF6\",\"polar\":{\"bgcolor\":\"#E5ECF6\",\"angularaxis\":{\"gridcolor\":\"white\",\"linecolor\":\"white\",\"ticks\":\"\"},\"radialaxis\":{\"gridcolor\":\"white\",\"linecolor\":\"white\",\"ticks\":\"\"}},\"ternary\":{\"bgcolor\":\"#E5ECF6\",\"aaxis\":{\"gridcolor\":\"white\",\"linecolor\":\"white\",\"ticks\":\"\"},\"baxis\":{\"gridcolor\":\"white\",\"linecolor\":\"white\",\"ticks\":\"\"},\"caxis\":{\"gridcolor\":\"white\",\"linecolor\":\"white\",\"ticks\":\"\"}},\"coloraxis\":{\"colorbar\":{\"outlinewidth\":0,\"ticks\":\"\"}},\"colorscale\":{\"sequential\":[[0.0,\"#0d0887\"],[0.1111111111111111,\"#46039f\"],[0.2222222222222222,\"#7201a8\"],[0.3333333333333333,\"#9c179e\"],[0.4444444444444444,\"#bd3786\"],[0.5555555555555556,\"#d8576b\"],[0.6666666666666666,\"#ed7953\"],[0.7777777777777778,\"#fb9f3a\"],[0.8888888888888888,\"#fdca26\"],[1.0,\"#f0f921\"]],\"sequentialminus\":[[0.0,\"#0d0887\"],[0.1111111111111111,\"#46039f\"],[0.2222222222222222,\"#7201a8\"],[0.3333333333333333,\"#9c179e\"],[0.4444444444444444,\"#bd3786\"],[0.5555555555555556,\"#d8576b\"],[0.6666666666666666,\"#ed7953\"],[0.7777777777777778,\"#fb9f3a\"],[0.8888888888888888,\"#fdca26\"],[1.0,\"#f0f921\"]],\"diverging\":[[0,\"#8e0152\"],[0.1,\"#c51b7d\"],[0.2,\"#de77ae\"],[0.3,\"#f1b6da\"],[0.4,\"#fde0ef\"],[0.5,\"#f7f7f7\"],[0.6,\"#e6f5d0\"],[0.7,\"#b8e186\"],[0.8,\"#7fbc41\"],[0.9,\"#4d9221\"],[1,\"#276419\"]]},\"xaxis\":{\"gridcolor\":\"white\",\"linecolor\":\"white\",\"ticks\":\"\",\"title\":{\"standoff\":15},\"zerolinecolor\":\"white\",\"automargin\":true,\"zerolinewidth\":2},\"yaxis\":{\"gridcolor\":\"white\",\"linecolor\":\"white\",\"ticks\":\"\",\"title\":{\"standoff\":15},\"zerolinecolor\":\"white\",\"automargin\":true,\"zerolinewidth\":2},\"scene\":{\"xaxis\":{\"backgroundcolor\":\"#E5ECF6\",\"gridcolor\":\"white\",\"linecolor\":\"white\",\"showbackground\":true,\"ticks\":\"\",\"zerolinecolor\":\"white\",\"gridwidth\":2},\"yaxis\":{\"backgroundcolor\":\"#E5ECF6\",\"gridcolor\":\"white\",\"linecolor\":\"white\",\"showbackground\":true,\"ticks\":\"\",\"zerolinecolor\":\"white\",\"gridwidth\":2},\"zaxis\":{\"backgroundcolor\":\"#E5ECF6\",\"gridcolor\":\"white\",\"linecolor\":\"white\",\"showbackground\":true,\"ticks\":\"\",\"zerolinecolor\":\"white\",\"gridwidth\":2}},\"shapedefaults\":{\"line\":{\"color\":\"#2a3f5f\"}},\"annotationdefaults\":{\"arrowcolor\":\"#2a3f5f\",\"arrowhead\":0,\"arrowwidth\":1},\"geo\":{\"bgcolor\":\"white\",\"landcolor\":\"#E5ECF6\",\"subunitcolor\":\"white\",\"showland\":true,\"showlakes\":true,\"lakecolor\":\"white\"},\"title\":{\"x\":0.05},\"mapbox\":{\"style\":\"light\"}}},\"coloraxis\":{\"colorbar\":{\"title\":{\"text\":\"support\"}},\"colorscale\":[[0.0,\"rgb(255,255,217)\"],[0.125,\"rgb(237,248,177)\"],[0.25,\"rgb(199,233,180)\"],[0.375,\"rgb(127,205,187)\"],[0.5,\"rgb(65,182,196)\"],[0.625,\"rgb(29,145,192)\"],[0.75,\"rgb(34,94,168)\"],[0.875,\"rgb(37,52,148)\"],[1.0,\"rgb(8,29,88)\"]]},\"legend\":{\"tracegroupgap\":0},\"title\":{\"text\":\"Market Basket Analysis - Sunburst Chart\"},\"margin\":{\"l\":0,\"r\":0,\"b\":0,\"t\":40}},                        {\"responsive\": true}                    ).then(function(){\n",
       "                            \n",
       "var gd = document.getElementById('7796ea75-20cc-4efe-8ce0-d9cb36711234');\n",
       "var x = new MutationObserver(function (mutations, observer) {{\n",
       "        var display = window.getComputedStyle(gd).display;\n",
       "        if (!display || display === 'none') {{\n",
       "            console.log([gd, 'removed!']);\n",
       "            Plotly.purge(gd);\n",
       "            observer.disconnect();\n",
       "        }}\n",
       "}});\n",
       "\n",
       "// Listen for the removal of the full notebook cells\n",
       "var notebookContainer = gd.closest('#notebook-container');\n",
       "if (notebookContainer) {{\n",
       "    x.observe(notebookContainer, {childList: true});\n",
       "}}\n",
       "\n",
       "// Listen for the clearing of the current output cell\n",
       "var outputEl = gd.closest('.output');\n",
       "if (outputEl) {{\n",
       "    x.observe(outputEl, {childList: true});\n",
       "}}\n",
       "\n",
       "                        })                };                });            </script>        </div>"
      ]
     },
     "metadata": {},
     "output_type": "display_data"
    }
   ],
   "source": [
    "# Let's combine antecedents and consequents into a single column for each rule\n",
    "rules['rule'] = rules['antecedents'].astype(str) + ' -> ' + rules['consequents'].astype(str)\n",
    "fig = px.sunburst(rules, path=['rule'], values='lift', \n",
    "                  title='Market Basket Analysis - Sunburst Chart',\n",
    "                  color='support', color_continuous_scale='YlGnBu')\n",
    "fig.update_layout(\n",
    "    margin=dict(l=0, r=0, b=0, t=40),\n",
    ")\n",
    "\n",
    "# Let's show the interactive plot\n",
    "fig.show()"
   ]
  },
  {
   "cell_type": "code",
   "execution_count": 93,
   "id": "3a7c2a23",
   "metadata": {},
   "outputs": [
    {
     "data": {
      "application/vnd.plotly.v1+json": {
       "config": {
        "plotlyServerURL": "https://plot.ly"
       },
       "data": [
        {
         "hoverinfo": "none",
         "line": {
          "color": "#888",
          "width": 0.5
         },
         "mode": "lines",
         "type": "scatter",
         "x": [
          0.6530023561398798,
          0.688479337343132,
          null,
          0.6530023561398798,
          0.8339638159488612,
          null,
          0.688479337343132,
          0.7361015929798269,
          null,
          0.688479337343132,
          0.8339638159488612,
          null,
          0.710978423851438,
          0.688479337343132,
          null,
          0.710978423851438,
          0.7361015929798269,
          null,
          0.710978423851438,
          0.8339638159488612,
          null,
          0.7361015929798269,
          0.688479337343132,
          null,
          0.7361015929798269,
          0.8339638159488612,
          null,
          -0.3344227536163599,
          -0.35031698706066017,
          null,
          -0.3344227536163599,
          -0.3416755927510671,
          null,
          -0.35031698706066017,
          -0.3249748156058285,
          null,
          -0.35031698706066017,
          -0.3416755927510671,
          null,
          -0.3416755927510671,
          -0.35031698706066017,
          null,
          -0.3416755927510671,
          -0.32965332546930853,
          null,
          -0.3416755927510671,
          -0.3249748156058285,
          null,
          -0.32965332546930853,
          -0.35031698706066017,
          null,
          -0.32965332546930853,
          -0.3249748156058285,
          null,
          -0.32965332546930853,
          -0.3416755927510671,
          null,
          -0.3637493088642122,
          -0.35031698706066017,
          null,
          -0.3637493088642122,
          -0.3416755927510671,
          null,
          -0.3249748156058285,
          -0.35031698706066017,
          null,
          -0.3249748156058285,
          -0.32965332546930853,
          null,
          -0.3249748156058285,
          -0.3416755927510671,
          null,
          0.26173059256237974,
          0.25195252272884444,
          null,
          -0.31693338649686187,
          -0.30238696470237825,
          null,
          -0.31693338649686187,
          -0.31461149506662733,
          null,
          -0.31693338649686187,
          -0.3395238108066493,
          null,
          -0.30238696470237825,
          -0.31693338649686187,
          null,
          0.7180472994056041,
          0.8995639097305906,
          null,
          0.16229882276055732,
          0.14917266806119023,
          null,
          0.14917266806119023,
          0.16229882276055732,
          null,
          -0.6200238706791777,
          -0.6256229899089182,
          null,
          -0.6256229899089182,
          -0.6200238706791777,
          null,
          0.47205931080042524,
          0.45466575330665243,
          null,
          0.45466575330665243,
          0.47205931080042524,
          null,
          0.661473835531799,
          0.667828828664949,
          null,
          0.667828828664949,
          0.661473835531799,
          null,
          0.5686417349598644,
          0.5989788624154427,
          null,
          -0.49163428272411225,
          -0.5937322945031661,
          null,
          -0.5937322945031661,
          -0.47295159036538237,
          null,
          -0.5937322945031661,
          -0.48702170721387344,
          null,
          -0.5937322945031661,
          -0.853908066626158,
          null,
          -0.5937322945031661,
          -0.5073027264957496,
          null,
          -0.5937322945031661,
          -0.49052791938272694,
          null,
          -0.47295159036538237,
          -0.48702170721387344,
          null,
          -0.47295159036538237,
          -0.5937322945031661,
          null,
          -0.47295159036538237,
          -0.5073027264957496,
          null,
          -0.48702170721387344,
          -0.47295159036538237,
          null,
          -0.48702170721387344,
          -0.5937322945031661,
          null,
          -0.48702170721387344,
          -0.5073027264957496,
          null,
          -0.48702170721387344,
          -0.49052791938272694,
          null,
          -0.5073027264957496,
          -0.47295159036538237,
          null,
          -0.5073027264957496,
          -0.48702170721387344,
          null,
          -0.5073027264957496,
          -0.5937322945031661,
          null,
          -0.5073027264957496,
          -0.49052791938272694,
          null,
          -0.49052791938272694,
          -0.48702170721387344,
          null,
          -0.49052791938272694,
          -0.5937322945031661,
          null,
          -0.49052791938272694,
          -0.5073027264957496,
          null,
          0.12775137051751184,
          0.11589589516843109,
          null,
          0.11589589516843109,
          0.12775137051751184,
          null,
          0.7562719763520215,
          0.7488214999277941,
          null,
          0.7562719763520215,
          0.8042610321666693,
          null,
          0.7562719763520215,
          0.7299910439423583,
          null,
          0.7488214999277941,
          0.7562719763520215,
          null,
          0.7488214999277941,
          0.8802980423432112,
          null,
          0.7488214999277941,
          0.8042610321666693,
          null,
          0.8042610321666693,
          0.7562719763520215,
          null,
          0.8042610321666693,
          0.7488214999277941,
          null,
          0.8042610321666693,
          0.8802980423432112,
          null,
          0.7401094321903307,
          0.7562719763520215,
          null,
          0.7401094321903307,
          0.7299910439423583,
          null,
          0.7299910439423583,
          0.7562719763520215,
          null,
          0.9545552923905078,
          0.9158757161700328,
          null,
          0.9158757161700328,
          0.9545552923905078,
          null,
          0.9158757161700328,
          0.8645006016088927,
          null,
          0.8645006016088927,
          0.9158757161700328,
          null,
          0.875827102438756,
          0.8555150268093856,
          null,
          0.875827102438756,
          0.8892511003438536,
          null,
          0.8555150268093856,
          0.875827102438756,
          null,
          0.8555150268093856,
          0.8892511003438536,
          null,
          0.8555150268093856,
          0.904701913231735,
          null,
          0.8892511003438536,
          0.8555150268093856,
          null,
          0.8892511003438536,
          0.875827102438756,
          null,
          0.8892511003438536,
          0.904701913231735,
          null,
          0.5554469604490663,
          0.5760042654066962,
          null,
          0.5760042654066962,
          0.5554469604490663,
          null,
          0.7025979874257567,
          0.6952801989135772,
          null,
          0.6952801989135772,
          0.7025979874257567,
          null,
          -0.31461149506662733,
          -0.31693338649686187,
          null,
          0.23952649240380194,
          0.24920454927408248,
          null,
          0.24920454927408248,
          0.23952649240380194,
          null,
          -0.6129013569916812,
          -0.6238801243016758,
          null,
          -0.6129013569916812,
          -0.7624173876849096,
          null,
          -0.6129013569916812,
          -0.6315189634222214,
          null,
          -0.6129013569916812,
          -0.6714274935898707,
          null,
          -0.6238801243016758,
          -0.6129013569916812,
          null,
          -0.6238801243016758,
          -0.7624173876849096,
          null,
          -0.6238801243016758,
          -0.6315189634222214,
          null,
          -0.6238801243016758,
          -0.537718319531787,
          null,
          -0.6315189634222214,
          -0.6238801243016758,
          null,
          -0.6315189634222214,
          -0.6129013569916812,
          null,
          -0.6315189634222214,
          -0.7624173876849096,
          null,
          -0.6315189634222214,
          -0.5484569852908939,
          null,
          -0.011905417833421398,
          -0.040316897514487374,
          null,
          -0.011905417833421398,
          -0.013581449186665361,
          null,
          -0.011905417833421398,
          -0.01813396037785255,
          null,
          -0.011905417833421398,
          0.004039491831985023,
          null,
          -0.040316897514487374,
          -0.011905417833421398,
          null,
          -0.040316897514487374,
          -0.01813396037785255,
          null,
          -0.01813396037785255,
          -0.040316897514487374,
          null,
          -0.01813396037785255,
          -0.011905417833421398,
          null,
          -0.01813396037785255,
          -0.013581449186665361,
          null,
          -0.01813396037785255,
          0.004039491831985023,
          null,
          -0.013581449186665361,
          -0.011905417833421398,
          null,
          -0.013581449186665361,
          -0.01813396037785255,
          null,
          0.021277770068157835,
          -0.011905417833421398,
          null,
          0.004039491831985023,
          -0.011905417833421398,
          null,
          0.004039491831985023,
          -0.01813396037785255,
          null,
          0.5018952459978308,
          0.44099471201317386,
          null,
          0.5018952459978308,
          0.5989788624154427,
          null,
          0.44099471201317386,
          0.5018952459978308,
          null,
          0.5284385382945074,
          0.5161311915822289,
          null,
          0.5161311915822289,
          0.5284385382945074,
          null,
          0.6540889099411513,
          0.8802980423432112,
          null,
          0.8630394449130396,
          0.825512239873792,
          null,
          0.825512239873792,
          0.8630394449130396,
          null,
          0.20351591579393105,
          0.19313259118217738,
          null,
          0.19313259118217738,
          0.20351591579393105,
          null,
          -0.6881438037998946,
          -0.7613835401751878,
          null,
          -0.6881438037998946,
          -0.853908066626158,
          null,
          -0.6881438037998946,
          -0.7806332128241931,
          null,
          -0.7613835401751878,
          -0.853908066626158,
          null,
          -0.7806332128241931,
          -0.853908066626158,
          null,
          0.9526580502696366,
          1,
          null,
          1,
          0.9526580502696366,
          null,
          -0.6655061780129038,
          -0.8439741195265529,
          null,
          -0.6655061780129038,
          -0.5721540717142674,
          null,
          -0.6655061780129038,
          -0.853908066626158,
          null,
          -0.6655061780129038,
          -0.7341136309492647,
          null,
          -0.6655061780129038,
          -0.45611314107803674,
          null,
          -0.8439741195265529,
          -0.853908066626158,
          null,
          -0.5721540717142674,
          -0.6655061780129038,
          null,
          -0.5721540717142674,
          -0.853908066626158,
          null,
          -0.5721540717142674,
          -0.7341136309492647,
          null,
          -0.7341136309492647,
          -0.853908066626158,
          null,
          -0.45611314107803674,
          -0.5054731012180544,
          null,
          -0.45611314107803674,
          -0.5365621219696876,
          null,
          -0.45611314107803674,
          -0.49126399749643573,
          null,
          -0.6210021994158837,
          -0.7341136309492647,
          null,
          -0.6210021994158837,
          -0.5358517809566182,
          null,
          -0.5358517809566182,
          -0.6210021994158837,
          null,
          -0.76501644156757,
          -0.853908066626158,
          null,
          -0.6963489352125826,
          -0.7613835401751878,
          null,
          -0.6963489352125826,
          -0.853908066626158,
          null,
          -0.6963489352125826,
          -0.6683690105929573,
          null,
          -0.6963489352125826,
          -0.700642884645096,
          null,
          -0.7072407256859744,
          -0.7613835401751878,
          null,
          -0.7072407256859744,
          -0.853908066626158,
          null,
          -0.635806145483403,
          -0.7613835401751878,
          null,
          -0.635806145483403,
          -0.853908066626158,
          null,
          -0.7252016214546265,
          -0.7613835401751878,
          null,
          -0.7252016214546265,
          -0.853908066626158,
          null,
          -0.7252016214546265,
          -0.7806332128241931,
          null,
          -0.6683690105929573,
          -0.6963489352125826,
          null,
          -0.6683690105929573,
          -0.853908066626158,
          null,
          -0.6683690105929573,
          -0.700642884645096,
          null,
          -0.700642884645096,
          -0.853908066626158,
          null,
          -0.6391055778404748,
          -0.853908066626158,
          null,
          -0.780239150774605,
          -0.853908066626158,
          null,
          -0.5872619440936923,
          -0.780239150774605,
          null,
          -0.5872619440936923,
          -0.45611314107803674,
          null,
          -0.5872619440936923,
          -0.5365621219696876,
          null,
          -0.5872619440936923,
          -0.5205410388337623,
          null,
          -0.3395238108066493,
          -0.31693338649686187,
          null,
          -0.13960653028846534,
          -0.13688239961274049,
          null,
          -0.13688239961274049,
          -0.13960653028846534,
          null,
          -0.4636503020648751,
          -0.5054731012180544,
          null,
          -0.4636503020648751,
          -0.45611314107803674,
          null,
          -0.4636503020648751,
          -0.5023861407089881,
          null,
          -0.4636503020648751,
          -0.5365621219696876,
          null,
          -0.4636503020648751,
          -0.5205410388337623,
          null,
          -0.4636503020648751,
          -0.49126399749643573,
          null,
          -0.4636503020648751,
          -0.4825761451755829,
          null,
          -0.5054731012180544,
          -0.5023861407089881,
          null,
          -0.5054731012180544,
          -0.5221575222499732,
          null,
          -0.5054731012180544,
          -0.5365621219696876,
          null,
          -0.5054731012180544,
          -0.5205410388337623,
          null,
          -0.5054731012180544,
          -0.49126399749643573,
          null,
          -0.5023861407089881,
          -0.5054731012180544,
          null,
          -0.5023861407089881,
          -0.5221575222499732,
          null,
          -0.5023861407089881,
          -0.5365621219696876,
          null,
          -0.5023861407089881,
          -0.5205410388337623,
          null,
          -0.5023861407089881,
          -0.49126399749643573,
          null,
          -0.5023861407089881,
          -0.4986366749718338,
          null,
          -0.5154986467413434,
          -0.5054731012180544,
          null,
          -0.5154986467413434,
          -0.5023861407089881,
          null,
          -0.5154986467413434,
          -0.5365621219696876,
          null,
          -0.5154986467413434,
          -0.5205410388337623,
          null,
          -0.5154986467413434,
          -0.49126399749643573,
          null,
          -0.5154986467413434,
          -0.4986366749718338,
          null,
          -0.5221575222499732,
          -0.5054731012180544,
          null,
          -0.5221575222499732,
          -0.5023861407089881,
          null,
          -0.5221575222499732,
          -0.5365621219696876,
          null,
          -0.5221575222499732,
          -0.5205410388337623,
          null,
          -0.5221575222499732,
          -0.49126399749643573,
          null,
          -0.5365621219696876,
          -0.5054731012180544,
          null,
          -0.5365621219696876,
          -0.5221575222499732,
          null,
          -0.5205410388337623,
          -0.5054731012180544,
          null,
          -0.5205410388337623,
          -0.5023861407089881,
          null,
          -0.5205410388337623,
          -0.5365621219696876,
          null,
          -0.5205410388337623,
          -0.49126399749643573,
          null,
          -0.5205410388337623,
          -0.4986366749718338,
          null,
          -0.49126399749643573,
          -0.5054731012180544,
          null,
          -0.49126399749643573,
          -0.45611314107803674,
          null,
          -0.49126399749643573,
          -0.5023861407089881,
          null,
          -0.49126399749643573,
          -0.5221575222499732,
          null,
          -0.49126399749643573,
          -0.5365621219696876,
          null,
          -0.49126399749643573,
          -0.5205410388337623,
          null,
          -0.4825761451755829,
          -0.5054731012180544,
          null,
          -0.4825761451755829,
          -0.4636503020648751,
          null,
          -0.4825761451755829,
          -0.45611314107803674,
          null,
          -0.4825761451755829,
          -0.5365621219696876,
          null,
          -0.4825761451755829,
          -0.5205410388337623,
          null,
          -0.4825761451755829,
          -0.49126399749643573,
          null,
          -0.4986366749718338,
          -0.5054731012180544,
          null,
          -0.4986366749718338,
          -0.5023861407089881,
          null,
          -0.4986366749718338,
          -0.5365621219696876,
          null,
          -0.4986366749718338,
          -0.5205410388337623,
          null,
          -0.4986366749718338,
          -0.49126399749643573,
          null,
          0.798775451714508,
          0.8339638159488612,
          null,
          0.7635638814750242,
          0.8339638159488612,
          null,
          0.3289689865419406,
          0.34247841059773926,
          null,
          0.34247841059773926,
          0.3289689865419406,
          null,
          -0.1494547720402969,
          -0.13900892600663964,
          null,
          0.3724357209450018,
          0.35551412940907856,
          null,
          0.35551412940907856,
          0.3724357209450018,
          null,
          0.7594381937012668,
          0.7406275547185165,
          null,
          0.7406275547185165,
          0.7594381937012668,
          null,
          0.7217191853362027,
          0.7169241905353455,
          null,
          0.7217191853362027,
          0.7464053269583789,
          null,
          0.7169241905353455,
          0.7217191853362027,
          null,
          0.7169241905353455,
          0.7376441872845024,
          null,
          0.7169241905353455,
          0.7464053269583789,
          null,
          0.7376441872845024,
          0.7169241905353455,
          null,
          0.7376441872845024,
          0.7217191853362027,
          null,
          0.7376441872845024,
          0.7464053269583789,
          null,
          0.7464053269583789,
          0.7169241905353455,
          null,
          0.7464053269583789,
          0.7217191853362027,
          null,
          0.6766961993470191,
          0.6990423990477119,
          null,
          0.6766961993470191,
          0.6746073993280827,
          null,
          0.6990423990477119,
          0.6766961993470191,
          null,
          0.6990423990477119,
          0.6746073993280827,
          null,
          0.6746073993280827,
          0.6990423990477119,
          null,
          0.6746073993280827,
          0.6766961993470191,
          null,
          0.07252942071478147,
          0.086195297584803,
          null,
          0.07252942071478147,
          0.06491020834819831,
          null,
          0.5514871562077497,
          0.5989788624154427,
          null,
          -0.01428677218594224,
          -0.019359882921104386,
          null,
          -0.019359882921104386,
          -0.01428677218594224,
          null,
          0.06491020834819831,
          0.07252942071478147,
          null,
          0.3986996847987763,
          0.4206809178067951,
          null,
          0.3986996847987763,
          0.3748558738089633,
          null,
          0.4206809178067951,
          0.3986996847987763,
          null,
          0.3748558738089633,
          0.3986996847987763,
          null,
          0.8272941116602716,
          0.8614429890037797,
          null,
          0.8614429890037797,
          0.8272941116602716,
          null,
          -0.22087212551859442,
          -0.29017853107309044,
          null,
          -0.2555311587049779,
          -0.29017853107309044,
          null,
          0.03366595021341837,
          0.05322909694881254,
          null,
          0.05322909694881254,
          0.03366595021341837,
          null,
          0.589574280454212,
          0.7419828289049119,
          null,
          0.589574280454212,
          0.4899520697784111,
          null,
          0.4899520697784111,
          0.589574280454212,
          null,
          -0.8066484399563487,
          -0.7597938930213537,
          null,
          -0.7597938930213537,
          -0.8066484399563487,
          null,
          -0.012356211805164738,
          -0.025667067458547705,
          null,
          -0.025667067458547705,
          -0.012356211805164738,
          null,
          -0.3646951806306202,
          -0.41729631588699806,
          null,
          -0.20082805714245314,
          -0.196374007973244,
          null,
          -0.20082805714245314,
          -0.19624297104978716,
          null,
          -0.196374007973244,
          -0.19624297104978716,
          null,
          -0.19624297104978716,
          -0.196374007973244,
          null,
          -0.10499031825727353,
          -0.08832744470828034,
          null,
          -0.10499031825727353,
          -0.10480680704152136,
          null,
          -0.08832744470828034,
          -0.10499031825727353,
          null,
          -0.08832744470828034,
          -0.10480680704152136,
          null,
          -0.10480680704152136,
          -0.10499031825727353,
          null,
          -0.10480680704152136,
          -0.08832744470828034,
          null,
          -0.3343382477356856,
          -0.3249748156058285,
          null,
          -0.3780360667400651,
          -0.3416755927510671,
          null,
          -0.39037616194414143,
          -0.35031698706066017,
          null,
          -0.5484569852908939,
          -0.6315189634222214,
          null,
          -0.537718319531787,
          -0.6238801243016758,
          null,
          -0.6714274935898707,
          -0.6129013569916812,
          null,
          -0.6714274935898707,
          -0.7624173876849096,
          null,
          -0.5473821826020486,
          -0.6315189634222214,
          null,
          -0.5801227827548618,
          -0.6238801243016758,
          null,
          -0.6152732199765746,
          -0.7613835401751878,
          null,
          -0.6624226609700694,
          -0.853908066626158,
          null,
          -0.5681293146680257,
          -0.7072407256859744,
          null,
          -0.5005563175011035,
          -0.5023861407089881,
          null,
          -0.5005563175011035,
          -0.5365621219696876,
          null,
          -0.4578235195135041,
          -0.5054731012180544,
          null,
          -0.4578235195135041,
          -0.5365621219696876,
          null,
          -0.4362764970176961,
          -0.5221575222499732,
          null,
          -0.4362764970176961,
          -0.5365621219696876,
          null,
          -0.41827931786903827,
          -0.5023861407089881,
          null,
          -0.41827931786903827,
          -0.5221575222499732,
          null,
          -0.41827931786903827,
          -0.5205410388337623,
          null,
          -0.41827931786903827,
          -0.49126399749643573,
          null,
          -0.4722140240414643,
          -0.5054731012180544,
          null,
          -0.4722140240414643,
          -0.5221575222499732,
          null,
          -0.45907203072253844,
          -0.5054731012180544,
          null,
          -0.45907203072253844,
          -0.5023861407089881,
          null,
          -0.45907203072253844,
          -0.49126399749643573,
          null,
          -0.5170338247599067,
          -0.5054731012180544,
          null,
          -0.5290182958045626,
          -0.5365621219696876,
          null,
          -0.44317960230658265,
          -0.5054731012180544,
          null,
          -0.44317960230658265,
          -0.5221575222499732,
          null,
          -0.4201767500077168,
          -0.5365621219696876,
          null,
          -0.46768769008368793,
          -0.5365621219696876,
          null
         ],
         "y": [
          0.3870943348204805,
          0.4116923015707179,
          null,
          0.3870943348204805,
          0.49956307553835655,
          null,
          0.4116923015707179,
          0.44190533318382985,
          null,
          0.4116923015707179,
          0.49956307553835655,
          null,
          0.426641307294447,
          0.4116923015707179,
          null,
          0.426641307294447,
          0.44190533318382985,
          null,
          0.426641307294447,
          0.49956307553835655,
          null,
          0.44190533318382985,
          0.4116923015707179,
          null,
          0.44190533318382985,
          0.49956307553835655,
          null,
          0.5829760867964432,
          0.6381212904625582,
          null,
          0.5829760867964432,
          0.6555177890928339,
          null,
          0.6381212904625582,
          0.6488311483970897,
          null,
          0.6381212904625582,
          0.6555177890928339,
          null,
          0.6555177890928339,
          0.6381212904625582,
          null,
          0.6555177890928339,
          0.6235562501537489,
          null,
          0.6555177890928339,
          0.6488311483970897,
          null,
          0.6235562501537489,
          0.6381212904625582,
          null,
          0.6235562501537489,
          0.6488311483970897,
          null,
          0.6235562501537489,
          0.6555177890928339,
          null,
          0.6216967738677476,
          0.6381212904625582,
          null,
          0.6216967738677476,
          0.6555177890928339,
          null,
          0.6488311483970897,
          0.6381212904625582,
          null,
          0.6488311483970897,
          0.6235562501537489,
          null,
          0.6488311483970897,
          0.6555177890928339,
          null,
          0.9599981486739639,
          0.9182090764359395,
          null,
          -0.546371114257233,
          -0.48712942792411473,
          null,
          -0.546371114257233,
          -0.5904988892726221,
          null,
          -0.546371114257233,
          -0.5824368808612673,
          null,
          -0.48712942792411473,
          -0.546371114257233,
          null,
          -0.28092516415658925,
          -0.37430384974934316,
          null,
          -0.7579088606401536,
          -0.7771083585035804,
          null,
          -0.7771083585035804,
          -0.7579088606401536,
          null,
          0.4811301928248984,
          0.5025055632922211,
          null,
          0.5025055632922211,
          0.4811301928248984,
          null,
          -0.5570281213156921,
          -0.5332417360432229,
          null,
          -0.5332417360432229,
          -0.5570281213156921,
          null,
          -0.3089152852217582,
          -0.33083345680486625,
          null,
          -0.33083345680486625,
          -0.3089152852217582,
          null,
          0.7848216592895761,
          0.8525622353477208,
          null,
          0.04954368213351156,
          0.06572608479530738,
          null,
          0.06572608479530738,
          0.06750753362589024,
          null,
          0.06572608479530738,
          0.06758706990125557,
          null,
          0.06572608479530738,
          0.05590787167712991,
          null,
          0.06572608479530738,
          0.06904003153363397,
          null,
          0.06572608479530738,
          0.0816025944630677,
          null,
          0.06750753362589024,
          0.06758706990125557,
          null,
          0.06750753362589024,
          0.06572608479530738,
          null,
          0.06750753362589024,
          0.06904003153363397,
          null,
          0.06758706990125557,
          0.06750753362589024,
          null,
          0.06758706990125557,
          0.06572608479530738,
          null,
          0.06758706990125557,
          0.06904003153363397,
          null,
          0.06758706990125557,
          0.0816025944630677,
          null,
          0.06904003153363397,
          0.06750753362589024,
          null,
          0.06904003153363397,
          0.06758706990125557,
          null,
          0.06904003153363397,
          0.06572608479530738,
          null,
          0.06904003153363397,
          0.0816025944630677,
          null,
          0.0816025944630677,
          0.06758706990125557,
          null,
          0.0816025944630677,
          0.06572608479530738,
          null,
          0.0816025944630677,
          0.06904003153363397,
          null,
          -0.6610919418056417,
          -0.6358743502695466,
          null,
          -0.6358743502695466,
          -0.6610919418056417,
          null,
          0.2944148487901717,
          0.2887311951377334,
          null,
          0.2944148487901717,
          0.3097871400968791,
          null,
          0.2944148487901717,
          0.27219997068686475,
          null,
          0.2887311951377334,
          0.2944148487901717,
          null,
          0.2887311951377334,
          0.33651561637704647,
          null,
          0.2887311951377334,
          0.3097871400968791,
          null,
          0.3097871400968791,
          0.2944148487901717,
          null,
          0.3097871400968791,
          0.2887311951377334,
          null,
          0.3097871400968791,
          0.33651561637704647,
          null,
          0.30615077024244225,
          0.2944148487901717,
          null,
          0.30615077024244225,
          0.27219997068686475,
          null,
          0.27219997068686475,
          0.2944148487901717,
          null,
          0.12422754884234458,
          0.11829303046233666,
          null,
          0.11829303046233666,
          0.12422754884234458,
          null,
          0.11829303046233666,
          0.11302714094212518,
          null,
          0.11302714094212518,
          0.11829303046233666,
          null,
          -0.09610175196610353,
          -0.11447936543450164,
          null,
          -0.09610175196610353,
          -0.12239608387074245,
          null,
          -0.11447936543450164,
          -0.09610175196610353,
          null,
          -0.11447936543450164,
          -0.12239608387074245,
          null,
          -0.11447936543450164,
          -0.15319623486994494,
          null,
          -0.12239608387074245,
          -0.11447936543450164,
          null,
          -0.12239608387074245,
          -0.09610175196610353,
          null,
          -0.12239608387074245,
          -0.15319623486994494,
          null,
          -0.6296951027884938,
          -0.6602878243006512,
          null,
          -0.6602878243006512,
          -0.6296951027884938,
          null,
          0.6371822167333618,
          0.6585465049940761,
          null,
          0.6585465049940761,
          0.6371822167333618,
          null,
          -0.5904988892726221,
          -0.546371114257233,
          null,
          -0.8042187472507306,
          -0.8394259760026835,
          null,
          -0.8394259760026835,
          -0.8042187472507306,
          null,
          0.19275609927387202,
          0.21464092856061048,
          null,
          0.19275609927387202,
          0.2697332682010102,
          null,
          0.19275609927387202,
          0.22637766834813083,
          null,
          0.19275609927387202,
          0.22208924976136718,
          null,
          0.21464092856061048,
          0.19275609927387202,
          null,
          0.21464092856061048,
          0.2697332682010102,
          null,
          0.21464092856061048,
          0.22637766834813083,
          null,
          0.21464092856061048,
          0.20072212927337213,
          null,
          0.22637766834813083,
          0.21464092856061048,
          null,
          0.22637766834813083,
          0.19275609927387202,
          null,
          0.22637766834813083,
          0.2697332682010102,
          null,
          0.22637766834813083,
          0.22083319355373415,
          null,
          0.4938758453224742,
          0.49979667719109283,
          null,
          0.4938758453224742,
          0.527004246260392,
          null,
          0.4938758453224742,
          0.503272253816299,
          null,
          0.4938758453224742,
          0.4789531871555234,
          null,
          0.49979667719109283,
          0.4938758453224742,
          null,
          0.49979667719109283,
          0.503272253816299,
          null,
          0.503272253816299,
          0.49979667719109283,
          null,
          0.503272253816299,
          0.4938758453224742,
          null,
          0.503272253816299,
          0.527004246260392,
          null,
          0.503272253816299,
          0.4789531871555234,
          null,
          0.527004246260392,
          0.4938758453224742,
          null,
          0.527004246260392,
          0.503272253816299,
          null,
          0.5133902567977799,
          0.4938758453224742,
          null,
          0.4789531871555234,
          0.4938758453224742,
          null,
          0.4789531871555234,
          0.503272253816299,
          null,
          0.6948261065208768,
          0.5924204280940257,
          null,
          0.6948261065208768,
          0.8525622353477208,
          null,
          0.5924204280940257,
          0.6948261065208768,
          null,
          0.6776898466018502,
          0.6996570080436454,
          null,
          0.6996570080436454,
          0.6776898466018502,
          null,
          0.25777327846085285,
          0.33651561637704647,
          null,
          -0.2516640566527929,
          -0.23653028246641408,
          null,
          -0.23653028246641408,
          -0.2516640566527929,
          null,
          0.7794365079895614,
          0.7426443531437944,
          null,
          0.7426443531437944,
          0.7794365079895614,
          null,
          0.06672601053381627,
          0.07382922134755258,
          null,
          0.06672601053381627,
          0.05590787167712991,
          null,
          0.06672601053381627,
          0.05348299239399189,
          null,
          0.07382922134755258,
          0.05590787167712991,
          null,
          0.05348299239399189,
          0.05590787167712991,
          null,
          -0.10757290597632736,
          -0.11158054005185528,
          null,
          -0.11158054005185528,
          -0.10757290597632736,
          null,
          -0.06303026200656582,
          0.08935845341516428,
          null,
          -0.06303026200656582,
          0.050526038940982156,
          null,
          -0.06303026200656582,
          0.05590787167712991,
          null,
          -0.06303026200656582,
          0.07632712992193968,
          null,
          -0.06303026200656582,
          -0.3506876361186068,
          null,
          0.08935845341516428,
          0.05590787167712991,
          null,
          0.050526038940982156,
          -0.06303026200656582,
          null,
          0.050526038940982156,
          0.05590787167712991,
          null,
          0.050526038940982156,
          0.07632712992193968,
          null,
          0.07632712992193968,
          0.05590787167712991,
          null,
          -0.3506876361186068,
          -0.4181332308906787,
          null,
          -0.3506876361186068,
          -0.44203484186246167,
          null,
          -0.3506876361186068,
          -0.4026101841578314,
          null,
          0.11873728554003528,
          0.07632712992193968,
          null,
          0.11873728554003528,
          0.14632927569577692,
          null,
          0.14632927569577692,
          0.11873728554003528,
          null,
          0.044147765340233194,
          0.05590787167712991,
          null,
          0.060809910088862315,
          0.07382922134755258,
          null,
          0.060809910088862315,
          0.05590787167712991,
          null,
          0.060809910088862315,
          0.05240726237477351,
          null,
          0.060809910088862315,
          0.044651706746672584,
          null,
          0.07643632175734143,
          0.07382922134755258,
          null,
          0.07643632175734143,
          0.05590787167712991,
          null,
          0.07198836066710855,
          0.07382922134755258,
          null,
          0.07198836066710855,
          0.05590787167712991,
          null,
          0.05998571793368486,
          0.07382922134755258,
          null,
          0.05998571793368486,
          0.05590787167712991,
          null,
          0.05998571793368486,
          0.05348299239399189,
          null,
          0.05240726237477351,
          0.060809910088862315,
          null,
          0.05240726237477351,
          0.05590787167712991,
          null,
          0.05240726237477351,
          0.044651706746672584,
          null,
          0.044651706746672584,
          0.05590787167712991,
          null,
          0.05106002275951108,
          0.05590787167712991,
          null,
          0.07912939660623952,
          0.05590787167712991,
          null,
          -0.21245329607043983,
          0.07912939660623952,
          null,
          -0.21245329607043983,
          -0.3506876361186068,
          null,
          -0.21245329607043983,
          -0.44203484186246167,
          null,
          -0.21245329607043983,
          -0.39540859856035987,
          null,
          -0.5824368808612673,
          -0.546371114257233,
          null,
          0.804912926518583,
          0.7626896979652966,
          null,
          0.7626896979652966,
          0.804912926518583,
          null,
          -0.3375587837092602,
          -0.4181332308906787,
          null,
          -0.3375587837092602,
          -0.3506876361186068,
          null,
          -0.3375587837092602,
          -0.39639355821848143,
          null,
          -0.3375587837092602,
          -0.44203484186246167,
          null,
          -0.3375587837092602,
          -0.39540859856035987,
          null,
          -0.3375587837092602,
          -0.4026101841578314,
          null,
          -0.3375587837092602,
          -0.3714029772428652,
          null,
          -0.4181332308906787,
          -0.39639355821848143,
          null,
          -0.4181332308906787,
          -0.41414969242008143,
          null,
          -0.4181332308906787,
          -0.44203484186246167,
          null,
          -0.4181332308906787,
          -0.39540859856035987,
          null,
          -0.4181332308906787,
          -0.4026101841578314,
          null,
          -0.39639355821848143,
          -0.4181332308906787,
          null,
          -0.39639355821848143,
          -0.41414969242008143,
          null,
          -0.39639355821848143,
          -0.44203484186246167,
          null,
          -0.39639355821848143,
          -0.39540859856035987,
          null,
          -0.39639355821848143,
          -0.4026101841578314,
          null,
          -0.39639355821848143,
          -0.38524328283196957,
          null,
          -0.3881497586085346,
          -0.4181332308906787,
          null,
          -0.3881497586085346,
          -0.39639355821848143,
          null,
          -0.3881497586085346,
          -0.44203484186246167,
          null,
          -0.3881497586085346,
          -0.39540859856035987,
          null,
          -0.3881497586085346,
          -0.4026101841578314,
          null,
          -0.3881497586085346,
          -0.38524328283196957,
          null,
          -0.41414969242008143,
          -0.4181332308906787,
          null,
          -0.41414969242008143,
          -0.39639355821848143,
          null,
          -0.41414969242008143,
          -0.44203484186246167,
          null,
          -0.41414969242008143,
          -0.39540859856035987,
          null,
          -0.41414969242008143,
          -0.4026101841578314,
          null,
          -0.44203484186246167,
          -0.4181332308906787,
          null,
          -0.44203484186246167,
          -0.41414969242008143,
          null,
          -0.39540859856035987,
          -0.4181332308906787,
          null,
          -0.39540859856035987,
          -0.39639355821848143,
          null,
          -0.39540859856035987,
          -0.44203484186246167,
          null,
          -0.39540859856035987,
          -0.4026101841578314,
          null,
          -0.39540859856035987,
          -0.38524328283196957,
          null,
          -0.4026101841578314,
          -0.4181332308906787,
          null,
          -0.4026101841578314,
          -0.3506876361186068,
          null,
          -0.4026101841578314,
          -0.39639355821848143,
          null,
          -0.4026101841578314,
          -0.41414969242008143,
          null,
          -0.4026101841578314,
          -0.44203484186246167,
          null,
          -0.4026101841578314,
          -0.39540859856035987,
          null,
          -0.3714029772428652,
          -0.4181332308906787,
          null,
          -0.3714029772428652,
          -0.3375587837092602,
          null,
          -0.3714029772428652,
          -0.3506876361186068,
          null,
          -0.3714029772428652,
          -0.44203484186246167,
          null,
          -0.3714029772428652,
          -0.39540859856035987,
          null,
          -0.3714029772428652,
          -0.4026101841578314,
          null,
          -0.38524328283196957,
          -0.4181332308906787,
          null,
          -0.38524328283196957,
          -0.39639355821848143,
          null,
          -0.38524328283196957,
          -0.44203484186246167,
          null,
          -0.38524328283196957,
          -0.39540859856035987,
          null,
          -0.38524328283196957,
          -0.4026101841578314,
          null,
          0.48959310309745746,
          0.49956307553835655,
          null,
          0.45866149735905637,
          0.49956307553835655,
          null,
          0.6877130623199373,
          0.7216598399115086,
          null,
          0.7216598399115086,
          0.6877130623199373,
          null,
          -0.8536525337707672,
          -0.825330228158441,
          null,
          -0.7755587397229579,
          -0.7353869436167259,
          null,
          -0.7353869436167259,
          -0.7755587397229579,
          null,
          -0.03886368349270771,
          -0.02636562033822859,
          null,
          -0.02636562033822859,
          -0.03886368349270771,
          null,
          -0.4182800313421101,
          -0.39365220339254897,
          null,
          -0.4182800313421101,
          -0.4189404125839611,
          null,
          -0.39365220339254897,
          -0.4182800313421101,
          null,
          -0.39365220339254897,
          -0.39657046851426675,
          null,
          -0.39365220339254897,
          -0.4189404125839611,
          null,
          -0.39657046851426675,
          -0.39365220339254897,
          null,
          -0.39657046851426675,
          -0.4182800313421101,
          null,
          -0.39657046851426675,
          -0.4189404125839611,
          null,
          -0.4189404125839611,
          -0.39365220339254897,
          null,
          -0.4189404125839611,
          -0.4182800313421101,
          null,
          -0.5422758160577179,
          -0.5406992170858799,
          null,
          -0.5422758160577179,
          -0.5194213022794388,
          null,
          -0.5406992170858799,
          -0.5422758160577179,
          null,
          -0.5406992170858799,
          -0.5194213022794388,
          null,
          -0.5194213022794388,
          -0.5406992170858799,
          null,
          -0.5194213022794388,
          -0.5422758160577179,
          null,
          0.6630627978087222,
          0.8262547688787033,
          null,
          0.6630627978087222,
          0.5375140386722354,
          null,
          0.7918476724772341,
          0.8525622353477208,
          null,
          -0.7112731769072068,
          -0.6724403601280443,
          null,
          -0.6724403601280443,
          -0.7112731769072068,
          null,
          0.5375140386722354,
          0.6630627978087222,
          null,
          -0.665676638848158,
          -0.6981262389701567,
          null,
          -0.665676638848158,
          -0.629325887441234,
          null,
          -0.6981262389701567,
          -0.665676638848158,
          null,
          -0.629325887441234,
          -0.665676638848158,
          null,
          0.17751626838328022,
          0.18674441924180146,
          null,
          0.18674441924180146,
          0.17751626838328022,
          null,
          0.6496522840634714,
          0.8556934421338812,
          null,
          0.749418006614758,
          0.8556934421338812,
          null,
          -0.8322517748937998,
          -0.8440464717443937,
          null,
          -0.8440464717443937,
          -0.8322517748937998,
          null,
          -0.5428256964233682,
          -0.7046319033281848,
          null,
          -0.5428256964233682,
          -0.43736296357799975,
          null,
          -0.43736296357799975,
          -0.5428256964233682,
          null,
          -0.16081011606713705,
          -0.14036554246173338,
          null,
          -0.14036554246173338,
          -0.16081011606713705,
          null,
          0.8677651459608764,
          0.8865415523354733,
          null,
          0.8865415523354733,
          0.8677651459608764,
          null,
          -0.6511947735655911,
          -0.7606076335463489,
          null,
          -0.5022173705518972,
          -0.5569905986716623,
          null,
          -0.5022173705518972,
          -0.5959030792444137,
          null,
          -0.5569905986716623,
          -0.5959030792444137,
          null,
          -0.5959030792444137,
          -0.5569905986716623,
          null,
          -0.6465564871676018,
          -0.6306470609795304,
          null,
          -0.6465564871676018,
          -0.6155515468982062,
          null,
          -0.6306470609795304,
          -0.6465564871676018,
          null,
          -0.6306470609795304,
          -0.6155515468982062,
          null,
          -0.6155515468982062,
          -0.6465564871676018,
          null,
          -0.6155515468982062,
          -0.6306470609795304,
          null,
          0.6979576897372591,
          0.6488311483970897,
          null,
          0.6691804243336865,
          0.6555177890928339,
          null,
          0.6151430207664852,
          0.6381212904625582,
          null,
          0.22083319355373415,
          0.22637766834813083,
          null,
          0.20072212927337213,
          0.21464092856061048,
          null,
          0.22208924976136718,
          0.19275609927387202,
          null,
          0.22208924976136718,
          0.2697332682010102,
          null,
          0.19137336526856424,
          0.22637766834813083,
          null,
          0.24007672045790943,
          0.21464092856061048,
          null,
          0.08772199657769555,
          0.07382922134755258,
          null,
          0.06833563366766436,
          0.05590787167712991,
          null,
          0.08983717715002539,
          0.07643632175734143,
          null,
          -0.3619099461075709,
          -0.39639355821848143,
          null,
          -0.3619099461075709,
          -0.44203484186246167,
          null,
          -0.3284402937607067,
          -0.4181332308906787,
          null,
          -0.3284402937607067,
          -0.44203484186246167,
          null,
          -0.2987498845826204,
          -0.41414969242008143,
          null,
          -0.2987498845826204,
          -0.44203484186246167,
          null,
          -0.2821353425281812,
          -0.39639355821848143,
          null,
          -0.2821353425281812,
          -0.41414969242008143,
          null,
          -0.2821353425281812,
          -0.39540859856035987,
          null,
          -0.2821353425281812,
          -0.4026101841578314,
          null,
          -0.35627131097959763,
          -0.4181332308906787,
          null,
          -0.35627131097959763,
          -0.41414969242008143,
          null,
          -0.37911875236315057,
          -0.4181332308906787,
          null,
          -0.37911875236315057,
          -0.39639355821848143,
          null,
          -0.37911875236315057,
          -0.4026101841578314,
          null,
          -0.3561439352885218,
          -0.4181332308906787,
          null,
          -0.35007461173135024,
          -0.44203484186246167,
          null,
          -0.3263643742461852,
          -0.4181332308906787,
          null,
          -0.3263643742461852,
          -0.41414969242008143,
          null,
          -0.2937254175386448,
          -0.44203484186246167,
          null,
          -0.4086965725593089,
          -0.44203484186246167,
          null
         ]
        },
        {
         "hoverinfo": "text",
         "marker": {
          "color": [
           "blue",
           "blue",
           "blue",
           "blue",
           "green",
           "blue",
           "green",
           "green",
           "blue",
           "blue",
           "green",
           "blue",
           "green",
           "green",
           "blue",
           "blue",
           "green",
           "green",
           "blue",
           "green",
           "blue",
           "green",
           "blue",
           "green",
           "blue",
           "blue",
           "green",
           "blue",
           "blue",
           "blue",
           "blue",
           "blue",
           "green",
           "green",
           "blue",
           "green",
           "blue",
           "blue",
           "blue",
           "green",
           "green",
           "blue",
           "green",
           "green",
           "blue",
           "blue",
           "green",
           "green",
           "blue",
           "green",
           "blue",
           "green",
           "green",
           "blue",
           "blue",
           "green",
           "green",
           "green",
           "blue",
           "blue",
           "green",
           "blue",
           "blue",
           "blue",
           "blue",
           "blue",
           "green",
           "blue",
           "green",
           "blue",
           "green",
           "blue",
           "green",
           "blue",
           "blue",
           "green",
           "green",
           "green",
           "green",
           "blue",
           "blue",
           "blue",
           "blue",
           "blue",
           "green",
           "blue",
           "green",
           "blue",
           "blue",
           "green",
           "blue",
           "blue",
           "blue",
           "green",
           "blue",
           "green",
           "blue",
           "blue",
           "green",
           "blue",
           "green",
           "green",
           "green",
           "blue",
           "green",
           "green",
           "green",
           "green",
           "blue",
           "blue",
           "blue",
           "blue",
           "green",
           "blue",
           "blue",
           "green",
           "green",
           "blue",
           "green",
           "blue",
           "green",
           "blue",
           "blue",
           "green",
           "green",
           "green",
           "blue",
           "green",
           "green",
           "blue",
           "green",
           "blue",
           "blue",
           "green",
           "blue",
           "blue",
           "green",
           "blue",
           "blue",
           "green",
           "blue",
           "green",
           "blue",
           "green",
           "green",
           "blue",
           "green",
           "blue",
           "green",
           "blue",
           "blue",
           "green",
           "blue",
           "green",
           "blue",
           "green",
           "blue",
           "green",
           "blue",
           "blue",
           "blue",
           "green",
           "green",
           "blue",
           "blue",
           "blue",
           "blue",
           "blue",
           "blue",
           "blue",
           "blue",
           "blue",
           "blue",
           "blue",
           "blue",
           "blue",
           "blue",
           "blue",
           "blue",
           "blue"
          ],
          "colorbar": {
           "thickness": 15,
           "title": {
            "side": "right",
            "text": "Node Connections"
           },
           "xanchor": "left"
          },
          "colorscale": [
           [
            0,
            "rgb(255,255,217)"
           ],
           [
            0.125,
            "rgb(237,248,177)"
           ],
           [
            0.25,
            "rgb(199,233,180)"
           ],
           [
            0.375,
            "rgb(127,205,187)"
           ],
           [
            0.5,
            "rgb(65,182,196)"
           ],
           [
            0.625,
            "rgb(29,145,192)"
           ],
           [
            0.75,
            "rgb(34,94,168)"
           ],
           [
            0.875,
            "rgb(37,52,148)"
           ],
           [
            1,
            "rgb(8,29,88)"
           ]
          ],
          "showscale": true,
          "size": 10
         },
         "mode": "markers",
         "text": [
          "Node: frozenset({'72 SWEETHEART FAIRY CAKE CASES'})",
          "Node: frozenset({'60 TEATIME FAIRY CAKE CASES'})",
          "Node: frozenset({'PACK OF 60 DINOSAUR CAKE CASES'})",
          "Node: frozenset({'PACK OF 60 PINK PAISLEY CAKE CASES'})",
          "Node: frozenset({'PACK OF 72 RETROSPOT CAKE CASES'})",
          "Node: frozenset({'ALARM CLOCK BAKELIKE CHOCOLATE'})",
          "Node: frozenset({'ALARM CLOCK BAKELIKE GREEN'})",
          "Node: frozenset({'ALARM CLOCK BAKELIKE RED'})",
          "Node: frozenset({'ALARM CLOCK BAKELIKE IVORY'})",
          "Node: frozenset({'ALARM CLOCK BAKELIKE ORANGE'})",
          "Node: frozenset({'ALARM CLOCK BAKELIKE PINK'})",
          "Node: frozenset({'PAINTED METAL PEARS ASSORTED'})",
          "Node: frozenset({'ASSORTED COLOUR BIRD ORNAMENT'})",
          "Node: frozenset({'KEY FOB '})",
          "Node: frozenset({'BACK DOOR'})",
          "Node: frozenset({'BAKING SET SPACEBOY DESIGN'})",
          "Node: frozenset({'BAKING SET 9 PIECE RETROSPOT'})",
          "Node: frozenset({'TOILET METAL SIGN'})",
          "Node: frozenset({'BATHROOM METAL SIGN'})",
          "Node: frozenset({'PINK HAPPY BIRTHDAY BUNTING'})",
          "Node: frozenset({'BLUE HAPPY BIRTHDAY BUNTING'})",
          "Node: frozenset({'RED  HARMONICA IN BOX'})",
          "Node: frozenset({'BLUE HARMONICA IN BOX'})",
          "Node: frozenset({'RED STRIPE CERAMIC DRAWER KNOB'})",
          "Node: frozenset({'BLUE STRIPE CERAMIC DRAWER KNOB'})",
          "Node: frozenset({'CANDLEHOLDER PINK HANGING HEART'})",
          "Node: frozenset({'WHITE HANGING HEART T-LIGHT HOLDER'})",
          "Node: frozenset({'CHARLOTTE BAG APPLES DESIGN'})",
          "Node: frozenset({'RED RETROSPOT CHARLOTTE BAG'})",
          "Node: frozenset({'CHARLOTTE BAG PINK POLKADOT'})",
          "Node: frozenset({'CHARLOTTE BAG SUKI DESIGN'})",
          "Node: frozenset({'STRAWBERRY CHARLOTTE BAG'})",
          "Node: frozenset({'WOODLAND CHARLOTTE BAG'})",
          "Node: frozenset({'CHILDRENS CUTLERY DOLLY GIRL'})",
          "Node: frozenset({'CHILDRENS CUTLERY SPACEBOY'})",
          "Node: frozenset({'CHOCOLATE HOT WATER BOTTLE'})",
          "Node: frozenset({'HOT WATER BOTTLE I AM SO POORLY'})",
          "Node: frozenset({'HOT WATER BOTTLE TEA AND SYMPATHY'})",
          "Node: frozenset({'RETROSPOT HEART HOT WATER BOTTLE'})",
          "Node: frozenset({'SCOTTIE DOG HOT WATER BOTTLE'})",
          "Node: frozenset({'CHRISTMAS CRAFT TREE TOP ANGEL'})",
          "Node: frozenset({'CHRISTMAS CRAFT LITTLE FRIENDS'})",
          "Node: frozenset({'CHRISTMAS CRAFT WHITE FAIRY'})",
          "Node: frozenset({'GIN + TONIC DIET METAL SIGN'})",
          "Node: frozenset({'COOK WITH WINE METAL SIGN'})",
          "Node: frozenset({'HAND OVER THE CHOCOLATE   SIGN'})",
          "Node: frozenset({'PLEASE ONE PERSON METAL SIGN'})",
          "Node: frozenset({'SPACEBOY LUNCH BOX'})",
          "Node: frozenset({'DOLLY GIRL LUNCH BOX'})",
          "Node: frozenset({'FELTCRAFT PRINCESS LOLA DOLL'})",
          "Node: frozenset({'FELTCRAFT PRINCESS CHARLOTTE DOLL'})",
          "Node: frozenset({'FRONT  DOOR'})",
          "Node: frozenset({'GARDENERS KNEELING PAD KEEP CALM'})",
          "Node: frozenset({'GARDENERS KNEELING PAD CUP OF TEA'})",
          "Node: frozenset({'PINK REGENCY TEACUP AND SAUCER'})",
          "Node: frozenset({'GREEN REGENCY TEACUP AND SAUCER'})",
          "Node: frozenset({'REGENCY CAKESTAND 3 TIER'})",
          "Node: frozenset({'ROSES REGENCY TEACUP AND SAUCER'})",
          "Node: frozenset({'HAND WARMER OWL DESIGN'})",
          "Node: frozenset({'HAND WARMER BIRD DESIGN'})",
          "Node: frozenset({'HAND WARMER SCOTTY DOG DESIGN'})",
          "Node: frozenset({'HAND WARMER RED LOVE HEART'})",
          "Node: frozenset({'HAND WARMER RED RETROSPOT'})",
          "Node: frozenset({'HAND WARMER UNION JACK'})",
          "Node: frozenset({'HEART OF WICKER LARGE'})",
          "Node: frozenset({'HEART OF WICKER SMALL'})",
          "Node: frozenset({'LOVE BUILDING BLOCK WORD'})",
          "Node: frozenset({'HOME BUILDING BLOCK WORD'})",
          "Node: frozenset({'HOT WATER BOTTLE KEEP CALM'})",
          "Node: frozenset({'LOVE HOT WATER BOTTLE'})",
          "Node: frozenset({'IVORY DINER WALL CLOCK'})",
          "Node: frozenset({'RED DINER WALL CLOCK'})",
          "Node: frozenset({'RED KITCHEN SCALES'})",
          "Node: frozenset({'IVORY KITCHEN SCALES'})",
          "Node: frozenset({'JUMBO  BAG BAROQUE BLACK WHITE'})",
          "Node: frozenset({'JUMBO BAG PINK POLKADOT'})",
          "Node: frozenset({'JUMBO BAG RED RETROSPOT'})",
          "Node: frozenset({'JUMBO STORAGE BAG SUKI'})",
          "Node: frozenset({'JUMBO BAG VINTAGE CHRISTMAS'})",
          "Node: frozenset({\"JUMBO BAG 50'S CHRISTMAS\"})",
          "Node: frozenset({'JUMBO BAG APPLES'})",
          "Node: frozenset({'JUMBO BAG ALPHABET'})",
          "Node: frozenset({'JUMBO BAG PEARS'})",
          "Node: frozenset({'JUMBO BAG VINTAGE LEAF'})",
          "Node: frozenset({'LUNCH BAG APPLE DESIGN'})",
          "Node: frozenset({'JUMBO BAG DOILEY PATTERNS'})",
          "Node: frozenset({'LUNCH BAG DOILEY PATTERN'})",
          "Node: frozenset({'JUMBO BAG OWLS'})",
          "Node: frozenset({'JUMBO BAG PINK VINTAGE PAISLEY'})",
          "Node: frozenset({'JUMBO BAG STRAWBERRY'})",
          "Node: frozenset({'JUMBO BAG WOODLAND ANIMALS'})",
          "Node: frozenset({'JUMBO STORAGE BAG SKULLS'})",
          "Node: frozenset({'JUMBO BAG SCANDINAVIAN BLUE PAISLEY'})",
          "Node: frozenset({'JUMBO SHOPPER VINTAGE RED PAISLEY'})",
          "Node: frozenset({'JUMBO BAG SPACEBOY DESIGN'})",
          "Node: frozenset({'JUMBO BAG VINTAGE DOILY'})",
          "Node: frozenset({'LUNCH BAG VINTAGE DOILY'})",
          "Node: frozenset({'SHED'})",
          "Node: frozenset({'SMALL WHITE HEART OF WICKER'})",
          "Node: frozenset({'LARGE WHITE HEART OF WICKER'})",
          "Node: frozenset({'LUNCH BAG ALPHABET DESIGN'})",
          "Node: frozenset({'LUNCH BAG  BLACK SKULL.'})",
          "Node: frozenset({'LUNCH BAG CARS BLUE'})",
          "Node: frozenset({'LUNCH BAG DOLLY GIRL DESIGN'})",
          "Node: frozenset({'LUNCH BAG PINK POLKADOT'})",
          "Node: frozenset({'LUNCH BAG RED RETROSPOT'})",
          "Node: frozenset({'LUNCH BAG SPACEBOY DESIGN'})",
          "Node: frozenset({'LUNCH BAG SUKI DESIGN'})",
          "Node: frozenset({'LUNCH BAG VINTAGE LEAF DESIGN'})",
          "Node: frozenset({'LUNCH BAG WOODLAND'})",
          "Node: frozenset({'PACK OF 60 SPACEBOY CAKE CASES'})",
          "Node: frozenset({'PACK OF 72 SKULL CAKE CASES'})",
          "Node: frozenset({\"PAPER CHAIN KIT 50'S CHRISTMAS\"})",
          "Node: frozenset({'PAPER CHAIN KIT VINTAGE CHRISTMAS'})",
          "Node: frozenset({'SPOTTY BUNTING'})",
          "Node: frozenset({'PARTY BUNTING'})",
          "Node: frozenset({'PINK BLUE FELT CRAFT TRINKET BOX'})",
          "Node: frozenset({'PINK CREAM FELT CRAFT TRINKET BOX'})",
          "Node: frozenset({'SCANDINAVIAN PAISLEY PICNIC BAG'})",
          "Node: frozenset({'PINK VINTAGE PAISLEY PICNIC BAG'})",
          "Node: frozenset({'PLASTERS IN TIN SPACEBOY'})",
          "Node: frozenset({'PLASTERS IN TIN CIRCUS PARADE'})",
          "Node: frozenset({'PLASTERS IN TIN STRONGMAN'})",
          "Node: frozenset({'PLASTERS IN TIN WOODLAND ANIMALS'})",
          "Node: frozenset({\"POPPY'S PLAYHOUSE KITCHEN\"})",
          "Node: frozenset({\"POPPY'S PLAYHOUSE BEDROOM\"})",
          "Node: frozenset({\"POPPY'S PLAYHOUSE LIVINGROOM\"})",
          "Node: frozenset({'ROUND SNACK BOXES SET OF4 WOODLAND'})",
          "Node: frozenset({'POSTAGE'})",
          "Node: frozenset({'RED HANGING HEART T-LIGHT HOLDER'})",
          "Node: frozenset({'REGENCY TEA PLATE GREEN'})",
          "Node: frozenset({'REGENCY TEA PLATE ROSES'})",
          "Node: frozenset({'ROUND SNACK BOXES SET OF 4 FRUITS'})",
          "Node: frozenset({'SET OF 12 FAIRY CAKE BAKING CASES'})",
          "Node: frozenset({'SET OF 12 MINI LOAF BAKING CASES'})",
          "Node: frozenset({'SET OF 6 TEA TIME BAKING CASES'})",
          "Node: frozenset({'SET OF 3 HEART COOKIE CUTTERS'})",
          "Node: frozenset({'SET OF 3 BUTTERFLY COOKIE CUTTERS'})",
          "Node: frozenset({'SET OF 6 SPICE TINS PANTRY DESIGN'})",
          "Node: frozenset({'SET OF 3 CAKE TINS PANTRY DESIGN'})",
          "Node: frozenset({'SET OF TEA COFFEE SUGAR TINS PANTRY'})",
          "Node: frozenset({'SET/10 BLUE POLKADOT PARTY CANDLES'})",
          "Node: frozenset({'SET/10 PINK POLKADOT PARTY CANDLES'})",
          "Node: frozenset({'SET/6 RED SPOTTY PAPER PLATES'})",
          "Node: frozenset({'SET/20 RED RETROSPOT PAPER NAPKINS'})",
          "Node: frozenset({'SET/6 RED SPOTTY PAPER CUPS'})",
          "Node: frozenset({'SMALL DOLLY MIX DESIGN ORANGE BOWL'})",
          "Node: frozenset({'SMALL MARSHMALLOWS PINK BOWL'})",
          "Node: frozenset({'SWEETHEART CERAMIC TRINKET BOX'})",
          "Node: frozenset({'STRAWBERRY CERAMIC TRINKET BOX'})",
          "Node: frozenset({'VINTAGE HEADS AND TAILS CARD GAME'})",
          "Node: frozenset({'VINTAGE SNAP CARDS'})",
          "Node: frozenset({'WOOD 2 DRAWER CABINET WHITE FINISH'})",
          "Node: frozenset({'WOODEN FRAME ANTIQUE WHITE'})",
          "Node: frozenset({'WOODEN PICTURE FRAME WHITE FINISH'})",
          "Node: frozenset({'WOODEN HEART CHRISTMAS SCANDINAVIAN'})",
          "Node: frozenset({'WOODEN STAR CHRISTMAS SCANDINAVIAN'})",
          "Node: frozenset({'WOODEN TREE CHRISTMAS SCANDINAVIAN'})",
          "Node: frozenset({'ALARM CLOCK BAKELIKE GREEN', 'ALARM CLOCK BAKELIKE RED'})",
          "Node: frozenset({'ALARM CLOCK BAKELIKE GREEN', 'ALARM CLOCK BAKELIKE PINK'})",
          "Node: frozenset({'ALARM CLOCK BAKELIKE RED', 'ALARM CLOCK BAKELIKE PINK'})",
          "Node: frozenset({'PINK REGENCY TEACUP AND SAUCER', 'GREEN REGENCY TEACUP AND SAUCER'})",
          "Node: frozenset({'PINK REGENCY TEACUP AND SAUCER', 'ROSES REGENCY TEACUP AND SAUCER'})",
          "Node: frozenset({'GREEN REGENCY TEACUP AND SAUCER', 'ROSES REGENCY TEACUP AND SAUCER'})",
          "Node: frozenset({'REGENCY CAKESTAND 3 TIER', 'GREEN REGENCY TEACUP AND SAUCER'})",
          "Node: frozenset({'REGENCY CAKESTAND 3 TIER', 'ROSES REGENCY TEACUP AND SAUCER'})",
          "Node: frozenset({'JUMBO BAG STRAWBERRY', 'JUMBO BAG RED RETROSPOT'})",
          "Node: frozenset({'JUMBO BAG STRAWBERRY', 'JUMBO BAG PINK POLKADOT'})",
          "Node: frozenset({'JUMBO BAG RED RETROSPOT', 'JUMBO BAG PINK POLKADOT'})",
          "Node: frozenset({'LUNCH BAG PINK POLKADOT', 'LUNCH BAG  BLACK SKULL.'})",
          "Node: frozenset({'LUNCH BAG PINK POLKADOT', 'LUNCH BAG CARS BLUE'})",
          "Node: frozenset({'LUNCH BAG  BLACK SKULL.', 'LUNCH BAG CARS BLUE'})",
          "Node: frozenset({'LUNCH BAG RED RETROSPOT', 'LUNCH BAG  BLACK SKULL.'})",
          "Node: frozenset({'LUNCH BAG RED RETROSPOT', 'LUNCH BAG CARS BLUE'})",
          "Node: frozenset({'LUNCH BAG RED RETROSPOT', 'LUNCH BAG PINK POLKADOT'})",
          "Node: frozenset({'LUNCH BAG RED RETROSPOT', 'LUNCH BAG SPACEBOY DESIGN'})",
          "Node: frozenset({'LUNCH BAG  BLACK SKULL.', 'LUNCH BAG SPACEBOY DESIGN'})",
          "Node: frozenset({'LUNCH BAG SUKI DESIGN', 'LUNCH BAG RED RETROSPOT'})",
          "Node: frozenset({'LUNCH BAG SUKI DESIGN', 'LUNCH BAG  BLACK SKULL.'})",
          "Node: frozenset({'LUNCH BAG SUKI DESIGN', 'LUNCH BAG PINK POLKADOT'})"
         ],
         "type": "scatter",
         "x": [
          0.6530023561398798,
          0.688479337343132,
          0.710978423851438,
          0.7361015929798269,
          0.8339638159488612,
          -0.3344227536163599,
          -0.35031698706066017,
          -0.3416755927510671,
          -0.32965332546930853,
          -0.3637493088642122,
          -0.3249748156058285,
          0.26173059256237974,
          0.25195252272884444,
          -0.31693338649686187,
          -0.30238696470237825,
          0.7180472994056041,
          0.8995639097305906,
          0.16229882276055732,
          0.14917266806119023,
          -0.6200238706791777,
          -0.6256229899089182,
          0.47205931080042524,
          0.45466575330665243,
          0.661473835531799,
          0.667828828664949,
          0.5686417349598644,
          0.5989788624154427,
          -0.49163428272411225,
          -0.5937322945031661,
          -0.47295159036538237,
          -0.48702170721387344,
          -0.5073027264957496,
          -0.49052791938272694,
          0.12775137051751184,
          0.11589589516843109,
          0.7562719763520215,
          0.7488214999277941,
          0.8042610321666693,
          0.7401094321903307,
          0.7299910439423583,
          0.9545552923905078,
          0.9158757161700328,
          0.8645006016088927,
          0.875827102438756,
          0.8555150268093856,
          0.8892511003438536,
          0.904701913231735,
          0.5554469604490663,
          0.5760042654066962,
          0.7025979874257567,
          0.6952801989135772,
          -0.31461149506662733,
          0.23952649240380194,
          0.24920454927408248,
          -0.6129013569916812,
          -0.6238801243016758,
          -0.7624173876849096,
          -0.6315189634222214,
          -0.011905417833421398,
          -0.040316897514487374,
          -0.01813396037785255,
          -0.013581449186665361,
          0.021277770068157835,
          0.004039491831985023,
          0.5018952459978308,
          0.44099471201317386,
          0.5284385382945074,
          0.5161311915822289,
          0.8802980423432112,
          0.6540889099411513,
          0.8630394449130396,
          0.825512239873792,
          0.20351591579393105,
          0.19313259118217738,
          -0.6881438037998946,
          -0.7613835401751878,
          -0.853908066626158,
          -0.7806332128241931,
          0.9526580502696366,
          1,
          -0.6655061780129038,
          -0.8439741195265529,
          -0.5721540717142674,
          -0.7341136309492647,
          -0.45611314107803674,
          -0.6210021994158837,
          -0.5358517809566182,
          -0.76501644156757,
          -0.6963489352125826,
          -0.7072407256859744,
          -0.635806145483403,
          -0.7252016214546265,
          -0.6683690105929573,
          -0.700642884645096,
          -0.6391055778404748,
          -0.780239150774605,
          -0.5872619440936923,
          -0.3395238108066493,
          -0.13960653028846534,
          -0.13688239961274049,
          -0.4636503020648751,
          -0.5054731012180544,
          -0.5023861407089881,
          -0.5154986467413434,
          -0.5221575222499732,
          -0.5365621219696876,
          -0.5205410388337623,
          -0.49126399749643573,
          -0.4825761451755829,
          -0.4986366749718338,
          0.798775451714508,
          0.7635638814750242,
          0.3289689865419406,
          0.34247841059773926,
          -0.1494547720402969,
          -0.13900892600663964,
          0.3724357209450018,
          0.35551412940907856,
          0.7594381937012668,
          0.7406275547185165,
          0.7217191853362027,
          0.7169241905353455,
          0.7376441872845024,
          0.7464053269583789,
          0.6766961993470191,
          0.6990423990477119,
          0.6746073993280827,
          0.07252942071478147,
          0.086195297584803,
          0.5514871562077497,
          -0.01428677218594224,
          -0.019359882921104386,
          0.06491020834819831,
          0.3986996847987763,
          0.4206809178067951,
          0.3748558738089633,
          0.8272941116602716,
          0.8614429890037797,
          -0.22087212551859442,
          -0.29017853107309044,
          -0.2555311587049779,
          0.03366595021341837,
          0.05322909694881254,
          0.589574280454212,
          0.7419828289049119,
          0.4899520697784111,
          -0.8066484399563487,
          -0.7597938930213537,
          -0.012356211805164738,
          -0.025667067458547705,
          -0.3646951806306202,
          -0.41729631588699806,
          -0.20082805714245314,
          -0.196374007973244,
          -0.19624297104978716,
          -0.10499031825727353,
          -0.08832744470828034,
          -0.10480680704152136,
          -0.3343382477356856,
          -0.3780360667400651,
          -0.39037616194414143,
          -0.5484569852908939,
          -0.537718319531787,
          -0.6714274935898707,
          -0.5473821826020486,
          -0.5801227827548618,
          -0.6152732199765746,
          -0.6624226609700694,
          -0.5681293146680257,
          -0.5005563175011035,
          -0.4578235195135041,
          -0.4362764970176961,
          -0.41827931786903827,
          -0.4722140240414643,
          -0.45907203072253844,
          -0.5170338247599067,
          -0.5290182958045626,
          -0.44317960230658265,
          -0.4201767500077168,
          -0.46768769008368793
         ],
         "y": [
          0.3870943348204805,
          0.4116923015707179,
          0.426641307294447,
          0.44190533318382985,
          0.49956307553835655,
          0.5829760867964432,
          0.6381212904625582,
          0.6555177890928339,
          0.6235562501537489,
          0.6216967738677476,
          0.6488311483970897,
          0.9599981486739639,
          0.9182090764359395,
          -0.546371114257233,
          -0.48712942792411473,
          -0.28092516415658925,
          -0.37430384974934316,
          -0.7579088606401536,
          -0.7771083585035804,
          0.4811301928248984,
          0.5025055632922211,
          -0.5570281213156921,
          -0.5332417360432229,
          -0.3089152852217582,
          -0.33083345680486625,
          0.7848216592895761,
          0.8525622353477208,
          0.04954368213351156,
          0.06572608479530738,
          0.06750753362589024,
          0.06758706990125557,
          0.06904003153363397,
          0.0816025944630677,
          -0.6610919418056417,
          -0.6358743502695466,
          0.2944148487901717,
          0.2887311951377334,
          0.3097871400968791,
          0.30615077024244225,
          0.27219997068686475,
          0.12422754884234458,
          0.11829303046233666,
          0.11302714094212518,
          -0.09610175196610353,
          -0.11447936543450164,
          -0.12239608387074245,
          -0.15319623486994494,
          -0.6296951027884938,
          -0.6602878243006512,
          0.6371822167333618,
          0.6585465049940761,
          -0.5904988892726221,
          -0.8042187472507306,
          -0.8394259760026835,
          0.19275609927387202,
          0.21464092856061048,
          0.2697332682010102,
          0.22637766834813083,
          0.4938758453224742,
          0.49979667719109283,
          0.503272253816299,
          0.527004246260392,
          0.5133902567977799,
          0.4789531871555234,
          0.6948261065208768,
          0.5924204280940257,
          0.6776898466018502,
          0.6996570080436454,
          0.33651561637704647,
          0.25777327846085285,
          -0.2516640566527929,
          -0.23653028246641408,
          0.7794365079895614,
          0.7426443531437944,
          0.06672601053381627,
          0.07382922134755258,
          0.05590787167712991,
          0.05348299239399189,
          -0.10757290597632736,
          -0.11158054005185528,
          -0.06303026200656582,
          0.08935845341516428,
          0.050526038940982156,
          0.07632712992193968,
          -0.3506876361186068,
          0.11873728554003528,
          0.14632927569577692,
          0.044147765340233194,
          0.060809910088862315,
          0.07643632175734143,
          0.07198836066710855,
          0.05998571793368486,
          0.05240726237477351,
          0.044651706746672584,
          0.05106002275951108,
          0.07912939660623952,
          -0.21245329607043983,
          -0.5824368808612673,
          0.804912926518583,
          0.7626896979652966,
          -0.3375587837092602,
          -0.4181332308906787,
          -0.39639355821848143,
          -0.3881497586085346,
          -0.41414969242008143,
          -0.44203484186246167,
          -0.39540859856035987,
          -0.4026101841578314,
          -0.3714029772428652,
          -0.38524328283196957,
          0.48959310309745746,
          0.45866149735905637,
          0.6877130623199373,
          0.7216598399115086,
          -0.8536525337707672,
          -0.825330228158441,
          -0.7755587397229579,
          -0.7353869436167259,
          -0.03886368349270771,
          -0.02636562033822859,
          -0.4182800313421101,
          -0.39365220339254897,
          -0.39657046851426675,
          -0.4189404125839611,
          -0.5422758160577179,
          -0.5406992170858799,
          -0.5194213022794388,
          0.6630627978087222,
          0.8262547688787033,
          0.7918476724772341,
          -0.7112731769072068,
          -0.6724403601280443,
          0.5375140386722354,
          -0.665676638848158,
          -0.6981262389701567,
          -0.629325887441234,
          0.17751626838328022,
          0.18674441924180146,
          0.6496522840634714,
          0.8556934421338812,
          0.749418006614758,
          -0.8322517748937998,
          -0.8440464717443937,
          -0.5428256964233682,
          -0.7046319033281848,
          -0.43736296357799975,
          -0.16081011606713705,
          -0.14036554246173338,
          0.8677651459608764,
          0.8865415523354733,
          -0.6511947735655911,
          -0.7606076335463489,
          -0.5022173705518972,
          -0.5569905986716623,
          -0.5959030792444137,
          -0.6465564871676018,
          -0.6306470609795304,
          -0.6155515468982062,
          0.6979576897372591,
          0.6691804243336865,
          0.6151430207664852,
          0.22083319355373415,
          0.20072212927337213,
          0.22208924976136718,
          0.19137336526856424,
          0.24007672045790943,
          0.08772199657769555,
          0.06833563366766436,
          0.08983717715002539,
          -0.3619099461075709,
          -0.3284402937607067,
          -0.2987498845826204,
          -0.2821353425281812,
          -0.35627131097959763,
          -0.37911875236315057,
          -0.3561439352885218,
          -0.35007461173135024,
          -0.3263643742461852,
          -0.2937254175386448,
          -0.4086965725593089
         ]
        }
       ],
       "layout": {
        "hovermode": "closest",
        "margin": {
         "b": 0,
         "l": 0,
         "r": 0,
         "t": 0
        },
        "showlegend": false,
        "template": {
         "data": {
          "bar": [
           {
            "error_x": {
             "color": "#2a3f5f"
            },
            "error_y": {
             "color": "#2a3f5f"
            },
            "marker": {
             "line": {
              "color": "#E5ECF6",
              "width": 0.5
             },
             "pattern": {
              "fillmode": "overlay",
              "size": 10,
              "solidity": 0.2
             }
            },
            "type": "bar"
           }
          ],
          "barpolar": [
           {
            "marker": {
             "line": {
              "color": "#E5ECF6",
              "width": 0.5
             },
             "pattern": {
              "fillmode": "overlay",
              "size": 10,
              "solidity": 0.2
             }
            },
            "type": "barpolar"
           }
          ],
          "carpet": [
           {
            "aaxis": {
             "endlinecolor": "#2a3f5f",
             "gridcolor": "white",
             "linecolor": "white",
             "minorgridcolor": "white",
             "startlinecolor": "#2a3f5f"
            },
            "baxis": {
             "endlinecolor": "#2a3f5f",
             "gridcolor": "white",
             "linecolor": "white",
             "minorgridcolor": "white",
             "startlinecolor": "#2a3f5f"
            },
            "type": "carpet"
           }
          ],
          "choropleth": [
           {
            "colorbar": {
             "outlinewidth": 0,
             "ticks": ""
            },
            "type": "choropleth"
           }
          ],
          "contour": [
           {
            "colorbar": {
             "outlinewidth": 0,
             "ticks": ""
            },
            "colorscale": [
             [
              0,
              "#0d0887"
             ],
             [
              0.1111111111111111,
              "#46039f"
             ],
             [
              0.2222222222222222,
              "#7201a8"
             ],
             [
              0.3333333333333333,
              "#9c179e"
             ],
             [
              0.4444444444444444,
              "#bd3786"
             ],
             [
              0.5555555555555556,
              "#d8576b"
             ],
             [
              0.6666666666666666,
              "#ed7953"
             ],
             [
              0.7777777777777778,
              "#fb9f3a"
             ],
             [
              0.8888888888888888,
              "#fdca26"
             ],
             [
              1,
              "#f0f921"
             ]
            ],
            "type": "contour"
           }
          ],
          "contourcarpet": [
           {
            "colorbar": {
             "outlinewidth": 0,
             "ticks": ""
            },
            "type": "contourcarpet"
           }
          ],
          "heatmap": [
           {
            "colorbar": {
             "outlinewidth": 0,
             "ticks": ""
            },
            "colorscale": [
             [
              0,
              "#0d0887"
             ],
             [
              0.1111111111111111,
              "#46039f"
             ],
             [
              0.2222222222222222,
              "#7201a8"
             ],
             [
              0.3333333333333333,
              "#9c179e"
             ],
             [
              0.4444444444444444,
              "#bd3786"
             ],
             [
              0.5555555555555556,
              "#d8576b"
             ],
             [
              0.6666666666666666,
              "#ed7953"
             ],
             [
              0.7777777777777778,
              "#fb9f3a"
             ],
             [
              0.8888888888888888,
              "#fdca26"
             ],
             [
              1,
              "#f0f921"
             ]
            ],
            "type": "heatmap"
           }
          ],
          "heatmapgl": [
           {
            "colorbar": {
             "outlinewidth": 0,
             "ticks": ""
            },
            "colorscale": [
             [
              0,
              "#0d0887"
             ],
             [
              0.1111111111111111,
              "#46039f"
             ],
             [
              0.2222222222222222,
              "#7201a8"
             ],
             [
              0.3333333333333333,
              "#9c179e"
             ],
             [
              0.4444444444444444,
              "#bd3786"
             ],
             [
              0.5555555555555556,
              "#d8576b"
             ],
             [
              0.6666666666666666,
              "#ed7953"
             ],
             [
              0.7777777777777778,
              "#fb9f3a"
             ],
             [
              0.8888888888888888,
              "#fdca26"
             ],
             [
              1,
              "#f0f921"
             ]
            ],
            "type": "heatmapgl"
           }
          ],
          "histogram": [
           {
            "marker": {
             "pattern": {
              "fillmode": "overlay",
              "size": 10,
              "solidity": 0.2
             }
            },
            "type": "histogram"
           }
          ],
          "histogram2d": [
           {
            "colorbar": {
             "outlinewidth": 0,
             "ticks": ""
            },
            "colorscale": [
             [
              0,
              "#0d0887"
             ],
             [
              0.1111111111111111,
              "#46039f"
             ],
             [
              0.2222222222222222,
              "#7201a8"
             ],
             [
              0.3333333333333333,
              "#9c179e"
             ],
             [
              0.4444444444444444,
              "#bd3786"
             ],
             [
              0.5555555555555556,
              "#d8576b"
             ],
             [
              0.6666666666666666,
              "#ed7953"
             ],
             [
              0.7777777777777778,
              "#fb9f3a"
             ],
             [
              0.8888888888888888,
              "#fdca26"
             ],
             [
              1,
              "#f0f921"
             ]
            ],
            "type": "histogram2d"
           }
          ],
          "histogram2dcontour": [
           {
            "colorbar": {
             "outlinewidth": 0,
             "ticks": ""
            },
            "colorscale": [
             [
              0,
              "#0d0887"
             ],
             [
              0.1111111111111111,
              "#46039f"
             ],
             [
              0.2222222222222222,
              "#7201a8"
             ],
             [
              0.3333333333333333,
              "#9c179e"
             ],
             [
              0.4444444444444444,
              "#bd3786"
             ],
             [
              0.5555555555555556,
              "#d8576b"
             ],
             [
              0.6666666666666666,
              "#ed7953"
             ],
             [
              0.7777777777777778,
              "#fb9f3a"
             ],
             [
              0.8888888888888888,
              "#fdca26"
             ],
             [
              1,
              "#f0f921"
             ]
            ],
            "type": "histogram2dcontour"
           }
          ],
          "mesh3d": [
           {
            "colorbar": {
             "outlinewidth": 0,
             "ticks": ""
            },
            "type": "mesh3d"
           }
          ],
          "parcoords": [
           {
            "line": {
             "colorbar": {
              "outlinewidth": 0,
              "ticks": ""
             }
            },
            "type": "parcoords"
           }
          ],
          "pie": [
           {
            "automargin": true,
            "type": "pie"
           }
          ],
          "scatter": [
           {
            "fillpattern": {
             "fillmode": "overlay",
             "size": 10,
             "solidity": 0.2
            },
            "type": "scatter"
           }
          ],
          "scatter3d": [
           {
            "line": {
             "colorbar": {
              "outlinewidth": 0,
              "ticks": ""
             }
            },
            "marker": {
             "colorbar": {
              "outlinewidth": 0,
              "ticks": ""
             }
            },
            "type": "scatter3d"
           }
          ],
          "scattercarpet": [
           {
            "marker": {
             "colorbar": {
              "outlinewidth": 0,
              "ticks": ""
             }
            },
            "type": "scattercarpet"
           }
          ],
          "scattergeo": [
           {
            "marker": {
             "colorbar": {
              "outlinewidth": 0,
              "ticks": ""
             }
            },
            "type": "scattergeo"
           }
          ],
          "scattergl": [
           {
            "marker": {
             "colorbar": {
              "outlinewidth": 0,
              "ticks": ""
             }
            },
            "type": "scattergl"
           }
          ],
          "scattermapbox": [
           {
            "marker": {
             "colorbar": {
              "outlinewidth": 0,
              "ticks": ""
             }
            },
            "type": "scattermapbox"
           }
          ],
          "scatterpolar": [
           {
            "marker": {
             "colorbar": {
              "outlinewidth": 0,
              "ticks": ""
             }
            },
            "type": "scatterpolar"
           }
          ],
          "scatterpolargl": [
           {
            "marker": {
             "colorbar": {
              "outlinewidth": 0,
              "ticks": ""
             }
            },
            "type": "scatterpolargl"
           }
          ],
          "scatterternary": [
           {
            "marker": {
             "colorbar": {
              "outlinewidth": 0,
              "ticks": ""
             }
            },
            "type": "scatterternary"
           }
          ],
          "surface": [
           {
            "colorbar": {
             "outlinewidth": 0,
             "ticks": ""
            },
            "colorscale": [
             [
              0,
              "#0d0887"
             ],
             [
              0.1111111111111111,
              "#46039f"
             ],
             [
              0.2222222222222222,
              "#7201a8"
             ],
             [
              0.3333333333333333,
              "#9c179e"
             ],
             [
              0.4444444444444444,
              "#bd3786"
             ],
             [
              0.5555555555555556,
              "#d8576b"
             ],
             [
              0.6666666666666666,
              "#ed7953"
             ],
             [
              0.7777777777777778,
              "#fb9f3a"
             ],
             [
              0.8888888888888888,
              "#fdca26"
             ],
             [
              1,
              "#f0f921"
             ]
            ],
            "type": "surface"
           }
          ],
          "table": [
           {
            "cells": {
             "fill": {
              "color": "#EBF0F8"
             },
             "line": {
              "color": "white"
             }
            },
            "header": {
             "fill": {
              "color": "#C8D4E3"
             },
             "line": {
              "color": "white"
             }
            },
            "type": "table"
           }
          ]
         },
         "layout": {
          "annotationdefaults": {
           "arrowcolor": "#2a3f5f",
           "arrowhead": 0,
           "arrowwidth": 1
          },
          "autotypenumbers": "strict",
          "coloraxis": {
           "colorbar": {
            "outlinewidth": 0,
            "ticks": ""
           }
          },
          "colorscale": {
           "diverging": [
            [
             0,
             "#8e0152"
            ],
            [
             0.1,
             "#c51b7d"
            ],
            [
             0.2,
             "#de77ae"
            ],
            [
             0.3,
             "#f1b6da"
            ],
            [
             0.4,
             "#fde0ef"
            ],
            [
             0.5,
             "#f7f7f7"
            ],
            [
             0.6,
             "#e6f5d0"
            ],
            [
             0.7,
             "#b8e186"
            ],
            [
             0.8,
             "#7fbc41"
            ],
            [
             0.9,
             "#4d9221"
            ],
            [
             1,
             "#276419"
            ]
           ],
           "sequential": [
            [
             0,
             "#0d0887"
            ],
            [
             0.1111111111111111,
             "#46039f"
            ],
            [
             0.2222222222222222,
             "#7201a8"
            ],
            [
             0.3333333333333333,
             "#9c179e"
            ],
            [
             0.4444444444444444,
             "#bd3786"
            ],
            [
             0.5555555555555556,
             "#d8576b"
            ],
            [
             0.6666666666666666,
             "#ed7953"
            ],
            [
             0.7777777777777778,
             "#fb9f3a"
            ],
            [
             0.8888888888888888,
             "#fdca26"
            ],
            [
             1,
             "#f0f921"
            ]
           ],
           "sequentialminus": [
            [
             0,
             "#0d0887"
            ],
            [
             0.1111111111111111,
             "#46039f"
            ],
            [
             0.2222222222222222,
             "#7201a8"
            ],
            [
             0.3333333333333333,
             "#9c179e"
            ],
            [
             0.4444444444444444,
             "#bd3786"
            ],
            [
             0.5555555555555556,
             "#d8576b"
            ],
            [
             0.6666666666666666,
             "#ed7953"
            ],
            [
             0.7777777777777778,
             "#fb9f3a"
            ],
            [
             0.8888888888888888,
             "#fdca26"
            ],
            [
             1,
             "#f0f921"
            ]
           ]
          },
          "colorway": [
           "#636efa",
           "#EF553B",
           "#00cc96",
           "#ab63fa",
           "#FFA15A",
           "#19d3f3",
           "#FF6692",
           "#B6E880",
           "#FF97FF",
           "#FECB52"
          ],
          "font": {
           "color": "#2a3f5f"
          },
          "geo": {
           "bgcolor": "white",
           "lakecolor": "white",
           "landcolor": "#E5ECF6",
           "showlakes": true,
           "showland": true,
           "subunitcolor": "white"
          },
          "hoverlabel": {
           "align": "left"
          },
          "hovermode": "closest",
          "mapbox": {
           "style": "light"
          },
          "paper_bgcolor": "white",
          "plot_bgcolor": "#E5ECF6",
          "polar": {
           "angularaxis": {
            "gridcolor": "white",
            "linecolor": "white",
            "ticks": ""
           },
           "bgcolor": "#E5ECF6",
           "radialaxis": {
            "gridcolor": "white",
            "linecolor": "white",
            "ticks": ""
           }
          },
          "scene": {
           "xaxis": {
            "backgroundcolor": "#E5ECF6",
            "gridcolor": "white",
            "gridwidth": 2,
            "linecolor": "white",
            "showbackground": true,
            "ticks": "",
            "zerolinecolor": "white"
           },
           "yaxis": {
            "backgroundcolor": "#E5ECF6",
            "gridcolor": "white",
            "gridwidth": 2,
            "linecolor": "white",
            "showbackground": true,
            "ticks": "",
            "zerolinecolor": "white"
           },
           "zaxis": {
            "backgroundcolor": "#E5ECF6",
            "gridcolor": "white",
            "gridwidth": 2,
            "linecolor": "white",
            "showbackground": true,
            "ticks": "",
            "zerolinecolor": "white"
           }
          },
          "shapedefaults": {
           "line": {
            "color": "#2a3f5f"
           }
          },
          "ternary": {
           "aaxis": {
            "gridcolor": "white",
            "linecolor": "white",
            "ticks": ""
           },
           "baxis": {
            "gridcolor": "white",
            "linecolor": "white",
            "ticks": ""
           },
           "bgcolor": "#E5ECF6",
           "caxis": {
            "gridcolor": "white",
            "linecolor": "white",
            "ticks": ""
           }
          },
          "title": {
           "x": 0.05
          },
          "xaxis": {
           "automargin": true,
           "gridcolor": "white",
           "linecolor": "white",
           "ticks": "",
           "title": {
            "standoff": 15
           },
           "zerolinecolor": "white",
           "zerolinewidth": 2
          },
          "yaxis": {
           "automargin": true,
           "gridcolor": "white",
           "linecolor": "white",
           "ticks": "",
           "title": {
            "standoff": 15
           },
           "zerolinecolor": "white",
           "zerolinewidth": 2
          }
         }
        }
       }
      },
      "text/html": [
       "<div>                            <div id=\"a5b0376d-0bd3-441c-ab5c-8a13b53ee844\" class=\"plotly-graph-div\" style=\"height:525px; width:100%;\"></div>            <script type=\"text/javascript\">                require([\"plotly\"], function(Plotly) {                    window.PLOTLYENV=window.PLOTLYENV || {};                                    if (document.getElementById(\"a5b0376d-0bd3-441c-ab5c-8a13b53ee844\")) {                    Plotly.newPlot(                        \"a5b0376d-0bd3-441c-ab5c-8a13b53ee844\",                        [{\"hoverinfo\":\"none\",\"line\":{\"color\":\"#888\",\"width\":0.5},\"mode\":\"lines\",\"x\":[0.6530023561398798,0.688479337343132,null,0.6530023561398798,0.8339638159488612,null,0.688479337343132,0.7361015929798269,null,0.688479337343132,0.8339638159488612,null,0.710978423851438,0.688479337343132,null,0.710978423851438,0.7361015929798269,null,0.710978423851438,0.8339638159488612,null,0.7361015929798269,0.688479337343132,null,0.7361015929798269,0.8339638159488612,null,-0.3344227536163599,-0.35031698706066017,null,-0.3344227536163599,-0.3416755927510671,null,-0.35031698706066017,-0.3249748156058285,null,-0.35031698706066017,-0.3416755927510671,null,-0.3416755927510671,-0.35031698706066017,null,-0.3416755927510671,-0.32965332546930853,null,-0.3416755927510671,-0.3249748156058285,null,-0.32965332546930853,-0.35031698706066017,null,-0.32965332546930853,-0.3249748156058285,null,-0.32965332546930853,-0.3416755927510671,null,-0.3637493088642122,-0.35031698706066017,null,-0.3637493088642122,-0.3416755927510671,null,-0.3249748156058285,-0.35031698706066017,null,-0.3249748156058285,-0.32965332546930853,null,-0.3249748156058285,-0.3416755927510671,null,0.26173059256237974,0.25195252272884444,null,-0.31693338649686187,-0.30238696470237825,null,-0.31693338649686187,-0.31461149506662733,null,-0.31693338649686187,-0.3395238108066493,null,-0.30238696470237825,-0.31693338649686187,null,0.7180472994056041,0.8995639097305906,null,0.16229882276055732,0.14917266806119023,null,0.14917266806119023,0.16229882276055732,null,-0.6200238706791777,-0.6256229899089182,null,-0.6256229899089182,-0.6200238706791777,null,0.47205931080042524,0.45466575330665243,null,0.45466575330665243,0.47205931080042524,null,0.661473835531799,0.667828828664949,null,0.667828828664949,0.661473835531799,null,0.5686417349598644,0.5989788624154427,null,-0.49163428272411225,-0.5937322945031661,null,-0.5937322945031661,-0.47295159036538237,null,-0.5937322945031661,-0.48702170721387344,null,-0.5937322945031661,-0.853908066626158,null,-0.5937322945031661,-0.5073027264957496,null,-0.5937322945031661,-0.49052791938272694,null,-0.47295159036538237,-0.48702170721387344,null,-0.47295159036538237,-0.5937322945031661,null,-0.47295159036538237,-0.5073027264957496,null,-0.48702170721387344,-0.47295159036538237,null,-0.48702170721387344,-0.5937322945031661,null,-0.48702170721387344,-0.5073027264957496,null,-0.48702170721387344,-0.49052791938272694,null,-0.5073027264957496,-0.47295159036538237,null,-0.5073027264957496,-0.48702170721387344,null,-0.5073027264957496,-0.5937322945031661,null,-0.5073027264957496,-0.49052791938272694,null,-0.49052791938272694,-0.48702170721387344,null,-0.49052791938272694,-0.5937322945031661,null,-0.49052791938272694,-0.5073027264957496,null,0.12775137051751184,0.11589589516843109,null,0.11589589516843109,0.12775137051751184,null,0.7562719763520215,0.7488214999277941,null,0.7562719763520215,0.8042610321666693,null,0.7562719763520215,0.7299910439423583,null,0.7488214999277941,0.7562719763520215,null,0.7488214999277941,0.8802980423432112,null,0.7488214999277941,0.8042610321666693,null,0.8042610321666693,0.7562719763520215,null,0.8042610321666693,0.7488214999277941,null,0.8042610321666693,0.8802980423432112,null,0.7401094321903307,0.7562719763520215,null,0.7401094321903307,0.7299910439423583,null,0.7299910439423583,0.7562719763520215,null,0.9545552923905078,0.9158757161700328,null,0.9158757161700328,0.9545552923905078,null,0.9158757161700328,0.8645006016088927,null,0.8645006016088927,0.9158757161700328,null,0.875827102438756,0.8555150268093856,null,0.875827102438756,0.8892511003438536,null,0.8555150268093856,0.875827102438756,null,0.8555150268093856,0.8892511003438536,null,0.8555150268093856,0.904701913231735,null,0.8892511003438536,0.8555150268093856,null,0.8892511003438536,0.875827102438756,null,0.8892511003438536,0.904701913231735,null,0.5554469604490663,0.5760042654066962,null,0.5760042654066962,0.5554469604490663,null,0.7025979874257567,0.6952801989135772,null,0.6952801989135772,0.7025979874257567,null,-0.31461149506662733,-0.31693338649686187,null,0.23952649240380194,0.24920454927408248,null,0.24920454927408248,0.23952649240380194,null,-0.6129013569916812,-0.6238801243016758,null,-0.6129013569916812,-0.7624173876849096,null,-0.6129013569916812,-0.6315189634222214,null,-0.6129013569916812,-0.6714274935898707,null,-0.6238801243016758,-0.6129013569916812,null,-0.6238801243016758,-0.7624173876849096,null,-0.6238801243016758,-0.6315189634222214,null,-0.6238801243016758,-0.537718319531787,null,-0.6315189634222214,-0.6238801243016758,null,-0.6315189634222214,-0.6129013569916812,null,-0.6315189634222214,-0.7624173876849096,null,-0.6315189634222214,-0.5484569852908939,null,-0.011905417833421398,-0.040316897514487374,null,-0.011905417833421398,-0.013581449186665361,null,-0.011905417833421398,-0.01813396037785255,null,-0.011905417833421398,0.004039491831985023,null,-0.040316897514487374,-0.011905417833421398,null,-0.040316897514487374,-0.01813396037785255,null,-0.01813396037785255,-0.040316897514487374,null,-0.01813396037785255,-0.011905417833421398,null,-0.01813396037785255,-0.013581449186665361,null,-0.01813396037785255,0.004039491831985023,null,-0.013581449186665361,-0.011905417833421398,null,-0.013581449186665361,-0.01813396037785255,null,0.021277770068157835,-0.011905417833421398,null,0.004039491831985023,-0.011905417833421398,null,0.004039491831985023,-0.01813396037785255,null,0.5018952459978308,0.44099471201317386,null,0.5018952459978308,0.5989788624154427,null,0.44099471201317386,0.5018952459978308,null,0.5284385382945074,0.5161311915822289,null,0.5161311915822289,0.5284385382945074,null,0.6540889099411513,0.8802980423432112,null,0.8630394449130396,0.825512239873792,null,0.825512239873792,0.8630394449130396,null,0.20351591579393105,0.19313259118217738,null,0.19313259118217738,0.20351591579393105,null,-0.6881438037998946,-0.7613835401751878,null,-0.6881438037998946,-0.853908066626158,null,-0.6881438037998946,-0.7806332128241931,null,-0.7613835401751878,-0.853908066626158,null,-0.7806332128241931,-0.853908066626158,null,0.9526580502696366,1.0,null,1.0,0.9526580502696366,null,-0.6655061780129038,-0.8439741195265529,null,-0.6655061780129038,-0.5721540717142674,null,-0.6655061780129038,-0.853908066626158,null,-0.6655061780129038,-0.7341136309492647,null,-0.6655061780129038,-0.45611314107803674,null,-0.8439741195265529,-0.853908066626158,null,-0.5721540717142674,-0.6655061780129038,null,-0.5721540717142674,-0.853908066626158,null,-0.5721540717142674,-0.7341136309492647,null,-0.7341136309492647,-0.853908066626158,null,-0.45611314107803674,-0.5054731012180544,null,-0.45611314107803674,-0.5365621219696876,null,-0.45611314107803674,-0.49126399749643573,null,-0.6210021994158837,-0.7341136309492647,null,-0.6210021994158837,-0.5358517809566182,null,-0.5358517809566182,-0.6210021994158837,null,-0.76501644156757,-0.853908066626158,null,-0.6963489352125826,-0.7613835401751878,null,-0.6963489352125826,-0.853908066626158,null,-0.6963489352125826,-0.6683690105929573,null,-0.6963489352125826,-0.700642884645096,null,-0.7072407256859744,-0.7613835401751878,null,-0.7072407256859744,-0.853908066626158,null,-0.635806145483403,-0.7613835401751878,null,-0.635806145483403,-0.853908066626158,null,-0.7252016214546265,-0.7613835401751878,null,-0.7252016214546265,-0.853908066626158,null,-0.7252016214546265,-0.7806332128241931,null,-0.6683690105929573,-0.6963489352125826,null,-0.6683690105929573,-0.853908066626158,null,-0.6683690105929573,-0.700642884645096,null,-0.700642884645096,-0.853908066626158,null,-0.6391055778404748,-0.853908066626158,null,-0.780239150774605,-0.853908066626158,null,-0.5872619440936923,-0.780239150774605,null,-0.5872619440936923,-0.45611314107803674,null,-0.5872619440936923,-0.5365621219696876,null,-0.5872619440936923,-0.5205410388337623,null,-0.3395238108066493,-0.31693338649686187,null,-0.13960653028846534,-0.13688239961274049,null,-0.13688239961274049,-0.13960653028846534,null,-0.4636503020648751,-0.5054731012180544,null,-0.4636503020648751,-0.45611314107803674,null,-0.4636503020648751,-0.5023861407089881,null,-0.4636503020648751,-0.5365621219696876,null,-0.4636503020648751,-0.5205410388337623,null,-0.4636503020648751,-0.49126399749643573,null,-0.4636503020648751,-0.4825761451755829,null,-0.5054731012180544,-0.5023861407089881,null,-0.5054731012180544,-0.5221575222499732,null,-0.5054731012180544,-0.5365621219696876,null,-0.5054731012180544,-0.5205410388337623,null,-0.5054731012180544,-0.49126399749643573,null,-0.5023861407089881,-0.5054731012180544,null,-0.5023861407089881,-0.5221575222499732,null,-0.5023861407089881,-0.5365621219696876,null,-0.5023861407089881,-0.5205410388337623,null,-0.5023861407089881,-0.49126399749643573,null,-0.5023861407089881,-0.4986366749718338,null,-0.5154986467413434,-0.5054731012180544,null,-0.5154986467413434,-0.5023861407089881,null,-0.5154986467413434,-0.5365621219696876,null,-0.5154986467413434,-0.5205410388337623,null,-0.5154986467413434,-0.49126399749643573,null,-0.5154986467413434,-0.4986366749718338,null,-0.5221575222499732,-0.5054731012180544,null,-0.5221575222499732,-0.5023861407089881,null,-0.5221575222499732,-0.5365621219696876,null,-0.5221575222499732,-0.5205410388337623,null,-0.5221575222499732,-0.49126399749643573,null,-0.5365621219696876,-0.5054731012180544,null,-0.5365621219696876,-0.5221575222499732,null,-0.5205410388337623,-0.5054731012180544,null,-0.5205410388337623,-0.5023861407089881,null,-0.5205410388337623,-0.5365621219696876,null,-0.5205410388337623,-0.49126399749643573,null,-0.5205410388337623,-0.4986366749718338,null,-0.49126399749643573,-0.5054731012180544,null,-0.49126399749643573,-0.45611314107803674,null,-0.49126399749643573,-0.5023861407089881,null,-0.49126399749643573,-0.5221575222499732,null,-0.49126399749643573,-0.5365621219696876,null,-0.49126399749643573,-0.5205410388337623,null,-0.4825761451755829,-0.5054731012180544,null,-0.4825761451755829,-0.4636503020648751,null,-0.4825761451755829,-0.45611314107803674,null,-0.4825761451755829,-0.5365621219696876,null,-0.4825761451755829,-0.5205410388337623,null,-0.4825761451755829,-0.49126399749643573,null,-0.4986366749718338,-0.5054731012180544,null,-0.4986366749718338,-0.5023861407089881,null,-0.4986366749718338,-0.5365621219696876,null,-0.4986366749718338,-0.5205410388337623,null,-0.4986366749718338,-0.49126399749643573,null,0.798775451714508,0.8339638159488612,null,0.7635638814750242,0.8339638159488612,null,0.3289689865419406,0.34247841059773926,null,0.34247841059773926,0.3289689865419406,null,-0.1494547720402969,-0.13900892600663964,null,0.3724357209450018,0.35551412940907856,null,0.35551412940907856,0.3724357209450018,null,0.7594381937012668,0.7406275547185165,null,0.7406275547185165,0.7594381937012668,null,0.7217191853362027,0.7169241905353455,null,0.7217191853362027,0.7464053269583789,null,0.7169241905353455,0.7217191853362027,null,0.7169241905353455,0.7376441872845024,null,0.7169241905353455,0.7464053269583789,null,0.7376441872845024,0.7169241905353455,null,0.7376441872845024,0.7217191853362027,null,0.7376441872845024,0.7464053269583789,null,0.7464053269583789,0.7169241905353455,null,0.7464053269583789,0.7217191853362027,null,0.6766961993470191,0.6990423990477119,null,0.6766961993470191,0.6746073993280827,null,0.6990423990477119,0.6766961993470191,null,0.6990423990477119,0.6746073993280827,null,0.6746073993280827,0.6990423990477119,null,0.6746073993280827,0.6766961993470191,null,0.07252942071478147,0.086195297584803,null,0.07252942071478147,0.06491020834819831,null,0.5514871562077497,0.5989788624154427,null,-0.01428677218594224,-0.019359882921104386,null,-0.019359882921104386,-0.01428677218594224,null,0.06491020834819831,0.07252942071478147,null,0.3986996847987763,0.4206809178067951,null,0.3986996847987763,0.3748558738089633,null,0.4206809178067951,0.3986996847987763,null,0.3748558738089633,0.3986996847987763,null,0.8272941116602716,0.8614429890037797,null,0.8614429890037797,0.8272941116602716,null,-0.22087212551859442,-0.29017853107309044,null,-0.2555311587049779,-0.29017853107309044,null,0.03366595021341837,0.05322909694881254,null,0.05322909694881254,0.03366595021341837,null,0.589574280454212,0.7419828289049119,null,0.589574280454212,0.4899520697784111,null,0.4899520697784111,0.589574280454212,null,-0.8066484399563487,-0.7597938930213537,null,-0.7597938930213537,-0.8066484399563487,null,-0.012356211805164738,-0.025667067458547705,null,-0.025667067458547705,-0.012356211805164738,null,-0.3646951806306202,-0.41729631588699806,null,-0.20082805714245314,-0.196374007973244,null,-0.20082805714245314,-0.19624297104978716,null,-0.196374007973244,-0.19624297104978716,null,-0.19624297104978716,-0.196374007973244,null,-0.10499031825727353,-0.08832744470828034,null,-0.10499031825727353,-0.10480680704152136,null,-0.08832744470828034,-0.10499031825727353,null,-0.08832744470828034,-0.10480680704152136,null,-0.10480680704152136,-0.10499031825727353,null,-0.10480680704152136,-0.08832744470828034,null,-0.3343382477356856,-0.3249748156058285,null,-0.3780360667400651,-0.3416755927510671,null,-0.39037616194414143,-0.35031698706066017,null,-0.5484569852908939,-0.6315189634222214,null,-0.537718319531787,-0.6238801243016758,null,-0.6714274935898707,-0.6129013569916812,null,-0.6714274935898707,-0.7624173876849096,null,-0.5473821826020486,-0.6315189634222214,null,-0.5801227827548618,-0.6238801243016758,null,-0.6152732199765746,-0.7613835401751878,null,-0.6624226609700694,-0.853908066626158,null,-0.5681293146680257,-0.7072407256859744,null,-0.5005563175011035,-0.5023861407089881,null,-0.5005563175011035,-0.5365621219696876,null,-0.4578235195135041,-0.5054731012180544,null,-0.4578235195135041,-0.5365621219696876,null,-0.4362764970176961,-0.5221575222499732,null,-0.4362764970176961,-0.5365621219696876,null,-0.41827931786903827,-0.5023861407089881,null,-0.41827931786903827,-0.5221575222499732,null,-0.41827931786903827,-0.5205410388337623,null,-0.41827931786903827,-0.49126399749643573,null,-0.4722140240414643,-0.5054731012180544,null,-0.4722140240414643,-0.5221575222499732,null,-0.45907203072253844,-0.5054731012180544,null,-0.45907203072253844,-0.5023861407089881,null,-0.45907203072253844,-0.49126399749643573,null,-0.5170338247599067,-0.5054731012180544,null,-0.5290182958045626,-0.5365621219696876,null,-0.44317960230658265,-0.5054731012180544,null,-0.44317960230658265,-0.5221575222499732,null,-0.4201767500077168,-0.5365621219696876,null,-0.46768769008368793,-0.5365621219696876,null],\"y\":[0.3870943348204805,0.4116923015707179,null,0.3870943348204805,0.49956307553835655,null,0.4116923015707179,0.44190533318382985,null,0.4116923015707179,0.49956307553835655,null,0.426641307294447,0.4116923015707179,null,0.426641307294447,0.44190533318382985,null,0.426641307294447,0.49956307553835655,null,0.44190533318382985,0.4116923015707179,null,0.44190533318382985,0.49956307553835655,null,0.5829760867964432,0.6381212904625582,null,0.5829760867964432,0.6555177890928339,null,0.6381212904625582,0.6488311483970897,null,0.6381212904625582,0.6555177890928339,null,0.6555177890928339,0.6381212904625582,null,0.6555177890928339,0.6235562501537489,null,0.6555177890928339,0.6488311483970897,null,0.6235562501537489,0.6381212904625582,null,0.6235562501537489,0.6488311483970897,null,0.6235562501537489,0.6555177890928339,null,0.6216967738677476,0.6381212904625582,null,0.6216967738677476,0.6555177890928339,null,0.6488311483970897,0.6381212904625582,null,0.6488311483970897,0.6235562501537489,null,0.6488311483970897,0.6555177890928339,null,0.9599981486739639,0.9182090764359395,null,-0.546371114257233,-0.48712942792411473,null,-0.546371114257233,-0.5904988892726221,null,-0.546371114257233,-0.5824368808612673,null,-0.48712942792411473,-0.546371114257233,null,-0.28092516415658925,-0.37430384974934316,null,-0.7579088606401536,-0.7771083585035804,null,-0.7771083585035804,-0.7579088606401536,null,0.4811301928248984,0.5025055632922211,null,0.5025055632922211,0.4811301928248984,null,-0.5570281213156921,-0.5332417360432229,null,-0.5332417360432229,-0.5570281213156921,null,-0.3089152852217582,-0.33083345680486625,null,-0.33083345680486625,-0.3089152852217582,null,0.7848216592895761,0.8525622353477208,null,0.04954368213351156,0.06572608479530738,null,0.06572608479530738,0.06750753362589024,null,0.06572608479530738,0.06758706990125557,null,0.06572608479530738,0.05590787167712991,null,0.06572608479530738,0.06904003153363397,null,0.06572608479530738,0.0816025944630677,null,0.06750753362589024,0.06758706990125557,null,0.06750753362589024,0.06572608479530738,null,0.06750753362589024,0.06904003153363397,null,0.06758706990125557,0.06750753362589024,null,0.06758706990125557,0.06572608479530738,null,0.06758706990125557,0.06904003153363397,null,0.06758706990125557,0.0816025944630677,null,0.06904003153363397,0.06750753362589024,null,0.06904003153363397,0.06758706990125557,null,0.06904003153363397,0.06572608479530738,null,0.06904003153363397,0.0816025944630677,null,0.0816025944630677,0.06758706990125557,null,0.0816025944630677,0.06572608479530738,null,0.0816025944630677,0.06904003153363397,null,-0.6610919418056417,-0.6358743502695466,null,-0.6358743502695466,-0.6610919418056417,null,0.2944148487901717,0.2887311951377334,null,0.2944148487901717,0.3097871400968791,null,0.2944148487901717,0.27219997068686475,null,0.2887311951377334,0.2944148487901717,null,0.2887311951377334,0.33651561637704647,null,0.2887311951377334,0.3097871400968791,null,0.3097871400968791,0.2944148487901717,null,0.3097871400968791,0.2887311951377334,null,0.3097871400968791,0.33651561637704647,null,0.30615077024244225,0.2944148487901717,null,0.30615077024244225,0.27219997068686475,null,0.27219997068686475,0.2944148487901717,null,0.12422754884234458,0.11829303046233666,null,0.11829303046233666,0.12422754884234458,null,0.11829303046233666,0.11302714094212518,null,0.11302714094212518,0.11829303046233666,null,-0.09610175196610353,-0.11447936543450164,null,-0.09610175196610353,-0.12239608387074245,null,-0.11447936543450164,-0.09610175196610353,null,-0.11447936543450164,-0.12239608387074245,null,-0.11447936543450164,-0.15319623486994494,null,-0.12239608387074245,-0.11447936543450164,null,-0.12239608387074245,-0.09610175196610353,null,-0.12239608387074245,-0.15319623486994494,null,-0.6296951027884938,-0.6602878243006512,null,-0.6602878243006512,-0.6296951027884938,null,0.6371822167333618,0.6585465049940761,null,0.6585465049940761,0.6371822167333618,null,-0.5904988892726221,-0.546371114257233,null,-0.8042187472507306,-0.8394259760026835,null,-0.8394259760026835,-0.8042187472507306,null,0.19275609927387202,0.21464092856061048,null,0.19275609927387202,0.2697332682010102,null,0.19275609927387202,0.22637766834813083,null,0.19275609927387202,0.22208924976136718,null,0.21464092856061048,0.19275609927387202,null,0.21464092856061048,0.2697332682010102,null,0.21464092856061048,0.22637766834813083,null,0.21464092856061048,0.20072212927337213,null,0.22637766834813083,0.21464092856061048,null,0.22637766834813083,0.19275609927387202,null,0.22637766834813083,0.2697332682010102,null,0.22637766834813083,0.22083319355373415,null,0.4938758453224742,0.49979667719109283,null,0.4938758453224742,0.527004246260392,null,0.4938758453224742,0.503272253816299,null,0.4938758453224742,0.4789531871555234,null,0.49979667719109283,0.4938758453224742,null,0.49979667719109283,0.503272253816299,null,0.503272253816299,0.49979667719109283,null,0.503272253816299,0.4938758453224742,null,0.503272253816299,0.527004246260392,null,0.503272253816299,0.4789531871555234,null,0.527004246260392,0.4938758453224742,null,0.527004246260392,0.503272253816299,null,0.5133902567977799,0.4938758453224742,null,0.4789531871555234,0.4938758453224742,null,0.4789531871555234,0.503272253816299,null,0.6948261065208768,0.5924204280940257,null,0.6948261065208768,0.8525622353477208,null,0.5924204280940257,0.6948261065208768,null,0.6776898466018502,0.6996570080436454,null,0.6996570080436454,0.6776898466018502,null,0.25777327846085285,0.33651561637704647,null,-0.2516640566527929,-0.23653028246641408,null,-0.23653028246641408,-0.2516640566527929,null,0.7794365079895614,0.7426443531437944,null,0.7426443531437944,0.7794365079895614,null,0.06672601053381627,0.07382922134755258,null,0.06672601053381627,0.05590787167712991,null,0.06672601053381627,0.05348299239399189,null,0.07382922134755258,0.05590787167712991,null,0.05348299239399189,0.05590787167712991,null,-0.10757290597632736,-0.11158054005185528,null,-0.11158054005185528,-0.10757290597632736,null,-0.06303026200656582,0.08935845341516428,null,-0.06303026200656582,0.050526038940982156,null,-0.06303026200656582,0.05590787167712991,null,-0.06303026200656582,0.07632712992193968,null,-0.06303026200656582,-0.3506876361186068,null,0.08935845341516428,0.05590787167712991,null,0.050526038940982156,-0.06303026200656582,null,0.050526038940982156,0.05590787167712991,null,0.050526038940982156,0.07632712992193968,null,0.07632712992193968,0.05590787167712991,null,-0.3506876361186068,-0.4181332308906787,null,-0.3506876361186068,-0.44203484186246167,null,-0.3506876361186068,-0.4026101841578314,null,0.11873728554003528,0.07632712992193968,null,0.11873728554003528,0.14632927569577692,null,0.14632927569577692,0.11873728554003528,null,0.044147765340233194,0.05590787167712991,null,0.060809910088862315,0.07382922134755258,null,0.060809910088862315,0.05590787167712991,null,0.060809910088862315,0.05240726237477351,null,0.060809910088862315,0.044651706746672584,null,0.07643632175734143,0.07382922134755258,null,0.07643632175734143,0.05590787167712991,null,0.07198836066710855,0.07382922134755258,null,0.07198836066710855,0.05590787167712991,null,0.05998571793368486,0.07382922134755258,null,0.05998571793368486,0.05590787167712991,null,0.05998571793368486,0.05348299239399189,null,0.05240726237477351,0.060809910088862315,null,0.05240726237477351,0.05590787167712991,null,0.05240726237477351,0.044651706746672584,null,0.044651706746672584,0.05590787167712991,null,0.05106002275951108,0.05590787167712991,null,0.07912939660623952,0.05590787167712991,null,-0.21245329607043983,0.07912939660623952,null,-0.21245329607043983,-0.3506876361186068,null,-0.21245329607043983,-0.44203484186246167,null,-0.21245329607043983,-0.39540859856035987,null,-0.5824368808612673,-0.546371114257233,null,0.804912926518583,0.7626896979652966,null,0.7626896979652966,0.804912926518583,null,-0.3375587837092602,-0.4181332308906787,null,-0.3375587837092602,-0.3506876361186068,null,-0.3375587837092602,-0.39639355821848143,null,-0.3375587837092602,-0.44203484186246167,null,-0.3375587837092602,-0.39540859856035987,null,-0.3375587837092602,-0.4026101841578314,null,-0.3375587837092602,-0.3714029772428652,null,-0.4181332308906787,-0.39639355821848143,null,-0.4181332308906787,-0.41414969242008143,null,-0.4181332308906787,-0.44203484186246167,null,-0.4181332308906787,-0.39540859856035987,null,-0.4181332308906787,-0.4026101841578314,null,-0.39639355821848143,-0.4181332308906787,null,-0.39639355821848143,-0.41414969242008143,null,-0.39639355821848143,-0.44203484186246167,null,-0.39639355821848143,-0.39540859856035987,null,-0.39639355821848143,-0.4026101841578314,null,-0.39639355821848143,-0.38524328283196957,null,-0.3881497586085346,-0.4181332308906787,null,-0.3881497586085346,-0.39639355821848143,null,-0.3881497586085346,-0.44203484186246167,null,-0.3881497586085346,-0.39540859856035987,null,-0.3881497586085346,-0.4026101841578314,null,-0.3881497586085346,-0.38524328283196957,null,-0.41414969242008143,-0.4181332308906787,null,-0.41414969242008143,-0.39639355821848143,null,-0.41414969242008143,-0.44203484186246167,null,-0.41414969242008143,-0.39540859856035987,null,-0.41414969242008143,-0.4026101841578314,null,-0.44203484186246167,-0.4181332308906787,null,-0.44203484186246167,-0.41414969242008143,null,-0.39540859856035987,-0.4181332308906787,null,-0.39540859856035987,-0.39639355821848143,null,-0.39540859856035987,-0.44203484186246167,null,-0.39540859856035987,-0.4026101841578314,null,-0.39540859856035987,-0.38524328283196957,null,-0.4026101841578314,-0.4181332308906787,null,-0.4026101841578314,-0.3506876361186068,null,-0.4026101841578314,-0.39639355821848143,null,-0.4026101841578314,-0.41414969242008143,null,-0.4026101841578314,-0.44203484186246167,null,-0.4026101841578314,-0.39540859856035987,null,-0.3714029772428652,-0.4181332308906787,null,-0.3714029772428652,-0.3375587837092602,null,-0.3714029772428652,-0.3506876361186068,null,-0.3714029772428652,-0.44203484186246167,null,-0.3714029772428652,-0.39540859856035987,null,-0.3714029772428652,-0.4026101841578314,null,-0.38524328283196957,-0.4181332308906787,null,-0.38524328283196957,-0.39639355821848143,null,-0.38524328283196957,-0.44203484186246167,null,-0.38524328283196957,-0.39540859856035987,null,-0.38524328283196957,-0.4026101841578314,null,0.48959310309745746,0.49956307553835655,null,0.45866149735905637,0.49956307553835655,null,0.6877130623199373,0.7216598399115086,null,0.7216598399115086,0.6877130623199373,null,-0.8536525337707672,-0.825330228158441,null,-0.7755587397229579,-0.7353869436167259,null,-0.7353869436167259,-0.7755587397229579,null,-0.03886368349270771,-0.02636562033822859,null,-0.02636562033822859,-0.03886368349270771,null,-0.4182800313421101,-0.39365220339254897,null,-0.4182800313421101,-0.4189404125839611,null,-0.39365220339254897,-0.4182800313421101,null,-0.39365220339254897,-0.39657046851426675,null,-0.39365220339254897,-0.4189404125839611,null,-0.39657046851426675,-0.39365220339254897,null,-0.39657046851426675,-0.4182800313421101,null,-0.39657046851426675,-0.4189404125839611,null,-0.4189404125839611,-0.39365220339254897,null,-0.4189404125839611,-0.4182800313421101,null,-0.5422758160577179,-0.5406992170858799,null,-0.5422758160577179,-0.5194213022794388,null,-0.5406992170858799,-0.5422758160577179,null,-0.5406992170858799,-0.5194213022794388,null,-0.5194213022794388,-0.5406992170858799,null,-0.5194213022794388,-0.5422758160577179,null,0.6630627978087222,0.8262547688787033,null,0.6630627978087222,0.5375140386722354,null,0.7918476724772341,0.8525622353477208,null,-0.7112731769072068,-0.6724403601280443,null,-0.6724403601280443,-0.7112731769072068,null,0.5375140386722354,0.6630627978087222,null,-0.665676638848158,-0.6981262389701567,null,-0.665676638848158,-0.629325887441234,null,-0.6981262389701567,-0.665676638848158,null,-0.629325887441234,-0.665676638848158,null,0.17751626838328022,0.18674441924180146,null,0.18674441924180146,0.17751626838328022,null,0.6496522840634714,0.8556934421338812,null,0.749418006614758,0.8556934421338812,null,-0.8322517748937998,-0.8440464717443937,null,-0.8440464717443937,-0.8322517748937998,null,-0.5428256964233682,-0.7046319033281848,null,-0.5428256964233682,-0.43736296357799975,null,-0.43736296357799975,-0.5428256964233682,null,-0.16081011606713705,-0.14036554246173338,null,-0.14036554246173338,-0.16081011606713705,null,0.8677651459608764,0.8865415523354733,null,0.8865415523354733,0.8677651459608764,null,-0.6511947735655911,-0.7606076335463489,null,-0.5022173705518972,-0.5569905986716623,null,-0.5022173705518972,-0.5959030792444137,null,-0.5569905986716623,-0.5959030792444137,null,-0.5959030792444137,-0.5569905986716623,null,-0.6465564871676018,-0.6306470609795304,null,-0.6465564871676018,-0.6155515468982062,null,-0.6306470609795304,-0.6465564871676018,null,-0.6306470609795304,-0.6155515468982062,null,-0.6155515468982062,-0.6465564871676018,null,-0.6155515468982062,-0.6306470609795304,null,0.6979576897372591,0.6488311483970897,null,0.6691804243336865,0.6555177890928339,null,0.6151430207664852,0.6381212904625582,null,0.22083319355373415,0.22637766834813083,null,0.20072212927337213,0.21464092856061048,null,0.22208924976136718,0.19275609927387202,null,0.22208924976136718,0.2697332682010102,null,0.19137336526856424,0.22637766834813083,null,0.24007672045790943,0.21464092856061048,null,0.08772199657769555,0.07382922134755258,null,0.06833563366766436,0.05590787167712991,null,0.08983717715002539,0.07643632175734143,null,-0.3619099461075709,-0.39639355821848143,null,-0.3619099461075709,-0.44203484186246167,null,-0.3284402937607067,-0.4181332308906787,null,-0.3284402937607067,-0.44203484186246167,null,-0.2987498845826204,-0.41414969242008143,null,-0.2987498845826204,-0.44203484186246167,null,-0.2821353425281812,-0.39639355821848143,null,-0.2821353425281812,-0.41414969242008143,null,-0.2821353425281812,-0.39540859856035987,null,-0.2821353425281812,-0.4026101841578314,null,-0.35627131097959763,-0.4181332308906787,null,-0.35627131097959763,-0.41414969242008143,null,-0.37911875236315057,-0.4181332308906787,null,-0.37911875236315057,-0.39639355821848143,null,-0.37911875236315057,-0.4026101841578314,null,-0.3561439352885218,-0.4181332308906787,null,-0.35007461173135024,-0.44203484186246167,null,-0.3263643742461852,-0.4181332308906787,null,-0.3263643742461852,-0.41414969242008143,null,-0.2937254175386448,-0.44203484186246167,null,-0.4086965725593089,-0.44203484186246167,null],\"type\":\"scatter\"},{\"hoverinfo\":\"text\",\"marker\":{\"color\":[\"blue\",\"blue\",\"blue\",\"blue\",\"green\",\"blue\",\"green\",\"green\",\"blue\",\"blue\",\"green\",\"blue\",\"green\",\"green\",\"blue\",\"blue\",\"green\",\"green\",\"blue\",\"green\",\"blue\",\"green\",\"blue\",\"green\",\"blue\",\"blue\",\"green\",\"blue\",\"blue\",\"blue\",\"blue\",\"blue\",\"green\",\"green\",\"blue\",\"green\",\"blue\",\"blue\",\"blue\",\"green\",\"green\",\"blue\",\"green\",\"green\",\"blue\",\"blue\",\"green\",\"green\",\"blue\",\"green\",\"blue\",\"green\",\"green\",\"blue\",\"blue\",\"green\",\"green\",\"green\",\"blue\",\"blue\",\"green\",\"blue\",\"blue\",\"blue\",\"blue\",\"blue\",\"green\",\"blue\",\"green\",\"blue\",\"green\",\"blue\",\"green\",\"blue\",\"blue\",\"green\",\"green\",\"green\",\"green\",\"blue\",\"blue\",\"blue\",\"blue\",\"blue\",\"green\",\"blue\",\"green\",\"blue\",\"blue\",\"green\",\"blue\",\"blue\",\"blue\",\"green\",\"blue\",\"green\",\"blue\",\"blue\",\"green\",\"blue\",\"green\",\"green\",\"green\",\"blue\",\"green\",\"green\",\"green\",\"green\",\"blue\",\"blue\",\"blue\",\"blue\",\"green\",\"blue\",\"blue\",\"green\",\"green\",\"blue\",\"green\",\"blue\",\"green\",\"blue\",\"blue\",\"green\",\"green\",\"green\",\"blue\",\"green\",\"green\",\"blue\",\"green\",\"blue\",\"blue\",\"green\",\"blue\",\"blue\",\"green\",\"blue\",\"blue\",\"green\",\"blue\",\"green\",\"blue\",\"green\",\"green\",\"blue\",\"green\",\"blue\",\"green\",\"blue\",\"blue\",\"green\",\"blue\",\"green\",\"blue\",\"green\",\"blue\",\"green\",\"blue\",\"blue\",\"blue\",\"green\",\"green\",\"blue\",\"blue\",\"blue\",\"blue\",\"blue\",\"blue\",\"blue\",\"blue\",\"blue\",\"blue\",\"blue\",\"blue\",\"blue\",\"blue\",\"blue\",\"blue\",\"blue\"],\"colorbar\":{\"thickness\":15,\"title\":{\"side\":\"right\",\"text\":\"Node Connections\"},\"xanchor\":\"left\"},\"colorscale\":[[0.0,\"rgb(255,255,217)\"],[0.125,\"rgb(237,248,177)\"],[0.25,\"rgb(199,233,180)\"],[0.375,\"rgb(127,205,187)\"],[0.5,\"rgb(65,182,196)\"],[0.625,\"rgb(29,145,192)\"],[0.75,\"rgb(34,94,168)\"],[0.875,\"rgb(37,52,148)\"],[1.0,\"rgb(8,29,88)\"]],\"showscale\":true,\"size\":10},\"mode\":\"markers\",\"text\":[\"Node: frozenset({'72 SWEETHEART FAIRY CAKE CASES'})\",\"Node: frozenset({'60 TEATIME FAIRY CAKE CASES'})\",\"Node: frozenset({'PACK OF 60 DINOSAUR CAKE CASES'})\",\"Node: frozenset({'PACK OF 60 PINK PAISLEY CAKE CASES'})\",\"Node: frozenset({'PACK OF 72 RETROSPOT CAKE CASES'})\",\"Node: frozenset({'ALARM CLOCK BAKELIKE CHOCOLATE'})\",\"Node: frozenset({'ALARM CLOCK BAKELIKE GREEN'})\",\"Node: frozenset({'ALARM CLOCK BAKELIKE RED'})\",\"Node: frozenset({'ALARM CLOCK BAKELIKE IVORY'})\",\"Node: frozenset({'ALARM CLOCK BAKELIKE ORANGE'})\",\"Node: frozenset({'ALARM CLOCK BAKELIKE PINK'})\",\"Node: frozenset({'PAINTED METAL PEARS ASSORTED'})\",\"Node: frozenset({'ASSORTED COLOUR BIRD ORNAMENT'})\",\"Node: frozenset({'KEY FOB '})\",\"Node: frozenset({'BACK DOOR'})\",\"Node: frozenset({'BAKING SET SPACEBOY DESIGN'})\",\"Node: frozenset({'BAKING SET 9 PIECE RETROSPOT'})\",\"Node: frozenset({'TOILET METAL SIGN'})\",\"Node: frozenset({'BATHROOM METAL SIGN'})\",\"Node: frozenset({'PINK HAPPY BIRTHDAY BUNTING'})\",\"Node: frozenset({'BLUE HAPPY BIRTHDAY BUNTING'})\",\"Node: frozenset({'RED  HARMONICA IN BOX'})\",\"Node: frozenset({'BLUE HARMONICA IN BOX'})\",\"Node: frozenset({'RED STRIPE CERAMIC DRAWER KNOB'})\",\"Node: frozenset({'BLUE STRIPE CERAMIC DRAWER KNOB'})\",\"Node: frozenset({'CANDLEHOLDER PINK HANGING HEART'})\",\"Node: frozenset({'WHITE HANGING HEART T-LIGHT HOLDER'})\",\"Node: frozenset({'CHARLOTTE BAG APPLES DESIGN'})\",\"Node: frozenset({'RED RETROSPOT CHARLOTTE BAG'})\",\"Node: frozenset({'CHARLOTTE BAG PINK POLKADOT'})\",\"Node: frozenset({'CHARLOTTE BAG SUKI DESIGN'})\",\"Node: frozenset({'STRAWBERRY CHARLOTTE BAG'})\",\"Node: frozenset({'WOODLAND CHARLOTTE BAG'})\",\"Node: frozenset({'CHILDRENS CUTLERY DOLLY GIRL'})\",\"Node: frozenset({'CHILDRENS CUTLERY SPACEBOY'})\",\"Node: frozenset({'CHOCOLATE HOT WATER BOTTLE'})\",\"Node: frozenset({'HOT WATER BOTTLE I AM SO POORLY'})\",\"Node: frozenset({'HOT WATER BOTTLE TEA AND SYMPATHY'})\",\"Node: frozenset({'RETROSPOT HEART HOT WATER BOTTLE'})\",\"Node: frozenset({'SCOTTIE DOG HOT WATER BOTTLE'})\",\"Node: frozenset({'CHRISTMAS CRAFT TREE TOP ANGEL'})\",\"Node: frozenset({'CHRISTMAS CRAFT LITTLE FRIENDS'})\",\"Node: frozenset({'CHRISTMAS CRAFT WHITE FAIRY'})\",\"Node: frozenset({'GIN + TONIC DIET METAL SIGN'})\",\"Node: frozenset({'COOK WITH WINE METAL SIGN'})\",\"Node: frozenset({'HAND OVER THE CHOCOLATE   SIGN'})\",\"Node: frozenset({'PLEASE ONE PERSON METAL SIGN'})\",\"Node: frozenset({'SPACEBOY LUNCH BOX'})\",\"Node: frozenset({'DOLLY GIRL LUNCH BOX'})\",\"Node: frozenset({'FELTCRAFT PRINCESS LOLA DOLL'})\",\"Node: frozenset({'FELTCRAFT PRINCESS CHARLOTTE DOLL'})\",\"Node: frozenset({'FRONT  DOOR'})\",\"Node: frozenset({'GARDENERS KNEELING PAD KEEP CALM'})\",\"Node: frozenset({'GARDENERS KNEELING PAD CUP OF TEA'})\",\"Node: frozenset({'PINK REGENCY TEACUP AND SAUCER'})\",\"Node: frozenset({'GREEN REGENCY TEACUP AND SAUCER'})\",\"Node: frozenset({'REGENCY CAKESTAND 3 TIER'})\",\"Node: frozenset({'ROSES REGENCY TEACUP AND SAUCER'})\",\"Node: frozenset({'HAND WARMER OWL DESIGN'})\",\"Node: frozenset({'HAND WARMER BIRD DESIGN'})\",\"Node: frozenset({'HAND WARMER SCOTTY DOG DESIGN'})\",\"Node: frozenset({'HAND WARMER RED LOVE HEART'})\",\"Node: frozenset({'HAND WARMER RED RETROSPOT'})\",\"Node: frozenset({'HAND WARMER UNION JACK'})\",\"Node: frozenset({'HEART OF WICKER LARGE'})\",\"Node: frozenset({'HEART OF WICKER SMALL'})\",\"Node: frozenset({'LOVE BUILDING BLOCK WORD'})\",\"Node: frozenset({'HOME BUILDING BLOCK WORD'})\",\"Node: frozenset({'HOT WATER BOTTLE KEEP CALM'})\",\"Node: frozenset({'LOVE HOT WATER BOTTLE'})\",\"Node: frozenset({'IVORY DINER WALL CLOCK'})\",\"Node: frozenset({'RED DINER WALL CLOCK'})\",\"Node: frozenset({'RED KITCHEN SCALES'})\",\"Node: frozenset({'IVORY KITCHEN SCALES'})\",\"Node: frozenset({'JUMBO  BAG BAROQUE BLACK WHITE'})\",\"Node: frozenset({'JUMBO BAG PINK POLKADOT'})\",\"Node: frozenset({'JUMBO BAG RED RETROSPOT'})\",\"Node: frozenset({'JUMBO STORAGE BAG SUKI'})\",\"Node: frozenset({'JUMBO BAG VINTAGE CHRISTMAS'})\",\"Node: frozenset({\\\"JUMBO BAG 50'S CHRISTMAS\\\"})\",\"Node: frozenset({'JUMBO BAG APPLES'})\",\"Node: frozenset({'JUMBO BAG ALPHABET'})\",\"Node: frozenset({'JUMBO BAG PEARS'})\",\"Node: frozenset({'JUMBO BAG VINTAGE LEAF'})\",\"Node: frozenset({'LUNCH BAG APPLE DESIGN'})\",\"Node: frozenset({'JUMBO BAG DOILEY PATTERNS'})\",\"Node: frozenset({'LUNCH BAG DOILEY PATTERN'})\",\"Node: frozenset({'JUMBO BAG OWLS'})\",\"Node: frozenset({'JUMBO BAG PINK VINTAGE PAISLEY'})\",\"Node: frozenset({'JUMBO BAG STRAWBERRY'})\",\"Node: frozenset({'JUMBO BAG WOODLAND ANIMALS'})\",\"Node: frozenset({'JUMBO STORAGE BAG SKULLS'})\",\"Node: frozenset({'JUMBO BAG SCANDINAVIAN BLUE PAISLEY'})\",\"Node: frozenset({'JUMBO SHOPPER VINTAGE RED PAISLEY'})\",\"Node: frozenset({'JUMBO BAG SPACEBOY DESIGN'})\",\"Node: frozenset({'JUMBO BAG VINTAGE DOILY'})\",\"Node: frozenset({'LUNCH BAG VINTAGE DOILY'})\",\"Node: frozenset({'SHED'})\",\"Node: frozenset({'SMALL WHITE HEART OF WICKER'})\",\"Node: frozenset({'LARGE WHITE HEART OF WICKER'})\",\"Node: frozenset({'LUNCH BAG ALPHABET DESIGN'})\",\"Node: frozenset({'LUNCH BAG  BLACK SKULL.'})\",\"Node: frozenset({'LUNCH BAG CARS BLUE'})\",\"Node: frozenset({'LUNCH BAG DOLLY GIRL DESIGN'})\",\"Node: frozenset({'LUNCH BAG PINK POLKADOT'})\",\"Node: frozenset({'LUNCH BAG RED RETROSPOT'})\",\"Node: frozenset({'LUNCH BAG SPACEBOY DESIGN'})\",\"Node: frozenset({'LUNCH BAG SUKI DESIGN'})\",\"Node: frozenset({'LUNCH BAG VINTAGE LEAF DESIGN'})\",\"Node: frozenset({'LUNCH BAG WOODLAND'})\",\"Node: frozenset({'PACK OF 60 SPACEBOY CAKE CASES'})\",\"Node: frozenset({'PACK OF 72 SKULL CAKE CASES'})\",\"Node: frozenset({\\\"PAPER CHAIN KIT 50'S CHRISTMAS\\\"})\",\"Node: frozenset({'PAPER CHAIN KIT VINTAGE CHRISTMAS'})\",\"Node: frozenset({'SPOTTY BUNTING'})\",\"Node: frozenset({'PARTY BUNTING'})\",\"Node: frozenset({'PINK BLUE FELT CRAFT TRINKET BOX'})\",\"Node: frozenset({'PINK CREAM FELT CRAFT TRINKET BOX'})\",\"Node: frozenset({'SCANDINAVIAN PAISLEY PICNIC BAG'})\",\"Node: frozenset({'PINK VINTAGE PAISLEY PICNIC BAG'})\",\"Node: frozenset({'PLASTERS IN TIN SPACEBOY'})\",\"Node: frozenset({'PLASTERS IN TIN CIRCUS PARADE'})\",\"Node: frozenset({'PLASTERS IN TIN STRONGMAN'})\",\"Node: frozenset({'PLASTERS IN TIN WOODLAND ANIMALS'})\",\"Node: frozenset({\\\"POPPY'S PLAYHOUSE KITCHEN\\\"})\",\"Node: frozenset({\\\"POPPY'S PLAYHOUSE BEDROOM\\\"})\",\"Node: frozenset({\\\"POPPY'S PLAYHOUSE LIVINGROOM\\\"})\",\"Node: frozenset({'ROUND SNACK BOXES SET OF4 WOODLAND'})\",\"Node: frozenset({'POSTAGE'})\",\"Node: frozenset({'RED HANGING HEART T-LIGHT HOLDER'})\",\"Node: frozenset({'REGENCY TEA PLATE GREEN'})\",\"Node: frozenset({'REGENCY TEA PLATE ROSES'})\",\"Node: frozenset({'ROUND SNACK BOXES SET OF 4 FRUITS'})\",\"Node: frozenset({'SET OF 12 FAIRY CAKE BAKING CASES'})\",\"Node: frozenset({'SET OF 12 MINI LOAF BAKING CASES'})\",\"Node: frozenset({'SET OF 6 TEA TIME BAKING CASES'})\",\"Node: frozenset({'SET OF 3 HEART COOKIE CUTTERS'})\",\"Node: frozenset({'SET OF 3 BUTTERFLY COOKIE CUTTERS'})\",\"Node: frozenset({'SET OF 6 SPICE TINS PANTRY DESIGN'})\",\"Node: frozenset({'SET OF 3 CAKE TINS PANTRY DESIGN'})\",\"Node: frozenset({'SET OF TEA COFFEE SUGAR TINS PANTRY'})\",\"Node: frozenset({'SET/10 BLUE POLKADOT PARTY CANDLES'})\",\"Node: frozenset({'SET/10 PINK POLKADOT PARTY CANDLES'})\",\"Node: frozenset({'SET/6 RED SPOTTY PAPER PLATES'})\",\"Node: frozenset({'SET/20 RED RETROSPOT PAPER NAPKINS'})\",\"Node: frozenset({'SET/6 RED SPOTTY PAPER CUPS'})\",\"Node: frozenset({'SMALL DOLLY MIX DESIGN ORANGE BOWL'})\",\"Node: frozenset({'SMALL MARSHMALLOWS PINK BOWL'})\",\"Node: frozenset({'SWEETHEART CERAMIC TRINKET BOX'})\",\"Node: frozenset({'STRAWBERRY CERAMIC TRINKET BOX'})\",\"Node: frozenset({'VINTAGE HEADS AND TAILS CARD GAME'})\",\"Node: frozenset({'VINTAGE SNAP CARDS'})\",\"Node: frozenset({'WOOD 2 DRAWER CABINET WHITE FINISH'})\",\"Node: frozenset({'WOODEN FRAME ANTIQUE WHITE'})\",\"Node: frozenset({'WOODEN PICTURE FRAME WHITE FINISH'})\",\"Node: frozenset({'WOODEN HEART CHRISTMAS SCANDINAVIAN'})\",\"Node: frozenset({'WOODEN STAR CHRISTMAS SCANDINAVIAN'})\",\"Node: frozenset({'WOODEN TREE CHRISTMAS SCANDINAVIAN'})\",\"Node: frozenset({'ALARM CLOCK BAKELIKE GREEN', 'ALARM CLOCK BAKELIKE RED'})\",\"Node: frozenset({'ALARM CLOCK BAKELIKE GREEN', 'ALARM CLOCK BAKELIKE PINK'})\",\"Node: frozenset({'ALARM CLOCK BAKELIKE RED', 'ALARM CLOCK BAKELIKE PINK'})\",\"Node: frozenset({'PINK REGENCY TEACUP AND SAUCER', 'GREEN REGENCY TEACUP AND SAUCER'})\",\"Node: frozenset({'PINK REGENCY TEACUP AND SAUCER', 'ROSES REGENCY TEACUP AND SAUCER'})\",\"Node: frozenset({'GREEN REGENCY TEACUP AND SAUCER', 'ROSES REGENCY TEACUP AND SAUCER'})\",\"Node: frozenset({'REGENCY CAKESTAND 3 TIER', 'GREEN REGENCY TEACUP AND SAUCER'})\",\"Node: frozenset({'REGENCY CAKESTAND 3 TIER', 'ROSES REGENCY TEACUP AND SAUCER'})\",\"Node: frozenset({'JUMBO BAG STRAWBERRY', 'JUMBO BAG RED RETROSPOT'})\",\"Node: frozenset({'JUMBO BAG STRAWBERRY', 'JUMBO BAG PINK POLKADOT'})\",\"Node: frozenset({'JUMBO BAG RED RETROSPOT', 'JUMBO BAG PINK POLKADOT'})\",\"Node: frozenset({'LUNCH BAG PINK POLKADOT', 'LUNCH BAG  BLACK SKULL.'})\",\"Node: frozenset({'LUNCH BAG PINK POLKADOT', 'LUNCH BAG CARS BLUE'})\",\"Node: frozenset({'LUNCH BAG  BLACK SKULL.', 'LUNCH BAG CARS BLUE'})\",\"Node: frozenset({'LUNCH BAG RED RETROSPOT', 'LUNCH BAG  BLACK SKULL.'})\",\"Node: frozenset({'LUNCH BAG RED RETROSPOT', 'LUNCH BAG CARS BLUE'})\",\"Node: frozenset({'LUNCH BAG RED RETROSPOT', 'LUNCH BAG PINK POLKADOT'})\",\"Node: frozenset({'LUNCH BAG RED RETROSPOT', 'LUNCH BAG SPACEBOY DESIGN'})\",\"Node: frozenset({'LUNCH BAG  BLACK SKULL.', 'LUNCH BAG SPACEBOY DESIGN'})\",\"Node: frozenset({'LUNCH BAG SUKI DESIGN', 'LUNCH BAG RED RETROSPOT'})\",\"Node: frozenset({'LUNCH BAG SUKI DESIGN', 'LUNCH BAG  BLACK SKULL.'})\",\"Node: frozenset({'LUNCH BAG SUKI DESIGN', 'LUNCH BAG PINK POLKADOT'})\"],\"x\":[0.6530023561398798,0.688479337343132,0.710978423851438,0.7361015929798269,0.8339638159488612,-0.3344227536163599,-0.35031698706066017,-0.3416755927510671,-0.32965332546930853,-0.3637493088642122,-0.3249748156058285,0.26173059256237974,0.25195252272884444,-0.31693338649686187,-0.30238696470237825,0.7180472994056041,0.8995639097305906,0.16229882276055732,0.14917266806119023,-0.6200238706791777,-0.6256229899089182,0.47205931080042524,0.45466575330665243,0.661473835531799,0.667828828664949,0.5686417349598644,0.5989788624154427,-0.49163428272411225,-0.5937322945031661,-0.47295159036538237,-0.48702170721387344,-0.5073027264957496,-0.49052791938272694,0.12775137051751184,0.11589589516843109,0.7562719763520215,0.7488214999277941,0.8042610321666693,0.7401094321903307,0.7299910439423583,0.9545552923905078,0.9158757161700328,0.8645006016088927,0.875827102438756,0.8555150268093856,0.8892511003438536,0.904701913231735,0.5554469604490663,0.5760042654066962,0.7025979874257567,0.6952801989135772,-0.31461149506662733,0.23952649240380194,0.24920454927408248,-0.6129013569916812,-0.6238801243016758,-0.7624173876849096,-0.6315189634222214,-0.011905417833421398,-0.040316897514487374,-0.01813396037785255,-0.013581449186665361,0.021277770068157835,0.004039491831985023,0.5018952459978308,0.44099471201317386,0.5284385382945074,0.5161311915822289,0.8802980423432112,0.6540889099411513,0.8630394449130396,0.825512239873792,0.20351591579393105,0.19313259118217738,-0.6881438037998946,-0.7613835401751878,-0.853908066626158,-0.7806332128241931,0.9526580502696366,1.0,-0.6655061780129038,-0.8439741195265529,-0.5721540717142674,-0.7341136309492647,-0.45611314107803674,-0.6210021994158837,-0.5358517809566182,-0.76501644156757,-0.6963489352125826,-0.7072407256859744,-0.635806145483403,-0.7252016214546265,-0.6683690105929573,-0.700642884645096,-0.6391055778404748,-0.780239150774605,-0.5872619440936923,-0.3395238108066493,-0.13960653028846534,-0.13688239961274049,-0.4636503020648751,-0.5054731012180544,-0.5023861407089881,-0.5154986467413434,-0.5221575222499732,-0.5365621219696876,-0.5205410388337623,-0.49126399749643573,-0.4825761451755829,-0.4986366749718338,0.798775451714508,0.7635638814750242,0.3289689865419406,0.34247841059773926,-0.1494547720402969,-0.13900892600663964,0.3724357209450018,0.35551412940907856,0.7594381937012668,0.7406275547185165,0.7217191853362027,0.7169241905353455,0.7376441872845024,0.7464053269583789,0.6766961993470191,0.6990423990477119,0.6746073993280827,0.07252942071478147,0.086195297584803,0.5514871562077497,-0.01428677218594224,-0.019359882921104386,0.06491020834819831,0.3986996847987763,0.4206809178067951,0.3748558738089633,0.8272941116602716,0.8614429890037797,-0.22087212551859442,-0.29017853107309044,-0.2555311587049779,0.03366595021341837,0.05322909694881254,0.589574280454212,0.7419828289049119,0.4899520697784111,-0.8066484399563487,-0.7597938930213537,-0.012356211805164738,-0.025667067458547705,-0.3646951806306202,-0.41729631588699806,-0.20082805714245314,-0.196374007973244,-0.19624297104978716,-0.10499031825727353,-0.08832744470828034,-0.10480680704152136,-0.3343382477356856,-0.3780360667400651,-0.39037616194414143,-0.5484569852908939,-0.537718319531787,-0.6714274935898707,-0.5473821826020486,-0.5801227827548618,-0.6152732199765746,-0.6624226609700694,-0.5681293146680257,-0.5005563175011035,-0.4578235195135041,-0.4362764970176961,-0.41827931786903827,-0.4722140240414643,-0.45907203072253844,-0.5170338247599067,-0.5290182958045626,-0.44317960230658265,-0.4201767500077168,-0.46768769008368793],\"y\":[0.3870943348204805,0.4116923015707179,0.426641307294447,0.44190533318382985,0.49956307553835655,0.5829760867964432,0.6381212904625582,0.6555177890928339,0.6235562501537489,0.6216967738677476,0.6488311483970897,0.9599981486739639,0.9182090764359395,-0.546371114257233,-0.48712942792411473,-0.28092516415658925,-0.37430384974934316,-0.7579088606401536,-0.7771083585035804,0.4811301928248984,0.5025055632922211,-0.5570281213156921,-0.5332417360432229,-0.3089152852217582,-0.33083345680486625,0.7848216592895761,0.8525622353477208,0.04954368213351156,0.06572608479530738,0.06750753362589024,0.06758706990125557,0.06904003153363397,0.0816025944630677,-0.6610919418056417,-0.6358743502695466,0.2944148487901717,0.2887311951377334,0.3097871400968791,0.30615077024244225,0.27219997068686475,0.12422754884234458,0.11829303046233666,0.11302714094212518,-0.09610175196610353,-0.11447936543450164,-0.12239608387074245,-0.15319623486994494,-0.6296951027884938,-0.6602878243006512,0.6371822167333618,0.6585465049940761,-0.5904988892726221,-0.8042187472507306,-0.8394259760026835,0.19275609927387202,0.21464092856061048,0.2697332682010102,0.22637766834813083,0.4938758453224742,0.49979667719109283,0.503272253816299,0.527004246260392,0.5133902567977799,0.4789531871555234,0.6948261065208768,0.5924204280940257,0.6776898466018502,0.6996570080436454,0.33651561637704647,0.25777327846085285,-0.2516640566527929,-0.23653028246641408,0.7794365079895614,0.7426443531437944,0.06672601053381627,0.07382922134755258,0.05590787167712991,0.05348299239399189,-0.10757290597632736,-0.11158054005185528,-0.06303026200656582,0.08935845341516428,0.050526038940982156,0.07632712992193968,-0.3506876361186068,0.11873728554003528,0.14632927569577692,0.044147765340233194,0.060809910088862315,0.07643632175734143,0.07198836066710855,0.05998571793368486,0.05240726237477351,0.044651706746672584,0.05106002275951108,0.07912939660623952,-0.21245329607043983,-0.5824368808612673,0.804912926518583,0.7626896979652966,-0.3375587837092602,-0.4181332308906787,-0.39639355821848143,-0.3881497586085346,-0.41414969242008143,-0.44203484186246167,-0.39540859856035987,-0.4026101841578314,-0.3714029772428652,-0.38524328283196957,0.48959310309745746,0.45866149735905637,0.6877130623199373,0.7216598399115086,-0.8536525337707672,-0.825330228158441,-0.7755587397229579,-0.7353869436167259,-0.03886368349270771,-0.02636562033822859,-0.4182800313421101,-0.39365220339254897,-0.39657046851426675,-0.4189404125839611,-0.5422758160577179,-0.5406992170858799,-0.5194213022794388,0.6630627978087222,0.8262547688787033,0.7918476724772341,-0.7112731769072068,-0.6724403601280443,0.5375140386722354,-0.665676638848158,-0.6981262389701567,-0.629325887441234,0.17751626838328022,0.18674441924180146,0.6496522840634714,0.8556934421338812,0.749418006614758,-0.8322517748937998,-0.8440464717443937,-0.5428256964233682,-0.7046319033281848,-0.43736296357799975,-0.16081011606713705,-0.14036554246173338,0.8677651459608764,0.8865415523354733,-0.6511947735655911,-0.7606076335463489,-0.5022173705518972,-0.5569905986716623,-0.5959030792444137,-0.6465564871676018,-0.6306470609795304,-0.6155515468982062,0.6979576897372591,0.6691804243336865,0.6151430207664852,0.22083319355373415,0.20072212927337213,0.22208924976136718,0.19137336526856424,0.24007672045790943,0.08772199657769555,0.06833563366766436,0.08983717715002539,-0.3619099461075709,-0.3284402937607067,-0.2987498845826204,-0.2821353425281812,-0.35627131097959763,-0.37911875236315057,-0.3561439352885218,-0.35007461173135024,-0.3263643742461852,-0.2937254175386448,-0.4086965725593089],\"type\":\"scatter\"}],                        {\"hovermode\":\"closest\",\"margin\":{\"b\":0,\"l\":0,\"r\":0,\"t\":0},\"showlegend\":false,\"template\":{\"data\":{\"histogram2dcontour\":[{\"type\":\"histogram2dcontour\",\"colorbar\":{\"outlinewidth\":0,\"ticks\":\"\"},\"colorscale\":[[0.0,\"#0d0887\"],[0.1111111111111111,\"#46039f\"],[0.2222222222222222,\"#7201a8\"],[0.3333333333333333,\"#9c179e\"],[0.4444444444444444,\"#bd3786\"],[0.5555555555555556,\"#d8576b\"],[0.6666666666666666,\"#ed7953\"],[0.7777777777777778,\"#fb9f3a\"],[0.8888888888888888,\"#fdca26\"],[1.0,\"#f0f921\"]]}],\"choropleth\":[{\"type\":\"choropleth\",\"colorbar\":{\"outlinewidth\":0,\"ticks\":\"\"}}],\"histogram2d\":[{\"type\":\"histogram2d\",\"colorbar\":{\"outlinewidth\":0,\"ticks\":\"\"},\"colorscale\":[[0.0,\"#0d0887\"],[0.1111111111111111,\"#46039f\"],[0.2222222222222222,\"#7201a8\"],[0.3333333333333333,\"#9c179e\"],[0.4444444444444444,\"#bd3786\"],[0.5555555555555556,\"#d8576b\"],[0.6666666666666666,\"#ed7953\"],[0.7777777777777778,\"#fb9f3a\"],[0.8888888888888888,\"#fdca26\"],[1.0,\"#f0f921\"]]}],\"heatmap\":[{\"type\":\"heatmap\",\"colorbar\":{\"outlinewidth\":0,\"ticks\":\"\"},\"colorscale\":[[0.0,\"#0d0887\"],[0.1111111111111111,\"#46039f\"],[0.2222222222222222,\"#7201a8\"],[0.3333333333333333,\"#9c179e\"],[0.4444444444444444,\"#bd3786\"],[0.5555555555555556,\"#d8576b\"],[0.6666666666666666,\"#ed7953\"],[0.7777777777777778,\"#fb9f3a\"],[0.8888888888888888,\"#fdca26\"],[1.0,\"#f0f921\"]]}],\"heatmapgl\":[{\"type\":\"heatmapgl\",\"colorbar\":{\"outlinewidth\":0,\"ticks\":\"\"},\"colorscale\":[[0.0,\"#0d0887\"],[0.1111111111111111,\"#46039f\"],[0.2222222222222222,\"#7201a8\"],[0.3333333333333333,\"#9c179e\"],[0.4444444444444444,\"#bd3786\"],[0.5555555555555556,\"#d8576b\"],[0.6666666666666666,\"#ed7953\"],[0.7777777777777778,\"#fb9f3a\"],[0.8888888888888888,\"#fdca26\"],[1.0,\"#f0f921\"]]}],\"contourcarpet\":[{\"type\":\"contourcarpet\",\"colorbar\":{\"outlinewidth\":0,\"ticks\":\"\"}}],\"contour\":[{\"type\":\"contour\",\"colorbar\":{\"outlinewidth\":0,\"ticks\":\"\"},\"colorscale\":[[0.0,\"#0d0887\"],[0.1111111111111111,\"#46039f\"],[0.2222222222222222,\"#7201a8\"],[0.3333333333333333,\"#9c179e\"],[0.4444444444444444,\"#bd3786\"],[0.5555555555555556,\"#d8576b\"],[0.6666666666666666,\"#ed7953\"],[0.7777777777777778,\"#fb9f3a\"],[0.8888888888888888,\"#fdca26\"],[1.0,\"#f0f921\"]]}],\"surface\":[{\"type\":\"surface\",\"colorbar\":{\"outlinewidth\":0,\"ticks\":\"\"},\"colorscale\":[[0.0,\"#0d0887\"],[0.1111111111111111,\"#46039f\"],[0.2222222222222222,\"#7201a8\"],[0.3333333333333333,\"#9c179e\"],[0.4444444444444444,\"#bd3786\"],[0.5555555555555556,\"#d8576b\"],[0.6666666666666666,\"#ed7953\"],[0.7777777777777778,\"#fb9f3a\"],[0.8888888888888888,\"#fdca26\"],[1.0,\"#f0f921\"]]}],\"mesh3d\":[{\"type\":\"mesh3d\",\"colorbar\":{\"outlinewidth\":0,\"ticks\":\"\"}}],\"scatter\":[{\"fillpattern\":{\"fillmode\":\"overlay\",\"size\":10,\"solidity\":0.2},\"type\":\"scatter\"}],\"parcoords\":[{\"type\":\"parcoords\",\"line\":{\"colorbar\":{\"outlinewidth\":0,\"ticks\":\"\"}}}],\"scatterpolargl\":[{\"type\":\"scatterpolargl\",\"marker\":{\"colorbar\":{\"outlinewidth\":0,\"ticks\":\"\"}}}],\"bar\":[{\"error_x\":{\"color\":\"#2a3f5f\"},\"error_y\":{\"color\":\"#2a3f5f\"},\"marker\":{\"line\":{\"color\":\"#E5ECF6\",\"width\":0.5},\"pattern\":{\"fillmode\":\"overlay\",\"size\":10,\"solidity\":0.2}},\"type\":\"bar\"}],\"scattergeo\":[{\"type\":\"scattergeo\",\"marker\":{\"colorbar\":{\"outlinewidth\":0,\"ticks\":\"\"}}}],\"scatterpolar\":[{\"type\":\"scatterpolar\",\"marker\":{\"colorbar\":{\"outlinewidth\":0,\"ticks\":\"\"}}}],\"histogram\":[{\"marker\":{\"pattern\":{\"fillmode\":\"overlay\",\"size\":10,\"solidity\":0.2}},\"type\":\"histogram\"}],\"scattergl\":[{\"type\":\"scattergl\",\"marker\":{\"colorbar\":{\"outlinewidth\":0,\"ticks\":\"\"}}}],\"scatter3d\":[{\"type\":\"scatter3d\",\"line\":{\"colorbar\":{\"outlinewidth\":0,\"ticks\":\"\"}},\"marker\":{\"colorbar\":{\"outlinewidth\":0,\"ticks\":\"\"}}}],\"scattermapbox\":[{\"type\":\"scattermapbox\",\"marker\":{\"colorbar\":{\"outlinewidth\":0,\"ticks\":\"\"}}}],\"scatterternary\":[{\"type\":\"scatterternary\",\"marker\":{\"colorbar\":{\"outlinewidth\":0,\"ticks\":\"\"}}}],\"scattercarpet\":[{\"type\":\"scattercarpet\",\"marker\":{\"colorbar\":{\"outlinewidth\":0,\"ticks\":\"\"}}}],\"carpet\":[{\"aaxis\":{\"endlinecolor\":\"#2a3f5f\",\"gridcolor\":\"white\",\"linecolor\":\"white\",\"minorgridcolor\":\"white\",\"startlinecolor\":\"#2a3f5f\"},\"baxis\":{\"endlinecolor\":\"#2a3f5f\",\"gridcolor\":\"white\",\"linecolor\":\"white\",\"minorgridcolor\":\"white\",\"startlinecolor\":\"#2a3f5f\"},\"type\":\"carpet\"}],\"table\":[{\"cells\":{\"fill\":{\"color\":\"#EBF0F8\"},\"line\":{\"color\":\"white\"}},\"header\":{\"fill\":{\"color\":\"#C8D4E3\"},\"line\":{\"color\":\"white\"}},\"type\":\"table\"}],\"barpolar\":[{\"marker\":{\"line\":{\"color\":\"#E5ECF6\",\"width\":0.5},\"pattern\":{\"fillmode\":\"overlay\",\"size\":10,\"solidity\":0.2}},\"type\":\"barpolar\"}],\"pie\":[{\"automargin\":true,\"type\":\"pie\"}]},\"layout\":{\"autotypenumbers\":\"strict\",\"colorway\":[\"#636efa\",\"#EF553B\",\"#00cc96\",\"#ab63fa\",\"#FFA15A\",\"#19d3f3\",\"#FF6692\",\"#B6E880\",\"#FF97FF\",\"#FECB52\"],\"font\":{\"color\":\"#2a3f5f\"},\"hovermode\":\"closest\",\"hoverlabel\":{\"align\":\"left\"},\"paper_bgcolor\":\"white\",\"plot_bgcolor\":\"#E5ECF6\",\"polar\":{\"bgcolor\":\"#E5ECF6\",\"angularaxis\":{\"gridcolor\":\"white\",\"linecolor\":\"white\",\"ticks\":\"\"},\"radialaxis\":{\"gridcolor\":\"white\",\"linecolor\":\"white\",\"ticks\":\"\"}},\"ternary\":{\"bgcolor\":\"#E5ECF6\",\"aaxis\":{\"gridcolor\":\"white\",\"linecolor\":\"white\",\"ticks\":\"\"},\"baxis\":{\"gridcolor\":\"white\",\"linecolor\":\"white\",\"ticks\":\"\"},\"caxis\":{\"gridcolor\":\"white\",\"linecolor\":\"white\",\"ticks\":\"\"}},\"coloraxis\":{\"colorbar\":{\"outlinewidth\":0,\"ticks\":\"\"}},\"colorscale\":{\"sequential\":[[0.0,\"#0d0887\"],[0.1111111111111111,\"#46039f\"],[0.2222222222222222,\"#7201a8\"],[0.3333333333333333,\"#9c179e\"],[0.4444444444444444,\"#bd3786\"],[0.5555555555555556,\"#d8576b\"],[0.6666666666666666,\"#ed7953\"],[0.7777777777777778,\"#fb9f3a\"],[0.8888888888888888,\"#fdca26\"],[1.0,\"#f0f921\"]],\"sequentialminus\":[[0.0,\"#0d0887\"],[0.1111111111111111,\"#46039f\"],[0.2222222222222222,\"#7201a8\"],[0.3333333333333333,\"#9c179e\"],[0.4444444444444444,\"#bd3786\"],[0.5555555555555556,\"#d8576b\"],[0.6666666666666666,\"#ed7953\"],[0.7777777777777778,\"#fb9f3a\"],[0.8888888888888888,\"#fdca26\"],[1.0,\"#f0f921\"]],\"diverging\":[[0,\"#8e0152\"],[0.1,\"#c51b7d\"],[0.2,\"#de77ae\"],[0.3,\"#f1b6da\"],[0.4,\"#fde0ef\"],[0.5,\"#f7f7f7\"],[0.6,\"#e6f5d0\"],[0.7,\"#b8e186\"],[0.8,\"#7fbc41\"],[0.9,\"#4d9221\"],[1,\"#276419\"]]},\"xaxis\":{\"gridcolor\":\"white\",\"linecolor\":\"white\",\"ticks\":\"\",\"title\":{\"standoff\":15},\"zerolinecolor\":\"white\",\"automargin\":true,\"zerolinewidth\":2},\"yaxis\":{\"gridcolor\":\"white\",\"linecolor\":\"white\",\"ticks\":\"\",\"title\":{\"standoff\":15},\"zerolinecolor\":\"white\",\"automargin\":true,\"zerolinewidth\":2},\"scene\":{\"xaxis\":{\"backgroundcolor\":\"#E5ECF6\",\"gridcolor\":\"white\",\"linecolor\":\"white\",\"showbackground\":true,\"ticks\":\"\",\"zerolinecolor\":\"white\",\"gridwidth\":2},\"yaxis\":{\"backgroundcolor\":\"#E5ECF6\",\"gridcolor\":\"white\",\"linecolor\":\"white\",\"showbackground\":true,\"ticks\":\"\",\"zerolinecolor\":\"white\",\"gridwidth\":2},\"zaxis\":{\"backgroundcolor\":\"#E5ECF6\",\"gridcolor\":\"white\",\"linecolor\":\"white\",\"showbackground\":true,\"ticks\":\"\",\"zerolinecolor\":\"white\",\"gridwidth\":2}},\"shapedefaults\":{\"line\":{\"color\":\"#2a3f5f\"}},\"annotationdefaults\":{\"arrowcolor\":\"#2a3f5f\",\"arrowhead\":0,\"arrowwidth\":1},\"geo\":{\"bgcolor\":\"white\",\"landcolor\":\"#E5ECF6\",\"subunitcolor\":\"white\",\"showland\":true,\"showlakes\":true,\"lakecolor\":\"white\"},\"title\":{\"x\":0.05},\"mapbox\":{\"style\":\"light\"}}}},                        {\"responsive\": true}                    ).then(function(){\n",
       "                            \n",
       "var gd = document.getElementById('a5b0376d-0bd3-441c-ab5c-8a13b53ee844');\n",
       "var x = new MutationObserver(function (mutations, observer) {{\n",
       "        var display = window.getComputedStyle(gd).display;\n",
       "        if (!display || display === 'none') {{\n",
       "            console.log([gd, 'removed!']);\n",
       "            Plotly.purge(gd);\n",
       "            observer.disconnect();\n",
       "        }}\n",
       "}});\n",
       "\n",
       "// Listen for the removal of the full notebook cells\n",
       "var notebookContainer = gd.closest('#notebook-container');\n",
       "if (notebookContainer) {{\n",
       "    x.observe(notebookContainer, {childList: true});\n",
       "}}\n",
       "\n",
       "// Listen for the clearing of the current output cell\n",
       "var outputEl = gd.closest('.output');\n",
       "if (outputEl) {{\n",
       "    x.observe(outputEl, {childList: true});\n",
       "}}\n",
       "\n",
       "                        })                };                });            </script>        </div>"
      ]
     },
     "metadata": {},
     "output_type": "display_data"
    }
   ],
   "source": [
    "# Let's create a directed graph\n",
    "G = nx.DiGraph()\n",
    "for index, row in rules.iterrows():\n",
    "    G.add_node(row['antecedents'], color='blue', weight=2, size=100)\n",
    "    G.add_node(row['consequents'], color='green', weight=2, size=100)\n",
    "    G.add_edge(row['antecedents'], row['consequents'], label=f\"Confidence: {row['confidence']:.2f}\\nLift: {row['lift']:.2f}\")\n",
    "pos = nx.spring_layout(G)\n",
    "\n",
    "# Let's create an interactive plot using plotly\n",
    "edge_x = []\n",
    "edge_y = []\n",
    "for edge in G.edges():\n",
    "    x0, y0 = pos[edge[0]]\n",
    "    x1, y1 = pos[edge[1]]\n",
    "    edge_x.extend([x0, x1, None])\n",
    "    edge_y.extend([y0, y1, None])\n",
    "\n",
    "edge_trace = go.Scatter(\n",
    "    x=edge_x, y=edge_y,\n",
    "    line=dict(width=0.5, color='#888'),\n",
    "    hoverinfo='none',\n",
    "    mode='lines')\n",
    "\n",
    "node_x = []\n",
    "node_y = []\n",
    "node_labels = []  \n",
    "for node in G.nodes():\n",
    "    x, y = pos[node]\n",
    "    node_x.append(x)\n",
    "    node_y.append(y)\n",
    "    node_labels.append(f\"Node: {node}\")  \n",
    "    \n",
    "node_trace = go.Scatter(\n",
    "    x=node_x, y=node_y,\n",
    "    mode='markers',\n",
    "    hoverinfo='text',  \n",
    "    text=node_labels,  \n",
    "    marker=dict(\n",
    "        showscale=True,\n",
    "        colorscale='YlGnBu',\n",
    "        size=10,\n",
    "        color=[G.nodes[n]['color'] for n in G.nodes()],\n",
    "        colorbar=dict(\n",
    "            thickness=15,\n",
    "            title='Node Connections',\n",
    "            xanchor='left',\n",
    "            titleside='right'\n",
    "        )\n",
    "    )\n",
    ")\n",
    "layout = go.Layout(\n",
    "    showlegend=False,\n",
    "    hovermode='closest',\n",
    "    margin=dict(b=0, l=0, r=0, t=0),\n",
    ")\n",
    "fig = go.Figure(data=[edge_trace, node_trace], layout=layout)\n",
    "\n",
    "# Let's show the interactive graph\n",
    "fig.show()"
   ]
  },
  {
   "cell_type": "code",
   "execution_count": 98,
   "id": "50d6931e",
   "metadata": {},
   "outputs": [
    {
     "data": {
      "image/png": "[encoded data removed]",
      "text/plain": [
       "<Figure size 1200x800 with 2 Axes>"
      ]
     },
     "metadata": {},
     "output_type": "display_data"
    }
   ],
   "source": [
    "# Let's create a 3D scatter plot\n",
    "fig = plt.figure(figsize=(12, 8))\n",
    "ax = fig.add_subplot(111, projection='3d')\n",
    "scatter = ax.scatter(rules['support'], rules['confidence'], rules['lift'], c=rules['lift'], cmap='viridis', s=50)\n",
    "\n",
    "# Let's edit the plot\n",
    "ax.set_xlabel('Support')\n",
    "ax.set_ylabel('Confidence')\n",
    "ax.set_zlabel('Lift')\n",
    "ax.set_title('Association Rule Mining - Basket Analysis (3D Scatter Plot)')\n",
    "\n",
    "cbar = fig.colorbar(scatter)\n",
    "cbar.set_label('Lift')\n",
    "\n",
    "plt.show()"
   ]
  },
  {
   "cell_type": "markdown",
   "id": "76b63467",
   "metadata": {},
   "source": [
    "<div style=\"border-radius: 20px; padding: 6px; background-color: rgba(0, 63, 231, 0.8); font-size: 130%; text-align: left;\">\n",
    "<h2 align=\"left\"><center><font color=\"#ffffff\"> 👌 End </font></center></h2>"
   ]
  }
 ],
 "metadata": {
  "kernelspec": {
   "display_name": "Python 3 (ipykernel)",
   "language": "python",
   "name": "python3"
  },
  "language_info": {
   "codemirror_mode": {
    "name": "ipython",
    "version": 3
   },
   "file_extension": ".py",
   "mimetype": "text/x-python",
   "name": "python",
   "nbconvert_exporter": "python",
   "pygments_lexer": "ipython3",
   "version": "3.11.5"
  }
 },
 "nbformat": 4,
 "nbformat_minor": 5
}
